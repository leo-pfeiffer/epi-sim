{
 "cells": [
  {
   "cell_type": "markdown",
   "id": "1f54f23f",
   "metadata": {},
   "source": [
    "# Network Creation and Model Simulation\n",
    "\n",
    "Perform computationally expensive network creation, some network analysis,\n",
    "and the model simulation. Results are pushed to a data repository on GitHub.\n",
    "\n",
    "- Create networks and run network metric calculations\n",
    "- Create model configurations and run simulations\n",
    "- Run simulations for model validation"
   ]
  },
  {
   "cell_type": "code",
   "execution_count": 1,
   "id": "6ea41b9e",
   "metadata": {},
   "outputs": [],
   "source": [
    "# to allow relative imports\n",
    "import os\n",
    "from sys_path_util import append_sys_path\n",
    "append_sys_path()\n",
    "\n",
    "# experiment\n",
    "from epyc import Lab, JSONLabNotebook, RepeatedExperiment, ParallelLab\n",
    "from lib.experiments.utils.metrics import MetricExperiment, calc_shortest_paths\n",
    "\n",
    "# generators\n",
    "from epydemic import PLCNetwork\n",
    "from lib.model.network.mobility_network import MNGeneratorFromNetworkData as MNG\n",
    "from lib.model.network.distanced_network import DNGenerator as DNG\n",
    "\n",
    "# distributions\n",
    "from lib.model.distributions import discrete_trunc_normal, discrete_trunc_exponential, num_contact_dist\n",
    "\n",
    "# file utils\n",
    "from lib.experiments.utils.data_repo_api import DataRepoAPI\n",
    "from lib.experiments.utils.network_data_utils import load_network_data_from_files\n",
    "\n",
    "# other utils\n",
    "from functools import partial\n",
    "import numpy as np\n",
    "from mpmath import polylog\n",
    "from datetime import datetime as dt\n",
    "import pickle\n",
    "import lzma\n",
    "\n",
    "# multiprocessing\n",
    "from joblib import Parallel, delayed\n",
    "from multiprocessing import cpu_count"
   ]
  },
  {
   "cell_type": "markdown",
   "id": "5c087703",
   "metadata": {},
   "source": [
    "# Network creation and analysis\n",
    "\n",
    "Create the Mobility, PLC, and Distanced networks and calculate the\n",
    "network metrics as described in the thesis."
   ]
  },
  {
   "cell_type": "code",
   "execution_count": 2,
   "id": "90a4d787",
   "metadata": {},
   "outputs": [],
   "source": [
    "# Some global parameters\n",
    "\n",
    "N = 10000\n",
    "CUTOFF = 40\n",
    "MOBILITY_EXPONENT = 2\n",
    "n_exp = 10\n",
    "\n",
    "# Experiment result output dir\n",
    "output_dir = 'experiment_results'\n",
    "if not output_dir in os.listdir():\n",
    "    os.mkdir(output_dir)\n",
    "\n",
    "# Helper functions\n",
    "def run_network_lab_experiment(generator, params, file_name, description, n=n_exp,\n",
    "                               output_dir=output_dir, push_to_repo=True):\n",
    "    \"\"\"\n",
    "    Run a MetricExperiment repeatedly using a network generator.\n",
    "    \"\"\"\n",
    "\n",
    "    print(f\"%s - Running {file_name}\" % dt.now())\n",
    "    \n",
    "    file = os.path.join(output_dir, file_name)\n",
    "    \n",
    "    nb = JSONLabNotebook(file, create=True, description=description)\n",
    "    lab = ParallelLab(notebook=nb, cores=min(cpu_count()-1, n))\n",
    "    \n",
    "    e = MetricExperiment(generator)\n",
    "\n",
    "    # pass params to the lab\n",
    "    for k, v in params.items():\n",
    "        lab[k] = v\n",
    "\n",
    "    lab.runExperiment(RepeatedExperiment(e, n))\n",
    "    \n",
    "    print(\"%s - Done.\" % dt.now())\n",
    "\n",
    "    if push_to_repo:\n",
    "        DataRepoAPI.update_or_create(\n",
    "            file_name=file_name,\n",
    "            file_path=output_dir,\n",
    "            repo_path='network-metrics'\n",
    "        )\n",
    "\n",
    "    return lab.results()\n",
    "\n",
    "def plc_mean(exponent, cutoff):\n",
    "    \"\"\"\n",
    "    Calculate theoretical mean of a power law with cutoff distribution from\n",
    "    the exponent and the cutoff.\n",
    "    \"\"\"\n",
    "    nom = polylog(exponent-1, np.exp(-1 / cutoff))\n",
    "    denom = polylog(exponent, np.exp(-1 / cutoff))\n",
    "    return nom / denom\n",
    "\n",
    "def estimate_exponent_for_mean(mean, cutoff, tolerance):\n",
    "    \"\"\"\n",
    "    Given the mean and cutoff of a power law with cutoff distribution,\n",
    "    estimate the corresponding exponent with a given tolerance.\n",
    "    \"\"\"\n",
    "    grid = np.arange(1, 5, 0.01)\n",
    "    diffs = []\n",
    "    for i in range(len(grid)):\n",
    "        diff = abs(mean - plc_mean(grid[i], cutoff))\n",
    "        if diff < tolerance:\n",
    "            return grid[i]\n",
    "        diffs.append(diff)\n",
    "    \n",
    "    return grid[diffs.index(min(diffs))]"
   ]
  },
  {
   "cell_type": "markdown",
   "id": "6a1ed773",
   "metadata": {},
   "source": [
    "### Mobility network"
   ]
  },
  {
   "cell_type": "code",
   "execution_count": 3,
   "id": "5aed8a50",
   "metadata": {},
   "outputs": [],
   "source": [
    "# Load the network data\n",
    "\n",
    "file_names = dict(\n",
    "    demographics='demographics.pkl',\n",
    "    comb_pre='comb_counts_pre.pkl',\n",
    "    comb_post='comb_counts_post.pkl',\n",
    "    trip_pre='trip_counts_pre.pkl',\n",
    "    trip_post='trip_counts_post.pkl',\n",
    ")\n",
    "\n",
    "network_data = load_network_data_from_files(file_names)\n",
    "\n",
    "network_data_pre = network_data['pre']\n",
    "network_data_post = network_data['post']"
   ]
  },
  {
   "cell_type": "code",
   "execution_count": 4,
   "id": "1b361456",
   "metadata": {},
   "outputs": [],
   "source": [
    "# Define the generator parameters\n",
    "params_mobility_pre = dict()\n",
    "params_mobility_pre[MNG.N] = N\n",
    "params_mobility_pre[MNG.EXPONENT] = MOBILITY_EXPONENT\n",
    "params_mobility_pre[MNG.CUTOFF] = CUTOFF\n",
    "params_mobility_pre[MNG.MULTIPLIER] = False\n",
    "\n",
    "params_mobility_post = dict()\n",
    "params_mobility_post[MNG.N] = N\n",
    "params_mobility_post[MNG.EXPONENT] = MOBILITY_EXPONENT\n",
    "params_mobility_post[MNG.CUTOFF] = CUTOFF\n",
    "params_mobility_post[MNG.MULTIPLIER] = True"
   ]
  },
  {
   "cell_type": "code",
   "execution_count": 5,
   "id": "f71c040b",
   "metadata": {},
   "outputs": [],
   "source": [
    "# Generator instances\n",
    "mng_pre = MNG(network_data=network_data_pre)\n",
    "mng_post = MNG(network_data=network_data_post)"
   ]
  },
  {
   "cell_type": "code",
   "execution_count": null,
   "id": "5d409f3d",
   "metadata": {},
   "outputs": [],
   "source": [
    "# Run experiment\n",
    "mng_pre_results = run_network_lab_experiment(\n",
    "    mng_pre, \n",
    "    params_mobility_pre, \n",
    "    'mobility_pre.json', \n",
    "    'Network metrics of Mobility pre'\n",
    ")\n",
    "\n",
    "\n",
    "mng_post_results = run_network_lab_experiment(\n",
    "    mng_post, \n",
    "    params_mobility_post, \n",
    "    'mobility_post.json', \n",
    "    'Network metrics of Mobility post'\n",
    ")"
   ]
  },
  {
   "cell_type": "code",
   "execution_count": 6,
   "id": "9294d88d",
   "metadata": {},
   "outputs": [],
   "source": [
    "def extract_mean_deg(results):\n",
    "    deg_lis = [x['results']['degrees'] for x in results]\n",
    "    return np.mean([i for s in deg_lis for i in s])\n",
    "\n",
    "# mob_deg_pre = extract_mean_deg(mng_pre_results)\n",
    "# mob_deg_post = extract_mean_deg(mng_post_results)"
   ]
  },
  {
   "cell_type": "code",
   "execution_count": 7,
   "id": "1c5b0e54",
   "metadata": {
    "pycharm": {
     "name": "#%%\n"
    }
   },
   "outputs": [
    {
     "name": "stdout",
     "output_type": "stream",
     "text": [
      "4.185571248201544 3.1256872297548473\n"
     ]
    }
   ],
   "source": [
    "# get from repo...\n",
    "mob_pre = DataRepoAPI.get_json_file('network-metrics/mobility_pre.json')\n",
    "mob_post = DataRepoAPI.get_json_file('network-metrics/mobility_post.json')\n",
    "\n",
    "_results_pre = mob_pre['resultsets']['epyc.resultset.default']['results']\n",
    "_results_post = mob_post['resultsets']['epyc.resultset.default']['results']\n",
    "\n",
    "mob_deg_pre = extract_mean_deg(_results_pre)\n",
    "mob_deg_post = extract_mean_deg(_results_post)\n",
    "\n",
    "print(mob_deg_pre, mob_deg_post)"
   ]
  },
  {
   "cell_type": "markdown",
   "id": "b4eb2bab",
   "metadata": {},
   "source": [
    "### PLC network"
   ]
  },
  {
   "cell_type": "markdown",
   "id": "8dac9dbe",
   "metadata": {},
   "source": [
    "We needed the results of the mng for calculating the exponent of the other experiments..\n",
    "but the rest we can run in parallel to save some time..."
   ]
  },
  {
   "cell_type": "code",
   "execution_count": 8,
   "id": "23359866",
   "metadata": {},
   "outputs": [],
   "source": [
    "# List to store all the metric experiment runners\n",
    "mtrcs = list()"
   ]
  },
  {
   "cell_type": "code",
   "execution_count": 8,
   "id": "8839bcd2",
   "metadata": {},
   "outputs": [],
   "source": [
    "# Estimate the exponent for the PLC to achieve same degree\n",
    "#  as the mobility networks\n",
    "\n",
    "plc_expo_pre = estimate_exponent_for_mean(mob_deg_pre, CUTOFF, 0.01)\n",
    "plc_expo_post = estimate_exponent_for_mean(mob_deg_post, CUTOFF, 0.01)"
   ]
  },
  {
   "cell_type": "code",
   "execution_count": 9,
   "id": "04e11b87",
   "metadata": {},
   "outputs": [],
   "source": [
    "# Define the generator parameters\n",
    "params_plc_pre = dict()\n",
    "params_plc_pre[PLCNetwork.N] = N\n",
    "params_plc_pre[PLCNetwork.EXPONENT] = plc_expo_pre\n",
    "params_plc_pre[PLCNetwork.CUTOFF] = CUTOFF\n",
    "\n",
    "params_plc_post = dict()\n",
    "params_plc_post[PLCNetwork.N] = N\n",
    "params_plc_post[PLCNetwork.EXPONENT] = plc_expo_post\n",
    "params_plc_post[PLCNetwork.CUTOFF] = CUTOFF"
   ]
  },
  {
   "cell_type": "code",
   "execution_count": 9,
   "id": "d8d2fe50",
   "metadata": {},
   "outputs": [],
   "source": [
    "plc_pre = PLCNetwork()\n",
    "plc_post = PLCNetwork()"
   ]
  },
  {
   "cell_type": "code",
   "execution_count": null,
   "id": "490d43ad",
   "metadata": {},
   "outputs": [],
   "source": [
    "mtrcs.append(lambda: run_network_lab_experiment(\n",
    "    plc_pre, \n",
    "    params_plc_pre, \n",
    "    'plc_pre.json', \n",
    "    'Network metrics of PLC pre'\n",
    "))\n",
    "\n",
    "mtrcs.append(lambda: run_network_lab_experiment(\n",
    "    plc_post, \n",
    "    params_plc_post, \n",
    "    'plc_post.json', \n",
    "    'Network metrics of PLC post'\n",
    "))"
   ]
  },
  {
   "cell_type": "markdown",
   "id": "b0af7dfe",
   "metadata": {},
   "source": [
    "### Distanced network"
   ]
  },
  {
   "cell_type": "code",
   "execution_count": 10,
   "id": "760da963",
   "metadata": {},
   "outputs": [],
   "source": [
    "household_size_dist = partial(discrete_trunc_normal, mu=4.5, std=2)\n",
    "\n",
    "params_distanced_pre = dict()\n",
    "params_distanced_pre[DNG.N] = N\n",
    "\n",
    "params_distanced_post = dict()\n",
    "params_distanced_post[DNG.N] = N"
   ]
  },
  {
   "cell_type": "code",
   "execution_count": 11,
   "id": "8e57b8a8",
   "metadata": {},
   "outputs": [],
   "source": [
    "distanced_pre = DNG(\n",
    "    household_size_dist=household_size_dist,\n",
    "    num_contact_dist=num_contact_dist,\n",
    "    num_outside_edge_dist=partial(discrete_trunc_exponential, exponent=mob_deg_pre)\n",
    ")\n",
    "\n",
    "distanced_post = DNG(\n",
    "    household_size_dist=household_size_dist,\n",
    "    num_contact_dist=num_contact_dist,\n",
    "    num_outside_edge_dist=partial(discrete_trunc_exponential, exponent=mob_deg_post)\n",
    ")"
   ]
  },
  {
   "cell_type": "code",
   "execution_count": 15,
   "id": "f8f49354",
   "metadata": {},
   "outputs": [],
   "source": [
    "mtrcs.append(lambda: run_network_lab_experiment(\n",
    "    distanced_pre, \n",
    "    params_distanced_pre, \n",
    "    'distanced_pre.json', \n",
    "    'Network metrics of PLC pre'\n",
    "))\n",
    "\n",
    "mtrcs.append(lambda: run_network_lab_experiment(\n",
    "    distanced_post, \n",
    "    params_distanced_post, \n",
    "    'distanced_post.json', \n",
    "    'Network metrics of PLC post'\n",
    "))"
   ]
  },
  {
   "cell_type": "code",
   "execution_count": 22,
   "id": "fdbf853a",
   "metadata": {},
   "outputs": [
    {
     "name": "stdout",
     "output_type": "stream",
     "text": [
      "Done\n",
      "Done\n",
      "Done\n",
      "Done\n",
      "CPU times: user 25.9 ms, sys: 5.08 ms, total: 31 ms\n",
      "Wall time: 3min 42s\n"
     ]
    }
   ],
   "source": [
    "# # Alternative way of running if epyc.Lab is used\n",
    "# num_cores = min(len(mtrcs), cpu_count()-1)\n",
    "# with Parallel(n_jobs=num_cores) as processes:\n",
    "#     procs = processes(delayed(e)() for e in mtrcs)\n",
    "\n",
    "for mtrc in mtrcs:\n",
    "    print(\"Start time: %s\" % dt.now())\n",
    "    mtrc()\n",
    "    print(\"End time: %s\" % dt.now())"
   ]
  },
  {
   "cell_type": "markdown",
   "id": "7ddb2ce4",
   "metadata": {},
   "source": [
    "### Shortest path lengths\n",
    "\n",
    "For the network analysis, we calculate the shortest path lengths for one instance\n",
    "of each network type."
   ]
  },
  {
   "cell_type": "code",
   "execution_count": 40,
   "id": "36571e83",
   "metadata": {},
   "outputs": [],
   "source": [
    "def run_sp_calc(generator, params, file_name):\n",
    "    generator.set(params)\n",
    "    g = generator.generate()\n",
    "    sp = calc_shortest_paths(g)\n",
    "\n",
    "    return (sp, file_name)"
   ]
  },
  {
   "cell_type": "code",
   "execution_count": 41,
   "id": "fcbfc305",
   "metadata": {},
   "outputs": [],
   "source": [
    "sp_calc_params = [\n",
    "    (mng_pre, params_mobility_pre, 'sp_mng_pre'),\n",
    "    (mng_post, params_mobility_post, 'sp_mng_post'),\n",
    "    (plc_pre, params_plc_pre, 'sp_plc_pre'),\n",
    "    (plc_post, params_plc_post, 'sp_plc_post'),\n",
    "    (distanced_pre, params_distanced_pre, 'sp_dist_pre'),\n",
    "    (distanced_post, params_distanced_post, 'sp_dist_post')\n",
    "]"
   ]
  },
  {
   "cell_type": "code",
   "execution_count": 43,
   "id": "9d580915",
   "metadata": {},
   "outputs": [
    {
     "name": "stdout",
     "output_type": "stream",
     "text": [
      "Running 6 jobs on 12 available cores...\n",
      "Start time 2021-07-22 07:22:48.817079\n",
      "End time 2021-07-22 07:22:50.010002\n"
     ]
    }
   ],
   "source": [
    "# Run this using multiprocessing\n",
    "num_cores = min(len(sp_calc_params), cpu_count()-1, 6)\n",
    "print(f\"Running {num_cores} jobs on {cpu_count()} available cores...\")\n",
    "\n",
    "print(\"Start time %s\" % dt.now())\n",
    "\n",
    "with Parallel(n_jobs=num_cores) as processes:\n",
    "    procs = processes(delayed(lambda spc: run_sp_calc(*spc))(spc) for spc in sp_calc_params)\n",
    "\n",
    "    print('Done with calculations...')\n",
    "\n",
    "    for sp, file_name in procs:\n",
    "        fn = file_name + '.pkl'\n",
    "\n",
    "        with lzma.open(os.path.join(output_dir, fn), 'wb') as f:\n",
    "            pickle.dump(sp, f)\n",
    "\n",
    "        DataRepoAPI.update_or_create(\n",
    "            file_name=fn,\n",
    "            file_path=output_dir,\n",
    "            repo_path='network-metrics'\n",
    "        )\n",
    "\n",
    "        print(f'Done {fn}')\n",
    "    \n",
    "print(\"End time %s\" % dt.now())"
   ]
  },
  {
   "cell_type": "markdown",
   "id": "69b3690d",
   "metadata": {},
   "source": [
    "# Epidemic models\n",
    "\n",
    "In this part, we will create the different configurations of epidemic models\n",
    "and run the simulations on the networks."
   ]
  },
  {
   "cell_type": "code",
   "execution_count": 13,
   "id": "bff9b1c2",
   "metadata": {},
   "outputs": [],
   "source": [
    "# List to store all the experiment runners\n",
    "expms = list()"
   ]
  },
  {
   "cell_type": "code",
   "execution_count": 12,
   "id": "c048f8d4",
   "metadata": {},
   "outputs": [],
   "source": [
    "# Import models etc\n",
    "from epydemic import SEIR\n",
    "from lib.model.compartmental_model.seir import MonitoredSEIR\n",
    "from lib.model.compartmental_model.seir import SEIRWithQuarantine as SEIRQ\n",
    "from lib.model.compartmental_model.seir import MonitoredSEIRWithQuarantine as MonitoredSEIRQ\n",
    "from lib.model.compartmental_model.seivr import SEIVR, MonitoredSEIVR\n",
    "from lib.model.compartmental_model.seivr import SEIVRWithQuarantine as SEIVRQ\n",
    "from lib.model.compartmental_model.seivr import MonitoredSEIVRWithQuarantine as MonitoredSEIVRQ\n",
    "\n",
    "from epydemic import StochasticDynamics, Monitor\n",
    "\n",
    "from lib.model.distributions import PowerLawCutoffDist as PLCD"
   ]
  },
  {
   "cell_type": "code",
   "execution_count": 13,
   "id": "2ce50bd7",
   "metadata": {},
   "outputs": [],
   "source": [
    "# Helper functions\n",
    "\n",
    "def calc_p_infect(r0, p_remove, k_mean, k_var):\n",
    "    \"\"\"\n",
    "    Calc p_infect.\n",
    "    :param r0: basic reproduction number\n",
    "    :param p_remove: probability of removal\n",
    "    :param k_mean: Mean of node degree distribution\n",
    "    :param k_var: Variance of node degree distribution\n",
    "    :return: p_infect\n",
    "    \"\"\"\n",
    "    return float(p_remove * r0 * (k_mean / (k_var - k_mean)))\n",
    "\n",
    "\n",
    "def run_stochastic_dynamics_lab(model, generator, params, \n",
    "                                file_name, description, n=n_exp,\n",
    "                                output_dir=output_dir, push_to_repo=True,\n",
    "                                T_max=300):\n",
    "    \"\"\"\n",
    "    Run a StochasticDynamics experiment repeatadly in a lab.\n",
    "    \"\"\"\n",
    "\n",
    "    file = os.path.join(output_dir, file_name)\n",
    "    \n",
    "    nb = JSONLabNotebook(file, create=True, description=description)\n",
    "    \n",
    "    cores = min(cpu_count()-1, n)\n",
    "    print(f\"Cores: {cores}\")\n",
    "    lab = ParallelLab(notebook=nb, cores=cores)\n",
    "    \n",
    "    e = StochasticDynamics(model, generator)\n",
    "    e.process().setMaximumTime(T_max)\n",
    "\n",
    "    # pass params to the lab\n",
    "    for k, v in params.items():\n",
    "        lab[k] = v\n",
    "\n",
    "    lab.runExperiment(RepeatedExperiment(e, n))\n",
    "    \n",
    "    print(f\"Experiment {file_name} done: %s\" % dt.now())\n",
    "    \n",
    "    if push_to_repo:\n",
    "        DataRepoAPI.update_or_create(\n",
    "            file_name=file_name,\n",
    "            file_path=output_dir,\n",
    "            repo_path='simulations'\n",
    "        )\n",
    "    \n",
    "    return lab.results()"
   ]
  },
  {
   "cell_type": "markdown",
   "id": "6a881444",
   "metadata": {},
   "source": [
    "## Parameters\n",
    "\n",
    "We will fix as many COVID-19 specific parameters as we can and leave only policy\n",
    "dependent parameters open for modifications. References for each of the parameters\n",
    "are explained in the thesis."
   ]
  },
  {
   "cell_type": "code",
   "execution_count": 14,
   "id": "64bac485",
   "metadata": {},
   "outputs": [],
   "source": [
    "# Fixed\n",
    "R0 = 2.85\n",
    "_P_INFECT = None  # to calculate later \n",
    "P_REMOVE = 0.1\n",
    "P_SYMPTOMS = 0.2\n",
    "P_EXPOSED = 0.01\n",
    "\n",
    "_RRR = [0.5, 0.65, 0.8, 0.95]\n",
    "\n",
    "# Free\n",
    "_P_VACCINATED = [0.001, 0.004, 0.007, 0.01]\n",
    "_P_VACCINATED_INITAL = [0.0, 0.2, 0.4, 0.6, 0.8]\n",
    "_P_QUARANTINE = [0.0, 0.25, 0.5, 0.75, 1]"
   ]
  },
  {
   "cell_type": "code",
   "execution_count": 15,
   "id": "f9f6560f",
   "metadata": {},
   "outputs": [],
   "source": [
    "# Fix parameters as far as possible\n",
    "\n",
    "params_seir = dict()\n",
    "params_seir[SEIR.P_SYMPTOMS] = P_SYMPTOMS\n",
    "params_seir[SEIR.P_REMOVE] = P_REMOVE\n",
    "params_seir[SEIR.P_EXPOSED] = P_EXPOSED\n",
    "\n",
    "params_seivr = dict()\n",
    "params_seivr[SEIVR.P_SYMPTOMS] = P_SYMPTOMS\n",
    "params_seivr[SEIVR.P_REMOVE] = P_REMOVE\n",
    "params_seivr[SEIVR.P_EXPOSED] = P_EXPOSED\n",
    "\n",
    "params_monitor = dict()\n",
    "params_monitor[Monitor.DELTA] = 10"
   ]
  },
  {
   "cell_type": "code",
   "execution_count": 16,
   "id": "697addfd",
   "metadata": {},
   "outputs": [
    {
     "name": "stdout",
     "output_type": "stream",
     "text": [
      "0.03931425340497793 0.018206599811410505 0.089465900397268\n"
     ]
    }
   ],
   "source": [
    "# Calculate P_INFECT\n",
    "\n",
    "# Mobility\n",
    "plcd = PLCD(MOBILITY_EXPONENT, CUTOFF)\n",
    "P_INFECT_MOBILITY = calc_p_infect(R0, P_REMOVE, plcd.mean, plcd.var)\n",
    "\n",
    "# PLC\n",
    "plcd = PLCD(plc_expo_pre, CUTOFF)\n",
    "P_INFECT_PLC = calc_p_infect(R0, P_REMOVE, plcd.mean, plcd.var)\n",
    "\n",
    "# Distanced\n",
    "mean = mob_deg_pre\n",
    "var = mean ** 2\n",
    "P_INFECT_DISTANCED = calc_p_infect(R0, P_REMOVE, mean, var)\n",
    "\n",
    "# clean up\n",
    "del mean, var, plcd\n",
    "\n",
    "print(P_INFECT_MOBILITY, P_INFECT_PLC, P_INFECT_DISTANCED)"
   ]
  },
  {
   "cell_type": "markdown",
   "id": "54f6056c",
   "metadata": {},
   "source": [
    "### SEIR & SEIR_Q"
   ]
  },
  {
   "cell_type": "markdown",
   "id": "2ce7cf4b",
   "metadata": {},
   "source": [
    "#### SEIR on Mobility"
   ]
  },
  {
   "cell_type": "code",
   "execution_count": 146,
   "id": "2732e78e",
   "metadata": {},
   "outputs": [],
   "source": [
    "# params\n",
    "params_pre1 = {**params_mobility_pre, **params_seir, **params_monitor}\n",
    "params_pre1[SEIR.P_INFECT_SYMPTOMATIC] = P_INFECT_MOBILITY\n",
    "params_pre1[SEIR.P_INFECT_ASYMPTOMATIC] = P_INFECT_MOBILITY / 2\n",
    "\n",
    "params_post1 = {**params_mobility_post, **params_seir, **params_monitor}\n",
    "params_post1[SEIR.P_INFECT_SYMPTOMATIC] = P_INFECT_MOBILITY\n",
    "params_post1[SEIR.P_INFECT_ASYMPTOMATIC] = P_INFECT_MOBILITY / 2"
   ]
  },
  {
   "cell_type": "code",
   "execution_count": 147,
   "id": "d84380da",
   "metadata": {},
   "outputs": [],
   "source": [
    "expms.append(lambda: run_stochastic_dynamics_lab(\n",
    "    MonitoredSEIR(),\n",
    "    mng_pre, \n",
    "    params_pre1, \n",
    "    'seir_mobility_pre.json',\n",
    "    'SEIR simulation with Mobility Network (Pre)',\n",
    "))\n",
    "\n",
    "expms.append(lambda: run_stochastic_dynamics_lab(\n",
    "    MonitoredSEIR(), \n",
    "    mng_post, \n",
    "    params_post1, \n",
    "    'seir_mobility_post.json',\n",
    "    'SEIR simulation with Mobility Network (Post)'\n",
    "))"
   ]
  },
  {
   "cell_type": "markdown",
   "id": "f1484efb",
   "metadata": {},
   "source": [
    "#### SEIR_Q on Mobility"
   ]
  },
  {
   "cell_type": "code",
   "execution_count": 148,
   "id": "6e3ffdb6",
   "metadata": {},
   "outputs": [],
   "source": [
    "params_pre2 = {**params_mobility_pre, **params_seir, **params_monitor}\n",
    "params_pre2[SEIRQ.P_INFECT_SYMPTOMATIC] = P_INFECT_MOBILITY\n",
    "params_pre2[SEIRQ.P_INFECT_ASYMPTOMATIC] = P_INFECT_MOBILITY / 2\n",
    "params_pre2[SEIRQ.P_QUARANTINE] = _P_QUARANTINE\n",
    "\n",
    "params_post2 = {**params_mobility_post, **params_seir, **params_monitor}\n",
    "params_post2[SEIRQ.P_INFECT_SYMPTOMATIC] = P_INFECT_MOBILITY\n",
    "params_post2[SEIRQ.P_INFECT_ASYMPTOMATIC] = P_INFECT_MOBILITY / 2\n",
    "params_post2[SEIRQ.P_QUARANTINE] = _P_QUARANTINE"
   ]
  },
  {
   "cell_type": "code",
   "execution_count": 149,
   "id": "d8a33a62",
   "metadata": {},
   "outputs": [],
   "source": [
    "expms.append(lambda: run_stochastic_dynamics_lab(\n",
    "    MonitoredSEIRQ(), \n",
    "    mng_pre, \n",
    "    params_pre2, \n",
    "    'seirq_mobility_pre.json',\n",
    "    'SEIR_Q simulation with Mobility Network (Pre)',\n",
    "))\n",
    "\n",
    "expms.append(lambda: run_stochastic_dynamics_lab(\n",
    "    MonitoredSEIRQ(), \n",
    "    mng_post, \n",
    "    params_post2, \n",
    "    'seirq_mobility_post.json',\n",
    "    'SEIR_Q simulation with Mobility Network (Post)'\n",
    "))"
   ]
  },
  {
   "cell_type": "markdown",
   "id": "e5a36e0d",
   "metadata": {},
   "source": [
    "#### SEIR on PLC"
   ]
  },
  {
   "cell_type": "code",
   "execution_count": 19,
   "id": "f447b346",
   "metadata": {},
   "outputs": [],
   "source": [
    "params_pre3 = {**params_plc_pre, **params_seir, **params_monitor}\n",
    "params_pre3[SEIR.P_INFECT_SYMPTOMATIC] = P_INFECT_PLC\n",
    "params_pre3[SEIR.P_INFECT_ASYMPTOMATIC] = P_INFECT_PLC / 2\n",
    "\n",
    "params_post3 = {**params_plc_post, **params_seir, **params_monitor}\n",
    "params_post3[SEIR.P_INFECT_SYMPTOMATIC] = P_INFECT_PLC\n",
    "params_post3[SEIR.P_INFECT_ASYMPTOMATIC] = P_INFECT_PLC / 2"
   ]
  },
  {
   "cell_type": "code",
   "execution_count": 21,
   "id": "8d2bb945",
   "metadata": {},
   "outputs": [],
   "source": [
    "expms.append(lambda: run_stochastic_dynamics_lab(\n",
    "    MonitoredSEIR(), \n",
    "    PLCNetwork(), \n",
    "    params_pre3, \n",
    "    'seir_plc_pre.json',\n",
    "    'SEIR simulation with PLC Network (Pre)',\n",
    "))\n",
    "\n",
    "expms.append(lambda: run_stochastic_dynamics_lab(\n",
    "    MonitoredSEIR(), \n",
    "    PLCNetwork(), \n",
    "    params_post3, \n",
    "    'seir_plc_post.json',\n",
    "    'SEIR simulation with PLC Network (Post)'\n",
    "))"
   ]
  },
  {
   "cell_type": "markdown",
   "id": "7efff04d",
   "metadata": {},
   "source": [
    "#### SEIR_Q on PLC"
   ]
  },
  {
   "cell_type": "code",
   "execution_count": 20,
   "id": "cebab55c",
   "metadata": {},
   "outputs": [],
   "source": [
    "params_pre4 = {**params_plc_pre, **params_seir, **params_monitor}\n",
    "params_pre4[SEIRQ.P_INFECT_SYMPTOMATIC] = P_INFECT_PLC\n",
    "params_pre4[SEIRQ.P_INFECT_ASYMPTOMATIC] = P_INFECT_PLC / 2\n",
    "params_pre4[SEIRQ.P_QUARANTINE] = _P_QUARANTINE\n",
    "\n",
    "params_post4 = {**params_plc_post, **params_seir, **params_monitor}\n",
    "params_post4[SEIRQ.P_INFECT_SYMPTOMATIC] = P_INFECT_PLC\n",
    "params_post4[SEIRQ.P_INFECT_ASYMPTOMATIC] = P_INFECT_PLC / 2\n",
    "params_post4[SEIRQ.P_QUARANTINE] = _P_QUARANTINE"
   ]
  },
  {
   "cell_type": "code",
   "execution_count": 21,
   "id": "44098c21",
   "metadata": {},
   "outputs": [],
   "source": [
    "expms.append(lambda: run_stochastic_dynamics_lab(\n",
    "    MonitoredSEIRQ(), \n",
    "    PLCNetwork(), \n",
    "    params_pre4, \n",
    "    'seirq_plc_pre.json',\n",
    "    'SEIR_Q simulation with PLC Network (Pre)',\n",
    "))\n",
    "\n",
    "expms.append(lambda: run_stochastic_dynamics_lab(\n",
    "    MonitoredSEIRQ(), \n",
    "    PLCNetwork(), \n",
    "    params_post4, \n",
    "    'seirq_plc_post.json',\n",
    "    'SEIR_Q simulation with PLC Network (Post)'\n",
    "))"
   ]
  },
  {
   "cell_type": "markdown",
   "id": "6b1edcfc",
   "metadata": {},
   "source": [
    "#### SEIR on Distanced"
   ]
  },
  {
   "cell_type": "code",
   "execution_count": 24,
   "id": "7c6c9859",
   "metadata": {},
   "outputs": [],
   "source": [
    "params_pre5 = {**params_distanced_pre, **params_seir, **params_monitor}\n",
    "params_pre5[SEIR.P_INFECT_SYMPTOMATIC] = P_INFECT_DISTANCED\n",
    "params_pre5[SEIR.P_INFECT_ASYMPTOMATIC] = P_INFECT_DISTANCED / 2\n",
    "\n",
    "params_post5 = {**params_distanced_post, **params_seir, **params_monitor}\n",
    "params_post5[SEIR.P_INFECT_SYMPTOMATIC] = P_INFECT_DISTANCED\n",
    "params_post5[SEIR.P_INFECT_ASYMPTOMATIC] = P_INFECT_DISTANCED / 2"
   ]
  },
  {
   "cell_type": "code",
   "execution_count": 25,
   "id": "7e6578a9",
   "metadata": {},
   "outputs": [],
   "source": [
    "expms.append(lambda: run_stochastic_dynamics_lab(\n",
    "    MonitoredSEIR(), \n",
    "    distanced_pre, \n",
    "    params_pre5, \n",
    "    'seir_distanced_pre.json',\n",
    "    'SEIR simulation with Distanced Network (Pre)',\n",
    "))\n",
    "\n",
    "expms.append(lambda: run_stochastic_dynamics_lab(\n",
    "    MonitoredSEIR(), \n",
    "    distanced_post, \n",
    "    params_post5, \n",
    "    'seir_distanced_post.json',\n",
    "    'SEIR simulation with Distanced Network (Post)'\n",
    "))"
   ]
  },
  {
   "cell_type": "markdown",
   "id": "d5f86ba7",
   "metadata": {},
   "source": [
    "#### SEIR_Q on Distanced"
   ]
  },
  {
   "cell_type": "code",
   "execution_count": 29,
   "id": "9aae05f5",
   "metadata": {},
   "outputs": [],
   "source": [
    "params_pre6 = {**params_distanced_pre, **params_seir, **params_monitor}\n",
    "params_pre6[SEIRQ.P_INFECT_SYMPTOMATIC] = P_INFECT_DISTANCED\n",
    "params_pre6[SEIRQ.P_INFECT_ASYMPTOMATIC] = P_INFECT_DISTANCED / 2\n",
    "params_pre6[SEIRQ.P_QUARANTINE] = _P_QUARANTINE\n",
    "\n",
    "params_post6 = {**params_distanced_post, **params_seir, **params_monitor}\n",
    "params_post6[SEIRQ.P_INFECT_SYMPTOMATIC] = P_INFECT_DISTANCED\n",
    "params_post6[SEIRQ.P_INFECT_ASYMPTOMATIC] = P_INFECT_DISTANCED / 2\n",
    "params_post6[SEIRQ.P_QUARANTINE] = _P_QUARANTINE"
   ]
  },
  {
   "cell_type": "code",
   "execution_count": 30,
   "id": "5d87f56e",
   "metadata": {},
   "outputs": [],
   "source": [
    "expms.append(lambda: run_stochastic_dynamics_lab(\n",
    "    MonitoredSEIRQ(), \n",
    "    distanced_pre, \n",
    "    params_pre6, \n",
    "    'seirq_distanced_pre.json',\n",
    "    'SEIR_Q simulation with Distanced Network (Pre)',\n",
    "))"
   ]
  },
  {
   "cell_type": "code",
   "execution_count": 31,
   "id": "0b9f7ea8",
   "metadata": {},
   "outputs": [],
   "source": [
    "expms.append(lambda: run_stochastic_dynamics_lab(\n",
    "    MonitoredSEIRQ(), \n",
    "    distanced_post, \n",
    "    params_post6, \n",
    "    'seirq_distanced_post.json',\n",
    "    'SEIR_Q simulation with Distanced Network (Post)'\n",
    "))"
   ]
  },
  {
   "cell_type": "markdown",
   "id": "37c5722d",
   "metadata": {},
   "source": [
    "### SEIVR & SEIVR_Q"
   ]
  },
  {
   "cell_type": "markdown",
   "id": "7344b9f9",
   "metadata": {},
   "source": [
    "#### SEIVR on Mobility"
   ]
  },
  {
   "cell_type": "code",
   "execution_count": 260,
   "id": "194c1295",
   "metadata": {},
   "outputs": [],
   "source": [
    "params_pre7 = {**params_mobility_pre, **params_seivr, **params_monitor}\n",
    "params_pre7[SEIVR.P_INFECT_SYMPTOMATIC] = P_INFECT_MOBILITY\n",
    "params_pre7[SEIVR.P_INFECT_ASYMPTOMATIC] = P_INFECT_MOBILITY / 2\n",
    "params_pre7[SEIVR.P_VACCINATED] = _P_VACCINATED\n",
    "params_pre7[SEIVR.P_VACCINATED_INITIAL] = _P_VACCINATED_INITAL\n",
    "params_pre7[SEIVR.VACCINE_RRR] = _RRR\n",
    "\n",
    "params_post7 = {**params_mobility_post, **params_seivr, **params_monitor}\n",
    "params_post7[SEIVR.P_INFECT_SYMPTOMATIC] = P_INFECT_MOBILITY\n",
    "params_post7[SEIVR.P_INFECT_ASYMPTOMATIC] = P_INFECT_MOBILITY / 2\n",
    "params_post7[SEIVR.P_VACCINATED] = _P_VACCINATED\n",
    "params_post7[SEIVR.P_VACCINATED_INITIAL] = _P_VACCINATED_INITAL\n",
    "params_post7[SEIVR.VACCINE_RRR] = _RRR"
   ]
  },
  {
   "cell_type": "code",
   "execution_count": 261,
   "id": "ec072e5f",
   "metadata": {},
   "outputs": [],
   "source": [
    "expms.append(lambda: run_stochastic_dynamics_lab(\n",
    "    MonitoredSEIVR(), \n",
    "    mng_pre, \n",
    "    params_pre7, \n",
    "    'seivr_mobility_pre.json',\n",
    "    'SEIVR simulation with Mobility Network (Pre)',\n",
    "))"
   ]
  },
  {
   "cell_type": "code",
   "execution_count": null,
   "id": "d0497dcd",
   "metadata": {},
   "outputs": [],
   "source": [
    "expms.append(lambda: run_stochastic_dynamics_lab(\n",
    "    MonitoredSEIVR(), \n",
    "    mng_post, \n",
    "    params_post7, \n",
    "    'seivr_mobility_post.json',\n",
    "    'SEIVR simulation with Mobility Network (Post)'\n",
    "))"
   ]
  },
  {
   "cell_type": "markdown",
   "id": "5f40e7f5",
   "metadata": {},
   "source": [
    "#### SEIVR_Q on Mobility"
   ]
  },
  {
   "cell_type": "code",
   "execution_count": 246,
   "id": "2d38c864",
   "metadata": {},
   "outputs": [],
   "source": [
    "params_pre8 = {**params_mobility_pre, **params_seivr, **params_monitor}\n",
    "params_pre8[SEIVRQ.P_INFECT_SYMPTOMATIC] = P_INFECT_MOBILITY\n",
    "params_pre8[SEIVRQ.P_INFECT_ASYMPTOMATIC] = P_INFECT_MOBILITY / 2\n",
    "params_pre8[SEIVRQ.P_VACCINATED] = _P_VACCINATED\n",
    "params_pre8[SEIVRQ.P_VACCINATED_INITIAL] = _P_VACCINATED_INITAL\n",
    "params_pre8[SEIVRQ.VACCINE_RRR] = _RRR\n",
    "params_pre8[SEIVRQ.P_QUARANTINE] = _P_QUARANTINE\n",
    "\n",
    "params_post8 = {**params_mobility_post, **params_seivr, **params_monitor}\n",
    "params_post8[SEIVRQ.P_INFECT_SYMPTOMATIC] = P_INFECT_MOBILITY\n",
    "params_post8[SEIVRQ.P_INFECT_ASYMPTOMATIC] = P_INFECT_MOBILITY / 2\n",
    "params_post8[SEIVRQ.P_VACCINATED] = _P_VACCINATED\n",
    "params_post8[SEIVRQ.P_VACCINATED_INITIAL] = _P_VACCINATED_INITAL\n",
    "params_post8[SEIVRQ.VACCINE_RRR] = _RRR\n",
    "params_post8[SEIVRQ.P_QUARANTINE] = _P_QUARANTINE"
   ]
  },
  {
   "cell_type": "code",
   "execution_count": 247,
   "id": "0c275cdf",
   "metadata": {},
   "outputs": [],
   "source": [
    "expms.append(lambda: run_stochastic_dynamics_lab(\n",
    "    MonitoredSEIVRQ(), \n",
    "    mng_pre, \n",
    "    params_pre8, \n",
    "    'seivrq_mobility_pre.json',\n",
    "    'SEIVR_Q simulation with Mobility Network (Pre)',\n",
    "))\n",
    "\n",
    "expms.append(lambda: run_stochastic_dynamics_lab(\n",
    "    MonitoredSEIVRQ(), \n",
    "    mng_post, \n",
    "    params_post8, \n",
    "    'seivrq_mobility_post.json',\n",
    "    'SEIVR_Q simulation with Mobility Network (Post)'\n",
    "))"
   ]
  },
  {
   "cell_type": "markdown",
   "id": "05695a79",
   "metadata": {},
   "source": [
    "#### SEIVR on PLC"
   ]
  },
  {
   "cell_type": "code",
   "execution_count": 20,
   "id": "94e60e3d",
   "metadata": {},
   "outputs": [],
   "source": [
    "params_pre9 = {**params_plc_pre, **params_seivr, **params_monitor}\n",
    "params_pre9[SEIVR.P_INFECT_SYMPTOMATIC] = P_INFECT_PLC\n",
    "params_pre9[SEIVR.P_INFECT_ASYMPTOMATIC] = P_INFECT_PLC / 2\n",
    "params_pre9[SEIVR.P_VACCINATED] = _P_VACCINATED\n",
    "params_pre9[SEIVR.P_VACCINATED_INITIAL] = _P_VACCINATED_INITAL\n",
    "params_pre9[SEIVR.VACCINE_RRR] = _RRR\n",
    "\n",
    "params_post9 = {**params_plc_post, **params_seivr, **params_monitor}\n",
    "params_post9[SEIVR.P_INFECT_SYMPTOMATIC] = P_INFECT_PLC\n",
    "params_post9[SEIVR.P_INFECT_ASYMPTOMATIC] = P_INFECT_PLC / 2\n",
    "params_post9[SEIVR.P_VACCINATED] = _P_VACCINATED\n",
    "params_post9[SEIVR.P_VACCINATED_INITIAL] = _P_VACCINATED_INITAL\n",
    "params_post9[SEIVR.VACCINE_RRR] = _RRR"
   ]
  },
  {
   "cell_type": "code",
   "execution_count": 21,
   "id": "c584e045",
   "metadata": {},
   "outputs": [],
   "source": [
    "expms.append(lambda: run_stochastic_dynamics_lab(\n",
    "    MonitoredSEIVR(), \n",
    "    PLCNetwork(), \n",
    "    params_pre9, \n",
    "    'seivr_plc_pre.json',\n",
    "    'SEIVR simulation with PLC Network (Pre)',\n",
    "))\n",
    "\n",
    "expms.append(lambda: run_stochastic_dynamics_lab(\n",
    "    MonitoredSEIVR(), \n",
    "    PLCNetwork(), \n",
    "    params_post9, \n",
    "    'seivr_plc_post.json',\n",
    "    'SEIVR simulation with PLC Network (Post)'\n",
    "))"
   ]
  },
  {
   "cell_type": "markdown",
   "id": "46941230",
   "metadata": {},
   "source": [
    "#### SEIVR_Q on PLC"
   ]
  },
  {
   "cell_type": "code",
   "execution_count": 19,
   "id": "7174b8f9",
   "metadata": {},
   "outputs": [],
   "source": [
    "params_pre10 = {**params_plc_pre, **params_seivr, **params_monitor}\n",
    "params_pre10[SEIVRQ.P_INFECT_SYMPTOMATIC] = P_INFECT_PLC\n",
    "params_pre10[SEIVRQ.P_INFECT_ASYMPTOMATIC] = P_INFECT_PLC / 2\n",
    "params_pre10[SEIVRQ.P_VACCINATED] = _P_VACCINATED\n",
    "params_pre10[SEIVRQ.P_VACCINATED_INITIAL] = _P_VACCINATED_INITAL\n",
    "params_pre10[SEIVRQ.VACCINE_RRR] = _RRR\n",
    "params_pre10[SEIVRQ.P_QUARANTINE] = _P_QUARANTINE\n",
    "\n",
    "params_post10 = {**params_plc_post, **params_seivr, **params_monitor}\n",
    "params_post10[SEIVRQ.P_INFECT_SYMPTOMATIC] = P_INFECT_PLC\n",
    "params_post10[SEIVRQ.P_INFECT_ASYMPTOMATIC] = P_INFECT_PLC / 2\n",
    "params_post10[SEIVRQ.P_VACCINATED] = _P_VACCINATED\n",
    "params_post10[SEIVRQ.P_VACCINATED_INITIAL] = _P_VACCINATED_INITAL\n",
    "params_post10[SEIVRQ.VACCINE_RRR] = _RRR\n",
    "params_post10[SEIVRQ.P_QUARANTINE] = _P_QUARANTINE"
   ]
  },
  {
   "cell_type": "code",
   "execution_count": 20,
   "id": "45c83ddd",
   "metadata": {},
   "outputs": [],
   "source": [
    "expms.append(lambda: run_stochastic_dynamics_lab(\n",
    "    MonitoredSEIVRQ(), \n",
    "    PLCNetwork(), \n",
    "    params_pre10, \n",
    "    'seivrq_plc_pre.json',\n",
    "    'SEIVR_Q simulation with PLC Network (Pre)',\n",
    "))\n",
    "\n",
    "expms.append(lambda: run_stochastic_dynamics_lab(\n",
    "    MonitoredSEIVRQ(), \n",
    "    PLCNetwork(), \n",
    "    params_post10, \n",
    "    'seivrq_plc_post.json',\n",
    "    'SEIVR_Q simulation with PLC Network (Post)'\n",
    "))"
   ]
  },
  {
   "cell_type": "markdown",
   "id": "d2bc8124",
   "metadata": {},
   "source": [
    "#### SEIVR on Distanced"
   ]
  },
  {
   "cell_type": "code",
   "execution_count": 22,
   "id": "c9b4218a",
   "metadata": {},
   "outputs": [],
   "source": [
    "params_pre11 = {**params_distanced_pre, **params_seivr, **params_monitor}\n",
    "params_pre11[SEIVR.P_INFECT_SYMPTOMATIC] = P_INFECT_DISTANCED\n",
    "params_pre11[SEIVR.P_INFECT_ASYMPTOMATIC] = P_INFECT_DISTANCED / 2\n",
    "params_pre11[SEIVR.P_VACCINATED] = _P_VACCINATED\n",
    "params_pre11[SEIVR.P_VACCINATED_INITIAL] = _P_VACCINATED_INITAL\n",
    "params_pre11[SEIVR.VACCINE_RRR] = _RRR\n",
    "\n",
    "params_post11 = {**params_distanced_post, **params_seivr, **params_monitor}\n",
    "params_post11[SEIVR.P_INFECT_SYMPTOMATIC] = P_INFECT_DISTANCED\n",
    "params_post11[SEIVR.P_INFECT_ASYMPTOMATIC] = P_INFECT_DISTANCED / 2\n",
    "params_post11[SEIVR.P_VACCINATED] = _P_VACCINATED\n",
    "params_post11[SEIVR.P_VACCINATED_INITIAL] = _P_VACCINATED_INITAL\n",
    "params_post11[SEIVR.VACCINE_RRR] = _RRR"
   ]
  },
  {
   "cell_type": "code",
   "execution_count": 23,
   "id": "a42efe1a",
   "metadata": {},
   "outputs": [],
   "source": [
    "expms.append(lambda: run_stochastic_dynamics_lab(\n",
    "    MonitoredSEIVR(), \n",
    "    distanced_pre, \n",
    "    params_pre11, \n",
    "    'seivr_distanced_pre.json',\n",
    "    'SEIVR simulation with Distanced Network (Pre)',\n",
    "))\n",
    "\n",
    "expms.append(lambda: run_stochastic_dynamics_lab(\n",
    "    MonitoredSEIVR(), \n",
    "    distanced_post, \n",
    "    params_post11, \n",
    "    'seivr_distanced_post.json',\n",
    "    'SEIVR simulation with Distanced Network (Post)'\n",
    "))"
   ]
  },
  {
   "cell_type": "markdown",
   "id": "4bc54beb",
   "metadata": {},
   "source": [
    "#### SEIVR_Q on Distanced"
   ]
  },
  {
   "cell_type": "code",
   "execution_count": 20,
   "id": "ea271c84",
   "metadata": {},
   "outputs": [],
   "source": [
    "params_pre12 = {**params_distanced_pre, **params_seivr, **params_monitor}\n",
    "params_pre12[SEIVRQ.P_INFECT_SYMPTOMATIC] = P_INFECT_DISTANCED\n",
    "params_pre12[SEIVRQ.P_INFECT_ASYMPTOMATIC] = P_INFECT_DISTANCED / 2\n",
    "params_pre12[SEIVRQ.P_VACCINATED] = _P_VACCINATED\n",
    "params_pre12[SEIVRQ.P_VACCINATED_INITIAL] = _P_VACCINATED_INITAL\n",
    "params_pre12[SEIVRQ.VACCINE_RRR] = _RRR\n",
    "params_pre12[SEIVRQ.P_QUARANTINE] = _P_QUARANTINE\n",
    "\n",
    "params_post12 = {**params_distanced_post, **params_seivr, **params_monitor}\n",
    "params_post12[SEIVRQ.P_INFECT_SYMPTOMATIC] = P_INFECT_DISTANCED\n",
    "params_post12[SEIVRQ.P_INFECT_ASYMPTOMATIC] = P_INFECT_DISTANCED / 2\n",
    "params_post12[SEIVRQ.P_VACCINATED] = _P_VACCINATED\n",
    "params_post12[SEIVRQ.P_VACCINATED_INITIAL] = _P_VACCINATED_INITAL\n",
    "params_post12[SEIVRQ.VACCINE_RRR] = _RRR\n",
    "params_post12[SEIVRQ.P_QUARANTINE] = _P_QUARANTINE"
   ]
  },
  {
   "cell_type": "code",
   "execution_count": 21,
   "id": "c6d8a9fd",
   "metadata": {},
   "outputs": [],
   "source": [
    "expms.append(lambda: run_stochastic_dynamics_lab(\n",
    "    MonitoredSEIVRQ(), \n",
    "    distanced_pre, \n",
    "    params_pre12, \n",
    "    'seivrq_distanced_pre.json',\n",
    "    'SEIVR_Q simulation with Distanced Network (Pre)',\n",
    "))\n",
    "\n",
    "expms.append(lambda: run_stochastic_dynamics_lab(\n",
    "    MonitoredSEIVRQ(), \n",
    "    distanced_post, \n",
    "    params_post12, \n",
    "    'seivrq_distanced_post.json',\n",
    "    'SEIVR_Q simulation with Distanced Network (Post)'\n",
    "))"
   ]
  },
  {
   "cell_type": "markdown",
   "id": "6c19f92b",
   "metadata": {},
   "source": [
    "## Run experiments with multiprocessing...\n"
   ]
  },
  {
   "cell_type": "code",
   "execution_count": 32,
   "id": "8b7c3c7b",
   "metadata": {
    "scrolled": true
   },
   "outputs": [
    {
     "name": "stdout",
     "output_type": "stream",
     "text": [
      "2\n"
     ]
    }
   ],
   "source": [
    "print(len(expms))"
   ]
  },
  {
   "cell_type": "code",
   "execution_count": 33,
   "id": "86954f9d",
   "metadata": {
    "scrolled": true
   },
   "outputs": [
    {
     "name": "stdout",
     "output_type": "stream",
     "text": [
      "Start time: 2021-07-29 20:45:06.612411\n",
      "Cores: 10\n",
      "Experiment seirq_distanced_pre.json done: 2021-07-29 20:46:36.297905\n",
      "End time: 2021-07-29 20:46:37.482842\n",
      "Start time: 2021-07-29 20:46:37.482909\n",
      "Cores: 10\n",
      "Experiment seirq_distanced_post.json done: 2021-07-29 20:47:51.096084\n",
      "End time: 2021-07-29 20:47:52.210660\n"
     ]
    }
   ],
   "source": [
    "# # Alternative way of running in case epyc.Lab is used...\n",
    "# num_cores = min(len(expms), cpu_count()-1, 12)\n",
    "# print(f\"Running {num_cores} jobs on {cpu_count()} available cores...\")\n",
    "# print(\"Start time %s\" % dt.now())\n",
    "# with Parallel(n_jobs=num_cores) as processes:\n",
    "#     procs = processes(delayed(e)() for e in expms)\n",
    "# print(\"End time %s\" % dt.now())\n",
    "\n",
    "for expm in expms:\n",
    "    print(\"Start time: %s\" % dt.now())\n",
    "    expm()\n",
    "    print(\"End time: %s\" % dt.now())"
   ]
  },
  {
   "cell_type": "markdown",
   "id": "0e96b47c",
   "metadata": {},
   "source": [
    "Once the simulations are complete, transform the simulation files into the format required by\n",
    "the web app and store them in the data repo.\n",
    "\n",
    "Alternatively, run `make create_app_data` from the project root - it calls the same function..."
   ]
  },
  {
   "cell_type": "code",
   "execution_count": null,
   "id": "339dbcfa",
   "metadata": {
    "pycharm": {
     "name": "#%%\n"
    }
   },
   "outputs": [],
   "source": [
    "# transform to format required and upload to data repo\n",
    "from lib.experiments.utils.create_app_data import main\n",
    "main()"
   ]
  },
  {
   "cell_type": "markdown",
   "id": "6cc9ae93",
   "metadata": {},
   "source": [
    "# Model Validation\n",
    "\n",
    "In this section we run the simulations used for validation."
   ]
  },
  {
   "cell_type": "code",
   "execution_count": 25,
   "id": "b563a00d",
   "metadata": {},
   "outputs": [],
   "source": [
    "n_exp_v = 10\n",
    "\n",
    "def run_validation_lab(model, generator, params, file_name, description, n=n_exp_v,\n",
    "                       output_dir=output_dir, push_to_repo=True, T_max=200):\n",
    "    \"\"\"\n",
    "    Run a StochasticDynamics experiment repeatedly in a lab.\n",
    "    \"\"\"\n",
    "    \n",
    "    print(file_name)\n",
    "\n",
    "    file = os.path.join(output_dir, file_name)\n",
    "    \n",
    "    nb = JSONLabNotebook(file, create=True, description=description)\n",
    "    lab = ParallelLab(notebook=nb, cores=min(cpu_count()-1, n))\n",
    "    \n",
    "    e = StochasticDynamics(model, generator)\n",
    "    e.process().setMaximumTime(T_max)\n",
    "\n",
    "    # pass params to the lab\n",
    "    for k, v in params.items():\n",
    "        lab[k] = v\n",
    "\n",
    "    lab.runExperiment(RepeatedExperiment(e, n))\n",
    "    \n",
    "    print(f\"Experiment {file_name} done: %s\" % dt.now())\n",
    "    \n",
    "    if push_to_repo:\n",
    "        DataRepoAPI.update_or_create(\n",
    "            file_name=file_name,\n",
    "            file_path=output_dir,\n",
    "            repo_path='validation'\n",
    "        )\n",
    "    \n",
    "    return lab.results()"
   ]
  },
  {
   "cell_type": "code",
   "execution_count": 43,
   "id": "0fe958e8",
   "metadata": {},
   "outputs": [],
   "source": [
    "validations = []\n",
    "v_params_monitor = dict()\n",
    "v_params_monitor[Monitor.DELTA] = 1"
   ]
  },
  {
   "cell_type": "code",
   "execution_count": 30,
   "id": "af444e15",
   "metadata": {},
   "outputs": [],
   "source": [
    "# First wave\n",
    "first_v_params_seir = dict()\n",
    "first_v_params_seir[SEIR.P_SYMPTOMS] = P_SYMPTOMS\n",
    "first_v_params_seir[SEIR.P_REMOVE] = P_REMOVE\n",
    "first_v_params_seir[SEIR.P_EXPOSED] = 0.001"
   ]
  },
  {
   "cell_type": "markdown",
   "id": "fe61a404",
   "metadata": {},
   "source": [
    "### First wave SEIR (all networks)"
   ]
  },
  {
   "cell_type": "code",
   "execution_count": 31,
   "id": "01a599b4",
   "metadata": {},
   "outputs": [],
   "source": [
    "seir_v_params = {\n",
    "    **first_v_params_seir, **v_params_monitor,\n",
    "    SEIR.P_INFECT_SYMPTOMATIC: P_INFECT_MOBILITY,\n",
    "    SEIR.P_INFECT_ASYMPTOMATIC: P_INFECT_MOBILITY / 2\n",
    "},"
   ]
  },
  {
   "cell_type": "markdown",
   "id": "0beb8dd2",
   "metadata": {},
   "source": [
    "#### SEIR on Mobility"
   ]
  },
  {
   "cell_type": "code",
   "execution_count": 76,
   "id": "af5347ed",
   "metadata": {},
   "outputs": [],
   "source": [
    "# params\n",
    "\n",
    "validations.append(lambda: run_validation_lab(\n",
    "    MonitoredSEIR(),\n",
    "    mng_pre, \n",
    "    {\n",
    "        **params_mobility_pre, \n",
    "        **seir_v_params\n",
    "    },\n",
    "    'v_seir_mobility_pre.json',\n",
    "    'SEIR simulation with Mobility Network (Pre)',\n",
    "))\n",
    "\n",
    "\n",
    "validations.append(lambda: run_validation_lab(\n",
    "    MonitoredSEIR(), \n",
    "    mng_post, \n",
    "    {\n",
    "        **params_mobility_post, \n",
    "        **seir_v_params\n",
    "    },\n",
    "    'v_seir_mobility_post.json',\n",
    "    'SEIR simulation with Mobility Network (Post)'\n",
    "))"
   ]
  },
  {
   "cell_type": "markdown",
   "id": "19b04038",
   "metadata": {},
   "source": [
    "#### SEIR on PLC"
   ]
  },
  {
   "cell_type": "code",
   "execution_count": 77,
   "id": "40fe333e",
   "metadata": {},
   "outputs": [],
   "source": [
    "validations.append(lambda: run_validation_lab(\n",
    "    MonitoredSEIR(), \n",
    "    PLCNetwork(), \n",
    "    {\n",
    "        **params_plc_pre,\n",
    "        **seir_v_params\n",
    "    }, \n",
    "    'v_seir_plc_pre.json',\n",
    "    'SEIR simulation with PLC Network (Pre)',\n",
    "))\n",
    "\n",
    "\n",
    "validations.append(lambda: run_validation_lab(\n",
    "    MonitoredSEIR(), \n",
    "    PLCNetwork(), \n",
    "    {\n",
    "        **params_plc_post,         \n",
    "        **seir_v_params\n",
    "    }, \n",
    "    'v_seir_plc_post.json',\n",
    "    'SEIR simulation with PLC Network (Post)'\n",
    "))"
   ]
  },
  {
   "cell_type": "markdown",
   "id": "fdaa48d1",
   "metadata": {},
   "source": [
    "#### SEIR on Distanced"
   ]
  },
  {
   "cell_type": "code",
   "execution_count": 78,
   "id": "fa845f3e",
   "metadata": {},
   "outputs": [],
   "source": [
    "validations.append(lambda: run_validation_lab(\n",
    "    MonitoredSEIR(), \n",
    "    distanced_pre, \n",
    "    {\n",
    "        **params_distanced_pre,\n",
    "        **seir_v_params\n",
    "    }, \n",
    "    'v_seir_distanced_pre.json',\n",
    "    'SEIR simulation with Distanced Network (Pre)',\n",
    "))\n",
    "\n",
    "\n",
    "validations.append(lambda: run_validation_lab(\n",
    "    MonitoredSEIR(), \n",
    "    distanced_post, \n",
    "    {\n",
    "        **params_distanced_post, \n",
    "        **seir_v_params\n",
    "    }, \n",
    "    'v_seir_distanced_post.json',\n",
    "    'SEIR simulation with Distanced Network (Post)'\n",
    "))"
   ]
  },
  {
   "cell_type": "markdown",
   "id": "1eabf97f",
   "metadata": {},
   "source": [
    "### First wave SEIR_Q with Mobility Pre"
   ]
  },
  {
   "cell_type": "code",
   "execution_count": 32,
   "id": "83ac2b03",
   "metadata": {},
   "outputs": [],
   "source": [
    "seirq_mob_pre_params = {\n",
    "    **params_mobility_pre, **first_v_params_seir, **v_params_monitor,\n",
    "    SEIRQ.P_INFECT_SYMPTOMATIC: P_INFECT_MOBILITY,\n",
    "    SEIRQ.P_INFECT_ASYMPTOMATIC: P_INFECT_MOBILITY / 2,\n",
    "}"
   ]
  },
  {
   "cell_type": "code",
   "execution_count": 33,
   "id": "46f48e0e",
   "metadata": {},
   "outputs": [],
   "source": [
    "# params\n",
    "\n",
    "validations.append(lambda: run_validation_lab(\n",
    "    MonitoredSEIRQ(), \n",
    "    mng_pre, \n",
    "    {\n",
    "        **seirq_mob_pre_params,\n",
    "        SEIRQ.P_QUARANTINE: 0.25\n",
    "    },\n",
    "    'v_seirq_25_mobility_pre.json',\n",
    "    'SEIR_Q simulation with Mobility Network (Pre)'\n",
    "))\n",
    "\n",
    "validations.append(lambda: run_validation_lab(\n",
    "    MonitoredSEIRQ(), \n",
    "    mng_pre, \n",
    "    {\n",
    "        **seirq_mob_pre_params,\n",
    "        SEIRQ.P_QUARANTINE: 0.5\n",
    "    },\n",
    "    'v_seirq_50_mobility_pre.json',\n",
    "    'SEIR_Q simulation with Mobility Network (Pre)'\n",
    "))\n",
    "\n",
    "validations.append(lambda: run_validation_lab(\n",
    "    MonitoredSEIRQ(), \n",
    "    mng_pre, \n",
    "    {\n",
    "        **seirq_mob_pre_params,\n",
    "        SEIRQ.P_QUARANTINE: 0.75\n",
    "    },\n",
    "    'v_seirq_75_mobility_pre.json',\n",
    "    'SEIR_Q simulation with Mobility Network (Pre)'\n",
    "))"
   ]
  },
  {
   "cell_type": "markdown",
   "id": "c54deaff",
   "metadata": {},
   "source": [
    "### First wave SEIR_Q with Mobility Post"
   ]
  },
  {
   "cell_type": "code",
   "execution_count": null,
   "id": "79dd019d",
   "metadata": {},
   "outputs": [],
   "source": [
    "seirq_mob_post_params = {\n",
    "    **params_mobility_post, **first_v_params_seir, **v_params_monitor,\n",
    "    SEIRQ.P_INFECT_SYMPTOMATIC: P_INFECT_MOBILITY,\n",
    "    SEIRQ.P_INFECT_ASYMPTOMATIC: P_INFECT_MOBILITY / 2,\n",
    "}"
   ]
  },
  {
   "cell_type": "code",
   "execution_count": 79,
   "id": "12f13e10",
   "metadata": {},
   "outputs": [],
   "source": [
    "# params\n",
    "\n",
    "validations.append(lambda: run_validation_lab(\n",
    "    MonitoredSEIRQ(), \n",
    "    mng_post, \n",
    "    {\n",
    "        **seirq_mob_post_params,\n",
    "        SEIRQ.P_QUARANTINE: 0.25\n",
    "    },\n",
    "    'v_seirq_25_mobility_post.json',\n",
    "    'SEIR_Q simulation with Mobility Network (Post)'\n",
    "))\n",
    "\n",
    "validations.append(lambda: run_validation_lab(\n",
    "    MonitoredSEIRQ(), \n",
    "    mng_post, \n",
    "    {\n",
    "        **seirq_mob_post_params,\n",
    "        SEIRQ.P_QUARANTINE: 0.5\n",
    "    },\n",
    "    'v_seirq_50_mobility_post.json',\n",
    "    'SEIR_Q simulation with Mobility Network (Post)'\n",
    "))\n",
    "\n",
    "validations.append(lambda: run_validation_lab(\n",
    "    MonitoredSEIRQ(), \n",
    "    mng_post, \n",
    "    {\n",
    "        **seirq_mob_post_params,\n",
    "        SEIRQ.P_QUARANTINE: 0.75\n",
    "    },\n",
    "    'v_seirq_75_mobility_post.json',\n",
    "    'SEIR_Q simulation with Mobility Network (Post)'\n",
    "))"
   ]
  },
  {
   "cell_type": "markdown",
   "id": "81042807",
   "metadata": {},
   "source": [
    "### Vaccination"
   ]
  },
  {
   "cell_type": "code",
   "execution_count": 39,
   "id": "1f22e583",
   "metadata": {},
   "outputs": [],
   "source": [
    "# parameterised for Connecticut at 01/01/2021\n",
    "\n",
    "# References:\n",
    "# (1) https://www.worldometers.info/coronavirus/usa/connecticut/\n",
    "# (2) https://coronavirus.jhu.edu/region/us/connecticut\n",
    "\n",
    "# ... more details in the thesis.\n",
    "\n",
    "v_params_seivr = dict()\n",
    "v_params_seivr[SEIVR.P_SYMPTOMS] = P_SYMPTOMS\n",
    "v_params_seivr[SEIVR.P_REMOVE] = P_REMOVE\n",
    "v_params_seivr[SEIVR.P_INFECT_SYMPTOMATIC] = P_INFECT_MOBILITY\n",
    "v_params_seivr[SEIVR.P_INFECT_ASYMPTOMATIC] = P_INFECT_MOBILITY / 2\n",
    "\n",
    "v_params_seivr[SEIVR.P_REMOVED_INITIAL] = 0.0316  # total cases - active cases; (1)\n",
    "v_params_seivr[SEIVR.P_EXPOSED] = 0.0068  # 33% of active cases; (1)\n",
    "v_params_seivr[SEIVR.P_INFECTED_INITIAL] = 0.0137  # 67% of active cases; (1)\n",
    "v_params_seivr[SEIVR.P_VACCINATED_INITIAL] = 0.0154  # (2)\n",
    "v_params_seivr[SEIVR.P_VACCINATED] = 0.0091  # (2)\n",
    "v_params_seivr[SEIVR.VACCINE_RRR] = 0.5  # (2)"
   ]
  },
  {
   "cell_type": "markdown",
   "id": "298c3bd2",
   "metadata": {},
   "source": [
    "### SEIVR with Mobility"
   ]
  },
  {
   "cell_type": "code",
   "execution_count": 40,
   "id": "014cce12",
   "metadata": {},
   "outputs": [],
   "source": [
    "validations.append(lambda: run_validation_lab(\n",
    "    MonitoredSEIVR(),\n",
    "    mng_pre, \n",
    "    {\n",
    "        **params_mobility_pre, \n",
    "        **v_params_seivr,\n",
    "        **v_params_monitor\n",
    "    },\n",
    "    'v_seivr_mobility_pre.json',\n",
    "    'SEIVR simulation with Mobility Network (Pre)',\n",
    "))\n",
    "\n",
    "validations.append(lambda: run_validation_lab(\n",
    "    MonitoredSEIVR(),\n",
    "    mng_post, \n",
    "    {\n",
    "        **params_mobility_post, \n",
    "        **v_params_seivr,\n",
    "        **v_params_monitor\n",
    "    },\n",
    "    'v_seivr_mobility_post.json',\n",
    "    'SEIVR simulation with Mobility Network (Post)',\n",
    "))"
   ]
  },
  {
   "cell_type": "markdown",
   "id": "b68596a7",
   "metadata": {},
   "source": [
    "### SEIVR_Q with Mobility"
   ]
  },
  {
   "cell_type": "markdown",
   "id": "8199a34e",
   "metadata": {},
   "source": [
    "#### Pre"
   ]
  },
  {
   "cell_type": "code",
   "execution_count": 44,
   "id": "aef27617",
   "metadata": {},
   "outputs": [],
   "source": [
    "validations.append(lambda: run_validation_lab(\n",
    "    MonitoredSEIVRQ(),\n",
    "    mng_pre, \n",
    "    {\n",
    "        **params_mobility_pre, \n",
    "        **v_params_seivr,\n",
    "        **v_params_monitor,\n",
    "        SEIVRQ.P_QUARANTINE: 0.25\n",
    "    },\n",
    "    'v_seivrq_25_mobility_pre.json',\n",
    "    'SEIVR_Q simulation with Mobility Network (Pre)',\n",
    "))\n",
    "\n",
    "validations.append(lambda: run_validation_lab(\n",
    "    MonitoredSEIVRQ(),\n",
    "    mng_pre, \n",
    "    {\n",
    "        **params_mobility_pre, \n",
    "        **v_params_seivr,\n",
    "        **v_params_monitor,\n",
    "        SEIVRQ.P_QUARANTINE: 0.5\n",
    "    },\n",
    "    'v_seivrq_50_mobility_pre.json',\n",
    "    'SEIVR_Q simulation with Mobility Network (Pre)',\n",
    "))\n",
    "\n",
    "validations.append(lambda: run_validation_lab(\n",
    "    MonitoredSEIVRQ(),\n",
    "    mng_pre, \n",
    "    {\n",
    "        **params_mobility_pre, \n",
    "        **v_params_seivr,\n",
    "        **v_params_monitor,\n",
    "        SEIVRQ.P_QUARANTINE: 0.75\n",
    "    },\n",
    "    'v_seivrq_75_mobility_pre.json',\n",
    "    'SEIVR_Q simulation with Mobility Network (Pre)',\n",
    "))"
   ]
  },
  {
   "cell_type": "markdown",
   "id": "de01f927",
   "metadata": {},
   "source": [
    "#### Post"
   ]
  },
  {
   "cell_type": "code",
   "execution_count": 45,
   "id": "5db12809",
   "metadata": {},
   "outputs": [],
   "source": [
    "validations.append(lambda: run_validation_lab(\n",
    "    MonitoredSEIVRQ(),\n",
    "    mng_post, \n",
    "    {\n",
    "        **params_mobility_post, \n",
    "        **v_params_seivr,\n",
    "        **v_params_monitor,\n",
    "        SEIVRQ.P_QUARANTINE: 0.25\n",
    "    },\n",
    "    'v_seivrq_25_mobility_post.json',\n",
    "    'SEIVR_Q simulation with Mobility Network (Post)',\n",
    "))\n",
    "\n",
    "validations.append(lambda: run_validation_lab(\n",
    "    MonitoredSEIVRQ(),\n",
    "    mng_post, \n",
    "    {\n",
    "        **params_mobility_post, \n",
    "        **v_params_seivr,\n",
    "        **v_params_monitor,\n",
    "        SEIVRQ.P_QUARANTINE: 0.5\n",
    "    },\n",
    "    'v_seivrq_50_mobility_post.json',\n",
    "    'SEIVR_Q simulation with Mobility Network (Post)',\n",
    "))\n",
    "\n",
    "validations.append(lambda: run_validation_lab(\n",
    "    MonitoredSEIVRQ(),\n",
    "    mng_post, \n",
    "    {\n",
    "        **params_mobility_post, \n",
    "        **v_params_seivr,\n",
    "        **v_params_monitor,\n",
    "        SEIVRQ.P_QUARANTINE: 0.75\n",
    "    },\n",
    "    'v_seivrq_75_mobility_post.json',\n",
    "    'SEIVR_Q simulation with Mobility Network (Post)',\n",
    "))"
   ]
  },
  {
   "cell_type": "markdown",
   "id": "d3cb6f75",
   "metadata": {},
   "source": [
    "### Run"
   ]
  },
  {
   "cell_type": "code",
   "execution_count": 46,
   "id": "7a20c9aa",
   "metadata": {},
   "outputs": [
    {
     "name": "stdout",
     "output_type": "stream",
     "text": [
      "Start time 2021-07-30 10:13:44.076084\n",
      "v_seivrq_25_mobility_pre.json\n",
      "Experiment v_seivrq_25_mobility_pre.json done: 2021-07-30 10:20:52.628573\n",
      "v_seivrq_50_mobility_pre.json\n",
      "Experiment v_seivrq_50_mobility_pre.json done: 2021-07-30 10:27:57.855718\n",
      "v_seivrq_75_mobility_pre.json\n",
      "Experiment v_seivrq_75_mobility_pre.json done: 2021-07-30 10:34:58.882682\n",
      "v_seivrq_25_mobility_post.json\n",
      "Experiment v_seivrq_25_mobility_post.json done: 2021-07-30 10:40:13.315112\n",
      "v_seivrq_50_mobility_post.json\n",
      "Experiment v_seivrq_50_mobility_post.json done: 2021-07-30 10:45:27.119916\n",
      "v_seivrq_75_mobility_post.json\n",
      "Experiment v_seivrq_75_mobility_post.json done: 2021-07-30 10:50:37.451036\n",
      "End time 2021-07-30 10:50:38.669124\n"
     ]
    }
   ],
   "source": [
    "print(\"Start time %s\" % dt.now())\n",
    "\n",
    "\n",
    "for v in validations:\n",
    "    v()\n",
    "\n",
    "\n",
    "print(\"End time %s\" % dt.now())"
   ]
  },
  {
   "cell_type": "markdown",
   "id": "04dd6e33",
   "metadata": {},
   "source": [
    "## Transform to app-data layout (validation)\n",
    "\n",
    "Transform the validation results into the required app-data format and store\n",
    "in data repo"
   ]
  },
  {
   "cell_type": "code",
   "execution_count": 3,
   "id": "1c1d3625",
   "metadata": {},
   "outputs": [],
   "source": [
    "from lib.experiments.utils.create_app_data import main_custom_files\n",
    "from lib.experiments.utils.simulation_files import MODEL, NAME, NETWORK, MN_PRE, \\\n",
    "    PLC_PRE, DIST_PRE, MN_POST, PLC_POST, DIST_POST\n",
    "\n",
    "validation_path = 'validation'"
   ]
  },
  {
   "cell_type": "code",
   "execution_count": null,
   "id": "a2a41c3f",
   "metadata": {},
   "outputs": [],
   "source": [
    "seir_files = [\n",
    "    {MODEL: 'SEIR', NETWORK: MN_PRE, NAME: 'v_seir_mobility_pre'},\n",
    "    {MODEL: 'SEIR', NETWORK: PLC_PRE, NAME: 'v_seir_plc_pre'},\n",
    "    {MODEL: 'SEIR', NETWORK: DIST_PRE, NAME: 'v_seir_distanced_pre'},\n",
    "    \n",
    "    {MODEL: 'SEIR', NETWORK: MN_POST, NAME: 'v_seir_mobility_post'},\n",
    "    {MODEL: 'SEIR', NETWORK: PLC_POST, NAME: 'v_seir_plc_post'},\n",
    "    {MODEL: 'SEIR', NETWORK: DIST_POST, NAME: 'v_seir_distanced_post'},\n",
    "\n",
    "    {MODEL: 'SEIR_Q', NETWORK: MN_PRE, NAME: 'v_seirq_25_mobility_pre'},\n",
    "    {MODEL: 'SEIR_Q', NETWORK: MN_PRE, NAME: 'v_seirq_50_mobility_pre'},\n",
    "    {MODEL: 'SEIR_Q', NETWORK: MN_PRE, NAME: 'v_seirq_75_mobility_pre'},\n",
    "    \n",
    "    {MODEL: 'SEIR_Q', NETWORK: MN_POST, NAME: 'v_seirq_25_mobility_post'},\n",
    "    {MODEL: 'SEIR_Q', NETWORK: MN_POST, NAME: 'v_seirq_50_mobility_post'},\n",
    "    {MODEL: 'SEIR_Q', NETWORK: MN_POST, NAME: 'v_seirq_75_mobility_post'},\n",
    "]\n",
    "\n",
    "main_custom_files(seir_files, validation_path, validation_path)"
   ]
  },
  {
   "cell_type": "code",
   "execution_count": null,
   "id": "68d2e1b2",
   "metadata": {},
   "outputs": [],
   "source": [
    "seivr_files = [\n",
    "    {MODEL: 'SEIVR', NETWORK: MN_PRE, NAME: 'v_seivr_mobility_pre'},\n",
    "    {MODEL: 'SEIVR', NETWORK: MN_POST, NAME: 'v_seivr_mobility_post'},\n",
    "\n",
    "    {MODEL: 'SEIVR_Q', NETWORK: MN_PRE, NAME: 'v_seivrq_25_mobility_pre'},\n",
    "    {MODEL: 'SEIVR_Q', NETWORK: MN_PRE, NAME: 'v_seivrq_50_mobility_pre'},\n",
    "    {MODEL: 'SEIVR_Q', NETWORK: MN_PRE, NAME: 'v_seivrq_75_mobility_pre'},\n",
    "    \n",
    "    {MODEL: 'SEIVR_Q', NETWORK: MN_POST, NAME: 'v_seivrq_25_mobility_post'},\n",
    "    {MODEL: 'SEIVR_Q', NETWORK: MN_POST, NAME: 'v_seivrq_50_mobility_post'},\n",
    "    {MODEL: 'SEIVR_Q', NETWORK: MN_POST, NAME: 'v_seivrq_75_mobility_post'},\n",
    "]\n",
    "\n",
    "main_custom_files(seivr_files, validation_path, validation_path)"
   ]
  },
  {
   "cell_type": "code",
   "execution_count": null,
   "id": "c75c78df",
   "metadata": {},
   "outputs": [],
   "source": []
  }
 ],
 "metadata": {
  "kernelspec": {
   "display_name": "Python 3 (ipykernel)",
   "language": "python",
   "name": "python3"
  },
  "language_info": {
   "codemirror_mode": {
    "name": "ipython",
    "version": 3
   },
   "file_extension": ".py",
   "mimetype": "text/x-python",
   "name": "python",
   "nbconvert_exporter": "python",
   "pygments_lexer": "ipython3",
   "version": "3.9.2"
  }
 },
 "nbformat": 4,
 "nbformat_minor": 5
}