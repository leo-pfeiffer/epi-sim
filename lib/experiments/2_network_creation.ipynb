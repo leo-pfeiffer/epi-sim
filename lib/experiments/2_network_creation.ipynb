{
 "cells": [
  {
   "cell_type": "markdown",
   "id": "1f54f23f",
   "metadata": {},
   "source": [
    "# Cluster Network Creation\n",
    "\n",
    "Perform computationally expensive network analysis on a computing cluster. Results are pushed to a data repository on GitHub."
   ]
  },
  {
   "cell_type": "code",
   "execution_count": 25,
   "id": "6ea41b9e",
   "metadata": {},
   "outputs": [],
   "source": [
    "# to allow relative imports\n",
    "import os\n",
    "import sys\n",
    "\n",
    "module = os.path.abspath(os.path.join('..'))\n",
    "lib = os.path.abspath(os.path.join(module, os.pardir))\n",
    "if lib not in sys.path:\n",
    "    sys.path.append(lib)\n",
    "\n",
    "# experiment\n",
    "from epyc import Lab, JSONLabNotebook, RepeatedExperiment, ParallelLab\n",
    "from lib.experiments.utils.metrics import MetricExperiment\n",
    "\n",
    "# generators\n",
    "from epydemic import PLCNetwork\n",
    "from lib.model.network.mobility_network import MNGeneratorFromNetworkData as MNG\n",
    "from lib.model.network.distanced_network import DNGenerator as DNG\n",
    "\n",
    "# distributions\n",
    "from lib.model.distributions import discrete_trunc_normal, discrete_trunc_exponential, num_contact_dist\n",
    "\n",
    "# file utils\n",
    "from lib.experiments.utils.data_repo_api import DataRepoAPI\n",
    "from lib.experiments.utils.network_data_utils import load_network_data_from_files\n",
    "\n",
    "# other utils\n",
    "from functools import partial\n",
    "import numpy as np\n",
    "from mpmath import polylog\n",
    "from datetime import datetime as dt\n",
    "\n",
    "# multiprocessing\n",
    "from joblib import Parallel, delayed\n",
    "from multiprocessing import cpu_count"
   ]
  },
  {
   "cell_type": "code",
   "execution_count": 2,
   "id": "90a4d787",
   "metadata": {},
   "outputs": [],
   "source": [
    "# Some global parameters\n",
    "\n",
    "N = 10000\n",
    "CUTOFF = 40\n",
    "MOBILITY_EXPONENT = 2\n",
    "n_exp = 10\n",
    "\n",
    "# Experiment result output dir\n",
    "output_dir = 'experiment_results'\n",
    "if not output_dir in os.listdir():\n",
    "    os.mkdir(output_dir)\n",
    "\n",
    "# Helper functions\n",
    "def run_network_lab_experiment(generator, params, file_name, description, n=n_exp,\n",
    "                               output_dir=output_dir, push_to_repo=True):\n",
    "    \"\"\"\n",
    "    Run a MetricExperiment repeatadly using a network generator.\n",
    "    \"\"\"\n",
    "\n",
    "    print(f\"%s - Running {file_name}\" % dt.now())\n",
    "    \n",
    "    file = os.path.join(output_dir, file_name)\n",
    "    \n",
    "    nb = JSONLabNotebook(file, create=True, description=description)\n",
    "    lab = ParallelLab(notebook=nb, cores=min(cpu_count()-1, n))\n",
    "    \n",
    "    e = MetricExperiment(generator)\n",
    "\n",
    "    # pass params to the lab\n",
    "    for k, v in params.items():\n",
    "        lab[k] = v\n",
    "\n",
    "    lab.runExperiment(RepeatedExperiment(e, n))\n",
    "    \n",
    "    print(\"%s - Done.\" % dt.now())\n",
    "\n",
    "    if push_to_repo:\n",
    "        DataRepoAPI.update_or_create(\n",
    "            file_name=file_name,\n",
    "            file_path=output_dir,\n",
    "            repo_path='network-metrics'\n",
    "        )\n",
    "\n",
    "    return lab.results()\n",
    "\n",
    "def plc_mean(exponent, cutoff):\n",
    "    \"\"\"\n",
    "    Calculate theoretical mean of a power law with cutoff distribution from\n",
    "    the exponent and the cutoff.\n",
    "    \"\"\"\n",
    "    nom = polylog(exponent-1, np.exp(-1 / cutoff))\n",
    "    denom = polylog(exponent, np.exp(-1 / cutoff))\n",
    "    return nom / denom\n",
    "\n",
    "def estimate_exponent_for_mean(mean, cutoff, tolerance):\n",
    "    \"\"\"\n",
    "    Given the mean and cutoff of a power law with cutoff distribution,\n",
    "    estimate the corresponding exponent with a given tolerance.\n",
    "    \"\"\"\n",
    "    grid = np.arange(1, 5, 0.01)\n",
    "    diffs = []\n",
    "    for i in range(len(grid)):\n",
    "        diff = abs(mean - plc_mean(grid[i], cutoff))\n",
    "        if diff < tolerance:\n",
    "            return grid[i]\n",
    "        diffs.append(diff)\n",
    "    \n",
    "    return grid[diffs.index(min(diffs))]"
   ]
  },
  {
   "cell_type": "markdown",
   "id": "6a1ed773",
   "metadata": {},
   "source": [
    "### Mobility network"
   ]
  },
  {
   "cell_type": "code",
   "execution_count": 3,
   "id": "5aed8a50",
   "metadata": {},
   "outputs": [],
   "source": [
    "# Load the network data\n",
    "\n",
    "file_names = dict(\n",
    "    demographics='demographics.pkl',\n",
    "    comb_pre='comb_counts_pre.pkl',\n",
    "    comb_post='comb_counts_post.pkl',\n",
    "    trip_pre='trip_counts_pre.pkl',\n",
    "    trip_post='trip_counts_post.pkl',\n",
    ")\n",
    "\n",
    "network_data = load_network_data_from_files(file_names)\n",
    "\n",
    "network_data_pre = network_data['pre']\n",
    "network_data_post = network_data['post']"
   ]
  },
  {
   "cell_type": "code",
   "execution_count": 4,
   "id": "1b361456",
   "metadata": {},
   "outputs": [],
   "source": [
    "# Define the generator parameters\n",
    "params_mobility_pre = dict()\n",
    "params_mobility_pre[MNG.N] = N\n",
    "params_mobility_pre[MNG.EXPONENT] = MOBILITY_EXPONENT\n",
    "params_mobility_pre[MNG.CUTOFF] = CUTOFF\n",
    "params_mobility_pre[MNG.MULTIPLIER] = False\n",
    "\n",
    "params_mobility_post = dict()\n",
    "params_mobility_post[MNG.N] = N\n",
    "params_mobility_post[MNG.EXPONENT] = MOBILITY_EXPONENT\n",
    "params_mobility_post[MNG.CUTOFF] = CUTOFF\n",
    "params_mobility_post[MNG.MULTIPLIER] = True"
   ]
  },
  {
   "cell_type": "code",
   "execution_count": 5,
   "id": "f71c040b",
   "metadata": {},
   "outputs": [],
   "source": [
    "# Generator instances\n",
    "mng_pre = MNG(network_data=network_data_pre)\n",
    "mng_post = MNG(network_data=network_data_post)"
   ]
  },
  {
   "cell_type": "code",
   "execution_count": 6,
   "id": "5d409f3d",
   "metadata": {},
   "outputs": [
    {
     "name": "stdout",
     "output_type": "stream",
     "text": [
      "2021-07-15 19:49:46.492886 - Running mobility_pre.json\n",
      "2021-07-15 19:55:53.757167 - Done.\n",
      "2021-07-15 19:55:53.760562 - Running mobility_post.json\n",
      "2021-07-15 20:00:24.468130 - Done.\n"
     ]
    }
   ],
   "source": [
    "# Run experiment\n",
    "mng_pre_results = run_network_lab_experiment(\n",
    "    mng_pre, \n",
    "    params_mobility_pre, \n",
    "    'mobility_pre.json', \n",
    "    'Network metrics of Mobility pre'\n",
    ")\n",
    "\n",
    "\n",
    "mng_post_results = run_network_lab_experiment(\n",
    "    mng_post, \n",
    "    params_mobility_post, \n",
    "    'mobility_post.json', \n",
    "    'Network metrics of Mobility post'\n",
    ")"
   ]
  },
  {
   "cell_type": "code",
   "execution_count": 7,
   "id": "9294d88d",
   "metadata": {},
   "outputs": [],
   "source": [
    "def extract_mean_deg(results):\n",
    "    deg_lis = [x['results']['degrees'] for x in results]\n",
    "    return np.mean([i for s in deg_lis for i in s])\n",
    "\n",
    "# mob_deg_pre = extract_mean_deg(mng_pre_results)\n",
    "# mob_deg_post = extract_mean_deg(mng_post_results)"
   ]
  },
  {
   "cell_type": "code",
   "execution_count": null,
   "outputs": [],
   "source": [
    "# get from repo...\n",
    "distanced_pre = DataRepoAPI.get_json_file('network-metrics/distanced_pre.json')\n",
    "distanced_post = DataRepoAPI.get_json_file('network-metrics/distanced_post.json')\n",
    "\n",
    "_results_pre = distanced_pre['resultsets']['epyc.resultset.default']['results']\n",
    "_results_post = distanced_post['resultsets']['epyc.resultset.default']['results']\n",
    "\n",
    "mob_deg_pre = extract_mean_deg(_results_pre)\n",
    "mob_deg_post = extract_mean_deg(_results_post)"
   ],
   "metadata": {
    "collapsed": false,
    "pycharm": {
     "name": "#%%\n"
    }
   }
  },
  {
   "cell_type": "markdown",
   "id": "b4eb2bab",
   "metadata": {},
   "source": [
    "### PLC network"
   ]
  },
  {
   "cell_type": "markdown",
   "id": "8dac9dbe",
   "metadata": {},
   "source": [
    "We needed the results of the mng for calculating the exponent of the other experiments.. but the rest we can run in parallel to save some time..."
   ]
  },
  {
   "cell_type": "code",
   "execution_count": 8,
   "id": "23359866",
   "metadata": {},
   "outputs": [],
   "source": [
    "# List to store all the metric experiment runners\n",
    "mtrcs = list()"
   ]
  },
  {
   "cell_type": "code",
   "execution_count": 9,
   "id": "8839bcd2",
   "metadata": {},
   "outputs": [],
   "source": [
    "# Estimate the exponent for the PLC to achieve same degree\n",
    "#  as the mobility networks\n",
    "\n",
    "plc_expo_pre = estimate_exponent_for_mean(mob_deg_pre, CUTOFF, 0.01)\n",
    "plc_expo_post = estimate_exponent_for_mean(mob_deg_post, CUTOFF, 0.01)"
   ]
  },
  {
   "cell_type": "code",
   "execution_count": 10,
   "id": "04e11b87",
   "metadata": {},
   "outputs": [],
   "source": [
    "# Define the generator parameters\n",
    "params_plc_pre = dict()\n",
    "params_plc_pre[PLCNetwork.N] = N\n",
    "params_plc_pre[PLCNetwork.EXPONENT] = plc_expo_pre\n",
    "params_plc_pre[PLCNetwork.CUTOFF] = CUTOFF\n",
    "\n",
    "params_plc_post = dict()\n",
    "params_plc_post[PLCNetwork.N] = N\n",
    "params_plc_post[PLCNetwork.EXPONENT] = plc_expo_post\n",
    "params_plc_post[PLCNetwork.CUTOFF] = CUTOFF"
   ]
  },
  {
   "cell_type": "code",
   "execution_count": 11,
   "id": "d8d2fe50",
   "metadata": {},
   "outputs": [],
   "source": [
    "plc_pre = PLCNetwork()\n",
    "plc_post = PLCNetwork()"
   ]
  },
  {
   "cell_type": "code",
   "execution_count": 12,
   "id": "490d43ad",
   "metadata": {},
   "outputs": [],
   "source": [
    "mtrcs.append(lambda: run_network_lab_experiment(\n",
    "    plc_pre, \n",
    "    params_plc_pre, \n",
    "    'plc_pre.json', \n",
    "    'Network metrics of PLC pre'\n",
    "))\n",
    "\n",
    "mtrcs.append(lambda: run_network_lab_experiment(\n",
    "    plc_post, \n",
    "    params_plc_post, \n",
    "    'plc_post.json', \n",
    "    'Network metrics of PLC post'\n",
    "))"
   ]
  },
  {
   "cell_type": "markdown",
   "id": "b0af7dfe",
   "metadata": {},
   "source": [
    "### Distanced network"
   ]
  },
  {
   "cell_type": "code",
   "execution_count": 13,
   "id": "760da963",
   "metadata": {},
   "outputs": [],
   "source": [
    "household_size_dist = partial(discrete_trunc_normal, mu=4.5, std=2)\n",
    "\n",
    "params_distanced_pre = dict()\n",
    "params_distanced_pre[DNG.N] = N\n",
    "\n",
    "params_distanced_post = dict()\n",
    "params_distanced_post[DNG.N] = N"
   ]
  },
  {
   "cell_type": "code",
   "execution_count": 14,
   "id": "8e57b8a8",
   "metadata": {},
   "outputs": [],
   "source": [
    "distanced_pre = DNG(\n",
    "    household_size_dist=household_size_dist,\n",
    "    num_contact_dist=num_contact_dist,\n",
    "    num_outside_edge_dist=partial(discrete_trunc_exponential, exponent=mob_deg_pre)\n",
    ")\n",
    "\n",
    "distanced_post = DNG(\n",
    "    household_size_dist=household_size_dist,\n",
    "    num_contact_dist=num_contact_dist,\n",
    "    num_outside_edge_dist=partial(discrete_trunc_exponential, exponent=mob_deg_post)\n",
    ")"
   ]
  },
  {
   "cell_type": "code",
   "execution_count": 15,
   "id": "f8f49354",
   "metadata": {},
   "outputs": [],
   "source": [
    "mtrcs.append(lambda: run_network_lab_experiment(\n",
    "    distanced_pre, \n",
    "    params_distanced_pre, \n",
    "    'distanced_pre.json', \n",
    "    'Network metrics of PLC pre'\n",
    "))\n",
    "\n",
    "mtrcs.append(lambda: run_network_lab_experiment(\n",
    "    distanced_post, \n",
    "    params_distanced_post, \n",
    "    'distanced_post.json', \n",
    "    'Network metrics of PLC post'\n",
    "))"
   ]
  },
  {
   "cell_type": "code",
   "execution_count": 22,
   "id": "fdbf853a",
   "metadata": {},
   "outputs": [
    {
     "name": "stdout",
     "output_type": "stream",
     "text": [
      "Done\n",
      "Done\n",
      "Done\n",
      "Done\n",
      "CPU times: user 25.9 ms, sys: 5.08 ms, total: 31 ms\n",
      "Wall time: 3min 42s\n"
     ]
    }
   ],
   "source": [
    "# %%time\n",
    "# num_cores = min(len(mtrcs), cpu_count()-1)\n",
    "# with Parallel(n_jobs=num_cores) as processes:\n",
    "#     procs = processes(delayed(e)() for e in mtrcs)\n",
    "\n",
    "for mtrc in mtrcs:\n",
    "    print(\"Start time: %s\" % dt.now())\n",
    "    mtrc()\n",
    "    print(\"End time: %s\" % dt.now())"
   ]
  },
  {
   "cell_type": "markdown",
   "id": "69b3690d",
   "metadata": {},
   "source": [
    "# Epidemic models"
   ]
  },
  {
   "cell_type": "code",
   "execution_count": 254,
   "id": "bff9b1c2",
   "metadata": {},
   "outputs": [],
   "source": [
    "# List to store all the experiment runners\n",
    "expms = list()"
   ]
  },
  {
   "cell_type": "code",
   "execution_count": 255,
   "id": "c048f8d4",
   "metadata": {},
   "outputs": [],
   "source": [
    "# Import models etc\n",
    "from epydemic import SEIR\n",
    "from lib.model.compartmental_model.seir import MonitoredSEIR\n",
    "from lib.model.compartmental_model.seir import SEIRWithQuarantine as SEIRQ\n",
    "from lib.model.compartmental_model.seir import MonitoredSEIRWithQuarantine as MonitoredSEIRQ\n",
    "from lib.model.compartmental_model.seivr import SEIVR, MonitoredSEIVR\n",
    "from lib.model.compartmental_model.seivr import SEIVRWithQuarantine as SEIVRQ\n",
    "from lib.model.compartmental_model.seivr import MonitoredSEIVRWithQuarantine as MonitoredSEIVRQ\n",
    "\n",
    "from epydemic import StochasticDynamics, Monitor\n",
    "\n",
    "from lib.model.distributions import PowerLawCutoffDist as PLCD"
   ]
  },
  {
   "cell_type": "code",
   "execution_count": 256,
   "id": "2ce50bd7",
   "metadata": {},
   "outputs": [],
   "source": [
    "# Helper functions\n",
    "\n",
    "def calc_p_infect(r0, p_remove, k_mean, k_var):\n",
    "    \"\"\"\n",
    "    Calc p_infect.\n",
    "    :param r0: basic reproduction number\n",
    "    :param p_remove: probability of removal\n",
    "    :param k_mean: Mean of node degree distribution\n",
    "    :param k_var: Variance of node degree distribution\n",
    "    :return: p_infect\n",
    "    \"\"\"\n",
    "    return float(p_remove * r0 * (k_mean / (k_var - k_mean)))\n",
    "\n",
    "\n",
    "def run_stochastic_dynamics_lab(model, generator, params, \n",
    "                                file_name, description, n=n_exp,\n",
    "                                output_dir=output_dir, push_to_repo=True,\n",
    "                                T_max=300):\n",
    "    \"\"\"\n",
    "    Run a StochasticDynamics experiment repeatadly in a lab.\n",
    "    \"\"\"\n",
    "\n",
    "    file = os.path.join(output_dir, file_name)\n",
    "    \n",
    "    nb = JSONLabNotebook(file, create=True, description=description)\n",
    "    lab = ParallelLab(notebook=nb, cores=min(cpu_count()-1, n))\n",
    "    \n",
    "    e = StochasticDynamics(model, generator)\n",
    "    e.process().setMaximumTime(T_max)\n",
    "\n",
    "    # pass params to the lab\n",
    "    for k, v in params.items():\n",
    "        lab[k] = v\n",
    "\n",
    "    lab.runExperiment(RepeatedExperiment(e, n))\n",
    "    \n",
    "    if push_to_repo:\n",
    "        DataRepoAPI.update_or_create(\n",
    "            file_name=file_name,\n",
    "            file_path=output_dir,\n",
    "            repo_path='simulations'\n",
    "        )\n",
    "    \n",
    "    return lab.results()"
   ]
  },
  {
   "cell_type": "markdown",
   "id": "6a881444",
   "metadata": {},
   "source": [
    "## Parameters\n",
    "\n",
    "We will fix as many COVID-19 specific parameters as we can and leave only policy dependent parameters open for modifications.\n",
    "\n",
    "We set the following parameters\n",
    "\n",
    "| Variable | Value | Description | Reference |\n",
    "| :-- | --: | :-- | :-- |\n",
    "| R0 | $2.85$ | Basic Reproduction Number | 1) |\n",
    "| P_INFECT | ... | P. of infection | ... |\n",
    "| P_REMOVE | $0.1$ | P. of removal | 2) |\n",
    "| P_SYMPTOPMS | $0.2$ | P. of becoming symptomatic | 3) |\n",
    "| P_EXPOSED | $0.01$ | P. of initial infection | ... |\n",
    "| RRR | $0.95$, $0.67$ | Vaccine efficacy | 4), 5), 6) |\n",
    "| P_VACCINATED | $10^{-3}$ to $10^{-2}$ by $10^{-3}$| P. getting vaccinated | ... |\n",
    "| P_VACCINATED_INITIAL | $0$ to $1$ by $0.1$ | P. of initial vaccination | ... |\n",
    "| P_QUARANTINE | $0$ to $1$ by $0.1$ | P. of rewiring | ... |\n",
    "\n",
    "\n",
    "1) https://journals.plos.org/plosone/article?id=10.1371/journal.pone.0249271\n",
    "\n",
    "2) https://www.thelancet.com/journals/lanmic/article/PIIS2666-5247(20)30172-5/fulltext\n",
    "\n",
    "3) https://doi.org/10.3389/fpubh.2020.598547\n",
    "\n",
    "4) https://www.nejm.org/doi/full/10.1056/NEJMoa2034577\n",
    "\n",
    "5) https://www.nejm.org/doi/full/10.1056/nejmoa2035389\n",
    "\n",
    "6) https://www.sciencedirect.com/science/article/pii/S0140673620326611"
   ]
  },
  {
   "cell_type": "code",
   "execution_count": 257,
   "id": "64bac485",
   "metadata": {},
   "outputs": [],
   "source": [
    "# Fixed\n",
    "R0 = 2.85\n",
    "_P_INFECT = None  # to calculate later \n",
    "P_REMOVE = 0.1\n",
    "P_SYMPTOMS = 0.2\n",
    "P_EXPOSED = 0.01\n",
    "\n",
    "_RRR = np.arange(0.5, 1, 0.15)\n",
    "\n",
    "# Free\n",
    "_P_VACCINATED = np.arange(0.001, 0.011, 0.003)\n",
    "_P_VACCINATED_INITAL = np.arange(0, 1.1, 0.2)\n",
    "_P_QUARANTINE = np.arange(0, 1.1, 0.25)"
   ]
  },
  {
   "cell_type": "code",
   "execution_count": 258,
   "id": "f9f6560f",
   "metadata": {},
   "outputs": [],
   "source": [
    "# Fix parameters as far as possible\n",
    "\n",
    "params_seir = dict()\n",
    "params_seir[SEIR.P_SYMPTOMS] = P_SYMPTOMS\n",
    "params_seir[SEIR.P_REMOVE] = P_REMOVE\n",
    "params_seir[SEIR.P_EXPOSED] = P_EXPOSED\n",
    "\n",
    "params_seivr = dict()\n",
    "params_seivr[SEIVR.P_SYMPTOMS] = P_SYMPTOMS\n",
    "params_seivr[SEIVR.P_REMOVE] = P_REMOVE\n",
    "params_seivr[SEIVR.P_EXPOSED] = P_EXPOSED\n",
    "\n",
    "params_monitor = dict()\n",
    "params_monitor[Monitor.DELTA] = 10"
   ]
  },
  {
   "cell_type": "code",
   "execution_count": 259,
   "id": "697addfd",
   "metadata": {},
   "outputs": [],
   "source": [
    "# Calculate P_INFECT\n",
    "\n",
    "# Mobility\n",
    "plcd = PLCD(MOBILITY_EXPONENT, CUTOFF)\n",
    "P_INFECT_MOBILITY = calc_p_infect(R0, P_REMOVE, plcd.mean, plcd.var)\n",
    "\n",
    "# PLC\n",
    "plcd = PLCD(plc_expo_pre, CUTOFF)\n",
    "P_INFECT_PLC = calc_p_infect(R0, P_REMOVE, plcd.mean, plcd.var)\n",
    "\n",
    "# Distanced\n",
    "mean = mob_deg_pre\n",
    "var = mean ** 2\n",
    "P_INFECT_DISTANCED = calc_p_infect(R0, P_REMOVE, mean, var)\n",
    "\n",
    "# clean up\n",
    "del mean, var, plcd"
   ]
  },
  {
   "cell_type": "markdown",
   "id": "54f6056c",
   "metadata": {},
   "source": [
    "### SEIR & SEIR_Q"
   ]
  },
  {
   "cell_type": "markdown",
   "id": "2ce7cf4b",
   "metadata": {},
   "source": [
    "#### SEIR on Mobility"
   ]
  },
  {
   "cell_type": "code",
   "execution_count": 146,
   "id": "2732e78e",
   "metadata": {},
   "outputs": [],
   "source": [
    "# params\n",
    "params_pre1   = {**params_mobility_pre, **params_seir, **params_monitor}\n",
    "params_pre1[SEIR.P_INFECT_SYMPTOMATIC] = P_INFECT_MOBILITY\n",
    "params_pre1[SEIR.P_INFECT_ASYMPTOMATIC] = P_INFECT_MOBILITY / 2\n",
    "\n",
    "params_post1 = {**params_mobility_post, **params_seir, **params_monitor}\n",
    "params_post1[SEIR.P_INFECT_SYMPTOMATIC] = P_INFECT_MOBILITY\n",
    "params_post1[SEIR.P_INFECT_ASYMPTOMATIC] = P_INFECT_MOBILITY / 2"
   ]
  },
  {
   "cell_type": "code",
   "execution_count": 147,
   "id": "d84380da",
   "metadata": {},
   "outputs": [],
   "source": [
    "expms.append(lambda: run_stochastic_dynamics_lab(\n",
    "    MonitoredSEIR(),\n",
    "    mng_pre, \n",
    "    params_pre1, \n",
    "    'seir_mobility_pre.json',\n",
    "    'SEIR simulation with Mobility Network (Pre)',\n",
    "))\n",
    "\n",
    "expms.append(lambda: run_stochastic_dynamics_lab(\n",
    "    MonitoredSEIR(), \n",
    "    mng_post, \n",
    "    params_post1, \n",
    "    'seir_mobility_post.json',\n",
    "    'SEIR simulation with Mobility Network (Post)'\n",
    "))"
   ]
  },
  {
   "cell_type": "markdown",
   "id": "f1484efb",
   "metadata": {},
   "source": [
    "#### SEIR_Q on Mobility"
   ]
  },
  {
   "cell_type": "code",
   "execution_count": 148,
   "id": "6e3ffdb6",
   "metadata": {},
   "outputs": [],
   "source": [
    "params_pre2 = {**params_mobility_pre, **params_seir, **params_monitor}\n",
    "params_pre2[SEIRQ.P_INFECT_SYMPTOMATIC] = P_INFECT_MOBILITY\n",
    "params_pre2[SEIRQ.P_INFECT_ASYMPTOMATIC] = P_INFECT_MOBILITY / 2\n",
    "params_pre2[SEIRQ.P_QUARANTINE] = _P_QUARANTINE\n",
    "\n",
    "params_post2 = {**params_mobility_post, **params_seir, **params_monitor}\n",
    "params_post2[SEIRQ.P_INFECT_SYMPTOMATIC] = P_INFECT_MOBILITY\n",
    "params_post2[SEIRQ.P_INFECT_ASYMPTOMATIC] = P_INFECT_MOBILITY / 2\n",
    "params_post2[SEIRQ.P_QUARANTINE] = _P_QUARANTINE"
   ]
  },
  {
   "cell_type": "code",
   "execution_count": 149,
   "id": "d8a33a62",
   "metadata": {},
   "outputs": [],
   "source": [
    "expms.append(lambda: run_stochastic_dynamics_lab(\n",
    "    MonitoredSEIRQ(), \n",
    "    mng_pre, \n",
    "    params_pre2, \n",
    "    'seirq_mobility_pre.json',\n",
    "    'SEIR_Q simulation with Mobility Network (Pre)',\n",
    "))\n",
    "\n",
    "expms.append(lambda: run_stochastic_dynamics_lab(\n",
    "    MonitoredSEIRQ(), \n",
    "    mng_post, \n",
    "    params_post2, \n",
    "    'seirq_mobility_post.json',\n",
    "    'SEIR_Q simulation with Mobility Network (Post)'\n",
    "))"
   ]
  },
  {
   "cell_type": "markdown",
   "id": "e5a36e0d",
   "metadata": {},
   "source": [
    "#### SEIR on PLC"
   ]
  },
  {
   "cell_type": "code",
   "execution_count": 150,
   "id": "f447b346",
   "metadata": {},
   "outputs": [],
   "source": [
    "params_pre3 = {**params_plc_pre, **params_seir, **params_monitor}\n",
    "params_pre3[SEIR.P_INFECT_SYMPTOMATIC] = P_INFECT_PLC\n",
    "params_pre3[SEIR.P_INFECT_ASYMPTOMATIC] = P_INFECT_PLC / 2\n",
    "\n",
    "params_post3 = {**params_plc_post, **params_seir, **params_monitor}\n",
    "params_post3[SEIR.P_INFECT_SYMPTOMATIC] = P_INFECT_PLC\n",
    "params_post3[SEIR.P_INFECT_ASYMPTOMATIC] = P_INFECT_PLC / 2"
   ]
  },
  {
   "cell_type": "code",
   "execution_count": 151,
   "id": "8d2bb945",
   "metadata": {},
   "outputs": [],
   "source": [
    "expms.append(lambda: run_stochastic_dynamics_lab(\n",
    "    MonitoredSEIR(), \n",
    "    PLCNetwork(), \n",
    "    params_pre3, \n",
    "    'seir_plc_pre.json',\n",
    "    'SEIR simulation with PLC Network (Pre)',\n",
    "))\n",
    "\n",
    "expms.append(lambda: run_stochastic_dynamics_lab(\n",
    "    MonitoredSEIR(), \n",
    "    PLCNetwork(), \n",
    "    params_post3, \n",
    "    'seir_plc_post.json',\n",
    "    'SEIR simulation with PLC Network (Post)'\n",
    "))"
   ]
  },
  {
   "cell_type": "markdown",
   "id": "7efff04d",
   "metadata": {},
   "source": [
    "#### SEIR_Q on PLC"
   ]
  },
  {
   "cell_type": "code",
   "execution_count": 152,
   "id": "cebab55c",
   "metadata": {},
   "outputs": [],
   "source": [
    "params_pre4 = {**params_plc_pre, **params_seir, **params_monitor}\n",
    "params_pre4[SEIRQ.P_INFECT_SYMPTOMATIC] = P_INFECT_PLC\n",
    "params_pre4[SEIRQ.P_INFECT_ASYMPTOMATIC] = P_INFECT_PLC / 2\n",
    "params_pre4[SEIRQ.P_QUARANTINE] = _P_QUARANTINE\n",
    "\n",
    "params_post4 = {**params_plc_post, **params_seir, **params_monitor}\n",
    "params_post4[SEIRQ.P_INFECT_SYMPTOMATIC] = P_INFECT_PLC\n",
    "params_post4[SEIRQ.P_INFECT_ASYMPTOMATIC] = P_INFECT_PLC / 2\n",
    "params_post4[SEIRQ.P_QUARANTINE] = _P_QUARANTINE"
   ]
  },
  {
   "cell_type": "code",
   "execution_count": 153,
   "id": "44098c21",
   "metadata": {},
   "outputs": [],
   "source": [
    "expms.append(lambda: run_stochastic_dynamics_lab(\n",
    "    MonitoredSEIRQ(), \n",
    "    PLCNetwork(), \n",
    "    params_pre4, \n",
    "    'seirq_plc_pre.json',\n",
    "    'SEIR_Q simulation with PLC Network (Pre)',\n",
    "))\n",
    "\n",
    "expms.append(lambda: run_stochastic_dynamics_lab(\n",
    "    MonitoredSEIRQ(), \n",
    "    PLCNetwork(), \n",
    "    params_post4, \n",
    "    'seirq_plc_post.json',\n",
    "    'SEIR_Q simulation with PLC Network (Post)'\n",
    "))"
   ]
  },
  {
   "cell_type": "markdown",
   "id": "6b1edcfc",
   "metadata": {},
   "source": [
    "#### SEIR on Distanced"
   ]
  },
  {
   "cell_type": "code",
   "execution_count": 154,
   "id": "7c6c9859",
   "metadata": {},
   "outputs": [],
   "source": [
    "params_pre5 = {**params_distanced_pre, **params_seir, **params_monitor}\n",
    "params_pre5[SEIR.P_INFECT_SYMPTOMATIC] = P_INFECT_DISTANCED\n",
    "params_pre5[SEIR.P_INFECT_ASYMPTOMATIC] = P_INFECT_DISTANCED / 2\n",
    "\n",
    "params_post5 = {**params_distanced_post, **params_seir, **params_monitor}\n",
    "params_post5[SEIR.P_INFECT_SYMPTOMATIC] = P_INFECT_DISTANCED\n",
    "params_post5[SEIR.P_INFECT_ASYMPTOMATIC] = P_INFECT_DISTANCED / 2"
   ]
  },
  {
   "cell_type": "code",
   "execution_count": 155,
   "id": "7e6578a9",
   "metadata": {},
   "outputs": [],
   "source": [
    "expms.append(lambda: run_stochastic_dynamics_lab(\n",
    "    MonitoredSEIR(), \n",
    "    distanced_pre, \n",
    "    params_pre5, \n",
    "    'seir_distanced_pre.json',\n",
    "    'SEIR simulation with Distanced Network (Pre)',\n",
    "))\n",
    "\n",
    "expms.append(lambda: run_stochastic_dynamics_lab(\n",
    "    MonitoredSEIR(), \n",
    "    distanced_post, \n",
    "    params_post5, \n",
    "    'seir_distanced_post.json',\n",
    "    'SEIR simulation with Distanced Network (Post)'\n",
    "))"
   ]
  },
  {
   "cell_type": "markdown",
   "id": "d5f86ba7",
   "metadata": {},
   "source": [
    "#### SEIR_Q on Distanced"
   ]
  },
  {
   "cell_type": "code",
   "execution_count": 156,
   "id": "9aae05f5",
   "metadata": {},
   "outputs": [],
   "source": [
    "params_pre6 = {**params_distanced_pre, **params_seir, **params_monitor}\n",
    "params_pre6[SEIRQ.P_INFECT_SYMPTOMATIC] = P_INFECT_DISTANCED\n",
    "params_pre6[SEIRQ.P_INFECT_ASYMPTOMATIC] = P_INFECT_DISTANCED / 2\n",
    "params_pre6[SEIRQ.P_QUARANTINE] = _P_QUARANTINE\n",
    "\n",
    "params_post6 = {**params_distanced_post, **params_seir, **params_monitor}\n",
    "params_post6[SEIRQ.P_INFECT_SYMPTOMATIC] = P_INFECT_DISTANCED\n",
    "params_post6[SEIRQ.P_INFECT_ASYMPTOMATIC] = P_INFECT_DISTANCED / 2\n",
    "params_post6[SEIRQ.P_QUARANTINE] = _P_QUARANTINE"
   ]
  },
  {
   "cell_type": "code",
   "execution_count": 157,
   "id": "5d87f56e",
   "metadata": {},
   "outputs": [],
   "source": [
    "expms.append(lambda: run_stochastic_dynamics_lab(\n",
    "    MonitoredSEIRQ(), \n",
    "    distanced_pre, \n",
    "    params_pre6, \n",
    "    'seirq_distanced_pre.json',\n",
    "    'SEIR_Q simulation with Distanced Network (Pre)',\n",
    "))\n",
    "\n",
    "expms.append(lambda: run_stochastic_dynamics_lab(\n",
    "    MonitoredSEIRQ(), \n",
    "    distanced_post, \n",
    "    params_post6, \n",
    "    'seirq_distanced_post.json',\n",
    "    'SEIR_Q simulation with Distanced Network (Post)'\n",
    "))"
   ]
  },
  {
   "cell_type": "markdown",
   "id": "37c5722d",
   "metadata": {},
   "source": [
    "### SEIVR & SEIVR_Q"
   ]
  },
  {
   "cell_type": "markdown",
   "id": "7344b9f9",
   "metadata": {},
   "source": [
    "#### SEIVR on Mobility"
   ]
  },
  {
   "cell_type": "code",
   "execution_count": 260,
   "id": "194c1295",
   "metadata": {},
   "outputs": [],
   "source": [
    "params_pre7 = {**params_mobility_pre, **params_seivr, **params_monitor}\n",
    "params_pre7[SEIVR.P_INFECT_SYMPTOMATIC] = P_INFECT_MOBILITY\n",
    "params_pre7[SEIVR.P_INFECT_ASYMPTOMATIC] = P_INFECT_MOBILITY / 2\n",
    "params_pre7[SEIVR.P_VACCINATED] = _P_VACCINATED\n",
    "params_pre7[SEIVR.P_VACCINATED_INITIAL] = _P_VACCINATED_INITAL\n",
    "params_pre7[SEIVR.VACCINE_RRR] = _RRR\n",
    "\n",
    "params_post7 = {**params_mobility_post, **params_seivr, **params_monitor}\n",
    "params_post7[SEIVR.P_INFECT_SYMPTOMATIC] = P_INFECT_MOBILITY\n",
    "params_post7[SEIVR.P_INFECT_ASYMPTOMATIC] = P_INFECT_MOBILITY / 2\n",
    "params_post7[SEIVR.P_VACCINATED] = _P_VACCINATED\n",
    "params_post7[SEIVR.P_VACCINATED_INITIAL] = _P_VACCINATED_INITAL\n",
    "params_post7[SEIVR.VACCINE_RRR] = _RRR"
   ]
  },
  {
   "cell_type": "code",
   "execution_count": 261,
   "id": "ec072e5f",
   "metadata": {},
   "outputs": [],
   "source": [
    "expms.append(lambda: run_stochastic_dynamics_lab(\n",
    "    MonitoredSEIVR(), \n",
    "    mng_pre, \n",
    "    params_pre7, \n",
    "    'seivr_mobility_pre.json',\n",
    "    'SEIVR simulation with Mobility Network (Pre)',\n",
    "))"
   ]
  },
  {
   "cell_type": "code",
   "execution_count": null,
   "id": "d0497dcd",
   "metadata": {},
   "outputs": [],
   "source": [
    "expms.append(lambda: run_stochastic_dynamics_lab(\n",
    "    MonitoredSEIVR(), \n",
    "    mng_post, \n",
    "    params_post7, \n",
    "    'seivr_mobility_post.json',\n",
    "    'SEIVR simulation with Mobility Network (Post)'\n",
    "))"
   ]
  },
  {
   "cell_type": "markdown",
   "id": "5f40e7f5",
   "metadata": {},
   "source": [
    "#### SEIVR_Q on Mobility"
   ]
  },
  {
   "cell_type": "code",
   "execution_count": 246,
   "id": "2d38c864",
   "metadata": {},
   "outputs": [],
   "source": [
    "params_pre8 = {**params_mobility_pre, **params_seivr, **params_monitor}\n",
    "params_pre8[SEIVRQ.P_INFECT_SYMPTOMATIC] = P_INFECT_MOBILITY\n",
    "params_pre8[SEIVRQ.P_INFECT_ASYMPTOMATIC] = P_INFECT_MOBILITY / 2\n",
    "params_pre8[SEIVRQ.P_VACCINATED] = _P_VACCINATED\n",
    "params_pre8[SEIVRQ.P_VACCINATED_INITIAL] = _P_VACCINATED_INITAL\n",
    "params_pre8[SEIVRQ.VACCINE_RRR] = _RRR\n",
    "params_pre8[SEIVRQ.P_QUARANTINE] = _P_QUARANTINE\n",
    "\n",
    "params_post8 = {**params_mobility_post, **params_seivr, **params_monitor}\n",
    "params_post8[SEIVRQ.P_INFECT_SYMPTOMATIC] = P_INFECT_MOBILITY\n",
    "params_post8[SEIVRQ.P_INFECT_ASYMPTOMATIC] = P_INFECT_MOBILITY / 2\n",
    "params_post8[SEIVRQ.P_VACCINATED] = _P_VACCINATED\n",
    "params_post8[SEIVRQ.P_VACCINATED_INITIAL] = _P_VACCINATED_INITAL\n",
    "params_post8[SEIVRQ.VACCINE_RRR] = _RRR\n",
    "params_post8[SEIVRQ.P_QUARANTINE] = _P_QUARANTINE"
   ]
  },
  {
   "cell_type": "code",
   "execution_count": 247,
   "id": "0c275cdf",
   "metadata": {},
   "outputs": [],
   "source": [
    "expms.append(lambda: run_stochastic_dynamics_lab(\n",
    "    MonitoredSEIVRQ(), \n",
    "    mng_pre, \n",
    "    params_pre8, \n",
    "    'seivrq_mobility_pre.json',\n",
    "    'SEIVR_Q simulation with Mobility Network (Pre)',\n",
    "))\n",
    "\n",
    "expms.append(lambda: run_stochastic_dynamics_lab(\n",
    "    MonitoredSEIVRQ(), \n",
    "    mng_post, \n",
    "    params_post8, \n",
    "    'seivrq_mobility_post.json',\n",
    "    'SEIVR_Q simulation with Mobility Network (Post)'\n",
    "))"
   ]
  },
  {
   "cell_type": "markdown",
   "id": "05695a79",
   "metadata": {},
   "source": [
    "#### SEIVR on PLC"
   ]
  },
  {
   "cell_type": "code",
   "execution_count": 212,
   "id": "94e60e3d",
   "metadata": {},
   "outputs": [],
   "source": [
    "params_pre9 = {**params_plc_pre, **params_seivr, **params_monitor}\n",
    "params_pre9[SEIVR.P_INFECT_SYMPTOMATIC] = P_INFECT_PLC\n",
    "params_pre9[SEIVR.P_INFECT_ASYMPTOMATIC] = P_INFECT_PLC / 2\n",
    "params_pre9[SEIVR.P_VACCINATED] = _P_VACCINATED\n",
    "params_pre9[SEIVR.P_VACCINATED_INITIAL] = _P_VACCINATED_INITAL\n",
    "params_pre9[SEIVR.VACCINE_RRR] = _RRR\n",
    "\n",
    "params_post9 = {**params_plc_post, **params_seivr, **params_monitor}\n",
    "params_post9[SEIVR.P_INFECT_SYMPTOMATIC] = P_INFECT_PLC\n",
    "params_post9[SEIVR.P_INFECT_ASYMPTOMATIC] = P_INFECT_PLC / 2\n",
    "params_post9[SEIVR.P_VACCINATED] = _P_VACCINATED\n",
    "params_post9[SEIVR.P_VACCINATED_INITIAL] = _P_VACCINATED_INITAL\n",
    "params_post9[SEIVR.VACCINE_RRR] = _RRR"
   ]
  },
  {
   "cell_type": "code",
   "execution_count": 213,
   "id": "c584e045",
   "metadata": {},
   "outputs": [],
   "source": [
    "expms.append(lambda: run_stochastic_dynamics_lab(\n",
    "    MonitoredSEIVR(), \n",
    "    PLCNetwork(), \n",
    "    params_pre9, \n",
    "    'seivr_plc_pre.json',\n",
    "    'SEIVR simulation with PLC Network (Pre)',\n",
    "))\n",
    "\n",
    "expms.append(lambda: run_stochastic_dynamics_lab(\n",
    "    MonitoredSEIVR(), \n",
    "    PLCNetwork(), \n",
    "    params_post9, \n",
    "    'seivr_plc_post.json',\n",
    "    'SEIVR simulation with PLC Network (Post)'\n",
    "))"
   ]
  },
  {
   "cell_type": "markdown",
   "id": "46941230",
   "metadata": {},
   "source": [
    "#### SEIVR_Q on PLC"
   ]
  },
  {
   "cell_type": "code",
   "execution_count": 248,
   "id": "7174b8f9",
   "metadata": {},
   "outputs": [],
   "source": [
    "params_pre10 = {**params_plc_pre, **params_seivr, **params_monitor}\n",
    "params_pre10[SEIVRQ.P_INFECT_SYMPTOMATIC] = P_INFECT_PLC\n",
    "params_pre10[SEIVRQ.P_INFECT_ASYMPTOMATIC] = P_INFECT_PLC / 2\n",
    "params_pre10[SEIVRQ.P_VACCINATED] = _P_VACCINATED\n",
    "params_pre10[SEIVRQ.P_VACCINATED_INITIAL] = _P_VACCINATED_INITAL\n",
    "params_pre10[SEIVRQ.VACCINE_RRR] = _RRR\n",
    "params_pre10[SEIVRQ.P_QUARANTINE] = _P_QUARANTINE\n",
    "\n",
    "params_post10 = {**params_plc_post, **params_seivr, **params_monitor}\n",
    "params_post10[SEIVRQ.P_INFECT_SYMPTOMATIC] = P_INFECT_PLC\n",
    "params_post10[SEIVRQ.P_INFECT_ASYMPTOMATIC] = P_INFECT_PLC / 2\n",
    "params_post10[SEIVRQ.P_VACCINATED] = _P_VACCINATED\n",
    "params_post10[SEIVRQ.P_VACCINATED_INITIAL] = _P_VACCINATED_INITAL\n",
    "params_post10[SEIVRQ.VACCINE_RRR] = _RRR\n",
    "params_post10[SEIVRQ.P_QUARANTINE] = _P_QUARANTINE"
   ]
  },
  {
   "cell_type": "code",
   "execution_count": 249,
   "id": "45c83ddd",
   "metadata": {},
   "outputs": [],
   "source": [
    "expms.append(lambda: run_stochastic_dynamics_lab(\n",
    "    MonitoredSEIVRQ(), \n",
    "    PLCNetwork(), \n",
    "    params_pre10, \n",
    "    'seivrq_plc_pre.json',\n",
    "    'SEIVR_Q simulation with PLC Network (Pre)',\n",
    "))\n",
    "\n",
    "expms.append(lambda: run_stochastic_dynamics_lab(\n",
    "    MonitoredSEIVRQ(), \n",
    "    PLCNetwork(), \n",
    "    params_post10, \n",
    "    'seivrq_plc_post.json',\n",
    "    'SEIVR_Q simulation with PLC Network (Post)'\n",
    "))"
   ]
  },
  {
   "cell_type": "markdown",
   "id": "d2bc8124",
   "metadata": {},
   "source": [
    "#### SEIVR on Distanced"
   ]
  },
  {
   "cell_type": "code",
   "execution_count": 216,
   "id": "c9b4218a",
   "metadata": {},
   "outputs": [],
   "source": [
    "params_pre11 = {**params_distanced_pre, **params_seivr, **params_monitor}\n",
    "params_pre11[SEIVR.P_INFECT_SYMPTOMATIC] = P_INFECT_DISTANCED\n",
    "params_pre11[SEIVR.P_INFECT_ASYMPTOMATIC] = P_INFECT_DISTANCED / 2\n",
    "params_pre11[SEIVR.P_VACCINATED] = _P_VACCINATED\n",
    "params_pre11[SEIVR.P_VACCINATED_INITIAL] = _P_VACCINATED_INITAL\n",
    "params_pre11[SEIVR.VACCINE_RRR] = _RRR\n",
    "\n",
    "params_post11 = {**params_distanced_post, **params_seivr, **params_monitor}\n",
    "params_post11[SEIVR.P_INFECT_SYMPTOMATIC] = P_INFECT_DISTANCED\n",
    "params_post11[SEIVR.P_INFECT_ASYMPTOMATIC] = P_INFECT_DISTANCED / 2\n",
    "params_post11[SEIVR.P_VACCINATED] = _P_VACCINATED\n",
    "params_post11[SEIVR.P_VACCINATED_INITIAL] = _P_VACCINATED_INITAL\n",
    "params_post11[SEIVR.VACCINE_RRR] = _RRR"
   ]
  },
  {
   "cell_type": "code",
   "execution_count": 217,
   "id": "a42efe1a",
   "metadata": {},
   "outputs": [],
   "source": [
    "expms.append(lambda: run_stochastic_dynamics_lab(\n",
    "    MonitoredSEIVR(), \n",
    "    distanced_pre, \n",
    "    params_pre11, \n",
    "    'seivr_distanced_pre.json',\n",
    "    'SEIVR simulation with Distanced Network (Pre)',\n",
    "))\n",
    "\n",
    "expms.append(lambda: run_stochastic_dynamics_lab(\n",
    "    MonitoredSEIVR(), \n",
    "    distanced_post, \n",
    "    params_post11, \n",
    "    'seivr_distanced_post.json',\n",
    "    'SEIVR simulation with Distanced Network (Post)'\n",
    "))"
   ]
  },
  {
   "cell_type": "markdown",
   "id": "4bc54beb",
   "metadata": {},
   "source": [
    "#### SEIVR_Q on Distanced"
   ]
  },
  {
   "cell_type": "code",
   "execution_count": 236,
   "id": "ea271c84",
   "metadata": {},
   "outputs": [],
   "source": [
    "params_pre12 = {**params_distanced_pre, **params_seivr, **params_monitor}\n",
    "params_pre12[SEIVRQ.P_INFECT_SYMPTOMATIC] = P_INFECT_DISTANCED\n",
    "params_pre12[SEIVRQ.P_INFECT_ASYMPTOMATIC] = P_INFECT_DISTANCED / 2\n",
    "params_pre12[SEIVRQ.P_VACCINATED] = _P_VACCINATED\n",
    "params_pre12[SEIVRQ.P_VACCINATED_INITIAL] = _P_VACCINATED_INITAL\n",
    "params_pre12[SEIVRQ.VACCINE_RRR] = _RRR\n",
    "params_pre12[SEIVRQ.P_QUARANTINE] = _P_QUARANTINE\n",
    "\n",
    "params_post12 = {**params_distanced_post, **params_seivr, **params_monitor}\n",
    "params_post12[SEIVRQ.P_INFECT_SYMPTOMATIC] = P_INFECT_DISTANCED\n",
    "params_post12[SEIVRQ.P_INFECT_ASYMPTOMATIC] = P_INFECT_DISTANCED / 2\n",
    "params_post12[SEIVRQ.P_VACCINATED] = _P_VACCINATED\n",
    "params_post12[SEIVRQ.P_VACCINATED_INITIAL] = _P_VACCINATED_INITAL\n",
    "params_post12[SEIVRQ.VACCINE_RRR] = _RRR\n",
    "params_post12[SEIVRQ.P_QUARANTINE] = _P_QUARANTINE"
   ]
  },
  {
   "cell_type": "code",
   "execution_count": 237,
   "id": "c6d8a9fd",
   "metadata": {},
   "outputs": [],
   "source": [
    "expms.append(lambda: run_stochastic_dynamics_lab(\n",
    "    MonitoredSEIVRQ(), \n",
    "    distanced_pre, \n",
    "    params_pre12, \n",
    "    'seivrq_distanced_pre.json',\n",
    "    'SEIVR_Q simulation with Distanced Network (Pre)',\n",
    "))\n",
    "\n",
    "expms.append(lambda: run_stochastic_dynamics_lab(\n",
    "    MonitoredSEIVRQ(), \n",
    "    distanced_post, \n",
    "    params_post12, \n",
    "    'seivrq_distanced_post.json',\n",
    "    'SEIVR_Q simulation with Distanced Network (Post)'\n",
    "))"
   ]
  },
  {
   "cell_type": "markdown",
   "id": "6c19f92b",
   "metadata": {},
   "source": [
    "## Run experiments with multiprocessing...\n"
   ]
  },
  {
   "cell_type": "code",
   "execution_count": 251,
   "id": "86954f9d",
   "metadata": {},
   "outputs": [
    {
     "name": "stdout",
     "output_type": "stream",
     "text": [
      "Running 5 jobs on 96 available cores...\n",
      "Start time 2021-07-16 20:25:57.541047\n"
     ]
    },
    {
     "ename": "KeyboardInterrupt",
     "evalue": "",
     "output_type": "error",
     "traceback": [
      "\u001B[0;31m---------------------------------------------------------------------------\u001B[0m",
      "\u001B[0;31mKeyboardInterrupt\u001B[0m                         Traceback (most recent call last)",
      "\u001B[0;32m<timed exec>\u001B[0m in \u001B[0;36m<module>\u001B[0;34m\u001B[0m\n",
      "\u001B[0;32m~/Documents/epi-sim/venv/lib64/python3.6/site-packages/joblib/parallel.py\u001B[0m in \u001B[0;36m__call__\u001B[0;34m(self, iterable)\u001B[0m\n\u001B[1;32m   1052\u001B[0m \u001B[0;34m\u001B[0m\u001B[0m\n\u001B[1;32m   1053\u001B[0m             \u001B[0;32mwith\u001B[0m \u001B[0mself\u001B[0m\u001B[0;34m.\u001B[0m\u001B[0m_backend\u001B[0m\u001B[0;34m.\u001B[0m\u001B[0mretrieval_context\u001B[0m\u001B[0;34m(\u001B[0m\u001B[0;34m)\u001B[0m\u001B[0;34m:\u001B[0m\u001B[0;34m\u001B[0m\u001B[0;34m\u001B[0m\u001B[0m\n\u001B[0;32m-> 1054\u001B[0;31m                 \u001B[0mself\u001B[0m\u001B[0;34m.\u001B[0m\u001B[0mretrieve\u001B[0m\u001B[0;34m(\u001B[0m\u001B[0;34m)\u001B[0m\u001B[0;34m\u001B[0m\u001B[0;34m\u001B[0m\u001B[0m\n\u001B[0m\u001B[1;32m   1055\u001B[0m             \u001B[0;31m# Make sure that we get a last message telling us we are done\u001B[0m\u001B[0;34m\u001B[0m\u001B[0;34m\u001B[0m\u001B[0;34m\u001B[0m\u001B[0m\n\u001B[1;32m   1056\u001B[0m             \u001B[0melapsed_time\u001B[0m \u001B[0;34m=\u001B[0m \u001B[0mtime\u001B[0m\u001B[0;34m.\u001B[0m\u001B[0mtime\u001B[0m\u001B[0;34m(\u001B[0m\u001B[0;34m)\u001B[0m \u001B[0;34m-\u001B[0m \u001B[0mself\u001B[0m\u001B[0;34m.\u001B[0m\u001B[0m_start_time\u001B[0m\u001B[0;34m\u001B[0m\u001B[0;34m\u001B[0m\u001B[0m\n",
      "\u001B[0;32m~/Documents/epi-sim/venv/lib64/python3.6/site-packages/joblib/parallel.py\u001B[0m in \u001B[0;36mretrieve\u001B[0;34m(self)\u001B[0m\n\u001B[1;32m    931\u001B[0m             \u001B[0;32mtry\u001B[0m\u001B[0;34m:\u001B[0m\u001B[0;34m\u001B[0m\u001B[0;34m\u001B[0m\u001B[0m\n\u001B[1;32m    932\u001B[0m                 \u001B[0;32mif\u001B[0m \u001B[0mgetattr\u001B[0m\u001B[0;34m(\u001B[0m\u001B[0mself\u001B[0m\u001B[0;34m.\u001B[0m\u001B[0m_backend\u001B[0m\u001B[0;34m,\u001B[0m \u001B[0;34m'supports_timeout'\u001B[0m\u001B[0;34m,\u001B[0m \u001B[0;32mFalse\u001B[0m\u001B[0;34m)\u001B[0m\u001B[0;34m:\u001B[0m\u001B[0;34m\u001B[0m\u001B[0;34m\u001B[0m\u001B[0m\n\u001B[0;32m--> 933\u001B[0;31m                     \u001B[0mself\u001B[0m\u001B[0;34m.\u001B[0m\u001B[0m_output\u001B[0m\u001B[0;34m.\u001B[0m\u001B[0mextend\u001B[0m\u001B[0;34m(\u001B[0m\u001B[0mjob\u001B[0m\u001B[0;34m.\u001B[0m\u001B[0mget\u001B[0m\u001B[0;34m(\u001B[0m\u001B[0mtimeout\u001B[0m\u001B[0;34m=\u001B[0m\u001B[0mself\u001B[0m\u001B[0;34m.\u001B[0m\u001B[0mtimeout\u001B[0m\u001B[0;34m)\u001B[0m\u001B[0;34m)\u001B[0m\u001B[0;34m\u001B[0m\u001B[0;34m\u001B[0m\u001B[0m\n\u001B[0m\u001B[1;32m    934\u001B[0m                 \u001B[0;32melse\u001B[0m\u001B[0;34m:\u001B[0m\u001B[0;34m\u001B[0m\u001B[0;34m\u001B[0m\u001B[0m\n\u001B[1;32m    935\u001B[0m                     \u001B[0mself\u001B[0m\u001B[0;34m.\u001B[0m\u001B[0m_output\u001B[0m\u001B[0;34m.\u001B[0m\u001B[0mextend\u001B[0m\u001B[0;34m(\u001B[0m\u001B[0mjob\u001B[0m\u001B[0;34m.\u001B[0m\u001B[0mget\u001B[0m\u001B[0;34m(\u001B[0m\u001B[0;34m)\u001B[0m\u001B[0;34m)\u001B[0m\u001B[0;34m\u001B[0m\u001B[0;34m\u001B[0m\u001B[0m\n",
      "\u001B[0;32m~/Documents/epi-sim/venv/lib64/python3.6/site-packages/joblib/_parallel_backends.py\u001B[0m in \u001B[0;36mwrap_future_result\u001B[0;34m(future, timeout)\u001B[0m\n\u001B[1;32m    540\u001B[0m         AsyncResults.get from multiprocessing.\"\"\"\n\u001B[1;32m    541\u001B[0m         \u001B[0;32mtry\u001B[0m\u001B[0;34m:\u001B[0m\u001B[0;34m\u001B[0m\u001B[0;34m\u001B[0m\u001B[0m\n\u001B[0;32m--> 542\u001B[0;31m             \u001B[0;32mreturn\u001B[0m \u001B[0mfuture\u001B[0m\u001B[0;34m.\u001B[0m\u001B[0mresult\u001B[0m\u001B[0;34m(\u001B[0m\u001B[0mtimeout\u001B[0m\u001B[0;34m=\u001B[0m\u001B[0mtimeout\u001B[0m\u001B[0;34m)\u001B[0m\u001B[0;34m\u001B[0m\u001B[0;34m\u001B[0m\u001B[0m\n\u001B[0m\u001B[1;32m    543\u001B[0m         \u001B[0;32mexcept\u001B[0m \u001B[0mCfTimeoutError\u001B[0m \u001B[0;32mas\u001B[0m \u001B[0me\u001B[0m\u001B[0;34m:\u001B[0m\u001B[0;34m\u001B[0m\u001B[0;34m\u001B[0m\u001B[0m\n\u001B[1;32m    544\u001B[0m             \u001B[0;32mraise\u001B[0m \u001B[0mTimeoutError\u001B[0m \u001B[0;32mfrom\u001B[0m \u001B[0me\u001B[0m\u001B[0;34m\u001B[0m\u001B[0;34m\u001B[0m\u001B[0m\n",
      "\u001B[0;32m/usr/lib64/python3.6/concurrent/futures/_base.py\u001B[0m in \u001B[0;36mresult\u001B[0;34m(self, timeout)\u001B[0m\n\u001B[1;32m    425\u001B[0m                 \u001B[0;32mreturn\u001B[0m \u001B[0mself\u001B[0m\u001B[0;34m.\u001B[0m\u001B[0m__get_result\u001B[0m\u001B[0;34m(\u001B[0m\u001B[0;34m)\u001B[0m\u001B[0;34m\u001B[0m\u001B[0;34m\u001B[0m\u001B[0m\n\u001B[1;32m    426\u001B[0m \u001B[0;34m\u001B[0m\u001B[0m\n\u001B[0;32m--> 427\u001B[0;31m             \u001B[0mself\u001B[0m\u001B[0;34m.\u001B[0m\u001B[0m_condition\u001B[0m\u001B[0;34m.\u001B[0m\u001B[0mwait\u001B[0m\u001B[0;34m(\u001B[0m\u001B[0mtimeout\u001B[0m\u001B[0;34m)\u001B[0m\u001B[0;34m\u001B[0m\u001B[0;34m\u001B[0m\u001B[0m\n\u001B[0m\u001B[1;32m    428\u001B[0m \u001B[0;34m\u001B[0m\u001B[0m\n\u001B[1;32m    429\u001B[0m             \u001B[0;32mif\u001B[0m \u001B[0mself\u001B[0m\u001B[0;34m.\u001B[0m\u001B[0m_state\u001B[0m \u001B[0;32min\u001B[0m \u001B[0;34m[\u001B[0m\u001B[0mCANCELLED\u001B[0m\u001B[0;34m,\u001B[0m \u001B[0mCANCELLED_AND_NOTIFIED\u001B[0m\u001B[0;34m]\u001B[0m\u001B[0;34m:\u001B[0m\u001B[0;34m\u001B[0m\u001B[0;34m\u001B[0m\u001B[0m\n",
      "\u001B[0;32m/usr/lib64/python3.6/threading.py\u001B[0m in \u001B[0;36mwait\u001B[0;34m(self, timeout)\u001B[0m\n\u001B[1;32m    293\u001B[0m         \u001B[0;32mtry\u001B[0m\u001B[0;34m:\u001B[0m    \u001B[0;31m# restore state no matter what (e.g., KeyboardInterrupt)\u001B[0m\u001B[0;34m\u001B[0m\u001B[0;34m\u001B[0m\u001B[0m\n\u001B[1;32m    294\u001B[0m             \u001B[0;32mif\u001B[0m \u001B[0mtimeout\u001B[0m \u001B[0;32mis\u001B[0m \u001B[0;32mNone\u001B[0m\u001B[0;34m:\u001B[0m\u001B[0;34m\u001B[0m\u001B[0;34m\u001B[0m\u001B[0m\n\u001B[0;32m--> 295\u001B[0;31m                 \u001B[0mwaiter\u001B[0m\u001B[0;34m.\u001B[0m\u001B[0macquire\u001B[0m\u001B[0;34m(\u001B[0m\u001B[0;34m)\u001B[0m\u001B[0;34m\u001B[0m\u001B[0;34m\u001B[0m\u001B[0m\n\u001B[0m\u001B[1;32m    296\u001B[0m                 \u001B[0mgotit\u001B[0m \u001B[0;34m=\u001B[0m \u001B[0;32mTrue\u001B[0m\u001B[0;34m\u001B[0m\u001B[0;34m\u001B[0m\u001B[0m\n\u001B[1;32m    297\u001B[0m             \u001B[0;32melse\u001B[0m\u001B[0;34m:\u001B[0m\u001B[0;34m\u001B[0m\u001B[0;34m\u001B[0m\u001B[0m\n",
      "\u001B[0;31mKeyboardInterrupt\u001B[0m: "
     ]
    }
   ],
   "source": [
    "# %%time\n",
    "# num_cores = min(len(expms), cpu_count()-1, 12)\n",
    "# print(f\"Running {num_cores} jobs on {cpu_count()} available cores...\")\n",
    "# print(\"Start time %s\" % dt.now())\n",
    "# with Parallel(n_jobs=num_cores) as processes:\n",
    "#     procs = processes(delayed(e)() for e in expms)\n",
    "# print(\"End time %s\" % dt.now())\n",
    "\n",
    "for expm in expms:\n",
    "    print(\"Start time: %s\" % dt.now())\n",
    "    expm()\n",
    "    print(\"End time: %s\" % dt.now())"
   ]
  },
  {
   "cell_type": "code",
   "execution_count": null,
   "id": "c68220a2",
   "metadata": {},
   "outputs": [],
   "source": []
  }
 ],
 "metadata": {
  "kernelspec": {
   "display_name": "Python 3",
   "language": "python",
   "name": "python3"
  },
  "language_info": {
   "codemirror_mode": {
    "name": "ipython",
    "version": 3
   },
   "file_extension": ".py",
   "mimetype": "text/x-python",
   "name": "python",
   "nbconvert_exporter": "python",
   "pygments_lexer": "ipython3",
   "version": "3.6.8"
  }
 },
 "nbformat": 4,
 "nbformat_minor": 5
}