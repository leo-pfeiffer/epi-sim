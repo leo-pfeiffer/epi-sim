{
 "cells": [
  {
   "cell_type": "code",
   "execution_count": null,
   "metadata": {
    "collapsed": true
   },
   "outputs": [],
   "source": [
    "# integrate this into 2_network_creation\n",
    "\n",
    "import os\n",
    "import sys\n",
    "\n",
    "module = os.path.abspath(os.path.join('..'))\n",
    "lib = os.path.abspath(os.path.join(module, os.pardir))\n",
    "if lib not in sys.path:\n",
    "    sys.path.append(lib)\n",
    "\n",
    "from lib.experiments.utils.metrics import calc_shortest_paths\n",
    "from lib.experiments.utils.data_repo_api import DataRepoAPI\n",
    "from datetime import datetime as dt\n",
    "\n",
    "# multiprocessing\n",
    "from joblib import Parallel, delayed\n",
    "from multiprocessing import cpu_count\n",
    "\n",
    "# Experiment result output dir\n",
    "output_dir = 'experiment_results'\n",
    "if not output_dir in os.listdir():\n",
    "    os.mkdir(output_dir)"
   ]
  },
  {
   "cell_type": "code",
   "execution_count": null,
   "outputs": [],
   "source": [
    "def run_sp_calc(generator, file_name):\n",
    "    g = generator.generate()\n",
    "    sp = calc_shortest_paths(g)\n",
    "\n",
    "    # save to file\n",
    "    with open(os.path.join(output_dir, file_name + '.pkl'), 'wb') as f:\n",
    "        f.write(sp)\n",
    "\n",
    "    # put to repo\n",
    "    DataRepoAPI.update_or_create(\n",
    "            file_name=file_name + '.pkl',\n",
    "            file_path=output_dir,\n",
    "            repo_path='network-metrics'\n",
    "        )\n"
   ],
   "metadata": {
    "collapsed": false,
    "pycharm": {
     "name": "#%%\n"
    }
   }
  },
  {
   "cell_type": "code",
   "execution_count": null,
   "outputs": [],
   "source": [
    "mng_pre = None\n",
    "mng_post = None\n",
    "\n",
    "plc_pre = None\n",
    "plc_post = None\n",
    "\n",
    "distanced_pre = None\n",
    "distanced_post = None\n",
    "\n",
    "s_paths = []\n",
    "\n",
    "s_paths.append(lambda: run_sp_calc(mng_pre.generate(), 'sp_mng_pre'))\n",
    "s_paths.append(lambda: run_sp_calc(mng_post.generate(), 'sp_mng_post'))\n",
    "s_paths.append(lambda: run_sp_calc(plc_pre.generate(), 'sp_plc_pre'))\n",
    "s_paths.append(lambda: run_sp_calc(plc_post.generate(), 'sp_plc_post'))\n",
    "s_paths.append(lambda: run_sp_calc(distanced_pre.generate(), 'sp_dist_pre'))\n",
    "s_paths.append(lambda: run_sp_calc(distanced_post.generate(), 'sp_dist_post'))"
   ],
   "metadata": {
    "collapsed": false,
    "pycharm": {
     "name": "#%%\n"
    }
   }
  },
  {
   "cell_type": "code",
   "execution_count": null,
   "outputs": [],
   "source": [
    "num_cores = min(len(s_paths), cpu_count()-1, 6)\n",
    "print(f\"Running {num_cores} jobs on {cpu_count()} available cores...\")\n",
    "print(\"Start time %s\" % dt.now())\n",
    "with Parallel(n_jobs=num_cores) as processes:\n",
    "    procs = processes(delayed(e)() for e in s_paths)\n",
    "print(\"End time %s\" % dt.now())\n"
   ],
   "metadata": {
    "collapsed": false,
    "pycharm": {
     "name": "#%%\n"
    }
   }
  }
 ],
 "metadata": {
  "kernelspec": {
   "display_name": "Python 3",
   "language": "python",
   "name": "python3"
  },
  "language_info": {
   "codemirror_mode": {
    "name": "ipython",
    "version": 2
   },
   "file_extension": ".py",
   "mimetype": "text/x-python",
   "name": "python",
   "nbconvert_exporter": "python",
   "pygments_lexer": "ipython2",
   "version": "2.7.6"
  }
 },
 "nbformat": 4,
 "nbformat_minor": 0
}