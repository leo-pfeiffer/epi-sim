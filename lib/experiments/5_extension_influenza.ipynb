{
 "cells": [
  {
   "cell_type": "markdown",
   "id": "b66c022e",
   "metadata": {},
   "source": [
    "# Extension to influenza\n",
    "\n",
    "This notebook simulates the epidemic models using an Influenza parameterisation. The steps are identical to the COVID-19 simulation."
   ]
  },
  {
   "cell_type": "code",
   "execution_count": 1,
   "id": "15b7d990",
   "metadata": {},
   "outputs": [],
   "source": [
    "# to allow relative imports\n",
    "import os\n",
    "from sys_path_util import append_sys_path\n",
    "append_sys_path()\n",
    "\n",
    "# experiment\n",
    "from epyc import Lab, JSONLabNotebook, RepeatedExperiment, ParallelLab\n",
    "\n",
    "# generators\n",
    "from lib.model.network.mobility_network import MNGeneratorFromNetworkData as MNG\n",
    "\n",
    "# file utils\n",
    "from lib.experiments.utils.data_repo_api import DataRepoAPI\n",
    "from lib.experiments.utils.network_data_utils import load_network_data_from_files\n",
    "\n",
    "# other utils\n",
    "from functools import partial\n",
    "import numpy as np\n",
    "from mpmath import polylog\n",
    "from datetime import datetime as dt\n",
    "import pickle\n",
    "\n",
    "# multiprocessing\n",
    "from joblib import Parallel, delayed\n",
    "from multiprocessing import cpu_count"
   ]
  },
  {
   "cell_type": "code",
   "execution_count": 2,
   "id": "f1a2e9d4",
   "metadata": {},
   "outputs": [],
   "source": [
    "# Some global parameters\n",
    "\n",
    "N = 10000\n",
    "CUTOFF = 40\n",
    "MOBILITY_EXPONENT = 2\n",
    "n_exp = 10\n",
    "\n",
    "# Experiment result output dir\n",
    "output_dir = 'experiment_results'\n",
    "if not output_dir in os.listdir():\n",
    "    os.mkdir(output_dir)\n",
    "\n",
    "def plc_mean(exponent, cutoff):\n",
    "    \"\"\"\n",
    "    Calculate theoretical mean of a power law with cutoff distribution from\n",
    "    the exponent and the cutoff.\n",
    "    \"\"\"\n",
    "    nom = polylog(exponent-1, np.exp(-1 / cutoff))\n",
    "    denom = polylog(exponent, np.exp(-1 / cutoff))\n",
    "    return nom / denom\n",
    "\n",
    "def estimate_exponent_for_mean(mean, cutoff, tolerance):\n",
    "    \"\"\"\n",
    "    Given the mean and cutoff of a power law with cutoff distribution,\n",
    "    estimate the corresponding exponent with a given tolerance.\n",
    "    \"\"\"\n",
    "    grid = np.arange(1, 5, 0.01)\n",
    "    diffs = []\n",
    "    for i in range(len(grid)):\n",
    "        diff = abs(mean - plc_mean(grid[i], cutoff))\n",
    "        if diff < tolerance:\n",
    "            return grid[i]\n",
    "        diffs.append(diff)\n",
    "    \n",
    "    return grid[diffs.index(min(diffs))]"
   ]
  },
  {
   "cell_type": "markdown",
   "id": "f017146f",
   "metadata": {},
   "source": [
    "## Network"
   ]
  },
  {
   "cell_type": "code",
   "execution_count": 3,
   "id": "77a1d6d4",
   "metadata": {},
   "outputs": [],
   "source": [
    "# Load the network data\n",
    "\n",
    "file_names = dict(\n",
    "    demographics='demographics.pkl',\n",
    "    comb_pre='comb_counts_pre.pkl',\n",
    "    comb_post='comb_counts_post.pkl',\n",
    "    trip_pre='trip_counts_pre.pkl',\n",
    "    trip_post='trip_counts_post.pkl',\n",
    ")\n",
    "\n",
    "network_data = load_network_data_from_files(file_names)\n",
    "\n",
    "network_data_pre = network_data['pre']\n",
    "network_data_post = network_data['post']"
   ]
  },
  {
   "cell_type": "code",
   "execution_count": 4,
   "id": "6dadb7ad",
   "metadata": {},
   "outputs": [],
   "source": [
    "# Define the generator parameters\n",
    "params_mobility_pre = dict()\n",
    "params_mobility_pre[MNG.N] = N\n",
    "params_mobility_pre[MNG.EXPONENT] = MOBILITY_EXPONENT\n",
    "params_mobility_pre[MNG.CUTOFF] = CUTOFF\n",
    "params_mobility_pre[MNG.MULTIPLIER] = False\n",
    "\n",
    "params_mobility_post = dict()\n",
    "params_mobility_post[MNG.N] = N\n",
    "params_mobility_post[MNG.EXPONENT] = MOBILITY_EXPONENT\n",
    "params_mobility_post[MNG.CUTOFF] = CUTOFF\n",
    "params_mobility_post[MNG.MULTIPLIER] = True"
   ]
  },
  {
   "cell_type": "code",
   "execution_count": 5,
   "id": "ec259f5c",
   "metadata": {},
   "outputs": [],
   "source": [
    "# Generator instances\n",
    "mng_pre = MNG(network_data=network_data_pre)\n",
    "mng_post = MNG(network_data=network_data_post)"
   ]
  },
  {
   "cell_type": "markdown",
   "id": "e4a58dd4",
   "metadata": {},
   "source": [
    "## Epidemic Models"
   ]
  },
  {
   "cell_type": "code",
   "execution_count": 6,
   "id": "4f2f6868",
   "metadata": {},
   "outputs": [],
   "source": [
    "# List to store all the experiment runners\n",
    "expms = list()"
   ]
  },
  {
   "cell_type": "code",
   "execution_count": 7,
   "id": "06a4cd4a",
   "metadata": {},
   "outputs": [],
   "source": [
    "# Import models etc\n",
    "from epydemic import SEIR\n",
    "from lib.model.compartmental_model.seir import MonitoredSEIR\n",
    "from lib.model.compartmental_model.seir import SEIRWithQuarantine as SEIRQ\n",
    "from lib.model.compartmental_model.seir import MonitoredSEIRWithQuarantine as MonitoredSEIRQ\n",
    "from lib.model.compartmental_model.seivr import SEIVR, MonitoredSEIVR\n",
    "from lib.model.compartmental_model.seivr import SEIVRWithQuarantine as SEIVRQ\n",
    "from lib.model.compartmental_model.seivr import MonitoredSEIVRWithQuarantine as MonitoredSEIVRQ\n",
    "\n",
    "from epydemic import StochasticDynamics, Monitor\n",
    "\n",
    "from lib.model.distributions import PowerLawCutoffDist as PLCD"
   ]
  },
  {
   "cell_type": "code",
   "execution_count": 8,
   "id": "0fbab3dd",
   "metadata": {},
   "outputs": [],
   "source": [
    "# Helper functions\n",
    "\n",
    "def calc_p_infect(r0, p_remove, k_mean, k_var):\n",
    "    \"\"\"\n",
    "    Calc p_infect.\n",
    "    :param r0: basic reproduction number\n",
    "    :param p_remove: probability of removal\n",
    "    :param k_mean: Mean of node degree distribution\n",
    "    :param k_var: Variance of node degree distribution\n",
    "    :return: p_infect\n",
    "    \"\"\"\n",
    "    return float(p_remove * r0 * (k_mean / (k_var - k_mean)))\n",
    "\n",
    "\n",
    "def run_stochastic_dynamics_lab(model, generator, params, \n",
    "                                file_name, description, n=n_exp,\n",
    "                                output_dir=output_dir, push_to_repo=True,\n",
    "                                T_max=300):\n",
    "    \"\"\"\n",
    "    Run a StochasticDynamics experiment repeatadly in a lab.\n",
    "    \"\"\"\n",
    "\n",
    "    file = os.path.join(output_dir, file_name)\n",
    "    \n",
    "    nb = JSONLabNotebook(file, create=True, description=description)\n",
    "    \n",
    "    cores = min(cpu_count()-1, n)\n",
    "    print(f\"Cores: {cores}\")\n",
    "    lab = ParallelLab(notebook=nb, cores=cores)\n",
    "    # lab = Lab(notebook=nb)\n",
    "    \n",
    "    e = StochasticDynamics(model, generator)\n",
    "    e.process().setMaximumTime(T_max)\n",
    "\n",
    "    # pass params to the lab\n",
    "    for k, v in params.items():\n",
    "        lab[k] = v\n",
    "\n",
    "    lab.runExperiment(RepeatedExperiment(e, n))\n",
    "    \n",
    "    print(f\"Experiment {file_name} ended: %s\" % dt.now())\n",
    "    \n",
    "    if push_to_repo:\n",
    "        DataRepoAPI.update_or_create(\n",
    "            file_name=file_name,\n",
    "            file_path=output_dir,\n",
    "            repo_path='simulations/influenza'\n",
    "        )\n",
    "    \n",
    "    return lab.results()"
   ]
  },
  {
   "cell_type": "markdown",
   "id": "78c2afce",
   "metadata": {},
   "source": [
    "### Parameters"
   ]
  },
  {
   "cell_type": "code",
   "execution_count": 9,
   "id": "8dab28d6",
   "metadata": {},
   "outputs": [],
   "source": [
    "# Fixed\n",
    "R0 = 1.46  # Biggerstaff et al. 2014\n",
    "_P_INFECT = None  # to calculate later \n",
    "P_REMOVE = 0.1428  # 7 days, Ashleigh et al. 2010\n",
    "P_SYMPTOMS = 0.25  # 4 days, Ashleigh et al. 2010\n",
    "P_EXPOSED = 0.01\n",
    "\n",
    "_RRR = [0.5, 0.65, 0.8, 0.95]\n",
    "\n",
    "# Free\n",
    "_P_VACCINATED = [0.001, 0.004, 0.007, 0.01]\n",
    "_P_VACCINATED_INITAL = [0.0, 0.2, 0.4, 0.6, 0.8]\n",
    "_P_QUARANTINE = [0.0, 0.25, 0.5, 0.75, 1]"
   ]
  },
  {
   "cell_type": "code",
   "execution_count": 10,
   "id": "8de94105",
   "metadata": {},
   "outputs": [],
   "source": [
    "# Fix parameters as far as possible\n",
    "\n",
    "params_seir = dict()\n",
    "params_seir[SEIR.P_SYMPTOMS] = P_SYMPTOMS\n",
    "params_seir[SEIR.P_REMOVE] = P_REMOVE\n",
    "params_seir[SEIR.P_EXPOSED] = P_EXPOSED\n",
    "\n",
    "params_seivr = dict()\n",
    "params_seivr[SEIVR.P_SYMPTOMS] = P_SYMPTOMS\n",
    "params_seivr[SEIVR.P_REMOVE] = P_REMOVE\n",
    "params_seivr[SEIVR.P_EXPOSED] = P_EXPOSED\n",
    "\n",
    "params_monitor = dict()\n",
    "params_monitor[Monitor.DELTA] = 10"
   ]
  },
  {
   "cell_type": "code",
   "execution_count": 11,
   "id": "435f0129",
   "metadata": {},
   "outputs": [],
   "source": [
    "# Calculate P_INFECT\n",
    "\n",
    "# Mobility\n",
    "plcd = PLCD(MOBILITY_EXPONENT, CUTOFF)\n",
    "P_INFECT_MOBILITY = calc_p_infect(R0, P_REMOVE, plcd.mean, plcd.var)"
   ]
  },
  {
   "cell_type": "markdown",
   "id": "d8d18a9e",
   "metadata": {},
   "source": [
    "#### SEIR"
   ]
  },
  {
   "cell_type": "code",
   "execution_count": 12,
   "id": "ab964618",
   "metadata": {},
   "outputs": [],
   "source": [
    "# params\n",
    "params_pre1 = {**params_mobility_pre, **params_seir, **params_monitor}\n",
    "params_pre1[SEIR.P_INFECT_SYMPTOMATIC] = P_INFECT_MOBILITY\n",
    "params_pre1[SEIR.P_INFECT_ASYMPTOMATIC] = P_INFECT_MOBILITY / 2\n",
    "\n",
    "params_post1 = {**params_mobility_post, **params_seir, **params_monitor}\n",
    "params_post1[SEIR.P_INFECT_SYMPTOMATIC] = P_INFECT_MOBILITY\n",
    "params_post1[SEIR.P_INFECT_ASYMPTOMATIC] = P_INFECT_MOBILITY / 2"
   ]
  },
  {
   "cell_type": "code",
   "execution_count": 13,
   "id": "08b927f8",
   "metadata": {},
   "outputs": [],
   "source": [
    "expms.append(lambda: run_stochastic_dynamics_lab(\n",
    "    MonitoredSEIR(),\n",
    "    mng_pre, \n",
    "    params_pre1, \n",
    "    'influenza_seir_mobility_pre.json',\n",
    "    'SEIR simulation with Mobility Network (Pre)',\n",
    "))\n",
    "\n",
    "expms.append(lambda: run_stochastic_dynamics_lab(\n",
    "    MonitoredSEIR(), \n",
    "    mng_post, \n",
    "    params_post1, \n",
    "    'influenza_seir_mobility_post.json',\n",
    "    'SEIR simulation with Mobility Network (Post)'\n",
    "))"
   ]
  },
  {
   "cell_type": "markdown",
   "id": "d8ae6277",
   "metadata": {},
   "source": [
    "### SEIR_Q"
   ]
  },
  {
   "cell_type": "code",
   "execution_count": 12,
   "id": "6d316d6d",
   "metadata": {},
   "outputs": [],
   "source": [
    "params_pre2 = {**params_mobility_pre, **params_seir, **params_monitor}\n",
    "params_pre2[SEIRQ.P_INFECT_SYMPTOMATIC] = P_INFECT_MOBILITY\n",
    "params_pre2[SEIRQ.P_INFECT_ASYMPTOMATIC] = P_INFECT_MOBILITY / 2\n",
    "params_pre2[SEIRQ.P_QUARANTINE] = _P_QUARANTINE\n",
    "\n",
    "params_post2 = {**params_mobility_post, **params_seir, **params_monitor}\n",
    "params_post2[SEIRQ.P_INFECT_SYMPTOMATIC] = P_INFECT_MOBILITY\n",
    "params_post2[SEIRQ.P_INFECT_ASYMPTOMATIC] = P_INFECT_MOBILITY / 2\n",
    "params_post2[SEIRQ.P_QUARANTINE] = _P_QUARANTINE"
   ]
  },
  {
   "cell_type": "code",
   "execution_count": 13,
   "id": "5dc71ea5",
   "metadata": {},
   "outputs": [],
   "source": [
    "expms.append(lambda: run_stochastic_dynamics_lab(\n",
    "    MonitoredSEIRQ(), \n",
    "    mng_pre, \n",
    "    params_pre2, \n",
    "    'influenza_seirq_mobility_pre.json',\n",
    "    'SEIR_Q simulation with Mobility Network (Pre)',\n",
    "))\n",
    "\n",
    "expms.append(lambda: run_stochastic_dynamics_lab(\n",
    "    MonitoredSEIRQ(), \n",
    "    mng_post, \n",
    "    params_post2, \n",
    "    'influenza_seirq_mobility_post.json',\n",
    "    'SEIR_Q simulation with Mobility Network (Post)'\n",
    "))"
   ]
  },
  {
   "cell_type": "markdown",
   "id": "30267a8a",
   "metadata": {},
   "source": [
    "### SEIVR"
   ]
  },
  {
   "cell_type": "code",
   "execution_count": 12,
   "id": "27a9cfe1",
   "metadata": {},
   "outputs": [],
   "source": [
    "params_pre7 = {**params_mobility_pre, **params_seivr, **params_monitor}\n",
    "params_pre7[SEIVR.P_INFECT_SYMPTOMATIC] = P_INFECT_MOBILITY\n",
    "params_pre7[SEIVR.P_INFECT_ASYMPTOMATIC] = P_INFECT_MOBILITY / 2\n",
    "params_pre7[SEIVR.P_VACCINATED] = _P_VACCINATED\n",
    "params_pre7[SEIVR.P_VACCINATED_INITIAL] = _P_VACCINATED_INITAL\n",
    "params_pre7[SEIVR.VACCINE_RRR] = _RRR\n",
    "\n",
    "params_post7 = {**params_mobility_post, **params_seivr, **params_monitor}\n",
    "params_post7[SEIVR.P_INFECT_SYMPTOMATIC] = P_INFECT_MOBILITY\n",
    "params_post7[SEIVR.P_INFECT_ASYMPTOMATIC] = P_INFECT_MOBILITY / 2\n",
    "params_post7[SEIVR.P_VACCINATED] = _P_VACCINATED\n",
    "params_post7[SEIVR.P_VACCINATED_INITIAL] = _P_VACCINATED_INITAL\n",
    "params_post7[SEIVR.VACCINE_RRR] = _RRR"
   ]
  },
  {
   "cell_type": "code",
   "execution_count": 13,
   "id": "7b1a48e3",
   "metadata": {},
   "outputs": [],
   "source": [
    "expms.append(lambda: run_stochastic_dynamics_lab(\n",
    "    MonitoredSEIVR(), \n",
    "    mng_pre, \n",
    "    params_pre7, \n",
    "    'influenza_seivr_mobility_pre.json',\n",
    "    'SEIVR simulation with Mobility Network (Pre)',\n",
    "))\n",
    "\n",
    "expms.append(lambda: run_stochastic_dynamics_lab(\n",
    "    MonitoredSEIVR(), \n",
    "    mng_post, \n",
    "    params_post7, \n",
    "    'influenza_seivr_mobility_post.json',\n",
    "    'SEIVR simulation with Mobility Network (Post)'\n",
    "))"
   ]
  },
  {
   "cell_type": "markdown",
   "id": "80b5072c",
   "metadata": {},
   "source": [
    "### SEIVR_Q"
   ]
  },
  {
   "cell_type": "code",
   "execution_count": 38,
   "id": "a4013bfd",
   "metadata": {},
   "outputs": [],
   "source": [
    "params_pre8 = {**params_mobility_pre, **params_seivr, **params_monitor}\n",
    "params_pre8[SEIVRQ.P_INFECT_SYMPTOMATIC] = P_INFECT_MOBILITY\n",
    "params_pre8[SEIVRQ.P_INFECT_ASYMPTOMATIC] = P_INFECT_MOBILITY / 2\n",
    "params_pre8[SEIVRQ.P_VACCINATED] = _P_VACCINATED\n",
    "params_pre8[SEIVRQ.P_VACCINATED_INITIAL] = _P_VACCINATED_INITAL\n",
    "params_pre8[SEIVRQ.VACCINE_RRR] = _RRR\n",
    "params_pre8[SEIVRQ.P_QUARANTINE] = _P_QUARANTINE\n",
    "\n",
    "params_post8 = {**params_mobility_post, **params_seivr, **params_monitor}\n",
    "params_post8[SEIVRQ.P_INFECT_SYMPTOMATIC] = P_INFECT_MOBILITY\n",
    "params_post8[SEIVRQ.P_INFECT_ASYMPTOMATIC] = P_INFECT_MOBILITY / 2\n",
    "params_post8[SEIVRQ.P_VACCINATED] = _P_VACCINATED\n",
    "params_post8[SEIVRQ.P_VACCINATED_INITIAL] = _P_VACCINATED_INITAL\n",
    "params_post8[SEIVRQ.VACCINE_RRR] = _RRR\n",
    "params_post8[SEIVRQ.P_QUARANTINE] = _P_QUARANTINE"
   ]
  },
  {
   "cell_type": "code",
   "execution_count": 39,
   "id": "0a4c968a",
   "metadata": {},
   "outputs": [],
   "source": [
    "expms.append(lambda: run_stochastic_dynamics_lab(\n",
    "    MonitoredSEIVRQ(), \n",
    "    mng_pre, \n",
    "    params_pre8, \n",
    "    'influenza_seivrq_mobility_pre.json',\n",
    "    'SEIVR_Q simulation with Mobility Network (Pre)',\n",
    "))\n",
    "\n",
    "expms.append(lambda: run_stochastic_dynamics_lab(\n",
    "    MonitoredSEIVRQ(), \n",
    "    mng_post, \n",
    "    params_post8, \n",
    "    'influenza_seivrq_mobility_post.json',\n",
    "    'SEIVR_Q simulation with Mobility Network (Post)'\n",
    "))"
   ]
  },
  {
   "cell_type": "markdown",
   "id": "699fbf6e",
   "metadata": {},
   "source": [
    "## Run experiments ..."
   ]
  },
  {
   "cell_type": "code",
   "execution_count": 14,
   "id": "9a6d2826",
   "metadata": {
    "scrolled": true
   },
   "outputs": [
    {
     "name": "stdout",
     "output_type": "stream",
     "text": [
      "Start time: 2021-07-29 10:25:54.099626\n",
      "Cores: 10\n",
      "Experiment influenza_seivr_mobility_pre.json ended: 2021-07-29 13:09:19.961623\n",
      "End time: 2021-07-29 13:09:22.651658\n",
      "Start time: 2021-07-29 13:09:22.651941\n",
      "Cores: 10\n"
     ]
    },
    {
     "ename": "KeyboardInterrupt",
     "evalue": "",
     "output_type": "error",
     "traceback": [
      "\u001b[0;31m---------------------------------------------------------------------------\u001b[0m",
      "\u001b[0;31mKeyboardInterrupt\u001b[0m                         Traceback (most recent call last)",
      "\u001b[0;32m<timed exec>\u001b[0m in \u001b[0;36m<module>\u001b[0;34m\u001b[0m\n",
      "\u001b[0;32m/tmp/ipykernel_3157600/2979043689.py\u001b[0m in \u001b[0;36m<lambda>\u001b[0;34m()\u001b[0m\n\u001b[1;32m      7\u001b[0m ))\n\u001b[1;32m      8\u001b[0m \u001b[0;34m\u001b[0m\u001b[0m\n\u001b[0;32m----> 9\u001b[0;31m expms.append(lambda: run_stochastic_dynamics_lab(\n\u001b[0m\u001b[1;32m     10\u001b[0m     \u001b[0mMonitoredSEIVR\u001b[0m\u001b[0;34m(\u001b[0m\u001b[0;34m)\u001b[0m\u001b[0;34m,\u001b[0m\u001b[0;34m\u001b[0m\u001b[0;34m\u001b[0m\u001b[0m\n\u001b[1;32m     11\u001b[0m     \u001b[0mmng_post\u001b[0m\u001b[0;34m,\u001b[0m\u001b[0;34m\u001b[0m\u001b[0;34m\u001b[0m\u001b[0m\n",
      "\u001b[0;32m/tmp/ipykernel_3157600/2986271392.py\u001b[0m in \u001b[0;36mrun_stochastic_dynamics_lab\u001b[0;34m(model, generator, params, file_name, description, n, output_dir, push_to_repo, T_max)\u001b[0m\n\u001b[1;32m     37\u001b[0m         \u001b[0mlab\u001b[0m\u001b[0;34m[\u001b[0m\u001b[0mk\u001b[0m\u001b[0;34m]\u001b[0m \u001b[0;34m=\u001b[0m \u001b[0mv\u001b[0m\u001b[0;34m\u001b[0m\u001b[0;34m\u001b[0m\u001b[0m\n\u001b[1;32m     38\u001b[0m \u001b[0;34m\u001b[0m\u001b[0m\n\u001b[0;32m---> 39\u001b[0;31m     \u001b[0mlab\u001b[0m\u001b[0;34m.\u001b[0m\u001b[0mrunExperiment\u001b[0m\u001b[0;34m(\u001b[0m\u001b[0mRepeatedExperiment\u001b[0m\u001b[0;34m(\u001b[0m\u001b[0me\u001b[0m\u001b[0;34m,\u001b[0m \u001b[0mn\u001b[0m\u001b[0;34m)\u001b[0m\u001b[0;34m)\u001b[0m\u001b[0;34m\u001b[0m\u001b[0;34m\u001b[0m\u001b[0m\n\u001b[0m\u001b[1;32m     40\u001b[0m \u001b[0;34m\u001b[0m\u001b[0m\n\u001b[1;32m     41\u001b[0m     \u001b[0mprint\u001b[0m\u001b[0;34m(\u001b[0m\u001b[0;34mf\"Experiment {file_name} ended: %s\"\u001b[0m \u001b[0;34m%\u001b[0m \u001b[0mdt\u001b[0m\u001b[0;34m.\u001b[0m\u001b[0mnow\u001b[0m\u001b[0;34m(\u001b[0m\u001b[0;34m)\u001b[0m\u001b[0;34m)\u001b[0m\u001b[0;34m\u001b[0m\u001b[0;34m\u001b[0m\u001b[0m\n",
      "\u001b[0;32m~/simulations/epi-sim/venv/lib/python3.9/site-packages/epyc/parallellab.py\u001b[0m in \u001b[0;36mrunExperiment\u001b[0;34m(self, e)\u001b[0m\n\u001b[1;32m    104\u001b[0m \u001b[0;34m\u001b[0m\u001b[0m\n\u001b[1;32m    105\u001b[0m                     \u001b[0;31m# run over the chunk\u001b[0m\u001b[0;34m\u001b[0m\u001b[0;34m\u001b[0m\u001b[0;34m\u001b[0m\u001b[0m\n\u001b[0;32m--> 106\u001b[0;31m                     \u001b[0mrcs\u001b[0m \u001b[0;34m=\u001b[0m \u001b[0mprocesses\u001b[0m\u001b[0;34m(\u001b[0m\u001b[0mdelayed\u001b[0m\u001b[0;34m(\u001b[0m\u001b[0;32mlambda\u001b[0m \u001b[0mep\u001b[0m\u001b[0;34m:\u001b[0m \u001b[0mep\u001b[0m\u001b[0;34m[\u001b[0m\u001b[0;36m0\u001b[0m\u001b[0;34m]\u001b[0m\u001b[0;34m.\u001b[0m\u001b[0mset\u001b[0m\u001b[0;34m(\u001b[0m\u001b[0mep\u001b[0m\u001b[0;34m[\u001b[0m\u001b[0;36m1\u001b[0m\u001b[0;34m]\u001b[0m\u001b[0;34m)\u001b[0m\u001b[0;34m.\u001b[0m\u001b[0mrun\u001b[0m\u001b[0;34m(\u001b[0m\u001b[0;34m)\u001b[0m\u001b[0;34m)\u001b[0m\u001b[0;34m(\u001b[0m\u001b[0mep\u001b[0m\u001b[0;34m)\u001b[0m \u001b[0;32mfor\u001b[0m \u001b[0mep\u001b[0m \u001b[0;32min\u001b[0m \u001b[0meps\u001b[0m\u001b[0;34m)\u001b[0m\u001b[0;34m\u001b[0m\u001b[0;34m\u001b[0m\u001b[0m\n\u001b[0m\u001b[1;32m    107\u001b[0m \u001b[0;34m\u001b[0m\u001b[0m\n\u001b[1;32m    108\u001b[0m                     \u001b[0;31m# add the results as they come back\u001b[0m\u001b[0;34m\u001b[0m\u001b[0;34m\u001b[0m\u001b[0;34m\u001b[0m\u001b[0m\n",
      "\u001b[0;32m~/simulations/epi-sim/venv/lib/python3.9/site-packages/joblib/parallel.py\u001b[0m in \u001b[0;36m__call__\u001b[0;34m(self, iterable)\u001b[0m\n\u001b[1;32m   1052\u001b[0m \u001b[0;34m\u001b[0m\u001b[0m\n\u001b[1;32m   1053\u001b[0m             \u001b[0;32mwith\u001b[0m \u001b[0mself\u001b[0m\u001b[0;34m.\u001b[0m\u001b[0m_backend\u001b[0m\u001b[0;34m.\u001b[0m\u001b[0mretrieval_context\u001b[0m\u001b[0;34m(\u001b[0m\u001b[0;34m)\u001b[0m\u001b[0;34m:\u001b[0m\u001b[0;34m\u001b[0m\u001b[0;34m\u001b[0m\u001b[0m\n\u001b[0;32m-> 1054\u001b[0;31m                 \u001b[0mself\u001b[0m\u001b[0;34m.\u001b[0m\u001b[0mretrieve\u001b[0m\u001b[0;34m(\u001b[0m\u001b[0;34m)\u001b[0m\u001b[0;34m\u001b[0m\u001b[0;34m\u001b[0m\u001b[0m\n\u001b[0m\u001b[1;32m   1055\u001b[0m             \u001b[0;31m# Make sure that we get a last message telling us we are done\u001b[0m\u001b[0;34m\u001b[0m\u001b[0;34m\u001b[0m\u001b[0;34m\u001b[0m\u001b[0m\n\u001b[1;32m   1056\u001b[0m             \u001b[0melapsed_time\u001b[0m \u001b[0;34m=\u001b[0m \u001b[0mtime\u001b[0m\u001b[0;34m.\u001b[0m\u001b[0mtime\u001b[0m\u001b[0;34m(\u001b[0m\u001b[0;34m)\u001b[0m \u001b[0;34m-\u001b[0m \u001b[0mself\u001b[0m\u001b[0;34m.\u001b[0m\u001b[0m_start_time\u001b[0m\u001b[0;34m\u001b[0m\u001b[0;34m\u001b[0m\u001b[0m\n",
      "\u001b[0;32m~/simulations/epi-sim/venv/lib/python3.9/site-packages/joblib/parallel.py\u001b[0m in \u001b[0;36mretrieve\u001b[0;34m(self)\u001b[0m\n\u001b[1;32m    931\u001b[0m             \u001b[0;32mtry\u001b[0m\u001b[0;34m:\u001b[0m\u001b[0;34m\u001b[0m\u001b[0;34m\u001b[0m\u001b[0m\n\u001b[1;32m    932\u001b[0m                 \u001b[0;32mif\u001b[0m \u001b[0mgetattr\u001b[0m\u001b[0;34m(\u001b[0m\u001b[0mself\u001b[0m\u001b[0;34m.\u001b[0m\u001b[0m_backend\u001b[0m\u001b[0;34m,\u001b[0m \u001b[0;34m'supports_timeout'\u001b[0m\u001b[0;34m,\u001b[0m \u001b[0;32mFalse\u001b[0m\u001b[0;34m)\u001b[0m\u001b[0;34m:\u001b[0m\u001b[0;34m\u001b[0m\u001b[0;34m\u001b[0m\u001b[0m\n\u001b[0;32m--> 933\u001b[0;31m                     \u001b[0mself\u001b[0m\u001b[0;34m.\u001b[0m\u001b[0m_output\u001b[0m\u001b[0;34m.\u001b[0m\u001b[0mextend\u001b[0m\u001b[0;34m(\u001b[0m\u001b[0mjob\u001b[0m\u001b[0;34m.\u001b[0m\u001b[0mget\u001b[0m\u001b[0;34m(\u001b[0m\u001b[0mtimeout\u001b[0m\u001b[0;34m=\u001b[0m\u001b[0mself\u001b[0m\u001b[0;34m.\u001b[0m\u001b[0mtimeout\u001b[0m\u001b[0;34m)\u001b[0m\u001b[0;34m)\u001b[0m\u001b[0;34m\u001b[0m\u001b[0;34m\u001b[0m\u001b[0m\n\u001b[0m\u001b[1;32m    934\u001b[0m                 \u001b[0;32melse\u001b[0m\u001b[0;34m:\u001b[0m\u001b[0;34m\u001b[0m\u001b[0;34m\u001b[0m\u001b[0m\n\u001b[1;32m    935\u001b[0m                     \u001b[0mself\u001b[0m\u001b[0;34m.\u001b[0m\u001b[0m_output\u001b[0m\u001b[0;34m.\u001b[0m\u001b[0mextend\u001b[0m\u001b[0;34m(\u001b[0m\u001b[0mjob\u001b[0m\u001b[0;34m.\u001b[0m\u001b[0mget\u001b[0m\u001b[0;34m(\u001b[0m\u001b[0;34m)\u001b[0m\u001b[0;34m)\u001b[0m\u001b[0;34m\u001b[0m\u001b[0;34m\u001b[0m\u001b[0m\n",
      "\u001b[0;32m~/simulations/epi-sim/venv/lib/python3.9/site-packages/joblib/_parallel_backends.py\u001b[0m in \u001b[0;36mwrap_future_result\u001b[0;34m(future, timeout)\u001b[0m\n\u001b[1;32m    540\u001b[0m         AsyncResults.get from multiprocessing.\"\"\"\n\u001b[1;32m    541\u001b[0m         \u001b[0;32mtry\u001b[0m\u001b[0;34m:\u001b[0m\u001b[0;34m\u001b[0m\u001b[0;34m\u001b[0m\u001b[0m\n\u001b[0;32m--> 542\u001b[0;31m             \u001b[0;32mreturn\u001b[0m \u001b[0mfuture\u001b[0m\u001b[0;34m.\u001b[0m\u001b[0mresult\u001b[0m\u001b[0;34m(\u001b[0m\u001b[0mtimeout\u001b[0m\u001b[0;34m=\u001b[0m\u001b[0mtimeout\u001b[0m\u001b[0;34m)\u001b[0m\u001b[0;34m\u001b[0m\u001b[0;34m\u001b[0m\u001b[0m\n\u001b[0m\u001b[1;32m    543\u001b[0m         \u001b[0;32mexcept\u001b[0m \u001b[0mCfTimeoutError\u001b[0m \u001b[0;32mas\u001b[0m \u001b[0me\u001b[0m\u001b[0;34m:\u001b[0m\u001b[0;34m\u001b[0m\u001b[0;34m\u001b[0m\u001b[0m\n\u001b[1;32m    544\u001b[0m             \u001b[0;32mraise\u001b[0m \u001b[0mTimeoutError\u001b[0m \u001b[0;32mfrom\u001b[0m \u001b[0me\u001b[0m\u001b[0;34m\u001b[0m\u001b[0;34m\u001b[0m\u001b[0m\n",
      "\u001b[0;32m~/.pyenv/versions/3.9.2/lib/python3.9/concurrent/futures/_base.py\u001b[0m in \u001b[0;36mresult\u001b[0;34m(self, timeout)\u001b[0m\n\u001b[1;32m    433\u001b[0m                 \u001b[0;32mreturn\u001b[0m \u001b[0mself\u001b[0m\u001b[0;34m.\u001b[0m\u001b[0m__get_result\u001b[0m\u001b[0;34m(\u001b[0m\u001b[0;34m)\u001b[0m\u001b[0;34m\u001b[0m\u001b[0;34m\u001b[0m\u001b[0m\n\u001b[1;32m    434\u001b[0m \u001b[0;34m\u001b[0m\u001b[0m\n\u001b[0;32m--> 435\u001b[0;31m             \u001b[0mself\u001b[0m\u001b[0;34m.\u001b[0m\u001b[0m_condition\u001b[0m\u001b[0;34m.\u001b[0m\u001b[0mwait\u001b[0m\u001b[0;34m(\u001b[0m\u001b[0mtimeout\u001b[0m\u001b[0;34m)\u001b[0m\u001b[0;34m\u001b[0m\u001b[0;34m\u001b[0m\u001b[0m\n\u001b[0m\u001b[1;32m    436\u001b[0m \u001b[0;34m\u001b[0m\u001b[0m\n\u001b[1;32m    437\u001b[0m             \u001b[0;32mif\u001b[0m \u001b[0mself\u001b[0m\u001b[0;34m.\u001b[0m\u001b[0m_state\u001b[0m \u001b[0;32min\u001b[0m \u001b[0;34m[\u001b[0m\u001b[0mCANCELLED\u001b[0m\u001b[0;34m,\u001b[0m \u001b[0mCANCELLED_AND_NOTIFIED\u001b[0m\u001b[0;34m]\u001b[0m\u001b[0;34m:\u001b[0m\u001b[0;34m\u001b[0m\u001b[0;34m\u001b[0m\u001b[0m\n",
      "\u001b[0;32m~/.pyenv/versions/3.9.2/lib/python3.9/threading.py\u001b[0m in \u001b[0;36mwait\u001b[0;34m(self, timeout)\u001b[0m\n\u001b[1;32m    310\u001b[0m         \u001b[0;32mtry\u001b[0m\u001b[0;34m:\u001b[0m    \u001b[0;31m# restore state no matter what (e.g., KeyboardInterrupt)\u001b[0m\u001b[0;34m\u001b[0m\u001b[0;34m\u001b[0m\u001b[0m\n\u001b[1;32m    311\u001b[0m             \u001b[0;32mif\u001b[0m \u001b[0mtimeout\u001b[0m \u001b[0;32mis\u001b[0m \u001b[0;32mNone\u001b[0m\u001b[0;34m:\u001b[0m\u001b[0;34m\u001b[0m\u001b[0;34m\u001b[0m\u001b[0m\n\u001b[0;32m--> 312\u001b[0;31m                 \u001b[0mwaiter\u001b[0m\u001b[0;34m.\u001b[0m\u001b[0macquire\u001b[0m\u001b[0;34m(\u001b[0m\u001b[0;34m)\u001b[0m\u001b[0;34m\u001b[0m\u001b[0;34m\u001b[0m\u001b[0m\n\u001b[0m\u001b[1;32m    313\u001b[0m                 \u001b[0mgotit\u001b[0m \u001b[0;34m=\u001b[0m \u001b[0;32mTrue\u001b[0m\u001b[0;34m\u001b[0m\u001b[0;34m\u001b[0m\u001b[0m\n\u001b[1;32m    314\u001b[0m             \u001b[0;32melse\u001b[0m\u001b[0;34m:\u001b[0m\u001b[0;34m\u001b[0m\u001b[0;34m\u001b[0m\u001b[0m\n",
      "\u001b[0;31mKeyboardInterrupt\u001b[0m: "
     ]
    }
   ],
   "source": [
    "%%time\n",
    "# num_cores = min(len(expms), cpu_count()-1, 12)\n",
    "# print(f\"Running {num_cores} jobs on {cpu_count()} available cores...\")\n",
    "# print(\"Start time %s\" % dt.now())\n",
    "# with Parallel(n_jobs=num_cores) as processes:\n",
    "#     procs = processes(delayed(e)() for e in expms)\n",
    "# print(\"End time %s\" % dt.now())\n",
    "\n",
    "for expm in expms:\n",
    "    print(\"Start time: %s\" % dt.now())\n",
    "    expm()\n",
    "    print(\"End time: %s\" % dt.now())"
   ]
  },
  {
   "cell_type": "code",
   "execution_count": 16,
   "id": "7bc06347",
   "metadata": {},
   "outputs": [
    {
     "name": "stdout",
     "output_type": "stream",
     "text": [
      "{'model': 'SEIR', 'network': 'Mobility (Pre)', 'name': 'influenza_seir_mobility_pre'}\n",
      "2021-07-29 20:50:06.098772 loaded file influenza_seir_mobility_pre\n",
      "2021-07-29 20:50:06.103910 pickled file influenza_seir_mobility_pre\n",
      "2021-07-29 20:50:06.918192 uploaded file influenza_seir_mobility_pre\n",
      "{'model': 'SEIR', 'network': 'Mobility (Post)', 'name': 'influenza_seir_mobility_post'}\n",
      "2021-07-29 20:50:07.364159 loaded file influenza_seir_mobility_post\n",
      "2021-07-29 20:50:07.365922 pickled file influenza_seir_mobility_post\n",
      "2021-07-29 20:50:08.276887 uploaded file influenza_seir_mobility_post\n",
      "{'model': 'SEIR_Q', 'network': 'Mobility (Pre)', 'name': 'influenza_seirq_mobility_pre'}\n",
      "2021-07-29 20:50:09.861312 loaded file influenza_seirq_mobility_pre\n",
      "2021-07-29 20:50:09.864049 pickled file influenza_seirq_mobility_pre\n",
      "2021-07-29 20:50:10.725036 uploaded file influenza_seirq_mobility_pre\n",
      "{'model': 'SEIR_Q', 'network': 'Mobility (Post)', 'name': 'influenza_seirq_mobility_post'}\n",
      "2021-07-29 20:50:12.393580 loaded file influenza_seirq_mobility_post\n",
      "2021-07-29 20:50:12.397009 pickled file influenza_seirq_mobility_post\n",
      "2021-07-29 20:50:13.129261 uploaded file influenza_seirq_mobility_post\n"
     ]
    }
   ],
   "source": [
    "from lib.experiments.utils.create_app_data import main_custom_files\n",
    "from lib.experiments.utils.simulation_files import MODEL, NAME, NETWORK, MN_PRE, MN_POST\n",
    "\n",
    "files = [\n",
    "    {MODEL: 'SEIR', NETWORK: MN_PRE, NAME: 'influenza_seir_mobility_pre'},\n",
    "    {MODEL: 'SEIR', NETWORK: MN_POST, NAME: 'influenza_seir_mobility_post'},\n",
    "    \n",
    "    {MODEL: 'SEIR_Q', NETWORK: MN_PRE, NAME: 'influenza_seirq_mobility_pre'},\n",
    "    {MODEL: 'SEIR_Q', NETWORK: MN_POST, NAME: 'influenza_seirq_mobility_post'},\n",
    "    \n",
    "#     {MODEL: 'SEIVR', NETWORK: MN_PRE, NAME: 'influenza_seivr_mobility_pre'},\n",
    "#     {MODEL: 'SEIVR', NETWORK: MN_POST, NAME: 'influenza_seivr_mobility_post'},\n",
    "\n",
    "#     {MODEL: 'SEIVR_Q', NETWORK: MN_PRE, NAME: 'influenza_seivrq_mobility_pre'},\n",
    "#     {MODEL: 'SEIVR_Q', NETWORK: MN_POST, NAME: 'influenza_seivrq_mobility_post'},\n",
    "]\n",
    "\n",
    "repo_path = 'simulations/influenza'\n",
    "\n",
    "main_custom_files(files, repo_path)"
   ]
  },
  {
   "cell_type": "code",
   "execution_count": null,
   "id": "f96cfe03",
   "metadata": {},
   "outputs": [],
   "source": []
  }
 ],
 "metadata": {
  "kernelspec": {
   "display_name": "Python 3 (ipykernel)",
   "language": "python",
   "name": "python3"
  },
  "language_info": {
   "codemirror_mode": {
    "name": "ipython",
    "version": 3
   },
   "file_extension": ".py",
   "mimetype": "text/x-python",
   "name": "python",
   "nbconvert_exporter": "python",
   "pygments_lexer": "ipython3",
   "version": "3.9.2"
  }
 },
 "nbformat": 4,
 "nbformat_minor": 5
}
