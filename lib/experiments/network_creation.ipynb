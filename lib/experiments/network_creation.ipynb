{
 "cells": [
  {
   "cell_type": "markdown",
   "id": "7c46f281",
   "metadata": {},
   "source": [
    "## Network creation\n",
    "\n",
    "Using the transformed data from the previous step, create networks for February and April."
   ]
  },
  {
   "cell_type": "code",
   "execution_count": 1,
   "id": "13314e59",
   "metadata": {},
   "outputs": [],
   "source": [
    "# to allow relative imports\n",
    "import os\n",
    "import sys\n",
    "\n",
    "module = os.path.abspath(os.path.join('..'))\n",
    "if module not in sys.path:\n",
    "    sys.path.append(module)\n",
    "\n",
    "import networkx as nx\n",
    "import pickle\n",
    "\n",
    "from lib.configuration import GRAPHS\n",
    "    \n",
    "if not os.path.isdir(GRAPHS):\n",
    "    os.mkdir(GRAPHS)\n",
    "\n",
    "from lib.model.network.network_data import NetworkData\n",
    "from lib.model.network.mobility_network import MobilityNetwork\n",
    "from lib.model.network.mobility_network import MNGeneratorFromNetworkData as MNG\n",
    "from lib.experiments.utils import load_network_data_from_files"
   ]
  },
  {
   "cell_type": "markdown",
   "id": "63d6e641",
   "metadata": {},
   "source": [
    "Load the network data from file."
   ]
  },
  {
   "cell_type": "code",
   "execution_count": 3,
   "id": "9ea74213",
   "metadata": {},
   "outputs": [],
   "source": [
    "file_names = dict(\n",
    "    demographics='demographics.pkl',\n",
    "    comb_pre='comb_counts_pre.pkl',\n",
    "    comb_post='comb_counts_post.pkl',\n",
    "    trip_pre='trip_counts_pre.pkl',\n",
    "    trip_post='trip_counts_post.pkl',\n",
    ")\n",
    "\n",
    "network_data = load_network_data_from_files(file_names)\n",
    "network_data_pre = network_data['pre']\n",
    "network_data_post = network_data['post']"
   ]
  },
  {
   "cell_type": "markdown",
   "id": "1de7b7ec",
   "metadata": {},
   "source": [
    "Create the networks."
   ]
  },
  {
   "cell_type": "code",
   "execution_count": 4,
   "id": "c59acec9",
   "metadata": {},
   "outputs": [],
   "source": [
    "params_pre = dict()\n",
    "params_post = dict()\n",
    "\n",
    "params_pre[MNG.N] = params_post[MNG.N] = N = 10000\n",
    "params_pre[MNG.EXPONENT] = params_post[MNG.EXPONENT] = EXPONENT = 2\n",
    "params_pre[MNG.CUTOFF] = params_post[MNG.CUTOFF] = CUTOFF = 40\n",
    "\n",
    "params_pre[MNG.NETWORK_DATA] = network_data_pre\n",
    "params_pre[MNG.MULTIPLIER] = False\n",
    "\n",
    "params_post[MNG.NETWORK_DATA] = network_data_post\n",
    "params_post[MNG.MULTIPLIER] = True"
   ]
  },
  {
   "cell_type": "code",
   "execution_count": 5,
   "id": "e619ce1f",
   "metadata": {},
   "outputs": [
    {
     "name": "stdout",
     "output_type": "stream",
     "text": [
      "CPU times: user 2min 24s, sys: 88.9 ms, total: 2min 24s\n",
      "Wall time: 2min 24s\n"
     ]
    }
   ],
   "source": [
    "%%time\n",
    "\n",
    "mng_pre = MNG(params=params_pre)\n",
    "g_pre = mng_pre.generate()\n",
    "\n",
    "mng_post = MNG(params=params_post)\n",
    "g_post = mng_post.generate()"
   ]
  },
  {
   "cell_type": "markdown",
   "id": "24573109",
   "metadata": {},
   "source": [
    "Save the graphs to graphml format."
   ]
  },
  {
   "cell_type": "code",
   "execution_count": 6,
   "id": "d0cfec74",
   "metadata": {},
   "outputs": [],
   "source": [
    "nx.write_graphml(g_pre, f'{GRAPHS}pre_N_{N}_E_{EXPONENT}_C_{CUTOFF}.graphml')\n",
    "nx.write_graphml(g_post, f'{GRAPHS}post_N_{N}_E_{EXPONENT}_C_{CUTOFF}.graphml')"
   ]
  }
 ],
 "metadata": {
  "kernelspec": {
   "display_name": "Python 3",
   "language": "python",
   "name": "python3"
  },
  "language_info": {
   "codemirror_mode": {
    "name": "ipython",
    "version": 3
   },
   "file_extension": ".py",
   "mimetype": "text/x-python",
   "name": "python",
   "nbconvert_exporter": "python",
   "pygments_lexer": "ipython3",
   "version": "3.9.2"
  }
 },
 "nbformat": 4,
 "nbformat_minor": 5
}