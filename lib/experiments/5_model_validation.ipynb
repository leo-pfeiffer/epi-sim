{
 "cells": [
  {
   "cell_type": "code",
   "execution_count": 197,
   "metadata": {},
   "outputs": [],
   "source": [
    "# to allow relative imports\n",
    "import os\n",
    "from sys_path_util import append_sys_path\n",
    "append_sys_path()\n",
    "\n",
    "from lib.experiments.utils.data_repo_api import DataRepoAPI\n",
    "\n",
    "import pandas as pd\n",
    "import matplotlib.pyplot as plt\n",
    "import numpy as np\n",
    "from urllib.request import urlopen\n",
    "import pickle\n",
    "\n",
    "from lib.configuration import DATA_REPO_URL_RAW"
   ]
  },
  {
   "cell_type": "code",
   "execution_count": 198,
   "metadata": {},
   "outputs": [
    {
     "data": {
      "text/html": [
       "<div>\n",
       "<style scoped>\n",
       "    .dataframe tbody tr th:only-of-type {\n",
       "        vertical-align: middle;\n",
       "    }\n",
       "\n",
       "    .dataframe tbody tr th {\n",
       "        vertical-align: top;\n",
       "    }\n",
       "\n",
       "    .dataframe thead th {\n",
       "        text-align: right;\n",
       "    }\n",
       "</style>\n",
       "<table border=\"1\" class=\"dataframe\">\n",
       "  <thead>\n",
       "    <tr style=\"text-align: right;\">\n",
       "      <th></th>\n",
       "      <th>Date updated</th>\n",
       "      <th>County code</th>\n",
       "      <th>County</th>\n",
       "      <th>Total cases</th>\n",
       "      <th>Confirmed cases</th>\n",
       "      <th>Probable cases</th>\n",
       "      <th>Total case rate</th>\n",
       "      <th>Hospitalized cases</th>\n",
       "      <th>Total deaths</th>\n",
       "      <th>Confirmed deaths</th>\n",
       "      <th>Probable deaths</th>\n",
       "    </tr>\n",
       "  </thead>\n",
       "  <tbody>\n",
       "    <tr>\n",
       "      <th>0</th>\n",
       "      <td>06/02/2020</td>\n",
       "      <td>1</td>\n",
       "      <td>Fairfield</td>\n",
       "      <td>15,789</td>\n",
       "      <td>15,087</td>\n",
       "      <td>702</td>\n",
       "      <td>1,673</td>\n",
       "      <td>134</td>\n",
       "      <td>1,289</td>\n",
       "      <td>998</td>\n",
       "      <td>291.0</td>\n",
       "    </tr>\n",
       "    <tr>\n",
       "      <th>1</th>\n",
       "      <td>06/02/2020</td>\n",
       "      <td>2</td>\n",
       "      <td>Hartford</td>\n",
       "      <td>10,593</td>\n",
       "      <td>9,914</td>\n",
       "      <td>679</td>\n",
       "      <td>1,187</td>\n",
       "      <td>92</td>\n",
       "      <td>1,259</td>\n",
       "      <td>958</td>\n",
       "      <td>301.0</td>\n",
       "    </tr>\n",
       "    <tr>\n",
       "      <th>2</th>\n",
       "      <td>06/02/2020</td>\n",
       "      <td>3</td>\n",
       "      <td>Litchfield</td>\n",
       "      <td>1,404</td>\n",
       "      <td>1,338</td>\n",
       "      <td>66</td>\n",
       "      <td>775</td>\n",
       "      <td>5</td>\n",
       "      <td>133</td>\n",
       "      <td>113</td>\n",
       "      <td>20.0</td>\n",
       "    </tr>\n",
       "    <tr>\n",
       "      <th>3</th>\n",
       "      <td>06/02/2020</td>\n",
       "      <td>4</td>\n",
       "      <td>Middlesex</td>\n",
       "      <td>1,161</td>\n",
       "      <td>1,104</td>\n",
       "      <td>57</td>\n",
       "      <td>714</td>\n",
       "      <td>16</td>\n",
       "      <td>152</td>\n",
       "      <td>118</td>\n",
       "      <td>34.0</td>\n",
       "    </tr>\n",
       "    <tr>\n",
       "      <th>4</th>\n",
       "      <td>06/02/2020</td>\n",
       "      <td>5</td>\n",
       "      <td>New Haven</td>\n",
       "      <td>11,548</td>\n",
       "      <td>11,161</td>\n",
       "      <td>387</td>\n",
       "      <td>1,347</td>\n",
       "      <td>150</td>\n",
       "      <td>990</td>\n",
       "      <td>843</td>\n",
       "      <td>147.0</td>\n",
       "    </tr>\n",
       "  </tbody>\n",
       "</table>\n",
       "</div>"
      ],
      "text/plain": [
       "  Date updated  County code      County Total cases Confirmed cases  \\\n",
       "0   06/02/2020            1   Fairfield      15,789          15,087   \n",
       "1   06/02/2020            2    Hartford      10,593           9,914   \n",
       "2   06/02/2020            3  Litchfield       1,404           1,338   \n",
       "3   06/02/2020            4   Middlesex       1,161           1,104   \n",
       "4   06/02/2020            5   New Haven      11,548          11,161   \n",
       "\n",
       "  Probable cases Total case rate  Hospitalized cases Total deaths  \\\n",
       "0            702           1,673                 134        1,289   \n",
       "1            679           1,187                  92        1,259   \n",
       "2             66             775                   5          133   \n",
       "3             57             714                  16          152   \n",
       "4            387           1,347                 150          990   \n",
       "\n",
       "  Confirmed deaths  Probable deaths  \n",
       "0              998            291.0  \n",
       "1              958            301.0  \n",
       "2              113             20.0  \n",
       "3              118             34.0  \n",
       "4              843            147.0  "
      ]
     },
     "execution_count": 198,
     "metadata": {},
     "output_type": "execute_result"
    }
   ],
   "source": [
    "POPULATION = 854757\n",
    "\n",
    "covid = DataRepoAPI.get_csv('covid_by_county.csv')\n",
    "covid.head()"
   ]
  },
  {
   "cell_type": "code",
   "execution_count": 199,
   "metadata": {},
   "outputs": [
    {
     "name": "stdout",
     "output_type": "stream",
     "text": [
      "<class 'pandas.core.frame.DataFrame'>\n",
      "RangeIndex: 2960 entries, 0 to 2959\n",
      "Data columns (total 11 columns):\n",
      " #   Column              Non-Null Count  Dtype  \n",
      "---  ------              --------------  -----  \n",
      " 0   Date updated        2960 non-null   object \n",
      " 1   County code         2960 non-null   int64  \n",
      " 2   County              2960 non-null   object \n",
      " 3   Total cases         2960 non-null   object \n",
      " 4   Confirmed cases     2416 non-null   object \n",
      " 5   Probable cases      2416 non-null   object \n",
      " 6   Total case rate     2696 non-null   object \n",
      " 7   Hospitalized cases  2960 non-null   int64  \n",
      " 8   Total deaths        2960 non-null   object \n",
      " 9   Confirmed deaths    2416 non-null   object \n",
      " 10  Probable deaths     2416 non-null   float64\n",
      "dtypes: float64(1), int64(2), object(8)\n",
      "memory usage: 254.5+ KB\n"
     ]
    }
   ],
   "source": [
    "covid.info()"
   ]
  },
  {
   "cell_type": "code",
   "execution_count": 200,
   "metadata": {},
   "outputs": [],
   "source": [
    "# transform dates\n",
    "covid['Date updated'] = pd.to_datetime(covid['Date updated'], format=\"%m/%d/%Y\")\n",
    "covid = covid.sort_values('Date updated').reset_index(drop=True)\n",
    "\n",
    "col_transform = {\n",
    "    'Total cases': 'float32',\n",
    "    'Confirmed cases': 'float32',\n",
    "    'Probable cases': 'float32',\n",
    "    'Total case rate': 'float32',\n",
    "    'Hospitalized cases': 'float32',\n",
    "    'Total deaths': 'float32',\n",
    "    'Confirmed deaths': 'float32',\n",
    "    'Probable deaths': 'float32',\n",
    "}\n",
    "\n",
    "for c in col_transform:\n",
    "    covid[c] = covid[c].apply(lambda x: x.replace(',', '') if type(x) == str else x, 1)\n",
    "\n",
    "covid.replace('NaN', np.NaN, inplace=True)\n",
    "    \n",
    "# transform numbers\n",
    "covid = covid.astype(col_transform)\n",
    "\n",
    "# filter new haven county (code = 5)\n",
    "new_haven_covid = covid[covid[\"County code\"] == 5].copy()\n",
    "new_haven_covid.reset_index(drop=True, inplace=True)\n",
    "new_haven_covid.head()\n",
    "\n",
    "start_date = new_haven_covid.loc[0, 'Date updated'].date()"
   ]
  },
  {
   "cell_type": "code",
   "execution_count": 201,
   "metadata": {},
   "outputs": [],
   "source": [
    "def days_since_start(date):\n",
    "    return (date - start_date).days"
   ]
  },
  {
   "cell_type": "code",
   "execution_count": 202,
   "metadata": {},
   "outputs": [],
   "source": [
    "new_haven_covid['Date updated'] = new_haven_covid['Date updated'].apply(lambda x: days_since_start(x.date()))"
   ]
  },
  {
   "cell_type": "code",
   "execution_count": 203,
   "metadata": {},
   "outputs": [
    {
     "name": "stdout",
     "output_type": "stream",
     "text": [
      "<class 'pandas.core.frame.DataFrame'>\n",
      "RangeIndex: 370 entries, 0 to 369\n",
      "Data columns (total 11 columns):\n",
      " #   Column              Non-Null Count  Dtype  \n",
      "---  ------              --------------  -----  \n",
      " 0   Date updated        370 non-null    int64  \n",
      " 1   County code         370 non-null    int64  \n",
      " 2   County              370 non-null    object \n",
      " 3   Total cases         370 non-null    float32\n",
      " 4   Confirmed cases     302 non-null    float32\n",
      " 5   Probable cases      302 non-null    float32\n",
      " 6   Total case rate     337 non-null    float32\n",
      " 7   Hospitalized cases  370 non-null    float32\n",
      " 8   Total deaths        370 non-null    float32\n",
      " 9   Confirmed deaths    302 non-null    float32\n",
      " 10  Probable deaths     302 non-null    float32\n",
      "dtypes: float32(8), int64(2), object(1)\n",
      "memory usage: 20.4+ KB\n"
     ]
    }
   ],
   "source": [
    "new_haven_covid.info()"
   ]
  },
  {
   "cell_type": "code",
   "execution_count": 272,
   "metadata": {},
   "outputs": [],
   "source": [
    "first_val = new_haven_covid.loc[0, 'Total cases']\n",
    "initial_infection_rate = first_val / POPULATION\n",
    "new_cases = new_haven_covid['Total cases'].diff().fillna(first_val).values.tolist()\n",
    "\n",
    "new_haven_covid['New cases'] = new_cases\n",
    "\n",
    "agg = {'New cases': ['sum'], 'Date updated': ['first']}\n",
    "first200 = new_haven_covid.loc[new_haven_covid.index <= 190, :].copy()\n",
    "first200 = first200.groupby(np.arange(len(first200.index))//10, axis=0).agg(agg)\n",
    "first200.columns = list(agg.keys())"
   ]
  },
  {
   "cell_type": "code",
   "execution_count": 275,
   "metadata": {},
   "outputs": [
    {
     "data": {
      "text/plain": [
       "0.00010412316014960977"
      ]
     },
     "execution_count": 275,
     "metadata": {},
     "output_type": "execute_result"
    }
   ],
   "source": [
    "initial_infection_rate"
   ]
  },
  {
   "cell_type": "code",
   "execution_count": 259,
   "metadata": {
    "scrolled": false
   },
   "outputs": [
    {
     "data": {
      "text/plain": [
       "<AxesSubplot:xlabel='Date updated'>"
      ]
     },
     "execution_count": 259,
     "metadata": {},
     "output_type": "execute_result"
    },
    {
     "data": {
      "image/png": "[encoded data removed]",
      "text/plain": [
       "<Figure size 432x288 with 1 Axes>"
      ]
     },
     "metadata": {
      "needs_background": "light"
     },
     "output_type": "display_data"
    }
   ],
   "source": [
    "first200.plot(x='Date updated', y='New cases')"
   ]
  },
  {
   "cell_type": "markdown",
   "metadata": {},
   "source": [
    "## Modelled"
   ]
  },
  {
   "cell_type": "code",
   "execution_count": 211,
   "metadata": {},
   "outputs": [],
   "source": [
    "url = DATA_REPO_URL_RAW + '/app-data/seir_mobility_pre.pkl'\n",
    "\n",
    "with urlopen(url) as f:\n",
    "    df = pickle.load(f)\n",
    "    \n",
    "def df_group_mean(df):\n",
    "    grouped = df.groupby(['time', 'compartment']).mean()\n",
    "    grouped.reset_index(inplace=True)\n",
    "    return grouped\n",
    "\n",
    "grouped = df_group_mean(df)"
   ]
  },
  {
   "cell_type": "code",
   "execution_count": 212,
   "metadata": {
    "scrolled": false
   },
   "outputs": [
    {
     "data": {
      "text/html": [
       "<div>\n",
       "<style scoped>\n",
       "    .dataframe tbody tr th:only-of-type {\n",
       "        vertical-align: middle;\n",
       "    }\n",
       "\n",
       "    .dataframe tbody tr th {\n",
       "        vertical-align: top;\n",
       "    }\n",
       "\n",
       "    .dataframe thead th {\n",
       "        text-align: right;\n",
       "    }\n",
       "</style>\n",
       "<table border=\"1\" class=\"dataframe\">\n",
       "  <thead>\n",
       "    <tr style=\"text-align: right;\">\n",
       "      <th></th>\n",
       "      <th>time</th>\n",
       "      <th>compartment</th>\n",
       "      <th>value</th>\n",
       "    </tr>\n",
       "  </thead>\n",
       "  <tbody>\n",
       "    <tr>\n",
       "      <th>0</th>\n",
       "      <td>0.0</td>\n",
       "      <td>E</td>\n",
       "      <td>0.01016</td>\n",
       "    </tr>\n",
       "    <tr>\n",
       "      <th>1</th>\n",
       "      <td>0.0</td>\n",
       "      <td>I</td>\n",
       "      <td>0.00000</td>\n",
       "    </tr>\n",
       "    <tr>\n",
       "      <th>2</th>\n",
       "      <td>0.0</td>\n",
       "      <td>R</td>\n",
       "      <td>0.00000</td>\n",
       "    </tr>\n",
       "    <tr>\n",
       "      <th>3</th>\n",
       "      <td>0.0</td>\n",
       "      <td>S</td>\n",
       "      <td>1.01158</td>\n",
       "    </tr>\n",
       "    <tr>\n",
       "      <th>4</th>\n",
       "      <td>10.0</td>\n",
       "      <td>E</td>\n",
       "      <td>0.01593</td>\n",
       "    </tr>\n",
       "  </tbody>\n",
       "</table>\n",
       "</div>"
      ],
      "text/plain": [
       "   time compartment    value\n",
       "0   0.0           E  0.01016\n",
       "1   0.0           I  0.00000\n",
       "2   0.0           R  0.00000\n",
       "3   0.0           S  1.01158\n",
       "4  10.0           E  0.01593"
      ]
     },
     "execution_count": 212,
     "metadata": {},
     "output_type": "execute_result"
    }
   ],
   "source": [
    "grouped.head()"
   ]
  },
  {
   "cell_type": "code",
   "execution_count": 231,
   "metadata": {},
   "outputs": [],
   "source": [
    "wide = grouped.pivot(index=['time'], columns=['compartment'], values='value')\n",
    "wide = wide * POPULATION\n",
    "wide.reset_index(inplace=True)\n",
    "\n",
    "first_val = (-1) * (wide.loc[0, 'E'] + wide.loc[0, 'I'])\n",
    "new_cases = (wide['S'].diff().fillna(first_val) * (-1)).values.tolist()\n",
    "wide['New cases'] = new_cases"
   ]
  },
  {
   "cell_type": "code",
   "execution_count": 232,
   "metadata": {},
   "outputs": [
    {
     "data": {
      "text/html": [
       "<div>\n",
       "<style scoped>\n",
       "    .dataframe tbody tr th:only-of-type {\n",
       "        vertical-align: middle;\n",
       "    }\n",
       "\n",
       "    .dataframe tbody tr th {\n",
       "        vertical-align: top;\n",
       "    }\n",
       "\n",
       "    .dataframe thead th {\n",
       "        text-align: right;\n",
       "    }\n",
       "</style>\n",
       "<table border=\"1\" class=\"dataframe\">\n",
       "  <thead>\n",
       "    <tr style=\"text-align: right;\">\n",
       "      <th>compartment</th>\n",
       "      <th>time</th>\n",
       "      <th>E</th>\n",
       "      <th>I</th>\n",
       "      <th>R</th>\n",
       "      <th>S</th>\n",
       "      <th>New cases</th>\n",
       "    </tr>\n",
       "  </thead>\n",
       "  <tbody>\n",
       "    <tr>\n",
       "      <th>0</th>\n",
       "      <td>0.0</td>\n",
       "      <td>8684.33112</td>\n",
       "      <td>0.00000</td>\n",
       "      <td>0.00000</td>\n",
       "      <td>864655.08606</td>\n",
       "      <td>8684.33112</td>\n",
       "    </tr>\n",
       "    <tr>\n",
       "      <th>1</th>\n",
       "      <td>10.0</td>\n",
       "      <td>13616.27901</td>\n",
       "      <td>12274.31052</td>\n",
       "      <td>6077.32227</td>\n",
       "      <td>841371.50538</td>\n",
       "      <td>23283.58068</td>\n",
       "    </tr>\n",
       "    <tr>\n",
       "      <th>2</th>\n",
       "      <td>20.0</td>\n",
       "      <td>35062.13214</td>\n",
       "      <td>37002.43053</td>\n",
       "      <td>28711.28763</td>\n",
       "      <td>772563.56688</td>\n",
       "      <td>68807.93850</td>\n",
       "    </tr>\n",
       "    <tr>\n",
       "      <th>3</th>\n",
       "      <td>30.0</td>\n",
       "      <td>48473.26947</td>\n",
       "      <td>67525.80300</td>\n",
       "      <td>83022.54741</td>\n",
       "      <td>674317.79730</td>\n",
       "      <td>98245.76958</td>\n",
       "    </tr>\n",
       "    <tr>\n",
       "      <th>4</th>\n",
       "      <td>40.0</td>\n",
       "      <td>42242.09094</td>\n",
       "      <td>83031.09498</td>\n",
       "      <td>159642.96489</td>\n",
       "      <td>588423.26637</td>\n",
       "      <td>85894.53093</td>\n",
       "    </tr>\n",
       "  </tbody>\n",
       "</table>\n",
       "</div>"
      ],
      "text/plain": [
       "compartment  time            E            I             R             S  \\\n",
       "0             0.0   8684.33112      0.00000       0.00000  864655.08606   \n",
       "1            10.0  13616.27901  12274.31052    6077.32227  841371.50538   \n",
       "2            20.0  35062.13214  37002.43053   28711.28763  772563.56688   \n",
       "3            30.0  48473.26947  67525.80300   83022.54741  674317.79730   \n",
       "4            40.0  42242.09094  83031.09498  159642.96489  588423.26637   \n",
       "\n",
       "compartment    New cases  \n",
       "0             8684.33112  \n",
       "1            23283.58068  \n",
       "2            68807.93850  \n",
       "3            98245.76958  \n",
       "4            85894.53093  "
      ]
     },
     "execution_count": 232,
     "metadata": {},
     "output_type": "execute_result"
    }
   ],
   "source": [
    "wide.head()"
   ]
  },
  {
   "cell_type": "code",
   "execution_count": 234,
   "metadata": {},
   "outputs": [
    {
     "data": {
      "text/plain": [
       "<AxesSubplot:xlabel='time'>"
      ]
     },
     "execution_count": 234,
     "metadata": {},
     "output_type": "execute_result"
    },
    {
     "data": {
      "image/png": "[encoded data removed]",
      "text/plain": [
       "<Figure size 432x288 with 1 Axes>"
      ]
     },
     "metadata": {
      "needs_background": "light"
     },
     "output_type": "display_data"
    }
   ],
   "source": [
    "wide.plot(x='time', y='New cases')"
   ]
  },
  {
   "cell_type": "markdown",
   "metadata": {},
   "source": [
    "## Comparison"
   ]
  },
  {
   "cell_type": "code",
   "execution_count": 269,
   "metadata": {},
   "outputs": [],
   "source": [
    "x1 = wide['time'].values.tolist()\n",
    "x2 = first200['Date updated'].values.tolist()\n",
    "\n",
    "y1 = wide['New cases'].pct_change().fillna(0).values.tolist()\n",
    "y2 = first200['New cases'].pct_change().fillna(0).values.tolist()"
   ]
  },
  {
   "cell_type": "code",
   "execution_count": 271,
   "metadata": {},
   "outputs": [
    {
     "data": {
      "image/png": "[encoded data removed]",
      "text/plain": [
       "<Figure size 576x360 with 1 Axes>"
      ]
     },
     "metadata": {
      "needs_background": "light"
     },
     "output_type": "display_data"
    }
   ],
   "source": [
    "plt.figure(num = 3, figsize=(8, 5))\n",
    "plt.plot(x1, y1)\n",
    "plt.plot(x1, y2, color='red')\n",
    "plt.show()"
   ]
  },
  {
   "cell_type": "code",
   "execution_count": null,
   "metadata": {},
   "outputs": [],
   "source": []
  }
 ],
 "metadata": {
  "kernelspec": {
   "display_name": "Python 3 (ipykernel)",
   "language": "python",
   "name": "python3"
  },
  "language_info": {
   "codemirror_mode": {
    "name": "ipython",
    "version": 3
   },
   "file_extension": ".py",
   "mimetype": "text/x-python",
   "name": "python",
   "nbconvert_exporter": "python",
   "pygments_lexer": "ipython3",
   "version": "3.9.2"
  }
 },
 "nbformat": 4,
 "nbformat_minor": 1
}
