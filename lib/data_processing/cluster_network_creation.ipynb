{
 "cells": [
  {
   "cell_type": "markdown",
   "id": "1f54f23f",
   "metadata": {},
   "source": [
    "# Cluster Network Creation\n",
    "\n",
    "Perform computationally expensive network analysis on a computing cluster. Results are pushed to a data repository on GitHub."
   ]
  },
  {
   "cell_type": "code",
   "execution_count": 1,
   "id": "6ea41b9e",
   "metadata": {},
   "outputs": [],
   "source": [
    "# to allow relative imports\n",
    "import os\n",
    "import sys\n",
    "\n",
    "module = os.path.abspath(os.path.join('..'))\n",
    "if module not in sys.path:\n",
    "    sys.path.append(module)\n",
    "\n",
    "# experiment\n",
    "from epyc import Lab, JSONLabNotebook, RepeatedExperiment\n",
    "from data_processing.metrics import MetricExperiment\n",
    "\n",
    "# generators\n",
    "from epydemic import PLCNetwork\n",
    "from model.network.mobility_network import MNGeneratorFromNetworkData as MNG\n",
    "from model.network.distanced_network import DNGenerator as DNG\n",
    "\n",
    "# distributions\n",
    "from model.distributions import discrete_trunc_normal, discrete_trunc_exponential, num_contact_dist\n",
    "\n",
    "# file utils\n",
    "from data_processing.data_repo_api import DataRepoAPI\n",
    "from data_processing.utils import load_network_data_from_files\n",
    "\n",
    "# other utils\n",
    "from functools import partial\n",
    "import numpy as np\n",
    "from mpmath import polylog"
   ]
  },
  {
   "cell_type": "code",
   "execution_count": 2,
   "id": "90a4d787",
   "metadata": {},
   "outputs": [],
   "source": [
    "# Some global parameters\n",
    "\n",
    "N = 1000\n",
    "CUTOFF = 40\n",
    "MOBILITY_EXPONENT = 2\n",
    "n_exp = 10\n",
    "\n",
    "# Experiment result output dir\n",
    "output_dir = 'experiment_results'\n",
    "if not output_dir in os.listdir():\n",
    "    os.mkdir(output_dir)\n",
    "\n",
    "# Helper functions\n",
    "def run_network_lab_experiment(generator, params, file_name, description, n=n_exp,\n",
    "                               output_dir=output_dir, push_to_repo=True):\n",
    "    \"\"\"\n",
    "    Run a MetricExperiment repeatadly using a network generator.\n",
    "    \"\"\"\n",
    "\n",
    "    file = os.path.join(output_dir, file_name)\n",
    "    \n",
    "    nb = JSONLabNotebook(file, create=True, description=description)\n",
    "    lab = Lab(notebook=nb)\n",
    "    \n",
    "    e = MetricExperiment(generator)\n",
    "\n",
    "    # pass params to the lab\n",
    "    for k, v in params.items():\n",
    "        lab[k] = v\n",
    "\n",
    "    lab.runExperiment(RepeatedExperiment(e, n))\n",
    "    \n",
    "    if push_to_repo:\n",
    "        DataRepoAPI.update_or_create(file_name=file_name, file_path=output_dir)\n",
    "    \n",
    "    return lab.results()\n",
    "\n",
    "def plc_mean(exponent, cutoff):\n",
    "    \"\"\"\n",
    "    Calculate theoretical mean of a power law with cutoff distribution from\n",
    "    the exponent and the cutoff.\n",
    "    \"\"\"\n",
    "    nom = polylog(exponent-1, np.exp(-1 / cutoff))\n",
    "    denom = polylog(exponent, np.exp(-1 / cutoff))\n",
    "    return nom / denom\n",
    "\n",
    "def estimate_exponent_for_mean(mean, cutoff, tolerance):\n",
    "    \"\"\"\n",
    "    Given the mean and cutoff of a power law with cutoff distribution,\n",
    "    estimate the corresponding exponent with a given tolerance.\n",
    "    \"\"\"\n",
    "    grid = np.arange(1, 5, 0.01)\n",
    "    diffs = []\n",
    "    for i in range(len(grid)):\n",
    "        diff = abs(mean - plc_mean(grid[i], cutoff))\n",
    "        if diff < tolerance:\n",
    "            return grid[i]\n",
    "        diffs.append(diff)\n",
    "    \n",
    "    return grid[diffs.index(min(diffs))]"
   ]
  },
  {
   "cell_type": "markdown",
   "id": "6a1ed773",
   "metadata": {},
   "source": [
    "### Mobility network"
   ]
  },
  {
   "cell_type": "code",
   "execution_count": 3,
   "id": "5aed8a50",
   "metadata": {},
   "outputs": [],
   "source": [
    "# Load the network data\n",
    "\n",
    "file_names = dict(\n",
    "    demographics='demographics.pkl',\n",
    "    comb_pre='comb_counts_pre.pkl',\n",
    "    comb_post='comb_counts_post.pkl',\n",
    "    trip_pre='trip_counts_pre.pkl',\n",
    "    trip_post='trip_counts_post.pkl',\n",
    ")\n",
    "\n",
    "network_data = load_network_data_from_files(file_names)\n",
    "\n",
    "network_data_pre = network_data['pre']\n",
    "network_data_post = network_data['post']"
   ]
  },
  {
   "cell_type": "code",
   "execution_count": 4,
   "id": "1b361456",
   "metadata": {},
   "outputs": [],
   "source": [
    "# Define the generator parameters\n",
    "params_mobility_pre = dict()\n",
    "params_mobility_pre[MNG.N] = N\n",
    "params_mobility_pre[MNG.EXPONENT] = MOBILITY_EXPONENT\n",
    "params_mobility_pre[MNG.CUTOFF] = CUTOFF\n",
    "params_mobility_pre[MNG.MULTIPLIER] = False\n",
    "\n",
    "params_mobility_post = dict()\n",
    "params_mobility_post[MNG.N] = N\n",
    "params_mobility_post[MNG.EXPONENT] = MOBILITY_EXPONENT\n",
    "params_mobility_post[MNG.CUTOFF] = CUTOFF\n",
    "params_mobility_post[MNG.MULTIPLIER] = True"
   ]
  },
  {
   "cell_type": "code",
   "execution_count": 5,
   "id": "f71c040b",
   "metadata": {},
   "outputs": [],
   "source": [
    "# Generator instances\n",
    "mng_pre = MNG(network_data=network_data_pre)\n",
    "mng_post = MNG(network_data=network_data_post)"
   ]
  },
  {
   "cell_type": "code",
   "execution_count": 5,
   "id": "5d409f3d",
   "metadata": {},
   "outputs": [],
   "source": [
    "# Run experiment\n",
    "mng_pre_results = run_network_lab_experiment(\n",
    "    mng_pre, \n",
    "    params_mobility_pre, \n",
    "    'mobility_pre.json', \n",
    "    'Network metrics of Mobility pre'\n",
    ")\n",
    "\n",
    "\n",
    "mng_post_results = run_network_lab_experiment(\n",
    "    mng_post, \n",
    "    params_mobility_post, \n",
    "    'mobility_post.json', \n",
    "    'Network metrics of Mobility post'\n",
    ")"
   ]
  },
  {
   "cell_type": "code",
   "execution_count": 7,
   "id": "9294d88d",
   "metadata": {},
   "outputs": [],
   "source": [
    "def extract_mean_deg(results):\n",
    "    deg_lis = [x['results']['degrees'] for x in results]\n",
    "    return np.mean([i for s in deg_lis for i in s])\n",
    "\n",
    "mob_deg_pre = extract_mean_deg(mng_pre_results)\n",
    "mob_deg_post = extract_mean_deg(mng_post_results)"
   ]
  },
  {
   "cell_type": "markdown",
   "id": "b4eb2bab",
   "metadata": {},
   "source": [
    "### PLC network"
   ]
  },
  {
   "cell_type": "code",
   "execution_count": 8,
   "id": "8839bcd2",
   "metadata": {},
   "outputs": [],
   "source": [
    "# Estimate the exponent for the PLC to achieve same degree\n",
    "#  as the mobility networks\n",
    "\n",
    "plc_expo_pre = estimate_exponent_for_mean(mob_deg_pre, CUTOFF, 0.01)\n",
    "plc_expo_post = estimate_exponent_for_mean(mob_deg_post, CUTOFF, 0.01)"
   ]
  },
  {
   "cell_type": "code",
   "execution_count": 9,
   "id": "04e11b87",
   "metadata": {},
   "outputs": [],
   "source": [
    "# Define the generator parameters\n",
    "params_plc_pre = dict()\n",
    "params_plc_pre[PLCNetwork.N] = 10000\n",
    "params_plc_pre[PLCNetwork.EXPONENT] = plc_expo_pre\n",
    "params_plc_pre[PLCNetwork.CUTOFF] = CUTOFF\n",
    "\n",
    "params_plc_post = dict()\n",
    "params_plc_post[PLCNetwork.N] = 10000\n",
    "params_plc_post[PLCNetwork.EXPONENT] = plc_expo_post\n",
    "params_plc_post[PLCNetwork.CUTOFF] = CUTOFF"
   ]
  },
  {
   "cell_type": "code",
   "execution_count": 14,
   "id": "d8d2fe50",
   "metadata": {},
   "outputs": [],
   "source": [
    "plc_pre = PLCNetwork()\n",
    "plc_post = PLCNetwork()"
   ]
  },
  {
   "cell_type": "code",
   "execution_count": 10,
   "id": "490d43ad",
   "metadata": {},
   "outputs": [],
   "source": [
    "_ = run_network_lab_experiment(plc_pre, params_plc_pre, 'plc_pre.json', \n",
    "                               'Network metrics of PLC pre')\n",
    "\n",
    "_ = run_network_lab_experiment(plc_post, params_plc_post, 'plc_post.json', \n",
    "                               'Network metrics of PLC post')"
   ]
  },
  {
   "cell_type": "markdown",
   "id": "b0af7dfe",
   "metadata": {},
   "source": [
    "### Distanced network"
   ]
  },
  {
   "cell_type": "code",
   "execution_count": 12,
   "id": "760da963",
   "metadata": {},
   "outputs": [],
   "source": [
    "household_size_dist = partial(discrete_trunc_normal, mu=4.5, std=2)\n",
    "\n",
    "params_distanced_pre = dict()\n",
    "params_distanced_pre[DNG.N] = 10000\n",
    "\n",
    "params_distanced_post = dict()\n",
    "params_distanced_post[DNG.N] = 10000"
   ]
  },
  {
   "cell_type": "code",
   "execution_count": 13,
   "id": "8e57b8a8",
   "metadata": {},
   "outputs": [],
   "source": [
    "distanced_pre = DNG(\n",
    "    household_size_dist=household_size_dist,\n",
    "    num_contact_dist=num_contact_dist,\n",
    "    num_outside_edge_dist=partial(discrete_trunc_exponential, exponent=mob_deg_pre)\n",
    ")\n",
    "\n",
    "distanced_post = DNG(\n",
    "    household_size_dist=household_size_dist,\n",
    "    num_contact_dist=num_contact_dist,\n",
    "    num_outside_edge_dist=partial(discrete_trunc_exponential, exponent=mob_deg_post)\n",
    ")"
   ]
  },
  {
   "cell_type": "code",
   "execution_count": 14,
   "id": "f8f49354",
   "metadata": {},
   "outputs": [],
   "source": [
    "_ = run_network_lab_experiment(distanced_pre, params_distanced_pre, 'distanced_pre.json', \n",
    "                               'Network metrics of PLC pre')\n",
    "\n",
    "_ = run_network_lab_experiment(distanced_post, params_distanced_post, 'distanced_post.json', \n",
    "                               'Network metrics of PLC post')"
   ]
  },
  {
   "cell_type": "markdown",
   "id": "69b3690d",
   "metadata": {},
   "source": [
    "# Epidemic models"
   ]
  },
  {
   "cell_type": "code",
   "execution_count": 6,
   "id": "c048f8d4",
   "metadata": {},
   "outputs": [],
   "source": [
    "# Import models etc\n",
    "from epydemic import SEIR\n",
    "from model.compartmental_models.seir import MonitoredSEIR\n",
    "from model.compartmental_model.seir import SEIRWithQuarantine as SEIRQ\n",
    "from model.compartmental_model.seir import MonitoredSEIRWithQuarantine as MonitoredSEIRQ\n",
    "from model.compartmental_model.seivr import SEIVR, MonitoredSEIVR\n",
    "from model.compartmental_model.seivr import SEIVRWithQuarantine as SEIVRQ\n",
    "from model.compartmental_model.seivr import MonitoredSEIVRWithQuarantine as MonitoredSEIVRQ\n",
    "\n",
    "from epydemic import StochasticDynamics, Monitor\n",
    "\n",
    "from model.distributions import PowerLawCutoffDist as PLCD"
   ]
  },
  {
   "cell_type": "code",
   "execution_count": 16,
   "id": "2ce50bd7",
   "metadata": {},
   "outputs": [],
   "source": [
    "# Helper functions\n",
    "\n",
    "def calc_p_infect(r0, p_remove, k_mean, k_var):\n",
    "    \"\"\"\n",
    "    Calc p_infect.\n",
    "    :param r0: basic reproduction number\n",
    "    :param p_remove: probability of removal\n",
    "    :param k_mean: Mean of node degree distribution\n",
    "    :param k_var: Variance of node degree distribution\n",
    "    :return: p_infect\n",
    "    \"\"\"\n",
    "    return float(p_remove * r0 * (k_mean / (k_var - k_mean)))\n",
    "\n",
    "\n",
    "def run_stochastic_dynamics_lab(model, generator, params, \n",
    "                                file_name, description, n=n_exp,\n",
    "                                output_dir=output_dir, push_to_repo=True):\n",
    "    \"\"\"\n",
    "    Run a StochasticDynamics experiment repeatadly in a lab.\n",
    "    \"\"\"\n",
    "\n",
    "    file = os.path.join(output_dir, file_name)\n",
    "    \n",
    "    nb = JSONLabNotebook(file, create=True, description=description)\n",
    "    lab = Lab(notebook=nb)\n",
    "    \n",
    "    e = StochasticDynamics(model, generator)\n",
    "\n",
    "    # pass params to the lab\n",
    "    for k, v in params.items():\n",
    "        lab[k] = v\n",
    "\n",
    "    lab.runExperiment(RepeatedExperiment(e, n))\n",
    "    \n",
    "    if push_to_repo:\n",
    "        DataRepoAPI.update_or_create(file_name=file_name, file_path=output_dir)\n",
    "    \n",
    "    return lab.results()"
   ]
  },
  {
   "cell_type": "markdown",
   "id": "6a881444",
   "metadata": {},
   "source": [
    "## Parameters\n",
    "\n",
    "We will fix as many COVID-19 specific parameters as we can and leave only policy dependent parameters open for modifications.\n",
    "\n",
    "We set the following parameters\n",
    "\n",
    "| Variable | Value | Description | Reference |\n",
    "| :-- | --: | :-- | :-- |\n",
    "| R0 | $2.85$ | Basic Reproduction Number | 1) |\n",
    "| P_INFECT | ... | P. of infection | ... |\n",
    "| P_REMOVE | $0.1$ | P. of removal | 2) |\n",
    "| P_SYMPTOPMS | $0.2$ | P. of becoming symptomatic | 3) |\n",
    "| P_EXPOSED | $0.01$ | P. of initial infection | ... |\n",
    "| RRR | $0.95$, $0.67$ | Vaccine efficacy | 4), 5), 6) |\n",
    "| P_VACCINATED | $10^{-3}$ to $10^{-2}$ by $10^{-3}$| P. of getting vaccinated | ... |\n",
    "| P_VACCINATED_INITIAL | $0$ to $1$ by $0.1$ | P. of initial vaccination | ... |\n",
    "| P_QUARANTINE | $0$ to $1$ by $0.1$ | P. of rewiring | ... |\n",
    "\n",
    "\n",
    "1) https://journals.plos.org/plosone/article?id=10.1371/journal.pone.0249271\n",
    "\n",
    "2) https://www.thelancet.com/journals/lanmic/article/PIIS2666-5247(20)30172-5/fulltext\n",
    "\n",
    "3) https://doi.org/10.3389/fpubh.2020.598547\n",
    "\n",
    "4) https://www.nejm.org/doi/full/10.1056/NEJMoa2034577\n",
    "\n",
    "5) https://www.nejm.org/doi/full/10.1056/nejmoa2035389\n",
    "\n",
    "6) https://www.sciencedirect.com/science/article/pii/S0140673620326611"
   ]
  },
  {
   "cell_type": "code",
   "execution_count": 5,
   "id": "64bac485",
   "metadata": {},
   "outputs": [],
   "source": [
    "# Fixed\n",
    "R0 = 2.85\n",
    "_P_INFECT = None  # to calculate later \n",
    "P_REMOVE = 0.1\n",
    "P_SYMPTOMS = 0.2\n",
    "P_EXPOSED = 0.01\n",
    "\n",
    "_RRR = [0.95, 0.67]\n",
    "\n",
    "# Free\n",
    "_P_VACCINATED = np.arange(0.001, 0.011, 0.001)\n",
    "_P_VACCINATED_INITAL = np.arange(0, 1.1, 0.1)\n",
    "_P_QUARANTINE = np.arange(0, 1.1, 0.1)"
   ]
  },
  {
   "cell_type": "code",
   "execution_count": 18,
   "id": "f9f6560f",
   "metadata": {},
   "outputs": [],
   "source": [
    "# Fix parameters as far as possible\n",
    "\n",
    "params_seir = dict()\n",
    "params_seir[SEIR.P_SYMPTOMS] = P_SYMPTOMS\n",
    "params_seir[SEIR.P_REMOVE] = P_REMOVE\n",
    "params_seir[SEIR.P_EXPOSED] = P_EXPOSED\n",
    "\n",
    "params_seivr = dict()\n",
    "params_seivr[SEIVR.P_SYMPTOMS] = P_SYMPTOMS\n",
    "params_seivr[SEIVR.P_REMOVE] = P_REMOVE\n",
    "params_seivr[SEIVR.P_EXPOSED] = P_EXPOSED\n",
    "\n",
    "params_monitor = dict()\n",
    "params_monitor[Monitor.DELTA] = 10"
   ]
  },
  {
   "cell_type": "code",
   "execution_count": null,
   "id": "697addfd",
   "metadata": {},
   "outputs": [],
   "source": [
    "# Calculate P_INFECT\n",
    "\n",
    "# Mobility\n",
    "plcd = PLCD(MOBILITY_EXPONENT, CUTOFF)\n",
    "P_INFECT_MOBILITY = calc_p_infect(R0, P_REMOVE, plcd.mean, plcd.var)\n",
    "\n",
    "# PLC\n",
    "plcd = PLCD(plc_expo_pre, CUTOFF)\n",
    "P_INFECT_PLC = calc_p_infect(R0, P_REMOVE, plcd.mean, plcd.var)\n",
    "\n",
    "# Distanced\n",
    "mean = mob_deg_pre\n",
    "var = mean ** 2\n",
    "P_INFECT_DISTANCED = calc_p_infect(R0, P_REMOVE, mean, var)\n",
    "\n",
    "# clean up\n",
    "del mean, var, plcd"
   ]
  },
  {
   "cell_type": "markdown",
   "id": "54f6056c",
   "metadata": {},
   "source": [
    "### SEIR & SEIR_Q"
   ]
  },
  {
   "cell_type": "markdown",
   "id": "2ce7cf4b",
   "metadata": {},
   "source": [
    "#### SEIR on Mobility"
   ]
  },
  {
   "cell_type": "code",
   "execution_count": 20,
   "id": "2732e78e",
   "metadata": {},
   "outputs": [],
   "source": [
    "# params\n",
    "params_pre = params_mobility_pre | params_seir | params_monitor\n",
    "params_pre[SEIR.P_INFECT_SYMPTOMATIC] = P_INFECT_MOBILITY\n",
    "params_pre[SEIR.P_INFECT_ASYMPTOMATIC] = P_INFECT_MOBILITY / 2\n",
    "\n",
    "params_post = params_mobility_post | params_seir | params_monitor\n",
    "params_post[SEIR.P_INFECT_SYMPTOMATIC] = P_INFECT_MOBILITY\n",
    "params_post[SEIR.P_INFECT_ASYMPTOMATIC] = P_INFECT_MOBILITY / 2"
   ]
  },
  {
   "cell_type": "code",
   "execution_count": 22,
   "id": "d84380da",
   "metadata": {},
   "outputs": [],
   "source": [
    "_ = run_stochastic_dynamics_lab(\n",
    "    MonitoredSEIR(),\n",
    "    mng_pre, \n",
    "    params_pre, \n",
    "    'seir_mobility_pre.json',\n",
    "    'SEIR simulation with Mobility Network (Pre)',\n",
    ")\n",
    "\n",
    "_ = run_stochastic_dynamics_lab(\n",
    "    MonitoredSEIR(), \n",
    "    mng_post, \n",
    "    params_post, \n",
    "    'seir_mobility_post.json',\n",
    "    'SEIR simulation with Mobility Network (Post)'\n",
    ")"
   ]
  },
  {
   "cell_type": "code",
   "execution_count": null,
   "id": "92ecc4e0",
   "metadata": {},
   "outputs": [],
   "source": [
    "# reset params\n",
    "del params_pre, params_post"
   ]
  },
  {
   "cell_type": "markdown",
   "id": "f1484efb",
   "metadata": {},
   "source": [
    "#### SEIR_Q on Mobility"
   ]
  },
  {
   "cell_type": "code",
   "execution_count": 24,
   "id": "6e3ffdb6",
   "metadata": {},
   "outputs": [],
   "source": [
    "params_pre = params_mobility_pre | params_seir | params_monitor\n",
    "params_pre[SEIRQ.P_INFECT_SYMPTOMATIC] = P_INFECT_MOBILITY\n",
    "params_pre[SEIRQ.P_INFECT_ASYMPTOMATIC] = P_INFECT_MOBILITY / 2\n",
    "params_pre[SEIRQ.P_QUARANTINE] = _P_QUARANTINE\n",
    "\n",
    "params_post = params_mobility_post | params_seir | params_monitor\n",
    "params_post[SEIRQ.P_INFECT_SYMPTOMATIC] = P_INFECT_MOBILITY\n",
    "params_post[SEIRQ.P_INFECT_ASYMPTOMATIC] = P_INFECT_MOBILITY / 2\n",
    "params_post[SEIRQ.P_QUARANTINE] = _P_QUARANTINE"
   ]
  },
  {
   "cell_type": "code",
   "execution_count": null,
   "id": "d8a33a62",
   "metadata": {},
   "outputs": [],
   "source": [
    "_ = run_stochastic_dynamics_lab(\n",
    "    MonitoredSEIRQ(), \n",
    "    mng_pre, \n",
    "    params_pre, \n",
    "    'seirq_mobility_pre.json',\n",
    "    'SEIR_Q simulation with Mobility Network (Pre)',\n",
    ")\n",
    "\n",
    "_ = run_stochastic_dynamics_lab(\n",
    "    MonitoredSEIRQ(), \n",
    "    mng_post, \n",
    "    params_post, \n",
    "    'seirq_mobility_post.json',\n",
    "    'SEIR_Q simulation with Mobility Network (Post)'\n",
    ")"
   ]
  },
  {
   "cell_type": "code",
   "execution_count": null,
   "id": "ffbef12c",
   "metadata": {},
   "outputs": [],
   "source": [
    "# reset params\n",
    "del params_pre, params_post"
   ]
  },
  {
   "cell_type": "markdown",
   "id": "e5a36e0d",
   "metadata": {},
   "source": [
    "#### SEIR on PLC"
   ]
  },
  {
   "cell_type": "code",
   "execution_count": null,
   "id": "f447b346",
   "metadata": {},
   "outputs": [],
   "source": [
    "params_pre = params_plc_pre | params_seir | params_monitor\n",
    "params_pre[SEIR.P_INFECT_SYMPTOMATIC] = P_INFECT_PLC\n",
    "params_pre[SEIR.P_INFECT_ASYMPTOMATIC] = P_INFECT_PLC / 2\n",
    "\n",
    "params_post = params_plc_post | params_seir | params_monitor\n",
    "params_post[SEIR.P_INFECT_SYMPTOMATIC] = P_INFECT_PLC\n",
    "params_post[SEIR.P_INFECT_ASYMPTOMATIC] = P_INFECT_PLC / 2"
   ]
  },
  {
   "cell_type": "code",
   "execution_count": null,
   "id": "8d2bb945",
   "metadata": {},
   "outputs": [],
   "source": [
    "_ = run_stochastic_dynamics_lab(\n",
    "    MonitoredSEIR(), \n",
    "    PLCNetwork(), \n",
    "    params_pre, \n",
    "    'seir_plc_pre.json',\n",
    "    'SEIR simulation with PLC Network (Pre)',\n",
    ")\n",
    "\n",
    "_ = run_stochastic_dynamics_lab(\n",
    "    MonitoredSEIR(), \n",
    "    PLCNetwork(), \n",
    "    params_post, \n",
    "    'seir_plc_post.json',\n",
    "    'SEIR simulation with PLC Network (Post)'\n",
    ")"
   ]
  },
  {
   "cell_type": "code",
   "execution_count": null,
   "id": "69bc73f7",
   "metadata": {},
   "outputs": [],
   "source": [
    "del params_pre, params_post"
   ]
  },
  {
   "cell_type": "markdown",
   "id": "7efff04d",
   "metadata": {},
   "source": [
    "#### SEIR_Q on PLC"
   ]
  },
  {
   "cell_type": "code",
   "execution_count": null,
   "id": "cebab55c",
   "metadata": {},
   "outputs": [],
   "source": [
    "params_pre = params_plc_pre | params_seir | params_monitor\n",
    "params_pre[SEIRQ.P_INFECT_SYMPTOMATIC] = P_INFECT_PLC\n",
    "params_pre[SEIRQ.P_INFECT_ASYMPTOMATIC] = P_INFECT_PLC / 2\n",
    "params_pre[SEIRQ.P_QUARANTINE] = _P_QUARANTINE\n",
    "\n",
    "params_post = params_plc_post | params_seir | params_monitor\n",
    "params_post[SEIRQ.P_INFECT_SYMPTOMATIC] = P_INFECT_PLC\n",
    "params_post[SEIRQ.P_INFECT_ASYMPTOMATIC] = P_INFECT_PLC / 2\n",
    "params_post[SEIRQ.P_QUARANTINE] = _P_QUARANTINE"
   ]
  },
  {
   "cell_type": "code",
   "execution_count": null,
   "id": "44098c21",
   "metadata": {},
   "outputs": [],
   "source": [
    "_ = run_stochastic_dynamics_lab(\n",
    "    MonitoredSEIRQ(), \n",
    "    PLCNetwork(), \n",
    "    params_pre, \n",
    "    'seirq_plc_pre.json',\n",
    "    'SEIR_Q simulation with PLC Network (Pre)',\n",
    ")\n",
    "\n",
    "_ = run_stochastic_dynamics_lab(\n",
    "    MonitoredSEIRQ(), \n",
    "    PLCNetwork(), \n",
    "    params_post, \n",
    "    'seirq_plc_post.json',\n",
    "    'SEIR_Q simulation with PLC Network (Post)'\n",
    ")"
   ]
  },
  {
   "cell_type": "code",
   "execution_count": null,
   "id": "80616654",
   "metadata": {},
   "outputs": [],
   "source": [
    "del params_pre, params_post"
   ]
  },
  {
   "cell_type": "markdown",
   "id": "6b1edcfc",
   "metadata": {},
   "source": [
    "#### SEIR on Distanced"
   ]
  },
  {
   "cell_type": "code",
   "execution_count": null,
   "id": "7c6c9859",
   "metadata": {},
   "outputs": [],
   "source": [
    "params_pre = params_distanced_pre | params_seir | params_monitor\n",
    "params_pre[SEIR.P_INFECT_SYMPTOMATIC] = P_INFECT_DISTANCED\n",
    "params_pre[SEIR.P_INFECT_ASYMPTOMATIC] = P_INFECT_DISTANCED / 2\n",
    "\n",
    "params_post = params_distanced_post | params_seir | params_monitor\n",
    "params_post[SEIR.P_INFECT_SYMPTOMATIC] = P_INFECT_DISTANCED\n",
    "params_post[SEIR.P_INFECT_ASYMPTOMATIC] = P_INFECT_DISTANCED / 2"
   ]
  },
  {
   "cell_type": "code",
   "execution_count": null,
   "id": "7e6578a9",
   "metadata": {},
   "outputs": [],
   "source": [
    "_ = run_stochastic_dynamics_lab(\n",
    "    MonitoredSEIR(), \n",
    "    distanced_pre, \n",
    "    params_pre, \n",
    "    'seir_distanced_pre.json',\n",
    "    'SEIR simulation with Distanced Network (Pre)',\n",
    ")\n",
    "\n",
    "_ = run_stochastic_dynamics_lab(\n",
    "    MonitoredSEIR(), \n",
    "    distanced_post, \n",
    "    params_post, \n",
    "    'seir_distanced_post.json',\n",
    "    'SEIR simulation with Distanced Network (Post)'\n",
    ")"
   ]
  },
  {
   "cell_type": "code",
   "execution_count": null,
   "id": "90d2e7ef",
   "metadata": {},
   "outputs": [],
   "source": [
    "del params_pre, params_post"
   ]
  },
  {
   "cell_type": "markdown",
   "id": "d5f86ba7",
   "metadata": {},
   "source": [
    "#### SEIR_Q on Distanced"
   ]
  },
  {
   "cell_type": "code",
   "execution_count": null,
   "id": "9aae05f5",
   "metadata": {},
   "outputs": [],
   "source": [
    "params_pre = params_distanced_pre | params_seir | params_monitor\n",
    "params_pre[SEIRQ.P_INFECT_SYMPTOMATIC] = P_INFECT_DISTANCED\n",
    "params_pre[SEIRQ.P_INFECT_ASYMPTOMATIC] = P_INFECT_DISTANCED / 2\n",
    "params_pre[SEIRQ.P_QUARANTINE] = _P_QUARANTINE\n",
    "\n",
    "params_post = params_distanced_post | params_seir | params_monitor\n",
    "params_post[SEIRQ.P_INFECT_SYMPTOMATIC] = P_INFECT_DISTANCED\n",
    "params_post[SEIRQ.P_INFECT_ASYMPTOMATIC] = P_INFECT_DISTANCED / 2\n",
    "params_post[SEIRQ.P_QUARANTINE] = _P_QUARANTINE"
   ]
  },
  {
   "cell_type": "code",
   "execution_count": null,
   "id": "5d87f56e",
   "metadata": {},
   "outputs": [],
   "source": [
    "_ = run_stochastic_dynamics_lab(\n",
    "    MonitoredSEIRQ(), \n",
    "    distanced_pre, \n",
    "    params_pre, \n",
    "    'seirq_distanced_pre.json',\n",
    "    'SEIR_Q simulation with Distanced Network (Pre)',\n",
    ")\n",
    "\n",
    "_ = run_stochastic_dynamics_lab(\n",
    "    MonitoredSEIRQ(), \n",
    "    distanced_post, \n",
    "    params_post, \n",
    "    'seirq_distanced_post.json',\n",
    "    'SEIR_Q simulation with Distanced Network (Post)'\n",
    ")"
   ]
  },
  {
   "cell_type": "code",
   "execution_count": null,
   "id": "7e0aa686",
   "metadata": {},
   "outputs": [],
   "source": [
    "del params_pre, params_post"
   ]
  },
  {
   "cell_type": "markdown",
   "id": "37c5722d",
   "metadata": {},
   "source": [
    "### SEIVR & SEIVR_Q"
   ]
  },
  {
   "cell_type": "markdown",
   "id": "7344b9f9",
   "metadata": {},
   "source": [
    "#### SEIVR on Mobility"
   ]
  },
  {
   "cell_type": "code",
   "execution_count": 7,
   "id": "194c1295",
   "metadata": {},
   "outputs": [
    {
     "ename": "NameError",
     "evalue": "name 'params_seivr' is not defined",
     "output_type": "error",
     "traceback": [
      "\u001B[0;31m---------------------------------------------------------------------------\u001B[0m",
      "\u001B[0;31mNameError\u001B[0m                                 Traceback (most recent call last)",
      "\u001B[0;32m<ipython-input-7-1e5c4b8f4c7b>\u001B[0m in \u001B[0;36m<module>\u001B[0;34m\u001B[0m\n\u001B[0;32m----> 1\u001B[0;31m \u001B[0mparams_pre\u001B[0m \u001B[0;34m=\u001B[0m \u001B[0mparams_mobility_pre\u001B[0m \u001B[0;34m|\u001B[0m \u001B[0mparams_seivr\u001B[0m \u001B[0;34m|\u001B[0m \u001B[0mparams_monitor\u001B[0m\u001B[0;34m\u001B[0m\u001B[0;34m\u001B[0m\u001B[0m\n\u001B[0m\u001B[1;32m      2\u001B[0m \u001B[0mparams_pre\u001B[0m\u001B[0;34m[\u001B[0m\u001B[0mSEIVR\u001B[0m\u001B[0;34m.\u001B[0m\u001B[0mP_INFECT_SYMPTOMATIC\u001B[0m\u001B[0;34m]\u001B[0m \u001B[0;34m=\u001B[0m \u001B[0mP_INFECT_MOBILITY\u001B[0m\u001B[0;34m\u001B[0m\u001B[0;34m\u001B[0m\u001B[0m\n\u001B[1;32m      3\u001B[0m \u001B[0mparams_pre\u001B[0m\u001B[0;34m[\u001B[0m\u001B[0mSEIVR\u001B[0m\u001B[0;34m.\u001B[0m\u001B[0mP_INFECT_ASYMPTOMATIC\u001B[0m\u001B[0;34m]\u001B[0m \u001B[0;34m=\u001B[0m \u001B[0mP_INFECT_MOBILITY\u001B[0m \u001B[0;34m/\u001B[0m \u001B[0;36m2\u001B[0m\u001B[0;34m\u001B[0m\u001B[0;34m\u001B[0m\u001B[0m\n\u001B[1;32m      4\u001B[0m \u001B[0mparams_pre\u001B[0m\u001B[0;34m[\u001B[0m\u001B[0mSEIVR\u001B[0m\u001B[0;34m.\u001B[0m\u001B[0mP_VACCINATED\u001B[0m\u001B[0;34m]\u001B[0m \u001B[0;34m=\u001B[0m \u001B[0m_P_VACCINATED\u001B[0m\u001B[0;34m\u001B[0m\u001B[0;34m\u001B[0m\u001B[0m\n\u001B[1;32m      5\u001B[0m \u001B[0mparams_pre\u001B[0m\u001B[0;34m[\u001B[0m\u001B[0mSEIVR\u001B[0m\u001B[0;34m.\u001B[0m\u001B[0mP_VACCINATED_INITIAL\u001B[0m\u001B[0;34m]\u001B[0m \u001B[0;34m=\u001B[0m \u001B[0m_P_VACCINATED_INITAL\u001B[0m\u001B[0;34m\u001B[0m\u001B[0;34m\u001B[0m\u001B[0m\n",
      "\u001B[0;31mNameError\u001B[0m: name 'params_seivr' is not defined"
     ]
    }
   ],
   "source": [
    "params_pre = params_mobility_pre | params_seivr | params_monitor\n",
    "params_pre[SEIVR.P_INFECT_SYMPTOMATIC] = P_INFECT_MOBILITY\n",
    "params_pre[SEIVR.P_INFECT_ASYMPTOMATIC] = P_INFECT_MOBILITY / 2\n",
    "params_pre[SEIVR.P_VACCINATED] = _P_VACCINATED\n",
    "params_pre[SEIVR.P_VACCINATED_INITIAL] = _P_VACCINATED_INITAL\n",
    "params_pre[SEIVR.VACCINE_RRR] = _RRR\n",
    "\n",
    "params_post = params_mobility_post | params_seivr | params_monitor\n",
    "params_post[SEIVR.P_INFECT_SYMPTOMATIC] = P_INFECT_MOBILITY\n",
    "params_post[SEIVR.P_INFECT_ASYMPTOMATIC] = P_INFECT_MOBILITY / 2\n",
    "params_post[SEIVR.P_VACCINATED] = _P_VACCINATED\n",
    "params_post[SEIVR.P_VACCINATED_INITIAL] = _P_VACCINATED_INITAL\n",
    "params_post[SEIVR.VACCINE_RRR] = _RRR"
   ]
  },
  {
   "cell_type": "code",
   "execution_count": null,
   "id": "ec072e5f",
   "metadata": {},
   "outputs": [],
   "source": [
    "_ = run_stochastic_dynamics_lab(\n",
    "    MonitoredSEIVR(), \n",
    "    mng_pre, \n",
    "    params_pre, \n",
    "    'seivr_mobility_pre.json',\n",
    "    'SEIVR simulation with Mobility Network (Pre)',\n",
    ")\n",
    "\n",
    "_ = run_stochastic_dynamics_lab(\n",
    "    MonitoredSEIVR(), \n",
    "    mng_post, \n",
    "    params_post, \n",
    "    'seivr_mobility_post.json',\n",
    "    'SEIVR simulation with Mobility Network (Post)'\n",
    ")"
   ]
  },
  {
   "cell_type": "code",
   "execution_count": null,
   "id": "824aece5",
   "metadata": {},
   "outputs": [],
   "source": [
    "del params_pre, params_post"
   ]
  },
  {
   "cell_type": "markdown",
   "id": "5f40e7f5",
   "metadata": {},
   "source": [
    "#### SEIVR_Q on Mobility"
   ]
  },
  {
   "cell_type": "code",
   "execution_count": 6,
   "id": "2d38c864",
   "metadata": {},
   "outputs": [
    {
     "ename": "NameError",
     "evalue": "name 'params_seivr' is not defined",
     "output_type": "error",
     "traceback": [
      "\u001B[0;31m---------------------------------------------------------------------------\u001B[0m",
      "\u001B[0;31mNameError\u001B[0m                                 Traceback (most recent call last)",
      "\u001B[0;32m<ipython-input-6-acec1b56a677>\u001B[0m in \u001B[0;36m<module>\u001B[0;34m\u001B[0m\n\u001B[0;32m----> 1\u001B[0;31m \u001B[0mparams_pre\u001B[0m \u001B[0;34m=\u001B[0m \u001B[0mparams_mobility_pre\u001B[0m \u001B[0;34m|\u001B[0m \u001B[0mparams_seivr\u001B[0m \u001B[0;34m|\u001B[0m \u001B[0mparams_monitor\u001B[0m\u001B[0;34m\u001B[0m\u001B[0;34m\u001B[0m\u001B[0m\n\u001B[0m\u001B[1;32m      2\u001B[0m \u001B[0mparams_pre\u001B[0m\u001B[0;34m[\u001B[0m\u001B[0mSEIVRQ\u001B[0m\u001B[0;34m.\u001B[0m\u001B[0mP_INFECT_SYMPTOMATIC\u001B[0m\u001B[0;34m]\u001B[0m \u001B[0;34m=\u001B[0m \u001B[0mP_INFECT_MOBILITY\u001B[0m\u001B[0;34m\u001B[0m\u001B[0;34m\u001B[0m\u001B[0m\n\u001B[1;32m      3\u001B[0m \u001B[0mparams_pre\u001B[0m\u001B[0;34m[\u001B[0m\u001B[0mSEIVRQ\u001B[0m\u001B[0;34m.\u001B[0m\u001B[0mP_INFECT_ASYMPTOMATIC\u001B[0m\u001B[0;34m]\u001B[0m \u001B[0;34m=\u001B[0m \u001B[0mP_INFECT_MOBILITY\u001B[0m \u001B[0;34m/\u001B[0m \u001B[0;36m2\u001B[0m\u001B[0;34m\u001B[0m\u001B[0;34m\u001B[0m\u001B[0m\n\u001B[1;32m      4\u001B[0m \u001B[0mparams_pre\u001B[0m\u001B[0;34m[\u001B[0m\u001B[0mSEIVRQ\u001B[0m\u001B[0;34m.\u001B[0m\u001B[0mP_VACCINATED\u001B[0m\u001B[0;34m]\u001B[0m \u001B[0;34m=\u001B[0m \u001B[0m_P_VACCINATED\u001B[0m\u001B[0;34m\u001B[0m\u001B[0;34m\u001B[0m\u001B[0m\n\u001B[1;32m      5\u001B[0m \u001B[0mparams_pre\u001B[0m\u001B[0;34m[\u001B[0m\u001B[0mSEIVRQ\u001B[0m\u001B[0;34m.\u001B[0m\u001B[0mP_VACCINATED_INITIAL\u001B[0m\u001B[0;34m]\u001B[0m \u001B[0;34m=\u001B[0m \u001B[0m_P_VACCINATED_INITAL\u001B[0m\u001B[0;34m\u001B[0m\u001B[0;34m\u001B[0m\u001B[0m\n",
      "\u001B[0;31mNameError\u001B[0m: name 'params_seivr' is not defined"
     ]
    }
   ],
   "source": [
    "params_pre = params_mobility_pre | params_seivr | params_monitor\n",
    "params_pre[SEIVRQ.P_INFECT_SYMPTOMATIC] = P_INFECT_MOBILITY\n",
    "params_pre[SEIVRQ.P_INFECT_ASYMPTOMATIC] = P_INFECT_MOBILITY / 2\n",
    "params_pre[SEIVRQ.P_VACCINATED] = _P_VACCINATED\n",
    "params_pre[SEIVRQ.P_VACCINATED_INITIAL] = _P_VACCINATED_INITAL\n",
    "params_pre[SEIVRQ.VACCINE_RRR] = _RRR\n",
    "params_pre[SEIVRQ.P_QUARANTINE] = _P_QUARANTINE\n",
    "\n",
    "params_post = params_mobility_post | params_seivr | params_monitor\n",
    "params_post[SEIVRQ.P_INFECT_SYMPTOMATIC] = P_INFECT_MOBILITY\n",
    "params_post[SEIVRQ.P_INFECT_ASYMPTOMATIC] = P_INFECT_MOBILITY / 2\n",
    "params_post[SEIVRQ.P_VACCINATED] = _P_VACCINATED\n",
    "params_post[SEIVRQ.P_VACCINATED_INITIAL] = _P_VACCINATED_INITAL\n",
    "params_post[SEIVRQ.VACCINE_RRR] = _RRR\n",
    "params_post[SEIVRQ.P_QUARANTINE] = _P_QUARANTINE"
   ]
  },
  {
   "cell_type": "code",
   "execution_count": null,
   "id": "0c275cdf",
   "metadata": {},
   "outputs": [],
   "source": [
    "_ = run_stochastic_dynamics_lab(\n",
    "    MonitoredSEIVRQ(), \n",
    "    mng_pre, \n",
    "    params_pre, \n",
    "    'seivrq_mobility_pre.json',\n",
    "    'SEIVR_Q simulation with Mobility Network (Pre)',\n",
    ")\n",
    "\n",
    "_ = run_stochastic_dynamics_lab(\n",
    "    MonitoredSEIVRQ(), \n",
    "    mng_post, \n",
    "    params_post, \n",
    "    'seivrq_mobility_post.json',\n",
    "    'SEIVR_Q simulation with Mobility Network (Post)'\n",
    ")"
   ]
  },
  {
   "cell_type": "code",
   "execution_count": null,
   "id": "a3c84e92",
   "metadata": {},
   "outputs": [],
   "source": [
    "del params_pre, params_post"
   ]
  },
  {
   "cell_type": "markdown",
   "id": "05695a79",
   "metadata": {},
   "source": [
    "#### SEIVR on PLC"
   ]
  },
  {
   "cell_type": "code",
   "execution_count": null,
   "id": "94e60e3d",
   "metadata": {},
   "outputs": [],
   "source": [
    "params_pre = params_plc_pre | params_seivr | params_monitor\n",
    "params_pre[SEIVR.P_INFECT_SYMPTOMATIC] = P_INFECT_PLC\n",
    "params_pre[SEIVR.P_INFECT_ASYMPTOMATIC] = P_INFECT_PLC / 2\n",
    "params_pre[SEIVR.P_VACCINATED] = _P_VACCINATED\n",
    "params_pre[SEIVR.P_VACCINATED_INITIAL] = _P_VACCINATED_INITAL\n",
    "params_pre[SEIVR.VACCINE_RRR] = _RRR\n",
    "\n",
    "params_post = params_plc_post | params_seivr | params_monitor\n",
    "params_post[SEIVR.P_INFECT_SYMPTOMATIC] = P_INFECT_PLC\n",
    "params_post[SEIVR.P_INFECT_ASYMPTOMATIC] = P_INFECT_PLC / 2\n",
    "params_post[SEIVR.P_VACCINATED] = _P_VACCINATED\n",
    "params_post[SEIVR.P_VACCINATED_INITIAL] = _P_VACCINATED_INITAL\n",
    "params_post[SEIVR.VACCINE_RRR] = _RRR"
   ]
  },
  {
   "cell_type": "code",
   "execution_count": null,
   "id": "c584e045",
   "metadata": {},
   "outputs": [],
   "source": [
    "_ = run_stochastic_dynamics_lab(\n",
    "    MonitoredSEIVR(), \n",
    "    PLCNetwork(), \n",
    "    params_pre, \n",
    "    'seivr_plc_pre.json',\n",
    "    'SEIVR simulation with PLC Network (Pre)',\n",
    ")\n",
    "\n",
    "_ = run_stochastic_dynamics_lab(\n",
    "    MonitoredSEIVR(), \n",
    "    PLCNetwork(), \n",
    "    params_post, \n",
    "    'seivr_plc_post.json',\n",
    "    'SEIVR simulation with PLC Network (Post)'\n",
    ")"
   ]
  },
  {
   "cell_type": "code",
   "execution_count": null,
   "id": "60172b42",
   "metadata": {},
   "outputs": [],
   "source": [
    "del params_pre, params_post"
   ]
  },
  {
   "cell_type": "markdown",
   "id": "46941230",
   "metadata": {},
   "source": [
    "#### SEIVR_Q on PLC"
   ]
  },
  {
   "cell_type": "code",
   "execution_count": null,
   "id": "7174b8f9",
   "metadata": {},
   "outputs": [],
   "source": [
    "params_pre = params_plc_pre | params_seivr | params_monitor\n",
    "params_pre[SEIVRQ.P_INFECT_SYMPTOMATIC] = P_INFECT_PLC\n",
    "params_pre[SEIVRQ.P_INFECT_ASYMPTOMATIC] = P_INFECT_PLC / 2\n",
    "params_pre[SEIVRQ.P_VACCINATED] = _P_VACCINATED\n",
    "params_pre[SEIVRQ.P_VACCINATED_INITIAL] = _P_VACCINATED_INITAL\n",
    "params_pre[SEIVRQ.VACCINE_RRR] = _RRR\n",
    "params_pre[SEIVRQ.P_QUARANTINE] = _P_QUARANTINE\n",
    "\n",
    "params_post = params_plc_post | params_seivr | params_monitor\n",
    "params_post[SEIVRQ.P_INFECT_SYMPTOMATIC] = P_INFECT_PLC\n",
    "params_post[SEIVRQ.P_INFECT_ASYMPTOMATIC] = P_INFECT_PLC / 2\n",
    "params_post[SEIVRQ.P_VACCINATED] = _P_VACCINATED\n",
    "params_post[SEIVRQ.P_VACCINATED_INITIAL] = _P_VACCINATED_INITAL\n",
    "params_post[SEIVRQ.VACCINE_RRR] = _RRR\n",
    "params_post[SEIVRQ.P_QUARANTINE] = _P_QUARANTINE"
   ]
  },
  {
   "cell_type": "code",
   "execution_count": null,
   "id": "45c83ddd",
   "metadata": {},
   "outputs": [],
   "source": [
    "_ = run_stochastic_dynamics_lab(\n",
    "    MonitoredSEIVRQ(), \n",
    "    PLCNetwork(), \n",
    "    params_pre, \n",
    "    'seivrq_plc_pre.json',\n",
    "    'SEIVR_Q simulation with PLC Network (Pre)',\n",
    ")\n",
    "\n",
    "_ = run_stochastic_dynamics_lab(\n",
    "    MonitoredSEIVRQ(), \n",
    "    PLCNetwork(), \n",
    "    params_post, \n",
    "    'seivrq_plc_post.json',\n",
    "    'SEIVR_Q simulation with PLC Network (Post)'\n",
    ")"
   ]
  },
  {
   "cell_type": "code",
   "execution_count": null,
   "id": "e52b3f54",
   "metadata": {},
   "outputs": [],
   "source": [
    "del params_pre, params_post"
   ]
  },
  {
   "cell_type": "markdown",
   "id": "d2bc8124",
   "metadata": {},
   "source": [
    "#### SEIVR on Distanced"
   ]
  },
  {
   "cell_type": "code",
   "execution_count": null,
   "id": "c9b4218a",
   "metadata": {},
   "outputs": [],
   "source": [
    "params_pre = params_distanced_pre | params_seivr | params_monitor\n",
    "params_pre[SEIVR.P_INFECT_SYMPTOMATIC] = P_INFECT_DISTANCED\n",
    "params_pre[SEIVR.P_INFECT_ASYMPTOMATIC] = P_INFECT_DISTANCED / 2\n",
    "params_pre[SEIVR.P_VACCINATED] = _P_VACCINATED\n",
    "params_pre[SEIVR.P_VACCINATED_INITIAL] = _P_VACCINATED_INITAL\n",
    "params_pre[SEIVR.VACCINE_RRR] = _RRR\n",
    "\n",
    "params_post = params_distanced_post | params_seivr | params_monitor\n",
    "params_post[SEIVR.P_INFECT_SYMPTOMATIC] = P_INFECT_DISTANCED\n",
    "params_post[SEIVR.P_INFECT_ASYMPTOMATIC] = P_INFECT_DISTANCED / 2\n",
    "params_post[SEIVR.P_VACCINATED] = _P_VACCINATED\n",
    "params_post[SEIVR.P_VACCINATED_INITIAL] = _P_VACCINATED_INITAL\n",
    "params_post[SEIVR.VACCINE_RRR] = _RRR"
   ]
  },
  {
   "cell_type": "code",
   "execution_count": null,
   "id": "a42efe1a",
   "metadata": {},
   "outputs": [],
   "source": [
    "_ = run_stochastic_dynamics_lab(\n",
    "    MonitoredSEIVR(), \n",
    "    distanced_pre, \n",
    "    params_pre, \n",
    "    'seivr_distanced_pre.json',\n",
    "    'SEIVR simulation with Distanced Network (Pre)',\n",
    ")\n",
    "\n",
    "_ = run_stochastic_dynamics_lab(\n",
    "    MonitoredSEIVR(), \n",
    "    distanced_post, \n",
    "    params_post, \n",
    "    'seivr_distanced_post.json',\n",
    "    'SEIVR simulation with Distanced Network (Post)'\n",
    ")"
   ]
  },
  {
   "cell_type": "code",
   "execution_count": null,
   "id": "221d062a",
   "metadata": {},
   "outputs": [],
   "source": [
    "del params_pre, params_post"
   ]
  },
  {
   "cell_type": "markdown",
   "id": "4bc54beb",
   "metadata": {},
   "source": [
    "#### SEIVR_Q on Distanced"
   ]
  },
  {
   "cell_type": "code",
   "execution_count": null,
   "id": "ea271c84",
   "metadata": {},
   "outputs": [],
   "source": [
    "params_pre = params_distanced_pre | params_seivr | params_monitor\n",
    "params_pre[SEIVRQ.P_INFECT_SYMPTOMATIC] = P_INFECT_DISTANCED\n",
    "params_pre[SEIVRQ.P_INFECT_ASYMPTOMATIC] = P_INFECT_DISTANCED / 2\n",
    "params_pre[SEIVRQ.P_VACCINATED] = _P_VACCINATED\n",
    "params_pre[SEIVRQ.P_VACCINATED_INITIAL] = _P_VACCINATED_INITAL\n",
    "params_pre[SEIVRQ.VACCINE_RRR] = _RRR\n",
    "params_pre[SEIVRQ.P_QUARANTINE] = _P_QUARANTINE\n",
    "\n",
    "params_post = params_distanced_post | params_seivr | params_monitor\n",
    "params_post[SEIVRQ.P_INFECT_SYMPTOMATIC] = P_INFECT_DISTANCED\n",
    "params_post[SEIVRQ.P_INFECT_ASYMPTOMATIC] = P_INFECT_DISTANCED / 2\n",
    "params_post[SEIVRQ.P_VACCINATED] = _P_VACCINATED\n",
    "params_post[SEIVRQ.P_VACCINATED_INITIAL] = _P_VACCINATED_INITAL\n",
    "params_post[SEIVRQ.VACCINE_RRR] = _RRR\n",
    "params_post[SEIVRQ.P_QUARANTINE] = _P_QUARANTINE"
   ]
  },
  {
   "cell_type": "code",
   "execution_count": null,
   "id": "c6d8a9fd",
   "metadata": {},
   "outputs": [],
   "source": [
    "_ = run_stochastic_dynamics_lab(\n",
    "    MonitoredSEIVRQ(), \n",
    "    distanced_pre, \n",
    "    params_pre, \n",
    "    'seivrq_distanced_pre.json',\n",
    "    'SEIVR_Q simulation with Distanced Network (Pre)',\n",
    ")\n",
    "\n",
    "_ = run_stochastic_dynamics_lab(\n",
    "    MonitoredSEIVRQ(), \n",
    "    distanced_post, \n",
    "    params_post, \n",
    "    'seivrq_distanced_post.json',\n",
    "    'SEIVR_Q simulation with Distanced Network (Post)'\n",
    ")"
   ]
  },
  {
   "cell_type": "code",
   "execution_count": null,
   "id": "402a6ee4",
   "metadata": {},
   "outputs": [],
   "source": [
    "del params_pre, params_post"
   ]
  }
 ],
 "metadata": {
  "kernelspec": {
   "display_name": "Python 3",
   "language": "python",
   "name": "python3"
  },
  "language_info": {
   "codemirror_mode": {
    "name": "ipython",
    "version": 3
   },
   "file_extension": ".py",
   "mimetype": "text/x-python",
   "name": "python",
   "nbconvert_exporter": "python",
   "pygments_lexer": "ipython3",
   "version": "3.9.2"
  }
 },
 "nbformat": 4,
 "nbformat_minor": 5
}