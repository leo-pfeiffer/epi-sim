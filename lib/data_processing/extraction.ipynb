{
 "cells": [
  {
   "cell_type": "markdown",
   "id": "12776816",
   "metadata": {},
   "source": [
    "## Data extraction\n",
    "\n",
    "Extract only the required data from raw CSV and save to Pickle files."
   ]
  },
  {
   "cell_type": "code",
   "execution_count": 9,
   "id": "18124af5",
   "metadata": {},
   "outputs": [],
   "source": [
    "# to allow relative imports\n",
    "import os\n",
    "import sys\n",
    "\n",
    "module = os.path.abspath(os.path.join('..'))\n",
    "if module not in sys.path:\n",
    "    sys.path.append(module)\n",
    "\n",
    "import pandas as pd\n",
    "import numpy as np\n",
    "\n",
    "from configuration import RAW, OUT, REMOTE_RAW\n",
    "\n",
    "# use remote files if local files not available\n",
    "if not os.path.isdir(RAW) or len(os.listdir(RAW)) == 0:\n",
    "    RAW = REMOTE_RAW\n",
    "    \n",
    "# make output directory if required\n",
    "if not os.path.isdir(OUT):\n",
    "    "
   ]
  },
  {
   "cell_type": "markdown",
   "id": "666c7431",
   "metadata": {},
   "source": [
    "Define the files to be read in."
   ]
  },
  {
   "cell_type": "code",
   "execution_count": 2,
   "id": "6df9771d",
   "metadata": {},
   "outputs": [],
   "source": [
    "# define the required cbg_group_regex\n",
    "CBG_CODE = '09009'\n",
    "COUNTY_NAME = 'new haven county'\n",
    "\n",
    "# define the data to be extracted\n",
    "\n",
    "# census files\n",
    "CBG_B01 = {\n",
    "    'file': 'cbg_b01.csv',\n",
    "    'cols': [0, 159, 160],\n",
    "    'names': ['cbg', 'B01003e1', 'B01003m1'],\n",
    "    'dtypes': {0: 'string', 159: np.int32, 160: np.int32}\n",
    "}\n",
    "\n",
    "CBG_B25 = {\n",
    "    'file': 'cbg_b25.csv',\n",
    "    'cols': [0, 187, 188],\n",
    "    'names': ['cbg', 'B25010e1', 'B25010m1'],\n",
    "    'dtypes': {0: 'string', 187: np.float32, 188: np.float32}\n",
    "}\n",
    "\n",
    "# patterns files (pre and post lockdown)\n",
    "PATTERNS_PRE = {\n",
    "    'file': 'feb2020_core_poi-patterns.csv',\n",
    "    'cols': [0, 25, 35],\n",
    "    'names': ['placekey', 'visitor_cbg', 'cbg'],\n",
    "    'dtypes': {0: 'string', 35: 'string', 25: 'string'},\n",
    "}\n",
    "\n",
    "PATTERNS_POST = {\n",
    "    'file': 'apr2020_core_poi-patterns.csv',\n",
    "    'cols': [0, 25, 35],\n",
    "    'names': ['placekey', 'visitor_cbg', 'cbg'],\n",
    "    'dtypes': {0: 'string', 35: 'string', 25: 'string'},\n",
    "}\n",
    "\n",
    "# Google mobility data\n",
    "GOOGLE_MOBILITY = {\n",
    "    'file': '2020_US_Region_Mobility_Report.csv',\n",
    "    'cols': [3, 8, 9, 10, 11, 12, 13, 14],\n",
    "    'names': ['county', 'date', 'retail_recreation', 'grocery_pharmacy', 'park', \n",
    "              'transit', 'workplace', 'residential'],\n",
    "    'date_cols': ['date'],\n",
    "    'dtypes': {3: 'string'},\n",
    "    'google': True\n",
    "}"
   ]
  },
  {
   "cell_type": "markdown",
   "id": "1c07cb24",
   "metadata": {},
   "source": [
    "Define the function to read the data."
   ]
  },
  {
   "cell_type": "code",
   "execution_count": 3,
   "id": "d9be87f2",
   "metadata": {},
   "outputs": [],
   "source": [
    "def read(data: Dict) -> pd.DataFrame:\n",
    "    \"\"\"\n",
    "    Read raw data from a csv file.\n",
    "    :param data: contains info on the data to extract.\n",
    "    :returns: data in a pandas data frame.\n",
    "    \"\"\"\n",
    "    \n",
    "    if not 'date_cols' in data:\n",
    "        data['date_cols'] = False\n",
    "    \n",
    "    iter_csv = pd.read_csv(f\"{RAW}{data['file']}\", usecols=data['cols'],\n",
    "                           dtype=data['dtypes'], parse_dates=data['date_cols'],\n",
    "                           header=0, names=data['names'], iterator=True,\n",
    "                           chunksize=1000)\n",
    "    \n",
    "    # google mobility data\n",
    "    if 'google' in data.keys():\n",
    "        \n",
    "        # filter county\n",
    "        county_filter = lambda x: x.lower() == COUNTY_NAME\\\n",
    "            if not pd.isnull(x) else False\n",
    "\n",
    "        df = pd.concat([chunk[chunk['county'].apply(county_filter)]\n",
    "                        for chunk in iter_csv])\n",
    "    \n",
    "    else:\n",
    "\n",
    "        # filter cbg\n",
    "        cbg_filter = lambda x: x.startswith(CBG_CODE) \\\n",
    "            if not pd.isnull(x) else False\n",
    "\n",
    "        df = pd.concat([chunk[chunk['cbg'].apply(cbg_filter)]\n",
    "                        for chunk in iter_csv])\n",
    "    \n",
    "    return df"
   ]
  },
  {
   "cell_type": "markdown",
   "id": "55595bdd",
   "metadata": {},
   "source": [
    "Read in the raw data."
   ]
  },
  {
   "cell_type": "code",
   "execution_count": 4,
   "id": "e9099a55",
   "metadata": {},
   "outputs": [
    {
     "name": "stdout",
     "output_type": "stream",
     "text": [
      "CPU times: user 25.3 s, sys: 8.8 s, total: 34.1 s\n",
      "Wall time: 37 s\n"
     ]
    }
   ],
   "source": [
    "%%time\n",
    "    \n",
    "# read from csv\n",
    "df_google = read(GOOGLE_MOBILITY)\n",
    "df_pat_pre = read(PATTERNS_PRE)\n",
    "df_pat_post = read(PATTERNS_POST)\n",
    "df_b01 = read(CBG_B01)\n",
    "df_b25 = read(CBG_B25)"
   ]
  },
  {
   "cell_type": "markdown",
   "id": "9e484d79",
   "metadata": {},
   "source": [
    "Save data to Pickle."
   ]
  },
  {
   "cell_type": "code",
   "execution_count": 5,
   "id": "127c7188",
   "metadata": {},
   "outputs": [
    {
     "name": "stdout",
     "output_type": "stream",
     "text": [
      "CPU times: user 41.1 ms, sys: 36.3 ms, total: 77.4 ms\n",
      "Wall time: 79.3 ms\n"
     ]
    }
   ],
   "source": [
    "%%time\n",
    "\n",
    "# save to pickle\n",
    "df_google.to_pickle(f'{OUT}df_google.pkl')\n",
    "df_pat_pre.to_pickle(f'{OUT}df_pat_pre.pkl')\n",
    "df_pat_post.to_pickle(f'{OUT}df_pat_post.pkl')\n",
    "df_b01.to_pickle(f'{OUT}df_b01.pkl')\n",
    "df_b25.to_pickle(f'{OUT}df_b25.pkl')"
   ]
  }
 ],
 "metadata": {
  "kernelspec": {
   "display_name": "Python 3",
   "language": "python",
   "name": "python3"
  },
  "language_info": {
   "codemirror_mode": {
    "name": "ipython",
    "version": 3
   },
   "file_extension": ".py",
   "mimetype": "text/x-python",
   "name": "python",
   "nbconvert_exporter": "python",
   "pygments_lexer": "ipython3",
   "version": "3.9.2"
  }
 },
 "nbformat": 4,
 "nbformat_minor": 5
}
