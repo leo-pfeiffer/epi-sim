{
 "cells": [
  {
   "cell_type": "markdown",
   "id": "9062d326",
   "metadata": {},
   "source": [
    "## Network analysis\n",
    "\n",
    "Calculate and plot network metrics for the graphs created in the last step as well as some of the Google COVID-19 Mobility Report data for the relevant time periods."
   ]
  },
  {
   "cell_type": "code",
   "execution_count": 1,
   "id": "c175c9eb",
   "metadata": {},
   "outputs": [],
   "source": [
    "from typing import Dict, List, Tuple, Callable\n",
    "import pickle\n",
    "import numpy as np\n",
    "import networkx as nx\n",
    "import matplotlib\n",
    "from matplotlib import pyplot as plt\n",
    "import seaborn\n",
    "\n",
    "from data_paths import OUT, GRAPHS, GRAPHICS"
   ]
  },
  {
   "cell_type": "markdown",
   "id": "7b468e7d",
   "metadata": {},
   "source": [
    "Read pickled data created in previous steps."
   ]
  },
  {
   "cell_type": "code",
   "execution_count": 2,
   "id": "a1a66256",
   "metadata": {},
   "outputs": [],
   "source": [
    "demographics = pickle.load(open(f'{OUT}demographics.pkl', 'rb'))\n",
    "\n",
    "comb_counts_pre = pickle.load(open(f'{OUT}comb_counts_pre.pkl', 'rb'))\n",
    "comb_counts_post = pickle.load(open(f'{OUT}comb_counts_post.pkl', 'rb'))\n",
    "\n",
    "trip_counts_pre = pickle.load(open(f'{OUT}trip_counts_pre.pkl', 'rb'))\n",
    "trip_counts_post = pickle.load(open(f'{OUT}trip_counts_post.pkl', 'rb'))\n",
    "\n",
    "g_pre = nx.read_graphml(f'{GRAPHS}pre_N_10000.graphml')\n",
    "g_post = nx.read_graphml(f'{GRAPHS}post_N_10000.graphml')\n",
    "\n",
    "google_mobility_agg = pickle.load(open(f'{OUT}google_mobility_agg.pkl', 'rb'))"
   ]
  },
  {
   "cell_type": "markdown",
   "id": "b7d2e32b",
   "metadata": {},
   "source": [
    "Store all CBG codes in order."
   ]
  },
  {
   "cell_type": "code",
   "execution_count": 3,
   "id": "e26bbfb4",
   "metadata": {},
   "outputs": [],
   "source": [
    "# store all CBGs in order\n",
    "ordered_cbgs = sorted(demographics.keys())"
   ]
  },
  {
   "cell_type": "markdown",
   "id": "19cc4b2c",
   "metadata": {},
   "source": [
    "Calculate density of the networks."
   ]
  },
  {
   "cell_type": "code",
   "execution_count": 4,
   "id": "a923cd4e",
   "metadata": {},
   "outputs": [],
   "source": [
    "# density\n",
    "def calc_density(graph: nx.Graph) -> float:\n",
    "    num_edges = len(graph.edges)\n",
    "    num_nodes = len(graph.nodes)\n",
    "    num_edges_max = num_nodes * (num_nodes - 1) / 2\n",
    "    return num_edges / num_edges_max"
   ]
  },
  {
   "cell_type": "code",
   "execution_count": 5,
   "id": "419f8aa4",
   "metadata": {},
   "outputs": [
    {
     "name": "stdout",
     "output_type": "stream",
     "text": [
      "CPU times: user 12.6 ms, sys: 101 µs, total: 12.7 ms\n",
      "Wall time: 12.5 ms\n"
     ]
    }
   ],
   "source": [
    "%%time\n",
    "densities = [calc_density(g_pre), calc_density(g_post)]"
   ]
  },
  {
   "cell_type": "markdown",
   "id": "070ef523",
   "metadata": {},
   "source": [
    "Calculate the shortest path length of each pair of nodes in the networks."
   ]
  },
  {
   "cell_type": "code",
   "execution_count": 6,
   "id": "0b1c379f",
   "metadata": {},
   "outputs": [],
   "source": [
    "# shortest path length\n",
    "\n",
    "def calc_shortest_paths(graph: nx.Graph) -> List[int]:\n",
    "    shortest_paths = []\n",
    "    for x in nx.shortest_path_length(graph):\n",
    "        shortest_paths.extend(list(x[1].values()))\n",
    "    return shortest_paths"
   ]
  },
  {
   "cell_type": "code",
   "execution_count": 7,
   "id": "a59bbcc2",
   "metadata": {},
   "outputs": [
    {
     "name": "stdout",
     "output_type": "stream",
     "text": [
      "CPU times: user 4 µs, sys: 1e+03 ns, total: 5 µs\n",
      "Wall time: 10.3 µs\n"
     ]
    }
   ],
   "source": [
    "%%time\n",
    "# takes very long.. only calculate if necessary\n",
    "\n",
    "# shortest_paths = []\n",
    "# shortest_paths.append(calc_shortest_paths(g_pre))\n",
    "# shortest_paths.append(calc_shortest_paths(g_post))\n",
    "\n",
    "# pickle.dump(shortest_paths, open(f'{OUT}shortest_paths.pkl', 'wb'))"
   ]
  },
  {
   "cell_type": "code",
   "execution_count": 8,
   "id": "952eded2",
   "metadata": {},
   "outputs": [
    {
     "ename": "FileNotFoundError",
     "evalue": "[Errno 2] No such file or directory: 'data/out/shortest_paths.pkl'",
     "output_type": "error",
     "traceback": [
      "\u001b[0;31m---------------------------------------------------------------------------\u001b[0m",
      "\u001b[0;31mFileNotFoundError\u001b[0m                         Traceback (most recent call last)",
      "\u001b[0;32m<ipython-input-8-3809b3f7e416>\u001b[0m in \u001b[0;36m<module>\u001b[0;34m\u001b[0m\n\u001b[0;32m----> 1\u001b[0;31m \u001b[0mshortest_paths\u001b[0m \u001b[0;34m=\u001b[0m \u001b[0mpickle\u001b[0m\u001b[0;34m.\u001b[0m\u001b[0mload\u001b[0m\u001b[0;34m(\u001b[0m\u001b[0mopen\u001b[0m\u001b[0;34m(\u001b[0m\u001b[0;34mf'{OUT}shortest_paths.pkl'\u001b[0m\u001b[0;34m,\u001b[0m \u001b[0;34m'rb'\u001b[0m\u001b[0;34m)\u001b[0m\u001b[0;34m)\u001b[0m\u001b[0;34m\u001b[0m\u001b[0;34m\u001b[0m\u001b[0m\n\u001b[0m",
      "\u001b[0;31mFileNotFoundError\u001b[0m: [Errno 2] No such file or directory: 'data/out/shortest_paths.pkl'"
     ]
    }
   ],
   "source": [
    "shortest_paths = pickle.load(open(f'{OUT}shortest_paths.pkl', 'rb'))"
   ]
  },
  {
   "cell_type": "markdown",
   "id": "eeaead27",
   "metadata": {},
   "source": [
    "Calculate the cluster coefficients for each networks."
   ]
  },
  {
   "cell_type": "code",
   "execution_count": null,
   "id": "4eb00c7e",
   "metadata": {},
   "outputs": [],
   "source": [
    "# cluster coefficient\n",
    "def calc_cluster_coeff(graph: nx.Graph) -> List[float]:\n",
    "    coefficients = nx.clustering(graph)\n",
    "    return list(coefficients.values())"
   ]
  },
  {
   "cell_type": "code",
   "execution_count": null,
   "id": "3012a561",
   "metadata": {},
   "outputs": [],
   "source": [
    "%%time\n",
    "\n",
    "clustering_coeffs = []\n",
    "clustering_coeffs.append(calc_cluster_coeff(g_pre))\n",
    "clustering_coeffs.append(calc_cluster_coeff(g_post))"
   ]
  },
  {
   "cell_type": "markdown",
   "id": "29cde90c",
   "metadata": {},
   "source": [
    "Extract the network degrees."
   ]
  },
  {
   "cell_type": "code",
   "execution_count": null,
   "id": "ff6a3d73",
   "metadata": {},
   "outputs": [],
   "source": [
    "%%time\n",
    "degrees = [list(dict(g_pre.degree()).values()), \n",
    "           list(dict(g_post.degree()).values())]"
   ]
  },
  {
   "cell_type": "markdown",
   "id": "3d96de87",
   "metadata": {},
   "source": [
    "### Visualisations"
   ]
  },
  {
   "cell_type": "markdown",
   "id": "894e879e",
   "metadata": {},
   "source": [
    "Define helper functions for plotting."
   ]
  },
  {
   "cell_type": "code",
   "execution_count": null,
   "id": "ef50d8df",
   "metadata": {},
   "outputs": [],
   "source": [
    "# set the colors of pairs of boxplots to red and blue.\n",
    "def set_boxplot_colors(bp):\n",
    "    bp['medians'][0].set_color('firebrick')\n",
    "    bp['medians'][1].set_color('steelblue')\n",
    "    \n",
    "    bp['boxes'][0].set_color('firebrick')\n",
    "    bp['boxes'][1].set_color('steelblue')\n",
    "    \n",
    "    bp['caps'][0].set_color('firebrick')\n",
    "    bp['caps'][1].set_color('firebrick')\n",
    "    bp['caps'][2].set_color('steelblue')\n",
    "    bp['caps'][3].set_color('steelblue')\n",
    "    \n",
    "    bp['whiskers'][0].set_color('firebrick')\n",
    "    bp['whiskers'][1].set_color('firebrick')\n",
    "    bp['whiskers'][2].set_color('steelblue')\n",
    "    bp['whiskers'][3].set_color('steelblue')"
   ]
  },
  {
   "cell_type": "markdown",
   "id": "6c7c0289",
   "metadata": {},
   "source": [
    "Visualise the trip counts of the Patterns data and data from the Google COVID-19 Mobility Report."
   ]
  },
  {
   "cell_type": "code",
   "execution_count": null,
   "id": "a32172b0",
   "metadata": {
    "scrolled": true
   },
   "outputs": [],
   "source": [
    "matplotlib.style.use('seaborn')\n",
    "matplotlib.rcParams['figure.dpi'] = 300\n",
    "seaborn.set_context('notebook', font_scale=1.5)\n",
    "\n",
    "fig, (ax1, ax2) = plt.subplots(1, 2, figsize=(15, 5), facecolor='w', gridspec_kw={'width_ratios': [1, 3]})\n",
    "\n",
    "# trip counts\n",
    "data_trips = [list(trip_counts_pre.values()), list(trip_counts_post.values())]\n",
    "bp = ax1.boxplot(data_trips, showfliers=False, widths=0.5)\n",
    "set_boxplot_colors(bp)\n",
    "\n",
    "ax1.set_facecolor('#F5F5F5')\n",
    "ax1.set_title('Trip counts', fontsize=25)\n",
    "ax1.set_xticks([1, 2])\n",
    "ax1.set_xticklabels(['Feb', 'April'], rotation=90)\n",
    "\n",
    "# google\n",
    "categories = [' '.join([w.capitalize() for w in x.split('_')]) \n",
    "              for x in google_mobility_agg[2].keys()]\n",
    "\n",
    "c = 1\n",
    "for k in google_mobility_agg[2].keys():\n",
    "    data = [google_mobility_agg[2][k], google_mobility_agg[4][k]]\n",
    "    bp = ax2.boxplot(data, positions = [c+0.15, c+0.85], widths=0.6, showfliers=False)\n",
    "    set_boxplot_colors(bp)\n",
    "    \n",
    "    c += 2\n",
    "\n",
    "ax2.set_title('Google mobility data compared to baseline', fontsize=25)\n",
    "ax2.set_xticks([1.5 + i*2 for i, _ in enumerate(categories)])\n",
    "ax2.set_xticklabels(list(categories), rotation=90)\n",
    "ax2.set_facecolor('#F5F5F5')\n",
    "\n",
    "_ = plt.plot([], color='firebrick', label='February 2020', ls='-')\n",
    "_ = plt.plot([], color='steelblue', label='April 2020')\n",
    "_ = plt.legend(bbox_to_anchor=(1.04,1), loc=\"upper left\")\n",
    "\n",
    "plt.savefig(f'{GRAPHICS}mobility-metrics.png', bbox_inches=\"tight\")\n",
    "plt.show()"
   ]
  },
  {
   "cell_type": "markdown",
   "id": "f7093bb0",
   "metadata": {},
   "source": [
    "Visualise network metrics for both graphs."
   ]
  },
  {
   "cell_type": "code",
   "execution_count": null,
   "id": "429a29a9",
   "metadata": {},
   "outputs": [],
   "source": [
    "matplotlib.style.use('seaborn')\n",
    "matplotlib.rcParams['figure.dpi'] = 300\n",
    "seaborn.set_context('notebook', font_scale=1.5)\n",
    "\n",
    "fig, (ax1, ax2, ax3, ax4) = plt.subplots(1, 4, figsize=(15,5), facecolor='w', \n",
    "                                         gridspec_kw={'width_ratios': [1, 1, 1, 1]})\n",
    "\n",
    "# degrees\n",
    "data_degrees = degrees\n",
    "bp = ax1.boxplot(data_degrees, showfliers=False, widths=0.5)\n",
    "set_boxplot_colors(bp)\n",
    "\n",
    "ax1.set_facecolor('#F5F5F5')\n",
    "ax1.set_title('Node degrees', fontsize=20)\n",
    "ax1.set_xticks([1, 2])\n",
    "ax1.set_xticklabels(['Feb', 'April'], rotation=90)\n",
    "\n",
    "# shortest path\n",
    "data_shortest_path = shortest_paths\n",
    "bp = ax2.boxplot(data_shortest_path, showfliers=False, widths=0.5)\n",
    "set_boxplot_colors(bp)\n",
    "\n",
    "ax2.set_facecolor('#F5F5F5')\n",
    "ax2.set_title('Shortest path length', fontsize=20)\n",
    "ax2.set_xticks([1, 2])\n",
    "ax2.set_xticklabels(['Feb', 'April'], rotation=90)\n",
    "\n",
    "# clustering coefficient\n",
    "data_clustering = clustering_coeffs\n",
    "bp = ax3.boxplot(data_clustering, showfliers=False, widths=0.5)\n",
    "set_boxplot_colors(bp)\n",
    "\n",
    "ax3.set_facecolor('#F5F5F5')\n",
    "ax3.set_title('Clustering coefficients', fontsize=20)\n",
    "ax3.set_xticks([1, 2])\n",
    "ax3.set_xticklabels(['Feb', 'April'], rotation=90)\n",
    "\n",
    "# density\n",
    "medianprops = dict(linewidth=4, marker='D')\n",
    "data_density = [[densities[0]], [densities[1]]]\n",
    "bp = ax4.boxplot(data_density, showfliers=False, medianprops=medianprops, widths=0.01)\n",
    "set_boxplot_colors(bp)\n",
    "\n",
    "margin = abs(densities[0] - densities[1]) / 3\n",
    "y_low = min(densities[0], densities[1]) - margin\n",
    "y_up = max(densities[0], densities[1]) + margin\n",
    "\n",
    "fmt = lambda x, _: '{:.1f}'.format(x*10000) + 'E-4'\n",
    "\n",
    "ax4.set_ylim(y_low, y_up)\n",
    "ax4.yaxis.set_major_formatter(fmt)\n",
    "ax4.set_facecolor('#F5F5F5')\n",
    "ax4.set_title('Density', fontsize=20)\n",
    "ax4.set_xticks([1, 2])\n",
    "ax4.set_xticklabels(['Feb', 'April'], rotation=90)\n",
    "\n",
    "plt.subplots_adjust(wspace=0.5)\n",
    "plt.savefig(f'{GRAPHICS}network-metrics.png', bbox_inches=\"tight\")\n",
    "plt.show()"
   ]
  }
 ],
 "metadata": {
  "kernelspec": {
   "display_name": "Python 3",
   "language": "python",
   "name": "python3"
  },
  "language_info": {
   "codemirror_mode": {
    "name": "ipython",
    "version": 3
   },
   "file_extension": ".py",
   "mimetype": "text/x-python",
   "name": "python",
   "nbconvert_exporter": "python",
   "pygments_lexer": "ipython3",
   "version": "3.8.5"
  }
 },
 "nbformat": 4,
 "nbformat_minor": 5
}
