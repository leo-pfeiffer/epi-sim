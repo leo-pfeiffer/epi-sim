{
 "cells": [
  {
   "cell_type": "markdown",
   "id": "74d8cc3a",
   "metadata": {},
   "source": [
    "## Data transformation\n",
    "\n",
    "Perform some transformations on the extracted data to allow for the network\n",
    "creation in the next step."
   ]
  },
  {
   "cell_type": "code",
   "execution_count": 1,
   "id": "ec92c26d",
   "metadata": {},
   "outputs": [],
   "source": [
    "# to allow relative imports\n",
    "import os\n",
    "import sys\n",
    "\n",
    "module = os.path.abspath(os.path.join('..'))\n",
    "if module not in sys.path:\n",
    "    sys.path.append(module)\n",
    "\n",
    "import pandas as pd\n",
    "import pickle\n",
    "import json\n",
    "from typing import Tuple, Dict\n",
    "from functools import partial\n",
    "\n",
    "from data_processing.data_paths import OUT"
   ]
  },
  {
   "cell_type": "markdown",
   "id": "73bb6f1d",
   "metadata": {},
   "source": [
    "Define the months to be extracted (January=1, February=2, ...)."
   ]
  },
  {
   "cell_type": "code",
   "execution_count": 2,
   "id": "a873f592",
   "metadata": {},
   "outputs": [],
   "source": [
    "MONTHS = [2, 4]"
   ]
  },
  {
   "cell_type": "markdown",
   "id": "71bba673",
   "metadata": {},
   "source": [
    "Read in the pickled extracted data."
   ]
  },
  {
   "cell_type": "code",
   "execution_count": 3,
   "id": "2e938d95",
   "metadata": {},
   "outputs": [],
   "source": [
    "df_b01 = pd.read_pickle(f'{OUT}df_b01.pkl')\n",
    "df_b25 = pd.read_pickle(f'{OUT}df_b25.pkl')\n",
    "df_pat_pre = pd.read_pickle(f'{OUT}df_pat_pre.pkl')\n",
    "df_pat_post = pd.read_pickle(f'{OUT}df_pat_post.pkl')\n",
    "df_google = pd.read_pickle(f'{OUT}df_google.pkl')"
   ]
  },
  {
   "cell_type": "markdown",
   "id": "91ca76f7",
   "metadata": {},
   "source": [
    "Transformations of the census data."
   ]
  },
  {
   "cell_type": "code",
   "execution_count": 4,
   "id": "3a10b274",
   "metadata": {},
   "outputs": [],
   "source": [
    "# rename columns\n",
    "B01_COL_NAMES = {'B01003e1': 'population', 'B01003m1': 'population_me'}\n",
    "B25_COL_NAMES = {'B25010e1': 'household_size', 'B25010m1': 'household_size_me'}\n",
    "\n",
    "df_b01.rename(columns=B01_COL_NAMES, inplace=True)\n",
    "df_b25.rename(columns=B25_COL_NAMES, inplace=True)\n",
    "\n",
    "# convert margin of error to standard error\n",
    "Z_SCORE = 1.95996\n",
    "\n",
    "df_b01['population_se'] = df_b01['population_me'] / Z_SCORE\n",
    "df_b25['household_size_se'] = df_b25['household_size_me'] / Z_SCORE\n",
    "\n",
    "# merge data frames on census block\n",
    "df_merged = pd.merge(df_b01, df_b25, on='cbg', how='outer')\n",
    "\n",
    "# add proportional population\n",
    "df_merged['population_prop'] = df_merged['population'] / \\\n",
    "                               df_merged['population'].sum()"
   ]
  },
  {
   "cell_type": "markdown",
   "id": "bf6a97ce",
   "metadata": {},
   "source": [
    "Check the data makes sense."
   ]
  },
  {
   "cell_type": "code",
   "execution_count": 5,
   "id": "1df71f0d",
   "metadata": {},
   "outputs": [
    {
     "name": "stdout",
     "output_type": "stream",
     "text": [
      "Population: 857513.0\n",
      "Household size: 2.5217413902282715\n"
     ]
    }
   ],
   "source": [
    "# sanity checks with data from\n",
    "# https://censusreporter.org/profiles/05000US09009-new-haven-county-ct/\n",
    "\n",
    "# population should be ~850,000 \n",
    "print('Population:', df_merged.sum()['population'])\n",
    "\n",
    "# mean household should be ~2.5\n",
    "print('Household size:', df_merged.mean()['household_size'])"
   ]
  },
  {
   "cell_type": "code",
   "execution_count": 6,
   "id": "d1a76189",
   "metadata": {},
   "outputs": [
    {
     "data": {
      "text/plain": "        population  population_me  population_se  household_size  \\\ncount   628.000000     628.000000     628.000000      626.000000   \nmean   1365.466561     342.968153     174.987323        2.521741   \nstd     652.336689     137.227720      70.015572        0.476634   \nmin       0.000000      12.000000       6.122574        1.210000   \n25%     886.000000     249.500000     127.298516        2.190000   \n50%    1253.000000     325.000000     165.819711        2.520000   \n75%    1716.250000     405.250000     206.764424        2.860000   \nmax    4063.000000    1047.000000     534.194575        4.000000   \n\n       household_size_me  household_size_se  population_prop  \ncount         626.000000         626.000000       628.000000  \nmean            0.448115           0.228635         0.001592  \nstd             0.192414           0.098173         0.000761  \nmin             0.090000           0.045919         0.000000  \n25%             0.320000           0.163269         0.001033  \n50%             0.410000           0.209188         0.001461  \n75%             0.540000           0.275516         0.002001  \nmax             1.370000           0.698994         0.004738  ",
      "text/html": "<div>\n<style scoped>\n    .dataframe tbody tr th:only-of-type {\n        vertical-align: middle;\n    }\n\n    .dataframe tbody tr th {\n        vertical-align: top;\n    }\n\n    .dataframe thead th {\n        text-align: right;\n    }\n</style>\n<table border=\"1\" class=\"dataframe\">\n  <thead>\n    <tr style=\"text-align: right;\">\n      <th></th>\n      <th>population</th>\n      <th>population_me</th>\n      <th>population_se</th>\n      <th>household_size</th>\n      <th>household_size_me</th>\n      <th>household_size_se</th>\n      <th>population_prop</th>\n    </tr>\n  </thead>\n  <tbody>\n    <tr>\n      <th>count</th>\n      <td>628.000000</td>\n      <td>628.000000</td>\n      <td>628.000000</td>\n      <td>626.000000</td>\n      <td>626.000000</td>\n      <td>626.000000</td>\n      <td>628.000000</td>\n    </tr>\n    <tr>\n      <th>mean</th>\n      <td>1365.466561</td>\n      <td>342.968153</td>\n      <td>174.987323</td>\n      <td>2.521741</td>\n      <td>0.448115</td>\n      <td>0.228635</td>\n      <td>0.001592</td>\n    </tr>\n    <tr>\n      <th>std</th>\n      <td>652.336689</td>\n      <td>137.227720</td>\n      <td>70.015572</td>\n      <td>0.476634</td>\n      <td>0.192414</td>\n      <td>0.098173</td>\n      <td>0.000761</td>\n    </tr>\n    <tr>\n      <th>min</th>\n      <td>0.000000</td>\n      <td>12.000000</td>\n      <td>6.122574</td>\n      <td>1.210000</td>\n      <td>0.090000</td>\n      <td>0.045919</td>\n      <td>0.000000</td>\n    </tr>\n    <tr>\n      <th>25%</th>\n      <td>886.000000</td>\n      <td>249.500000</td>\n      <td>127.298516</td>\n      <td>2.190000</td>\n      <td>0.320000</td>\n      <td>0.163269</td>\n      <td>0.001033</td>\n    </tr>\n    <tr>\n      <th>50%</th>\n      <td>1253.000000</td>\n      <td>325.000000</td>\n      <td>165.819711</td>\n      <td>2.520000</td>\n      <td>0.410000</td>\n      <td>0.209188</td>\n      <td>0.001461</td>\n    </tr>\n    <tr>\n      <th>75%</th>\n      <td>1716.250000</td>\n      <td>405.250000</td>\n      <td>206.764424</td>\n      <td>2.860000</td>\n      <td>0.540000</td>\n      <td>0.275516</td>\n      <td>0.002001</td>\n    </tr>\n    <tr>\n      <th>max</th>\n      <td>4063.000000</td>\n      <td>1047.000000</td>\n      <td>534.194575</td>\n      <td>4.000000</td>\n      <td>1.370000</td>\n      <td>0.698994</td>\n      <td>0.004738</td>\n    </tr>\n  </tbody>\n</table>\n</div>"
     },
     "execution_count": 6,
     "metadata": {},
     "output_type": "execute_result"
    }
   ],
   "source": [
    "# check the summary stats for plausibility\n",
    "df_merged.describe()"
   ]
  },
  {
   "cell_type": "code",
   "execution_count": 7,
   "id": "cb3da5c5",
   "metadata": {},
   "outputs": [
    {
     "data": {
      "text/plain": "              cbg  population  population_me  population_se  household_size  \\\n622  090093614022        1476            218     111.226760             NaN   \n627  090099900000           0             12       6.122574             NaN   \n\n     household_size_me  household_size_se  population_prop  \n622                NaN                NaN         0.001721  \n627                NaN                NaN         0.000000  ",
      "text/html": "<div>\n<style scoped>\n    .dataframe tbody tr th:only-of-type {\n        vertical-align: middle;\n    }\n\n    .dataframe tbody tr th {\n        vertical-align: top;\n    }\n\n    .dataframe thead th {\n        text-align: right;\n    }\n</style>\n<table border=\"1\" class=\"dataframe\">\n  <thead>\n    <tr style=\"text-align: right;\">\n      <th></th>\n      <th>cbg</th>\n      <th>population</th>\n      <th>population_me</th>\n      <th>population_se</th>\n      <th>household_size</th>\n      <th>household_size_me</th>\n      <th>household_size_se</th>\n      <th>population_prop</th>\n    </tr>\n  </thead>\n  <tbody>\n    <tr>\n      <th>622</th>\n      <td>090093614022</td>\n      <td>1476</td>\n      <td>218</td>\n      <td>111.226760</td>\n      <td>NaN</td>\n      <td>NaN</td>\n      <td>NaN</td>\n      <td>0.001721</td>\n    </tr>\n    <tr>\n      <th>627</th>\n      <td>090099900000</td>\n      <td>0</td>\n      <td>12</td>\n      <td>6.122574</td>\n      <td>NaN</td>\n      <td>NaN</td>\n      <td>NaN</td>\n      <td>0.000000</td>\n    </tr>\n  </tbody>\n</table>\n</div>"
     },
     "execution_count": 7,
     "metadata": {},
     "output_type": "execute_result"
    }
   ],
   "source": [
    "# check for NA values\n",
    "df_merged.iloc[[x > 0 for x in df_merged.isna().sum(axis=1)], :]"
   ]
  },
  {
   "cell_type": "code",
   "execution_count": 8,
   "id": "54818817",
   "metadata": {},
   "outputs": [],
   "source": [
    "# since we only have two rows with NA, we can impute them with the mean\n",
    "df_merged.fillna(df_merged.mean(), inplace=True)"
   ]
  },
  {
   "cell_type": "markdown",
   "id": "152796b6",
   "metadata": {},
   "source": [
    "Save demographics data to pickled file."
   ]
  },
  {
   "cell_type": "code",
   "execution_count": 9,
   "id": "aab7aaab",
   "metadata": {},
   "outputs": [],
   "source": [
    "# save demographics to pickle\n",
    "demographics = df_merged.set_index('cbg').to_dict('index')\n",
    "pickle.dump(demographics, open(f'{OUT}demographics.pkl', 'wb'))"
   ]
  },
  {
   "cell_type": "markdown",
   "id": "fefcb6f7",
   "metadata": {},
   "source": [
    "Transform the extracted Patterns files."
   ]
  },
  {
   "cell_type": "code",
   "execution_count": 10,
   "id": "3aee5800",
   "metadata": {},
   "outputs": [],
   "source": [
    "# convert JSON data to python dict\n",
    "df_pat_pre.visitor_cbg = df_pat_pre.visitor_cbg.apply(\\\n",
    "    lambda x: json.loads(x))\n",
    "df_pat_post.visitor_cbg = df_pat_post.visitor_cbg.apply(\\\n",
    "    lambda x: json.loads(x))\n",
    "\n",
    "# calculate total visitors\n",
    "df_pat_pre['total_visitors'] = df_pat_pre.visitor_cbg.apply(\\\n",
    "    lambda x: sum(x.values()))\n",
    "df_pat_post['total_visitors'] = df_pat_post.visitor_cbg.apply(\\\n",
    "    lambda x: sum(x.values()))"
   ]
  },
  {
   "cell_type": "markdown",
   "id": "3bc243f9",
   "metadata": {},
   "source": [
    "Tranform Google mobility data."
   ]
  },
  {
   "cell_type": "code",
   "execution_count": 11,
   "id": "7fb7823b",
   "metadata": {},
   "outputs": [],
   "source": [
    "def _month_filter(keep: [], x):\n",
    "    return x in keep\n",
    "\n",
    "# keep only required months\n",
    "month_filter = partial(_month_filter, MONTHS)\n",
    "\n",
    "df_google = df_google[df_google.date.apply(\\\n",
    "    lambda x: month_filter(x.month))].set_index('date')\n",
    "\n",
    "df_google.drop('county', axis=1, inplace=True)\n",
    "\n",
    "# rebase\n",
    "df_google += 100"
   ]
  },
  {
   "cell_type": "markdown",
   "id": "f1c5a97d",
   "metadata": {},
   "source": [
    "Save Google mobility data to pickled file."
   ]
  },
  {
   "cell_type": "code",
   "execution_count": 12,
   "id": "f6503dea",
   "metadata": {},
   "outputs": [],
   "source": [
    "google_mobility_agg = {}\n",
    "\n",
    "for month in [2, 4]:\n",
    "    google_mobility_agg[month] = {}\n",
    "    df_sub = df_google[df_google.index.month == month]\n",
    "    for col in df_google.columns.tolist():\n",
    "        google_mobility_agg[month][col] = df_sub[col].values.tolist()\n",
    "        \n",
    "pickle.dump(google_mobility_agg, open(f'{OUT}google_mobility_agg.pkl', 'wb'))"
   ]
  },
  {
   "cell_type": "markdown",
   "id": "6eaa3de2",
   "metadata": {},
   "source": [
    "Count the number of trips from one CBG to another and total trips leaving\n",
    "each CBG."
   ]
  },
  {
   "cell_type": "code",
   "execution_count": 13,
   "id": "2765e610",
   "metadata": {},
   "outputs": [],
   "source": [
    "def create_count_hashmaps(df: pd.DataFrame, all_cbgs: set) -> Tuple[Dict, Dict]:\n",
    "    \"\"\"\n",
    "    Create two hashmaps:\n",
    "    - comb_counts: total counts of visits between two CBGs\n",
    "    - trip_counts: total counts of all outgoing trips from each CBG\n",
    "    :param df: pattern data frame\n",
    "    :param all_cbgs: set containing all CBGs\n",
    "    :returns: Tuple with two hashmaps\n",
    "    \"\"\"\n",
    "    \n",
    "    comb_counts = {}\n",
    "    trip_counts = {}\n",
    "    \n",
    "    # iterate over POIs\n",
    "    for i, row in df.iterrows():\n",
    "\n",
    "        # CBG of the POI\n",
    "        poi_cbg = row['cbg']\n",
    "\n",
    "        for cbg, count in row['visitor_cbg'].items():\n",
    "            \n",
    "            # ignore visits from other counties\n",
    "            if cbg not in all_cbgs or poi_cbg not in all_cbgs:\n",
    "                continue\n",
    "            \n",
    "            # Combination from visitor CBG to POI CBG\n",
    "            cbg_comb = (cbg, poi_cbg)\n",
    "            \n",
    "            # add count to combination counts\n",
    "            if cbg_comb in comb_counts:\n",
    "                comb_counts[cbg_comb] += count\n",
    "            else:\n",
    "                comb_counts[cbg_comb] = count\n",
    "            \n",
    "            # add count to trip counts\n",
    "            if cbg in trip_counts:\n",
    "                trip_counts[cbg] += count\n",
    "\n",
    "            else:\n",
    "                trip_counts[cbg] = count\n",
    "                \n",
    "    return comb_counts, trip_counts"
   ]
  },
  {
   "cell_type": "code",
   "execution_count": 14,
   "id": "e49027c2",
   "metadata": {},
   "outputs": [
    {
     "name": "stdout",
     "output_type": "stream",
     "text": [
      "CPU times: user 3.05 s, sys: 6.25 ms, total: 3.05 s\n",
      "Wall time: 3.05 s\n"
     ]
    }
   ],
   "source": [
    "%%time\n",
    "comb_counts_pre, trip_counts_pre = create_count_hashmaps(\n",
    "    df_pat_pre, set(df_merged.cbg.tolist()))\n",
    "\n",
    "comb_counts_post, trip_counts_post = create_count_hashmaps(\n",
    "    df_pat_post, set(df_merged.cbg.tolist()))"
   ]
  },
  {
   "cell_type": "markdown",
   "id": "659ef269",
   "metadata": {},
   "source": [
    "Save the count files to pickled files."
   ]
  },
  {
   "cell_type": "code",
   "execution_count": 15,
   "id": "93470ff3",
   "metadata": {
    "pycharm": {
     "name": "#%%\n"
    }
   },
   "outputs": [],
   "source": [
    "pickle.dump(comb_counts_pre, open(f'{OUT}comb_counts_pre.pkl', 'wb'))\n",
    "pickle.dump(comb_counts_post, open(f'{OUT}comb_counts_post.pkl', 'wb'))\n",
    "\n",
    "pickle.dump(trip_counts_pre, open(f'{OUT}trip_counts_pre.pkl', 'wb'))\n",
    "pickle.dump(trip_counts_post, open(f'{OUT}trip_counts_post.pkl', 'wb'))"
   ]
  }
 ],
 "metadata": {
  "kernelspec": {
   "display_name": "Python 3",
   "language": "python",
   "name": "python3"
  },
  "language_info": {
   "codemirror_mode": {
    "name": "ipython",
    "version": 3
   },
   "file_extension": ".py",
   "mimetype": "text/x-python",
   "name": "python",
   "nbconvert_exporter": "python",
   "pygments_lexer": "ipython3",
   "version": "3.8.5"
  }
 },
 "nbformat": 4,
 "nbformat_minor": 5
}