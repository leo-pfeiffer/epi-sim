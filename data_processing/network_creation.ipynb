{
 "cells": [
  {
   "cell_type": "markdown",
   "id": "7c46f281",
   "metadata": {},
   "source": [
    "## Network creation\n",
    "\n",
    "Using the transformed data from the previous step, create networks for February and April."
   ]
  },
  {
   "cell_type": "code",
   "execution_count": 1,
   "id": "13314e59",
   "metadata": {},
   "outputs": [],
   "source": [
    "# to allow relative imports\n",
    "import os\n",
    "import sys\n",
    "\n",
    "module = os.path.abspath(os.path.join('..'))\n",
    "if module not in sys.path:\n",
    "    sys.path.append(module)\n",
    "\n",
    "import networkx as nx\n",
    "import pickle\n",
    "\n",
    "from data_processing.data_paths import OUT, GRAPHS\n",
    "from model.network.network_data import NetworkData\n",
    "from model.network.mobility_network import MobilityNetwork\n",
    "from model.network.mobility_network import MNGeneratorFromNetworkData as MNG"
   ]
  },
  {
   "cell_type": "markdown",
   "id": "d655bfee",
   "metadata": {},
   "source": [
    "Define a seed for random generators."
   ]
  },
  {
   "cell_type": "code",
   "execution_count": 2,
   "id": "5b50a874",
   "metadata": {},
   "outputs": [],
   "source": [
    "SEED = 4401"
   ]
  },
  {
   "cell_type": "markdown",
   "id": "5baea893",
   "metadata": {},
   "source": [
    "Read transformed data from pickled files."
   ]
  },
  {
   "cell_type": "code",
   "execution_count": 3,
   "id": "699211c2",
   "metadata": {},
   "outputs": [],
   "source": [
    "demographics = pickle.load(open(f'{OUT}demographics.pkl', 'rb'))\n",
    "\n",
    "comb_counts_pre = pickle.load(open(f'{OUT}comb_counts_pre.pkl', 'rb'))\n",
    "comb_counts_post = pickle.load(open(f'{OUT}comb_counts_post.pkl', 'rb'))\n",
    "\n",
    "trip_counts_pre = pickle.load(open(f'{OUT}trip_counts_pre.pkl', 'rb'))\n",
    "trip_counts_post = pickle.load(open(f'{OUT}trip_counts_post.pkl', 'rb'))"
   ]
  },
  {
   "cell_type": "markdown",
   "id": "13104f32",
   "metadata": {},
   "source": [
    "Create network data instances."
   ]
  },
  {
   "cell_type": "code",
   "execution_count": 4,
   "id": "93c630ff",
   "metadata": {},
   "outputs": [],
   "source": [
    "network_data_pre = NetworkData(demographics, comb_counts_pre, trip_counts_pre)\n",
    "network_data_post = NetworkData(demographics, comb_counts_post, trip_counts_post)\n",
    "\n",
    "network_data_post.calc_trip_count_change(network_data_pre)"
   ]
  },
  {
   "cell_type": "markdown",
   "id": "3f64d408",
   "metadata": {},
   "source": [
    "Calculate the adjacency lists and cumulative probabilities."
   ]
  },
  {
   "cell_type": "code",
   "execution_count": 5,
   "id": "d243c1f0",
   "metadata": {},
   "outputs": [],
   "source": [
    "network_data_pre.create_adjacency_list()\n",
    "network_data_post.create_adjacency_list()\n",
    "\n",
    "network_data_pre.create_cum_prob()\n",
    "network_data_post.create_cum_prob()"
   ]
  },
  {
   "cell_type": "markdown",
   "id": "1de7b7ec",
   "metadata": {},
   "source": [
    "Create the networks."
   ]
  },
  {
   "cell_type": "code",
   "execution_count": 6,
   "id": "c59acec9",
   "metadata": {},
   "outputs": [
    {
     "name": "stdout",
     "output_type": "stream",
     "text": [
      "CPU times: user 1min 44s, sys: 84.4 ms, total: 1min 44s\n",
      "Wall time: 1min 44s\n"
     ]
    }
   ],
   "source": [
    "%%time\n",
    "\n",
    "params = dict()\n",
    "params[MNG.N] = N = 10000\n",
    "params[MNG.EXPONENT] = EXPONENT = 2\n",
    "params[MNG.CUTOFF] = CUTOFF = 10\n",
    "params[MNG.SEED] = SEED\n",
    "\n",
    "params_pre = params_post = params\n",
    "\n",
    "params_pre[MNG.NETWORK_DATA] = network_data_pre\n",
    "params_pre[MNG.MULTIPLIER] = False\n",
    "\n",
    "params_post[MNG.NETWORK_DATA] = network_data_post\n",
    "params_post[MNG.MULTIPLIER] = True\n",
    "\n",
    "g_pre = MNG(params=params_pre).generate()\n",
    "g_post = MNG(params=params_post).generate()"
   ]
  },
  {
   "cell_type": "markdown",
   "id": "24573109",
   "metadata": {},
   "source": [
    "Save the graphs to graphml format."
   ]
  },
  {
   "cell_type": "code",
   "execution_count": 7,
   "id": "d0cfec74",
   "metadata": {},
   "outputs": [],
   "source": [
    "nx.write_graphml(g_pre, f'{GRAPHS}pre_N_{N}_E_{EXPONENT}_C_{CUTOFF}.graphml')\n",
    "nx.write_graphml(g_post, f'{GRAPHS}post_N_{N}_E_{EXPONENT}_C_{CUTOFF}.graphml')"
   ]
  },
  {
   "cell_type": "code",
   "execution_count": null,
   "id": "4f20c5de",
   "metadata": {},
   "outputs": [],
   "source": []
  }
 ],
 "metadata": {
  "kernelspec": {
   "display_name": "Python 3",
   "language": "python",
   "name": "python3"
  },
  "language_info": {
   "codemirror_mode": {
    "name": "ipython",
    "version": 3
   },
   "file_extension": ".py",
   "mimetype": "text/x-python",
   "name": "python",
   "nbconvert_exporter": "python",
   "pygments_lexer": "ipython3",
   "version": "3.9.2"
  }
 },
 "nbformat": 4,
 "nbformat_minor": 5
}
