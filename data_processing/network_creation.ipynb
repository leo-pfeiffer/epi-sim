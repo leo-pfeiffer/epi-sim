{
 "cells": [
  {
   "cell_type": "markdown",
   "id": "ca3fff5e",
   "metadata": {},
   "source": [
    "Imports ..."
   ]
  },
  {
   "cell_type": "code",
   "execution_count": 1,
   "id": "98c2d0b8",
   "metadata": {},
   "outputs": [],
   "source": [
    "import numpy as np\n",
    "import networkx as nx\n",
    "import pickle\n",
    "from typing import Dict, List, Tuple"
   ]
  },
  {
   "cell_type": "markdown",
   "id": "6c85832d",
   "metadata": {},
   "source": [
    "Read in data ..."
   ]
  },
  {
   "cell_type": "code",
   "execution_count": 2,
   "id": "befedcc1",
   "metadata": {},
   "outputs": [],
   "source": [
    "demographics = pickle.load(open('data/demographics.pkl', 'rb'))\n",
    "\n",
    "comb_counts_feb = pickle.load(open('data/comb_counts_feb.pkl', 'rb'))\n",
    "comb_counts_apr = pickle.load(open('data/comb_counts_apr.pkl', 'rb'))\n",
    "\n",
    "trip_counts_feb = pickle.load(open('data/trip_counts_feb.pkl', 'rb'))\n",
    "trip_counts_apr = pickle.load(open('data/trip_counts_apr.pkl', 'rb'))"
   ]
  },
  {
   "cell_type": "code",
   "execution_count": 3,
   "id": "9b715934",
   "metadata": {},
   "outputs": [],
   "source": [
    "ordered_cbgs = sorted(demographics.keys())"
   ]
  },
  {
   "cell_type": "code",
   "execution_count": 4,
   "id": "b5d993b8",
   "metadata": {},
   "outputs": [],
   "source": [
    "def create_adjacency_list(comb_counts, trip_counts):\n",
    "    adjacency_list: Dict[str, List[float]] = {}\n",
    "        \n",
    "    for i in ordered_cbgs:\n",
    "        adjacency_list[i] = []\n",
    "        for j in ordered_cbgs:\n",
    "\n",
    "            # count of trips between \n",
    "            comb = (i, j)\n",
    "            trips_between = 0 if not comb in comb_counts else comb_counts[comb]\n",
    "\n",
    "            # ratio of all trips from i\n",
    "            p = 0 if not i in trip_counts else trips_between / trip_counts[i]\n",
    "            adjacency_list[i].append(p)\n",
    "                \n",
    "    return adjacency_list\n",
    "\n",
    "def cum_prob_from_adj_list(adjacency_list):\n",
    "    for key in adjacency_list:\n",
    "        adjacency_list[key] = np.array(adjacency_list[key]).cumsum()\n",
    "\n",
    "    return adjacency_list"
   ]
  },
  {
   "cell_type": "code",
   "execution_count": 5,
   "id": "c2bdfacb",
   "metadata": {},
   "outputs": [
    {
     "name": "stdout",
     "output_type": "stream",
     "text": [
      "CPU times: user 616 ms, sys: 27.1 ms, total: 643 ms\n",
      "Wall time: 643 ms\n"
     ]
    }
   ],
   "source": [
    "%%time\n",
    "\n",
    "adj_list_feb = create_adjacency_list(comb_counts_feb, trip_counts_feb)\n",
    "adj_list_apr = create_adjacency_list(comb_counts_apr, trip_counts_apr)"
   ]
  },
  {
   "cell_type": "code",
   "execution_count": 6,
   "id": "a59164a2",
   "metadata": {},
   "outputs": [
    {
     "name": "stdout",
     "output_type": "stream",
     "text": [
      "Should be ~1, is 0.9999999999999989\n",
      "Should be ~1, is 0.9999999999999992\n"
     ]
    }
   ],
   "source": [
    "# sanity check\n",
    "print(f\"Should be ~{1}, is {sum(adj_list_feb[ordered_cbgs[0]])}\")\n",
    "print(f\"Should be ~{1}, is {sum(adj_list_apr[ordered_cbgs[0]])}\")"
   ]
  },
  {
   "cell_type": "code",
   "execution_count": 7,
   "id": "62548bc5",
   "metadata": {},
   "outputs": [
    {
     "name": "stdout",
     "output_type": "stream",
     "text": [
      "CPU times: user 156 ms, sys: 24.3 ms, total: 181 ms\n",
      "Wall time: 184 ms\n"
     ]
    }
   ],
   "source": [
    "%%time\n",
    "\n",
    "cum_prob_feb = cum_prob_from_adj_list(adj_list_feb)\n",
    "cum_prob_apr = cum_prob_from_adj_list(adj_list_apr)"
   ]
  },
  {
   "cell_type": "code",
   "execution_count": 8,
   "id": "5725a6c7",
   "metadata": {},
   "outputs": [
    {
     "name": "stdout",
     "output_type": "stream",
     "text": [
      "Should be ~1, is 0.9999999999999989\n",
      "Should be ~1, is 0.9999999999999989\n"
     ]
    }
   ],
   "source": [
    "# sanity check\n",
    "print(f\"Should be ~{1}, is {cum_prob_feb[ordered_cbgs[0]][-1]}\")\n",
    "print(f\"Should be ~{1}, is {cum_prob_feb[ordered_cbgs[0]][-1]}\")"
   ]
  },
  {
   "cell_type": "markdown",
   "id": "5abd729e",
   "metadata": {},
   "source": [
    "Define the distribution generators..."
   ]
  },
  {
   "cell_type": "code",
   "execution_count": 9,
   "id": "76beeaef",
   "metadata": {},
   "outputs": [],
   "source": [
    "def household_size_distribution(cbg: str):\n",
    "    \"\"\"\n",
    "    Household size distribution is drawn from normal distribution with mean according to mean household size of CBG.\n",
    "    \"\"\"\n",
    "    rng = np.random.default_rng()\n",
    "    mu = demographics[cbg]['household_size']\n",
    "    sd = mu / 2\n",
    "    return max(int(rng.normal(mu, sd)), 1)\n",
    "\n",
    "def contact_distribution(size: int):\n",
    "    \"\"\"\n",
    "    Number of noded in a household that are connected to other households\n",
    "    \"\"\"\n",
    "    rng = np.random.default_rng()\n",
    "    # return max(int(rng.normal(min(size / 2, 2), 2)), 1)\n",
    "    # come up with something but I think this probably makes most sense for an undistanced network\n",
    "    return size\n",
    "\n",
    "\n",
    "def household_contact_distribution(cbg1):\n",
    "    \"\"\"\n",
    "    Number of connections from a node to another node outside the household.\n",
    "    \"\"\"\n",
    "    # think this should be exponential (with cutoff ? -> todo)\n",
    "    rng = np.random.default_rng()\n",
    "    return max(int(rng.exponential(10.0), 1))\n",
    "\n",
    "def draw_rewire_distribution(cbg, cum_prob):\n",
    "    rng = np.random.default_rng()\n",
    "    r = rng.random()\n",
    "    \n",
    "    # first instance where p >= r\n",
    "    idx = next(i for i, p in enumerate(cum_prob[cbg]) if p >= r)\n",
    "    return ordered_cbgs[idx]"
   ]
  },
  {
   "cell_type": "code",
   "execution_count": 10,
   "id": "964f51df",
   "metadata": {},
   "outputs": [
    {
     "name": "stdout",
     "output_type": "stream",
     "text": [
      "090091253002\n",
      "090091201001\n"
     ]
    }
   ],
   "source": [
    "print(draw_rewire_distribution(ordered_cbgs[0], cum_prob_feb))\n",
    "print(draw_rewire_distribution(ordered_cbgs[0], cum_prob_apr))"
   ]
  },
  {
   "cell_type": "code",
   "execution_count": null,
   "id": "80ac773e",
   "metadata": {},
   "outputs": [],
   "source": []
  }
 ],
 "metadata": {
  "kernelspec": {
   "display_name": "Python 3",
   "language": "python",
   "name": "python3"
  },
  "language_info": {
   "codemirror_mode": {
    "name": "ipython",
    "version": 3
   },
   "file_extension": ".py",
   "mimetype": "text/x-python",
   "name": "python",
   "nbconvert_exporter": "python",
   "pygments_lexer": "ipython3",
   "version": "3.8.5"
  }
 },
 "nbformat": 4,
 "nbformat_minor": 5
}
