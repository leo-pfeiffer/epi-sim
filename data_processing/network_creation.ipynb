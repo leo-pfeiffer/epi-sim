{
 "cells": [
  {
   "cell_type": "markdown",
   "id": "7c46f281",
   "metadata": {},
   "source": [
    "## Network creation\n",
    "\n",
    "Using the transformed data from the previous step, create networks for February and April."
   ]
  },
  {
   "cell_type": "code",
   "execution_count": 1,
   "id": "13314e59",
   "metadata": {},
   "outputs": [],
   "source": [
    "# to allow relative imports\n",
    "import os\n",
    "import sys\n",
    "\n",
    "module = os.path.abspath(os.path.join('..'))\n",
    "if module not in sys.path:\n",
    "    sys.path.append(module)\n",
    "\n",
    "import networkx as nx\n",
    "import pickle\n",
    "\n",
    "from data_processing.data_paths import OUT, GRAPHS\n",
    "from model.network_data import NetworkData\n",
    "from model.mobility_network import MobilityNetwork"
   ]
  },
  {
   "cell_type": "markdown",
   "id": "d655bfee",
   "metadata": {},
   "source": [
    "Define a seed for random generators."
   ]
  },
  {
   "cell_type": "code",
   "execution_count": 2,
   "id": "5b50a874",
   "metadata": {},
   "outputs": [],
   "source": [
    "SEED = 4401"
   ]
  },
  {
   "cell_type": "markdown",
   "id": "5baea893",
   "metadata": {},
   "source": [
    "Read transformed data from pickled files."
   ]
  },
  {
   "cell_type": "code",
   "execution_count": 3,
   "id": "699211c2",
   "metadata": {},
   "outputs": [],
   "source": [
    "demographics = pickle.load(open(f'{OUT}demographics.pkl', 'rb'))\n",
    "\n",
    "comb_counts_pre = pickle.load(open(f'{OUT}comb_counts_pre.pkl', 'rb'))\n",
    "comb_counts_post = pickle.load(open(f'{OUT}comb_counts_post.pkl', 'rb'))\n",
    "\n",
    "trip_counts_pre = pickle.load(open(f'{OUT}trip_counts_pre.pkl', 'rb'))\n",
    "trip_counts_post = pickle.load(open(f'{OUT}trip_counts_post.pkl', 'rb'))"
   ]
  },
  {
   "cell_type": "markdown",
   "id": "13104f32",
   "metadata": {},
   "source": [
    "Create network data instances."
   ]
  },
  {
   "cell_type": "code",
   "execution_count": 4,
   "id": "93c630ff",
   "metadata": {},
   "outputs": [],
   "source": [
    "network_data_pre = NetworkData(demographics, comb_counts_pre, trip_counts_pre)\n",
    "network_data_post = NetworkData(demographics, comb_counts_post, trip_counts_post)\n",
    "\n",
    "trip_count_change = NetworkData.calc_trip_count_change(network_data_pre, network_data_post)"
   ]
  },
  {
   "cell_type": "markdown",
   "id": "3f64d408",
   "metadata": {},
   "source": [
    "Calculate the adjacency lists and cumulative probabilities."
   ]
  },
  {
   "cell_type": "code",
   "execution_count": 5,
   "id": "d243c1f0",
   "metadata": {},
   "outputs": [],
   "source": [
    "network_data_pre.create_adjacency_list()\n",
    "network_data_post.create_adjacency_list()\n",
    "\n",
    "network_data_pre.create_cum_prob()\n",
    "network_data_post.create_cum_prob()"
   ]
  },
  {
   "cell_type": "markdown",
   "id": "1de7b7ec",
   "metadata": {},
   "source": [
    "Create the networks."
   ]
  },
  {
   "cell_type": "code",
   "execution_count": 6,
   "id": "c59acec9",
   "metadata": {},
   "outputs": [
    {
     "name": "stdout",
     "output_type": "stream",
     "text": [
      "Breaking up pairs... 28906 of 28908\n",
      "Breaking up pairs...\n",
      "Breaking up pairs... 14304 of 14306\n",
      "Breaking up pairs...\n",
      "CPU times: user 1min 8s, sys: 1.55 s, total: 1min 10s\n",
      "Wall time: 1min 9s\n"
     ]
    }
   ],
   "source": [
    "%%time\n",
    "N = 10000\n",
    "BASELINE = 3\n",
    "\n",
    "network_pre = MobilityNetwork(network_data_pre, N=N, baseline=BASELINE,\n",
    "                              multiplier=False,\n",
    "                              trip_count_change=trip_count_change,\n",
    "                              seed=SEED)\n",
    "\n",
    "network_post = MobilityNetwork(network_data_post, N=N, baseline=BASELINE,\n",
    "                               multiplier=True,\n",
    "                               trip_count_change=trip_count_change,\n",
    "                               seed=SEED)\n",
    "\n",
    "network_pre.create()\n",
    "network_post.create()\n",
    "\n",
    "g_pre = network_pre.g\n",
    "g_post = network_post.g"
   ]
  },
  {
   "cell_type": "markdown",
   "id": "24573109",
   "metadata": {},
   "source": [
    "Save the graphs to graphml format."
   ]
  },
  {
   "cell_type": "code",
   "execution_count": 7,
   "id": "d0cfec74",
   "metadata": {},
   "outputs": [],
   "source": [
    "nx.write_graphml(g_pre, f'{GRAPHS}pre_N_10000.graphml')\n",
    "nx.write_graphml(g_post, f'{GRAPHS}post_N_10000.graphml')"
   ]
  }
 ],
 "metadata": {
  "kernelspec": {
   "display_name": "Python 3",
   "language": "python",
   "name": "python3"
  },
  "language_info": {
   "codemirror_mode": {
    "name": "ipython",
    "version": 3
   },
   "file_extension": ".py",
   "mimetype": "text/x-python",
   "name": "python",
   "nbconvert_exporter": "python",
   "pygments_lexer": "ipython3",
   "version": "3.8.5"
  }
 },
 "nbformat": 4,
 "nbformat_minor": 5
}