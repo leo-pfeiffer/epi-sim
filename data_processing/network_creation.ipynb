{
 "cells": [
  {
   "cell_type": "markdown",
   "id": "7c46f281",
   "metadata": {},
   "source": [
    "## Network creation\n",
    "\n",
    "Using the transformed data from the previous step, create networks for February and April."
   ]
  },
  {
   "cell_type": "code",
   "execution_count": 1,
   "id": "13314e59",
   "metadata": {},
   "outputs": [],
   "source": [
    "import numpy as np\n",
    "import networkx as nx\n",
    "from matplotlib import pyplot as plt\n",
    "import pickle\n",
    "from typing import Dict, List, Tuple, Callable, Union\n",
    "\n",
    "from data_paths import OUT, GRAPHS"
   ]
  },
  {
   "cell_type": "markdown",
   "id": "d655bfee",
   "metadata": {},
   "source": [
    "Define a seed for random generators."
   ]
  },
  {
   "cell_type": "code",
   "execution_count": 2,
   "id": "5b50a874",
   "metadata": {},
   "outputs": [],
   "source": [
    "SEED = 4401"
   ]
  },
  {
   "cell_type": "markdown",
   "id": "5baea893",
   "metadata": {},
   "source": [
    "Read transformed data from pickled files."
   ]
  },
  {
   "cell_type": "code",
   "execution_count": 3,
   "id": "699211c2",
   "metadata": {},
   "outputs": [],
   "source": [
    "demographics = pickle.load(open(f'{OUT}demographics.pkl', 'rb'))\n",
    "\n",
    "comb_counts_pre = pickle.load(open(f'{OUT}comb_counts_pre.pkl', 'rb'))\n",
    "comb_counts_post = pickle.load(open(f'{OUT}comb_counts_post.pkl', 'rb'))\n",
    "\n",
    "trip_counts_pre = pickle.load(open(f'{OUT}trip_counts_pre.pkl', 'rb'))\n",
    "trip_counts_post = pickle.load(open(f'{OUT}trip_counts_post.pkl', 'rb'))\n",
    "\n",
    "trip_count_change = pickle.load(open(f'{OUT}trip_count_change.pkl', 'rb'))"
   ]
  },
  {
   "cell_type": "markdown",
   "id": "13104f32",
   "metadata": {},
   "source": [
    "Store all CBG codes in order."
   ]
  },
  {
   "cell_type": "code",
   "execution_count": 4,
   "id": "93c630ff",
   "metadata": {},
   "outputs": [],
   "source": [
    "# store all CBGs in order\n",
    "ordered_cbgs = sorted(demographics.keys())"
   ]
  },
  {
   "cell_type": "markdown",
   "id": "99be7dd0",
   "metadata": {},
   "source": [
    "Define functions to create an adjacency list between CBGs with transition probabilities as well as a function to compute the cumulative probabilities of the transition probabilities for each CBG."
   ]
  },
  {
   "cell_type": "code",
   "execution_count": 5,
   "id": "6ba1f169",
   "metadata": {},
   "outputs": [],
   "source": [
    "def create_adjacency_list(comb_counts: Dict[Tuple[str, str], int], \n",
    "                          trip_counts: Dict[str, int]) -> Dict[str, List[float]]:\n",
    "    \"\"\"\n",
    "    Create an adjacency list in the form of a dictionary. \n",
    "    The keys are the CGBs and the values are ordered lists of transition probabilities to other CBGs.\n",
    "    The probabilities are in the same order as `ordered_cbgs`.\n",
    "    The transition probability from CBG i to CBG j is\n",
    "    P(i, j) = count(trips between i and j) / count(all trips from i to a CBG).\n",
    "    :param comb_counts: Total count of all trips between two CGBs.\n",
    "    :param trip_counts: Total count of all trips from each CGB.\n",
    "    :returns: Adjacency list with probabilites.\n",
    "    \"\"\"\n",
    "    adjacency_list: Dict[str, List[float]] = {}\n",
    "        \n",
    "    for i in ordered_cbgs:\n",
    "        adjacency_list[i] = []\n",
    "        for j in ordered_cbgs:\n",
    "\n",
    "            # count of trips between \n",
    "            comb = (i, j)\n",
    "            trips_between = 0 if not comb in comb_counts else comb_counts[comb]\n",
    "\n",
    "            # ratio of all trips from i\n",
    "            p = 0 if not i in trip_counts else trips_between / trip_counts[i]\n",
    "            adjacency_list[i].append(p)\n",
    "                \n",
    "    return adjacency_list\n",
    "\n",
    "def cum_prob_from_adj_list(adjacency_list: Dict[str, List[float]]) -> Dict[str, np.array]:\n",
    "    \"\"\"\n",
    "    From an adjacency list with transition probabilities, calculate the cumulative probabilities.\n",
    "    :param adjacency_list: Adjacency list with probabilities.\n",
    "    :returns: Cummulative probabilities for each item in the adjacency list.\n",
    "    \"\"\"\n",
    "    for key in adjacency_list:\n",
    "        adjacency_list[key] = np.array(adjacency_list[key]).cumsum()\n",
    "\n",
    "    return adjacency_list"
   ]
  },
  {
   "cell_type": "markdown",
   "id": "3f64d408",
   "metadata": {},
   "source": [
    "Calculate the adjacency lists."
   ]
  },
  {
   "cell_type": "code",
   "execution_count": 6,
   "id": "d243c1f0",
   "metadata": {},
   "outputs": [
    {
     "name": "stdout",
     "output_type": "stream",
     "text": [
      "CPU times: user 574 ms, sys: 0 ns, total: 574 ms\n",
      "Wall time: 581 ms\n"
     ]
    }
   ],
   "source": [
    "%%time\n",
    "\n",
    "adj_list_pre = create_adjacency_list(comb_counts_pre, trip_counts_pre)\n",
    "adj_list_post = create_adjacency_list(comb_counts_pre, trip_counts_post)"
   ]
  },
  {
   "cell_type": "code",
   "execution_count": 7,
   "id": "a252cf17",
   "metadata": {},
   "outputs": [],
   "source": [
    "# sanity check for probabilities\n",
    "assert 1 - sum(adj_list_pre[ordered_cbgs[0]]) < 0.0001\n",
    "assert 1 - sum(adj_list_post[ordered_cbgs[0]]) < 0.0001"
   ]
  },
  {
   "cell_type": "markdown",
   "id": "467370f7",
   "metadata": {},
   "source": [
    "Calculate the cumulative probabilities."
   ]
  },
  {
   "cell_type": "code",
   "execution_count": 8,
   "id": "b19c0000",
   "metadata": {},
   "outputs": [
    {
     "name": "stdout",
     "output_type": "stream",
     "text": [
      "CPU times: user 127 ms, sys: 0 ns, total: 127 ms\n",
      "Wall time: 126 ms\n"
     ]
    }
   ],
   "source": [
    "%%time\n",
    "\n",
    "cum_prob_pre = cum_prob_from_adj_list(adj_list_pre)\n",
    "cum_prob_post = cum_prob_from_adj_list(adj_list_post)"
   ]
  },
  {
   "cell_type": "code",
   "execution_count": 9,
   "id": "83958f71",
   "metadata": {},
   "outputs": [],
   "source": [
    "# sanity check for probabilities\n",
    "assert 1 - cum_prob_pre[ordered_cbgs[0]][-1] < 0.0001\n",
    "assert 1 - cum_prob_post[ordered_cbgs[0]][-1] < 0.0001"
   ]
  },
  {
   "cell_type": "markdown",
   "id": "0962dab1",
   "metadata": {},
   "source": [
    "Define distribution functions for different components of the network."
   ]
  },
  {
   "cell_type": "code",
   "execution_count": 10,
   "id": "2a7399ec",
   "metadata": {},
   "outputs": [],
   "source": [
    "def binary_search(arr, left, right, x) -> int:\n",
    "    \"\"\"\n",
    "    Generic binary search function that finds the element *furthest to the left* of an array.\n",
    "    :param arr: Array like object.\n",
    "    :param left: Most left index to start the search.\n",
    "    :param right: Most right index to start the search.\n",
    "    :param x: The element to search for.\n",
    "    :returns: Index of the most left element found found.\n",
    "    \"\"\"\n",
    "\n",
    "    while left < right:\n",
    "        mid = (left + right) // 2\n",
    "        if arr[mid] < x:\n",
    "            left = mid + 1\n",
    "        else:\n",
    "            right = mid\n",
    "    return left\n",
    "\n",
    "def household_size_distribution(cbg: str, \n",
    "                                seed: Union[int, np.random.Generator, None]=None) -> int:\n",
    "    \"\"\"\n",
    "    Household size distribution is drawn from normal distribution with mean \n",
    "    according to mean household size of CBG.\n",
    "    :param seed: random seed.\n",
    "    :param cbg: CBG of the household.\n",
    "    :returns: Household size.\n",
    "    \"\"\"\n",
    "    rng = np.random.default_rng(seed=seed)\n",
    "    mu = demographics[cbg]['household_size']\n",
    "    # more realistic sd\n",
    "    sd = mu / 2\n",
    "    return max(int(rng.normal(mu, sd)), 1)\n",
    "\n",
    "\n",
    "def household_contact_distribution(baseline: float, cbg: str, multiplier: bool,\n",
    "                                   seed: Union[int, np.random.Generator, None]=None) -> int:\n",
    "    \"\"\"\n",
    "    Number of connections from a node to another node outside the household.\n",
    "    :param seed: random seed.\n",
    "    :param baseline: baseline value for the exponent of the degree distribution.\n",
    "    :param cbg: CBG of the current household.\n",
    "    :param multiplier: reduce exponent by factor.\n",
    "    :returns: Number of connections to outside the household.\n",
    "    \"\"\"\n",
    "    rng = np.random.default_rng(seed=seed)\n",
    "    if multiplier:\n",
    "        exponent = baseline * trip_count_change[cbg]\n",
    "    else:\n",
    "        exponent = baseline\n",
    "    return max(int(rng.exponential(exponent)), 1)\n",
    "\n",
    "\n",
    "def draw_rewire_distribution(cbg: str, cum_prob: Dict[str, np.array],\n",
    "                             seed: Union[int, np.random.Generator, None]=None) -> str:\n",
    "    \"\"\"\n",
    "    For a given CBG draw from the corresponding rewire distribution and return a random CBG to rewire to.\n",
    "    :param seed: random seed.\n",
    "    :param cbg: CBG to be rewired.\n",
    "    :param cum_prob: The cummulative probability distribution to draw from.\n",
    "    \"\"\"\n",
    "    rng = np.random.default_rng(seed=seed)\n",
    "    r = rng.random()\n",
    "    \n",
    "    # return index where p >= r for the first time\n",
    "    # idx = next(i for i, p in enumerate(cum_prob[cbg]) if p >= r)\n",
    "    idx = binary_search(cum_prob[cbg], 0, len(cum_prob[cbg])-1, r)\n",
    "    return ordered_cbgs[idx]"
   ]
  },
  {
   "cell_type": "markdown",
   "id": "d252ab8c",
   "metadata": {},
   "source": [
    "Define the function to create the network. This is based on `Dobson 2020, Chapter Physical Distancing` but adapted for our purpose."
   ]
  },
  {
   "cell_type": "code",
   "execution_count": 11,
   "id": "10607e72",
   "metadata": {},
   "outputs": [],
   "source": [
    "def create_network(N, cum_prob_rewire: Dict[str, np.array],\n",
    "                   baseline: float, multiplier: bool=False, \n",
    "                   seed: Union[int, np.random.Generator, None]=None) -> nx.Graph:\n",
    "    \"\"\"\n",
    "    Create the network based on some specified distributions.\n",
    "    :param N: Number of individuals.\n",
    "    :param cum_prob_rewire: The cummulative probability distribution to draw from for rewiring.\n",
    "    :param baseline: baseline value for the exponent of the degree distribution.\n",
    "    :param multiplier: reduce degrees by factor.\n",
    "    :param seed: seed for random generator.\n",
    "    :returns: Network.\n",
    "    \"\"\"\n",
    "    \n",
    "    # initialise variables\n",
    "    g = nx.Graph()\n",
    "    rng = np.random.default_rng(seed=seed)\n",
    "    \n",
    "    household_id = 1\n",
    "    households = []\n",
    "    cbg_id = 1\n",
    "    \n",
    "    # total number of nodes in network\n",
    "    total_node_ct = 0\n",
    "    cbg_degree_map = {}\n",
    "\n",
    "    # add the nodes and create the household connections\n",
    "    for cbg, demographic in demographics.items():\n",
    "\n",
    "        # target number of nodes for current CBG\n",
    "        N_cbg = int(demographic['population_prop'] * N)\n",
    "\n",
    "        # current number of nodes of this CBG\n",
    "        n = 0\n",
    "        \n",
    "        # initialise for later\n",
    "        cbg_degree_map[cbg] = []\n",
    "\n",
    "        print(f\"Creating nodes: CBG {cbg_id} of {len(demographics)}\", end=\"\\r\")\n",
    "\n",
    "        # add households\n",
    "        while n < N_cbg:\n",
    "\n",
    "            # create household network\n",
    "            size = household_size_distribution(cbg, seed=rng)\n",
    "            house_net = nx.complete_graph(size)\n",
    "\n",
    "            # add unique labels\n",
    "            nx.relabel_nodes(house_net, lambda l: total_node_ct + l, copy=False)\n",
    "\n",
    "            # add nodes and edges of the household to the main network\n",
    "            g.add_nodes_from(house_net.nodes, household=household_id, household_size=size, cbg=cbg)\n",
    "            g.add_edges_from(house_net.edges, household=household_id, household_size=size, cbg=cbg)\n",
    "            households.append(house_net)\n",
    "\n",
    "            # update iteration values\n",
    "            n += size\n",
    "            household_id += 1\n",
    "            total_node_ct += size\n",
    "\n",
    "        cbg_id += 1\n",
    "\n",
    "    print('', end='\\n')\n",
    "            \n",
    "    # create stubs for connections to outside of household\n",
    "    stubs = []\n",
    "    for i in range(len(households)):\n",
    "        \n",
    "        print(f\"Creating stubs: Household {i+1} of {len(households)}\", end=\"\\r\")\n",
    "        \n",
    "        nodes = list(households[i].nodes)\n",
    "        \n",
    "        if len(nodes) > 0:\n",
    "            cbg = g.nodes[nodes[0]]['cbg']\n",
    "        \n",
    "        for node in nodes:\n",
    "            # draw random degree\n",
    "            degree = household_contact_distribution(baseline, cbg, multiplier, seed=rng)\n",
    "            \n",
    "            # append `degree` number of copies of the current node\n",
    "            new_stubs = [node] * degree\n",
    "            stubs.extend(new_stubs)\n",
    "            cbg_degree_map[cbg].extend(new_stubs)\n",
    "        \n",
    "    # add one more if number of stubs is odd\n",
    "    if len(stubs) % 2:\n",
    "        unique_stubs = list(set(stubs))\n",
    "        j = rng.integers(len(unique_stubs))\n",
    "        \n",
    "        stubs.append(unique_stubs[j])\n",
    "        cbg_degree_map[g.nodes[unique_stubs[j]]['cbg']].append(unique_stubs[j])\n",
    "        \n",
    "        \n",
    "    print('', end='\\n')\n",
    "    \n",
    "    # create pairs of stubs according with rewire distribution\n",
    "    for i in range(0, len(stubs), 2):\n",
    "        \n",
    "        print(f\"Creating stub pairs: {i} of {len(stubs)}\", end=\"\\r\")\n",
    "        \n",
    "        while True:\n",
    "        \n",
    "            # draw a CBG from the rewire distribution\n",
    "            cbg = g.nodes[stubs[i]]['cbg']\n",
    "            target_cbg = draw_rewire_distribution(cbg, cum_prob_rewire, seed=rng)\n",
    "            \n",
    "            # make sure the drawn CBG has any available stubs at all\n",
    "            if len(cbg_degree_map[target_cbg]) == 0:\n",
    "                continue\n",
    "                \n",
    "            # draw a random stub from the required CBG (preserving degree dist.)\n",
    "            target_node = rng.choice(cbg_degree_map[target_cbg])\n",
    "            j = stubs.index(target_node)\n",
    "\n",
    "            # swap nodes\n",
    "            stubs[i+1], stubs[j] = stubs[j], stubs[i+1]\n",
    "            break\n",
    "    \n",
    "    print('', end='\\n')\n",
    "    \n",
    "    # Break up intra-household edges resulting from stubs\n",
    "    while True:\n",
    "        \n",
    "        print(\"Breaking up pairs...\", end=\"\\n\")    \n",
    "        \n",
    "        # iterate by two successive stubs at a time\n",
    "        swaps = 0\n",
    "        for i in range(0, len(stubs), 2):\n",
    "            \n",
    "            # break up if successive stubs are of same household\n",
    "            if g.nodes[stubs[i]]['household'] == g.nodes[stubs[i+1]]['household']:\n",
    "                \n",
    "                # swap with random other stub\n",
    "                j = rng.integers(len(stubs))\n",
    "                stubs[i+1], stubs[j] = stubs[j], stubs[i+1]\n",
    "                \n",
    "                swaps += 1\n",
    "                \n",
    "        # no swaps, done.\n",
    "        if swaps == 0:\n",
    "            break\n",
    "    \n",
    "    # connect pairs of stubs\n",
    "    for i in range(0, len(stubs), 2):\n",
    "        # label inter-household edges as houshold 0 of size 0\n",
    "        g.add_edge(stubs[i], stubs[i+1], household=0, household_size=0)\n",
    "\n",
    "    print('', end='\\n')\n",
    "    \n",
    "    return (g, [h.order() for h in households])"
   ]
  },
  {
   "cell_type": "markdown",
   "id": "1de7b7ec",
   "metadata": {},
   "source": [
    "Create the networks."
   ]
  },
  {
   "cell_type": "code",
   "execution_count": 12,
   "id": "c59acec9",
   "metadata": {},
   "outputs": [
    {
     "name": "stdout",
     "output_type": "stream",
     "text": [
      "Creating nodes: CBG 628 of 628\n",
      "Creating stubs: Household 4810 of 4810\n",
      "Connecting stubs: 28906 of 28908\n",
      "Breaking up pairs...\n",
      "Breaking up pairs...\n",
      "\n",
      "Creating nodes: CBG 628 of 628\n",
      "Creating stubs: Household 4810 of 4810\n",
      "Connecting stubs: 14304 of 14306\n",
      "Breaking up pairs...\n",
      "Breaking up pairs...\n",
      "\n",
      "CPU times: user 1min 11s, sys: 1.42 s, total: 1min 12s\n",
      "Wall time: 1min 11s\n"
     ]
    }
   ],
   "source": [
    "%%time\n",
    "N = 10000\n",
    "BASELINE = 3\n",
    "(g_pre, households_pre) = create_network(N=N, cum_prob_rewire=cum_prob_pre, \n",
    "                                         baseline=BASELINE, multiplier=False, seed=SEED)\n",
    "\n",
    "(g_post, households_post) = create_network(N=N, cum_prob_rewire=cum_prob_post, \n",
    "                                         baseline=BASELINE, multiplier=True, seed=SEED)"
   ]
  },
  {
   "cell_type": "markdown",
   "id": "1b4425bd",
   "metadata": {},
   "source": [
    "Inspect the graph..."
   ]
  },
  {
   "cell_type": "code",
   "execution_count": 13,
   "id": "b86be7c2",
   "metadata": {
    "scrolled": true
   },
   "outputs": [
    {
     "name": "stdout",
     "output_type": "stream",
     "text": [
      "Pre:\n",
      "Mean household size of 2.12 (range 1-7)\n",
      "Most connected individual has 28 contacts\n",
      "\n",
      "Post:\n",
      "Mean household size of 2.12 (range 1-7)\n",
      "Most connected individual has 15 contacts\n"
     ]
    }
   ],
   "source": [
    "print(\"Pre:\")\n",
    "print('Mean household size of {s:.2f} (range {minf}-{maxf})'.format(s=np.mean(households_pre), minf=min(households_pre), maxf=max(households_pre)))\n",
    "print('Most connected individual has {k} contacts'.format(k=max(dict(g_pre.degree()).values())))\n",
    "\n",
    "print(\"\\nPost:\")\n",
    "print('Mean household size of {s:.2f} (range {minf}-{maxf})'.format(s=np.mean(households_post), minf=min(households_post), maxf=max(households_post)))\n",
    "print('Most connected individual has {k} contacts'.format(k=max(dict(g_post.degree()).values())))"
   ]
  },
  {
   "cell_type": "markdown",
   "id": "24573109",
   "metadata": {},
   "source": [
    "Save the graphs to graphml format."
   ]
  },
  {
   "cell_type": "code",
   "execution_count": 14,
   "id": "d0cfec74",
   "metadata": {},
   "outputs": [],
   "source": [
    "nx.write_graphml(g_pre, f'{GRAPHS}pre_N_10000.graphml')\n",
    "nx.write_graphml(g_post, f'{GRAPHS}post_N_10000.graphml')"
   ]
  }
 ],
 "metadata": {
  "kernelspec": {
   "display_name": "Python 3",
   "language": "python",
   "name": "python3"
  },
  "language_info": {
   "codemirror_mode": {
    "name": "ipython",
    "version": 3
   },
   "file_extension": ".py",
   "mimetype": "text/x-python",
   "name": "python",
   "nbconvert_exporter": "python",
   "pygments_lexer": "ipython3",
   "version": "3.8.5"
  }
 },
 "nbformat": 4,
 "nbformat_minor": 5
}
