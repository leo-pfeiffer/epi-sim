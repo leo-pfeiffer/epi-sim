{
 "cells": [
  {
   "cell_type": "markdown",
   "id": "7c46f281",
   "metadata": {},
   "source": [
    "Imports ..."
   ]
  },
  {
   "cell_type": "code",
   "execution_count": 1,
   "id": "13314e59",
   "metadata": {},
   "outputs": [],
   "source": [
    "import numpy as np\n",
    "import networkx as nx\n",
    "from matplotlib import pyplot as plt\n",
    "import pickle\n",
    "from typing import Dict, List, Tuple, Callable"
   ]
  },
  {
   "cell_type": "markdown",
   "id": "5baea893",
   "metadata": {},
   "source": [
    "Read in data ..."
   ]
  },
  {
   "cell_type": "code",
   "execution_count": 2,
   "id": "699211c2",
   "metadata": {},
   "outputs": [],
   "source": [
    "demographics = pickle.load(open('data/demographics.pkl', 'rb'))\n",
    "\n",
    "comb_counts_feb = pickle.load(open('data/comb_counts_feb.pkl', 'rb'))\n",
    "comb_counts_apr = pickle.load(open('data/comb_counts_apr.pkl', 'rb'))\n",
    "\n",
    "trip_counts_feb = pickle.load(open('data/trip_counts_feb.pkl', 'rb'))\n",
    "trip_counts_apr = pickle.load(open('data/trip_counts_apr.pkl', 'rb'))"
   ]
  },
  {
   "cell_type": "code",
   "execution_count": 3,
   "id": "60997d9f",
   "metadata": {},
   "outputs": [],
   "source": [
    "# store all CBGs in order\n",
    "\n",
    "ordered_cbgs = sorted(demographics.keys())"
   ]
  },
  {
   "cell_type": "markdown",
   "id": "99be7dd0",
   "metadata": {},
   "source": [
    "Create adjacency list etc. between CBGs..."
   ]
  },
  {
   "cell_type": "code",
   "execution_count": 4,
   "id": "6ba1f169",
   "metadata": {},
   "outputs": [],
   "source": [
    "def create_adjacency_list(comb_counts: Dict[Tuple[str, str], int], \n",
    "                          trip_counts: Dict[str, int]) -> Dict[str, List[float]]:\n",
    "    \"\"\"\n",
    "    Create an adjacency list in the form of a dictionary. \n",
    "    The keys are the CGBs and the values are ordered lists of transition probabilities to other CBGs.\n",
    "    The probabilities are in the same order as `ordered_cbgs`.\n",
    "    The transition probability from CBG i to CBG j is\n",
    "    P(i, j) = count(trips between i and j) / count(all trips from i to a CBG).\n",
    "    :param comb_counts: Total count of all trips between two CGBs.\n",
    "    :param trip_counts: Total count of all trips from each CGB.\n",
    "    :returns: Adjacency list with probabilites.\n",
    "    \"\"\"\n",
    "    adjacency_list: Dict[str, List[float]] = {}\n",
    "        \n",
    "    for i in ordered_cbgs:\n",
    "        adjacency_list[i] = []\n",
    "        for j in ordered_cbgs:\n",
    "\n",
    "            # count of trips between \n",
    "            comb = (i, j)\n",
    "            trips_between = 0 if not comb in comb_counts else comb_counts[comb]\n",
    "\n",
    "            # ratio of all trips from i\n",
    "            p = 0 if not i in trip_counts else trips_between / trip_counts[i]\n",
    "            adjacency_list[i].append(p)\n",
    "                \n",
    "    return adjacency_list\n",
    "\n",
    "def cum_prob_from_adj_list(adjacency_list: Dict[str, List[float]]) -> Dict[str, np.array]:\n",
    "    \"\"\"\n",
    "    From an adjacency list with transition probabilities, calculate the cumulative probabilities.\n",
    "    :param adjacency_list: Adjacency list with probabilities.\n",
    "    :returns: Cummulative probabilities for each item in the adjacency list.\n",
    "    \"\"\"\n",
    "    for key in adjacency_list:\n",
    "        adjacency_list[key] = np.array(adjacency_list[key]).cumsum()\n",
    "\n",
    "    return adjacency_list"
   ]
  },
  {
   "cell_type": "code",
   "execution_count": 5,
   "id": "d243c1f0",
   "metadata": {},
   "outputs": [
    {
     "name": "stdout",
     "output_type": "stream",
     "text": [
      "CPU times: user 576 ms, sys: 17.6 ms, total: 593 ms\n",
      "Wall time: 593 ms\n"
     ]
    }
   ],
   "source": [
    "%%time\n",
    "\n",
    "adj_list_feb = create_adjacency_list(comb_counts_feb, trip_counts_feb)\n",
    "adj_list_apr = create_adjacency_list(comb_counts_apr, trip_counts_apr)"
   ]
  },
  {
   "cell_type": "code",
   "execution_count": 6,
   "id": "a252cf17",
   "metadata": {},
   "outputs": [
    {
     "name": "stdout",
     "output_type": "stream",
     "text": [
      "Should be ~1, is 0.9999999999999989\n",
      "Should be ~1, is 0.9999999999999992\n"
     ]
    }
   ],
   "source": [
    "# sanity check\n",
    "print(f\"Should be ~{1}, is {sum(adj_list_feb[ordered_cbgs[0]])}\")\n",
    "print(f\"Should be ~{1}, is {sum(adj_list_apr[ordered_cbgs[0]])}\")"
   ]
  },
  {
   "cell_type": "code",
   "execution_count": 7,
   "id": "b19c0000",
   "metadata": {},
   "outputs": [
    {
     "name": "stdout",
     "output_type": "stream",
     "text": [
      "CPU times: user 138 ms, sys: 13.1 ms, total: 151 ms\n",
      "Wall time: 149 ms\n"
     ]
    }
   ],
   "source": [
    "%%time\n",
    "\n",
    "cum_prob_feb = cum_prob_from_adj_list(adj_list_feb)\n",
    "cum_prob_apr = cum_prob_from_adj_list(adj_list_apr)"
   ]
  },
  {
   "cell_type": "code",
   "execution_count": 8,
   "id": "83958f71",
   "metadata": {},
   "outputs": [
    {
     "name": "stdout",
     "output_type": "stream",
     "text": [
      "Should be ~1, is 0.9999999999999989\n",
      "Should be ~1, is 0.9999999999999989\n"
     ]
    }
   ],
   "source": [
    "# sanity check\n",
    "print(f\"Should be ~{1}, is {cum_prob_feb[ordered_cbgs[0]][-1]}\")\n",
    "print(f\"Should be ~{1}, is {cum_prob_feb[ordered_cbgs[0]][-1]}\")"
   ]
  },
  {
   "cell_type": "markdown",
   "id": "0962dab1",
   "metadata": {},
   "source": [
    "Define the distribution generators..."
   ]
  },
  {
   "cell_type": "code",
   "execution_count": 17,
   "id": "2a7399ec",
   "metadata": {},
   "outputs": [],
   "source": [
    "def household_size_distribution(cbg: str) -> int:\n",
    "    \"\"\"\n",
    "    Household size distribution is drawn from normal distribution with mean \n",
    "    according to mean household size of CBG.\n",
    "    :param cbg: CBG of the household.\n",
    "    :returns: Household size.\n",
    "    \"\"\"\n",
    "    rng = np.random.default_rng()\n",
    "    mu = demographics[cbg]['household_size']\n",
    "    sd = mu / 2\n",
    "    return max(int(rng.normal(mu, sd)), 1)\n",
    "\n",
    "def contact_distribution(size: int) -> int:\n",
    "    \"\"\"\n",
    "    Number of nodes in a household that are connected to other households\n",
    "    :param size: Size of the household.\n",
    "    :returns: Number of connected nodes.\n",
    "    \"\"\"\n",
    "    rng = np.random.default_rng()\n",
    "    # return max(int(rng.normal(min(size / 2, 2), 2)), 1)\n",
    "    # come up with something but I think this probably makes most sense for an undistanced network\n",
    "    return size\n",
    "\n",
    "\n",
    "def household_contact_distribution() -> int:\n",
    "    \"\"\"\n",
    "    Number of connections from a node to another node outside the household.\n",
    "    :returns: Number of connections to outside the household.\n",
    "    \"\"\"\n",
    "    # todo\n",
    "    # think this should be exponential (with cutoff ?)\n",
    "    rng = np.random.default_rng()\n",
    "    return max(int(rng.exponential(10.0)), 1)\n",
    "\n",
    "def draw_rewire_distribution(cbg: str, cum_prob: Dict[str, np.array]) -> str:\n",
    "    \"\"\"\n",
    "    For a given CBG draw from the corresponding rewire distribution and return a random CBG to rewire to.\n",
    "    :param cbg: CBG to be rewired.\n",
    "    :param cum_prob: The cummulative probability distribution to draw from.\n",
    "    \"\"\"\n",
    "    rng = np.random.default_rng()\n",
    "    r = rng.random()\n",
    "    \n",
    "    # first instance where p >= r\n",
    "    idx = next(i for i, p in enumerate(cum_prob[cbg]) if p >= r)\n",
    "    return ordered_cbgs[idx]"
   ]
  },
  {
   "cell_type": "code",
   "execution_count": 18,
   "id": "55806f43",
   "metadata": {},
   "outputs": [
    {
     "name": "stdout",
     "output_type": "stream",
     "text": [
      "090091201001\n",
      "090091509002\n"
     ]
    }
   ],
   "source": [
    "# test whether the draw_rewire works as suspected\n",
    "print(draw_rewire_distribution(ordered_cbgs[0], cum_prob_feb))\n",
    "print(draw_rewire_distribution(ordered_cbgs[0], cum_prob_apr))"
   ]
  },
  {
   "cell_type": "markdown",
   "id": "d252ab8c",
   "metadata": {},
   "source": [
    "Create the network...\n",
    "\n",
    "(this is based on Dobson 2020, Chapter Physical Distancing)"
   ]
  },
  {
   "cell_type": "code",
   "execution_count": 19,
   "id": "10607e72",
   "metadata": {},
   "outputs": [],
   "source": [
    "def create_network() -> nx.Graph:\n",
    "    \"\"\"\n",
    "    Create the network based on some specified distributions.\n",
    "    :returns: Network.\n",
    "    \"\"\"\n",
    "    \n",
    "    # initialise variables\n",
    "    g = nx.Graph()\n",
    "    rng = np.random.default_rng()\n",
    "    household_id = 1\n",
    "    households = []\n",
    "    \n",
    "    done_cbgs = set()\n",
    "\n",
    "    # add the nodes and create the household connections\n",
    "    for cbg, demographic in demographics.items():\n",
    "        \n",
    "        done_cbgs.add(cbg)\n",
    "        \n",
    "        N = demographic['population']\n",
    "        n = 0\n",
    "        \n",
    "        if len(done_cbgs) == 50:\n",
    "            break\n",
    "            ...\n",
    "            \n",
    "        print(f\"CBG {len(done_cbgs)} of {len(demographics)}\\r\", end=\"\")\n",
    "        \n",
    "        while n < N:\n",
    "            \n",
    "            # create household network\n",
    "            size = household_size_distribution(cbg)\n",
    "            house_net = nx.complete_graph(size)\n",
    "            \n",
    "            # add unique labels and the current cbg\n",
    "            nx.relabel_nodes(house_net, lambda l: str(l) + cbg + str(n))\n",
    "            nx.set_node_attributes(house_net, cbg, 'cbg')\n",
    "            \n",
    "            # add nodes to the main network\n",
    "            g.add_nodes_from(house_net.nodes, cluster=household_id, cluster_size=size)\n",
    "            g.add_edges_from(house_net.edges, cluster=household_id, cluster_size=size)\n",
    "            households.append(house_net)\n",
    "\n",
    "            # update iteration values\n",
    "            n += size\n",
    "            household_id += 1\n",
    "            \n",
    "    # number of individuals connected to the outside\n",
    "    # todo this is probably obsolete in my version since all nodes are connected to the outside\n",
    "    contacts = []\n",
    "    for house in households:\n",
    "        size = house.order()\n",
    "        num_contacts = contact_distribution(size)\n",
    "        contacts.append(num_contacts)\n",
    "        \n",
    "    # create stubs for connections to outside of household\n",
    "    stubs = []\n",
    "    for i in range(len(households)):\n",
    "        house = households[i]\n",
    "        \n",
    "        # again.. some of this might be obsolete by now (see above). Might just take all ...\n",
    "        nodes = list(house.nodes())[:contacts[i]]\n",
    "        \n",
    "        for node in nodes:\n",
    "            # draw random degree\n",
    "            degree = household_contact_distribution()\n",
    "            \n",
    "            # append `degree` number of copies of the current node\n",
    "            stubs.extend([node] * degree)\n",
    "        \n",
    "    # add one more if number of stubs is odd\n",
    "    if len(stubs) % 2:\n",
    "        unique_stubs = list(set(stubs))\n",
    "        j = rng.integers(len(unique_stubs))\n",
    "        stubs.append(unique_stubs[j])\n",
    "        \n",
    "    ...\n",
    "        \n",
    "    \n",
    "    return (g, [h.order() for h in households])"
   ]
  },
  {
   "cell_type": "code",
   "execution_count": 20,
   "id": "c59acec9",
   "metadata": {},
   "outputs": [
    {
     "name": "stdout",
     "output_type": "stream",
     "text": [
      "CPU times: user 12.7 s, sys: 450 ms, total: 13.1 s\n",
      "Wall time: 13.1 s\n"
     ]
    }
   ],
   "source": [
    "%%time\n",
    "N = sum(cbg['population'] for cbg in demographics.values())\n",
    "(g, clusters) = create_network()"
   ]
  },
  {
   "cell_type": "code",
   "execution_count": 21,
   "id": "b86be7c2",
   "metadata": {},
   "outputs": [
    {
     "name": "stdout",
     "output_type": "stream",
     "text": [
      "Mean household size of 2.09 (range 1-9)\n",
      "Most connected individual has 8 contacts\n"
     ]
    }
   ],
   "source": [
    "print('Mean household size of {s:.2f} (range {minf}-{maxf})'.format(s=np.mean(clusters), minf=min(clusters), maxf=max(clusters)))\n",
    "print('Most connected individual has {k} contacts'.format(k=max(dict(g.degree()).values())))"
   ]
  },
  {
   "cell_type": "code",
   "execution_count": null,
   "id": "1c036dc2",
   "metadata": {},
   "outputs": [],
   "source": []
  }
 ],
 "metadata": {
  "kernelspec": {
   "display_name": "Python 3",
   "language": "python",
   "name": "python3"
  },
  "language_info": {
   "codemirror_mode": {
    "name": "ipython",
    "version": 3
   },
   "file_extension": ".py",
   "mimetype": "text/x-python",
   "name": "python",
   "nbconvert_exporter": "python",
   "pygments_lexer": "ipython3",
   "version": "3.8.5"
  }
 },
 "nbformat": 4,
 "nbformat_minor": 5
}
