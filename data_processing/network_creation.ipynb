{
 "cells": [
  {
   "cell_type": "markdown",
   "id": "7c46f281",
   "metadata": {},
   "source": [
    "## Network creation\n",
    "\n",
    "Using the transformed data from the previous step, create networks for February and April."
   ]
  },
  {
   "cell_type": "code",
   "execution_count": 1,
   "id": "13314e59",
   "metadata": {},
   "outputs": [],
   "source": [
    "# to allow relative imports\n",
    "import os\n",
    "import sys\n",
    "\n",
    "module = os.path.abspath(os.path.join('..'))\n",
    "if module not in sys.path:\n",
    "    sys.path.append(module)\n",
    "\n",
    "import networkx as nx\n",
    "import pickle\n",
    "\n",
    "from configuration import OUT, GRAPHS\n",
    "from model.network.network_data import NetworkData\n",
    "from model.network.mobility_network import MobilityNetwork\n",
    "from model.network.mobility_network import MNGeneratorFromNetworkData as MNG"
   ]
  },
  {
   "cell_type": "markdown",
   "id": "d655bfee",
   "metadata": {},
   "source": [
    "Define a seed for random generators."
   ]
  },
  {
   "cell_type": "code",
   "execution_count": 2,
   "id": "5b50a874",
   "metadata": {},
   "outputs": [],
   "source": [
    "SEED = 4401"
   ]
  },
  {
   "cell_type": "markdown",
   "id": "5baea893",
   "metadata": {},
   "source": [
    "Read transformed data from pickled files."
   ]
  },
  {
   "cell_type": "code",
   "execution_count": 3,
   "id": "699211c2",
   "metadata": {},
   "outputs": [],
   "source": [
    "demographics = pickle.load(open(f'{OUT}demographics.pkl', 'rb'))\n",
    "\n",
    "comb_counts_pre = pickle.load(open(f'{OUT}comb_counts_pre.pkl', 'rb'))\n",
    "comb_counts_post = pickle.load(open(f'{OUT}comb_counts_post.pkl', 'rb'))\n",
    "\n",
    "trip_counts_pre = pickle.load(open(f'{OUT}trip_counts_pre.pkl', 'rb'))\n",
    "trip_counts_post = pickle.load(open(f'{OUT}trip_counts_post.pkl', 'rb'))"
   ]
  },
  {
   "cell_type": "markdown",
   "id": "13104f32",
   "metadata": {},
   "source": [
    "Create network data instances."
   ]
  },
  {
   "cell_type": "code",
   "execution_count": 4,
   "id": "93c630ff",
   "metadata": {},
   "outputs": [],
   "source": [
    "network_data_pre = NetworkData(demographics, comb_counts_pre, trip_counts_pre)\n",
    "network_data_post = NetworkData(demographics, comb_counts_post, trip_counts_post)\n",
    "\n",
    "network_data_post.calc_trip_count_change(network_data_pre)"
   ]
  },
  {
   "cell_type": "code",
   "execution_count": 9,
   "id": "b18d25c9",
   "metadata": {},
   "outputs": [
    {
     "data": {
      "text/plain": [
       "0.4316891273187813"
      ]
     },
     "execution_count": 9,
     "metadata": {},
     "output_type": "execute_result"
    }
   ],
   "source": [
    "import numpy as np\n",
    "np.mean(list(network_data_post.trip_count_change.values()))"
   ]
  },
  {
   "cell_type": "markdown",
   "id": "3f64d408",
   "metadata": {},
   "source": [
    "Calculate the adjacency lists and cumulative probabilities."
   ]
  },
  {
   "cell_type": "code",
   "execution_count": 5,
   "id": "d243c1f0",
   "metadata": {},
   "outputs": [],
   "source": [
    "network_data_pre.create_adjacency_list()\n",
    "network_data_post.create_adjacency_list()\n",
    "\n",
    "network_data_pre.create_cum_prob()\n",
    "network_data_post.create_cum_prob()"
   ]
  },
  {
   "cell_type": "markdown",
   "id": "1de7b7ec",
   "metadata": {},
   "source": [
    "Create the networks."
   ]
  },
  {
   "cell_type": "code",
   "execution_count": 10,
   "id": "c59acec9",
   "metadata": {},
   "outputs": [],
   "source": [
    "params_pre = dict()\n",
    "params_post = dict()\n",
    "\n",
    "params_pre[MNG.N] = params_post[MNG.N] = N = 10000\n",
    "params_pre[MNG.EXPONENT] = params_post[MNG.EXPONENT] = EXPONENT = 1.9\n",
    "params_pre[MNG.CUTOFF] = params_post[MNG.CUTOFF] = CUTOFF = 40\n",
    "params_pre[MNG.SEED] = params_post[MNG.SEED] = SEED\n",
    "\n",
    "params_pre[MNG.NETWORK_DATA] = network_data_pre\n",
    "params_pre[MNG.MULTIPLIER] = False\n",
    "\n",
    "params_post[MNG.NETWORK_DATA] = network_data_post\n",
    "params_post[MNG.MULTIPLIER] = True"
   ]
  },
  {
   "cell_type": "code",
   "execution_count": 11,
   "id": "e619ce1f",
   "metadata": {},
   "outputs": [
    {
     "ename": "AttributeError",
     "evalue": "'NetworkData' object has no attribute 'cum_prob'",
     "output_type": "error",
     "traceback": [
      "\u001B[0;31m---------------------------------------------------------------------------\u001B[0m",
      "\u001B[0;31mAttributeError\u001B[0m                            Traceback (most recent call last)",
      "\u001B[0;32m<timed exec>\u001B[0m in \u001B[0;36m<module>\u001B[0;34m\u001B[0m\n",
      "\u001B[0;32m~/projects/msc-thesis/venv/lib/python3.9/site-packages/epydemic/generator.py\u001B[0m in \u001B[0;36mgenerate\u001B[0;34m(self)\u001B[0m\n\u001B[1;32m     95\u001B[0m         :returns: a network instance or None'''\n\u001B[1;32m     96\u001B[0m         \u001B[0;32mif\u001B[0m \u001B[0mself\u001B[0m\u001B[0;34m.\u001B[0m\u001B[0m_remaining\u001B[0m \u001B[0;32mis\u001B[0m \u001B[0;32mNone\u001B[0m\u001B[0;34m:\u001B[0m\u001B[0;34m\u001B[0m\u001B[0;34m\u001B[0m\u001B[0m\n\u001B[0;32m---> 97\u001B[0;31m             \u001B[0;32mreturn\u001B[0m \u001B[0mself\u001B[0m\u001B[0;34m.\u001B[0m\u001B[0m_generate\u001B[0m\u001B[0;34m(\u001B[0m\u001B[0mself\u001B[0m\u001B[0;34m.\u001B[0m\u001B[0m_params\u001B[0m\u001B[0;34m)\u001B[0m\u001B[0;34m\u001B[0m\u001B[0;34m\u001B[0m\u001B[0m\n\u001B[0m\u001B[1;32m     98\u001B[0m         \u001B[0;32melif\u001B[0m \u001B[0mself\u001B[0m\u001B[0;34m.\u001B[0m\u001B[0m_remaining\u001B[0m \u001B[0;34m>\u001B[0m \u001B[0;36m0\u001B[0m\u001B[0;34m:\u001B[0m\u001B[0;34m\u001B[0m\u001B[0;34m\u001B[0m\u001B[0m\n\u001B[1;32m     99\u001B[0m             \u001B[0mself\u001B[0m\u001B[0;34m.\u001B[0m\u001B[0m_remaining\u001B[0m \u001B[0;34m-=\u001B[0m \u001B[0;36m1\u001B[0m\u001B[0;34m\u001B[0m\u001B[0;34m\u001B[0m\u001B[0m\n",
      "\u001B[0;32m~/projects/msc-thesis/model/network/mobility_network.py\u001B[0m in \u001B[0;36m_generate\u001B[0;34m(self, params)\u001B[0m\n\u001B[1;32m    334\u001B[0m         mobility_network = MobilityNetwork(network_data=network_data,\n\u001B[1;32m    335\u001B[0m                                            \u001B[0mdegree_dist\u001B[0m\u001B[0;34m=\u001B[0m\u001B[0mdegree_dist\u001B[0m\u001B[0;34m,\u001B[0m\u001B[0;34m\u001B[0m\u001B[0;34m\u001B[0m\u001B[0m\n\u001B[0;32m--> 336\u001B[0;31m                                            \u001B[0mN\u001B[0m\u001B[0;34m=\u001B[0m\u001B[0mn\u001B[0m\u001B[0;34m,\u001B[0m\u001B[0;34m\u001B[0m\u001B[0;34m\u001B[0m\u001B[0m\n\u001B[0m\u001B[1;32m    337\u001B[0m                                            \u001B[0mmultiplier\u001B[0m\u001B[0;34m=\u001B[0m\u001B[0mmultiplier\u001B[0m\u001B[0;34m,\u001B[0m\u001B[0;34m\u001B[0m\u001B[0;34m\u001B[0m\u001B[0m\n\u001B[1;32m    338\u001B[0m                                            seed=seed)\n",
      "\u001B[0;32m~/projects/msc-thesis/model/network/mobility_network.py\u001B[0m in \u001B[0;36mcreate\u001B[0;34m(self)\u001B[0m\n\u001B[1;32m     70\u001B[0m         \u001B[0mhouseholds\u001B[0m \u001B[0;34m=\u001B[0m \u001B[0mself\u001B[0m\u001B[0;34m.\u001B[0m\u001B[0m_create_households\u001B[0m\u001B[0;34m(\u001B[0m\u001B[0;34m)\u001B[0m\u001B[0;34m\u001B[0m\u001B[0;34m\u001B[0m\u001B[0m\n\u001B[1;32m     71\u001B[0m         \u001B[0mstubs\u001B[0m\u001B[0;34m,\u001B[0m \u001B[0mcbg_degree_map\u001B[0m \u001B[0;34m=\u001B[0m \u001B[0mself\u001B[0m\u001B[0;34m.\u001B[0m\u001B[0m_create_stubs\u001B[0m\u001B[0;34m(\u001B[0m\u001B[0mhouseholds\u001B[0m\u001B[0;34m)\u001B[0m\u001B[0;34m\u001B[0m\u001B[0;34m\u001B[0m\u001B[0m\n\u001B[0;32m---> 72\u001B[0;31m         \u001B[0mstubs\u001B[0m \u001B[0;34m=\u001B[0m \u001B[0mself\u001B[0m\u001B[0;34m.\u001B[0m\u001B[0m_create_stub_pairs\u001B[0m\u001B[0;34m(\u001B[0m\u001B[0mstubs\u001B[0m\u001B[0;34m,\u001B[0m \u001B[0mcbg_degree_map\u001B[0m\u001B[0;34m)\u001B[0m\u001B[0;34m\u001B[0m\u001B[0;34m\u001B[0m\u001B[0m\n\u001B[0m\u001B[1;32m     73\u001B[0m         \u001B[0mstubs\u001B[0m \u001B[0;34m=\u001B[0m \u001B[0mself\u001B[0m\u001B[0;34m.\u001B[0m\u001B[0m_break_up_pairs\u001B[0m\u001B[0;34m(\u001B[0m\u001B[0mstubs\u001B[0m\u001B[0;34m)\u001B[0m\u001B[0;34m\u001B[0m\u001B[0;34m\u001B[0m\u001B[0m\n\u001B[1;32m     74\u001B[0m         \u001B[0mself\u001B[0m\u001B[0;34m.\u001B[0m\u001B[0m_connect_stubs\u001B[0m\u001B[0;34m(\u001B[0m\u001B[0mstubs\u001B[0m\u001B[0;34m)\u001B[0m\u001B[0;34m\u001B[0m\u001B[0;34m\u001B[0m\u001B[0m\n",
      "\u001B[0;32m~/projects/msc-thesis/model/network/mobility_network.py\u001B[0m in \u001B[0;36m_create_stub_pairs\u001B[0;34m(self, stubs, cbg_degree_map)\u001B[0m\n\u001B[1;32m    190\u001B[0m         \u001B[0;32mfor\u001B[0m \u001B[0mi\u001B[0m \u001B[0;32min\u001B[0m \u001B[0mrange\u001B[0m\u001B[0;34m(\u001B[0m\u001B[0;36m0\u001B[0m\u001B[0;34m,\u001B[0m \u001B[0mlen\u001B[0m\u001B[0;34m(\u001B[0m\u001B[0mstubs\u001B[0m\u001B[0;34m)\u001B[0m\u001B[0;34m,\u001B[0m \u001B[0;36m2\u001B[0m\u001B[0;34m)\u001B[0m\u001B[0;34m:\u001B[0m\u001B[0;34m\u001B[0m\u001B[0;34m\u001B[0m\u001B[0m\n\u001B[1;32m    191\u001B[0m \u001B[0;34m\u001B[0m\u001B[0m\n\u001B[0;32m--> 192\u001B[0;31m             \u001B[0;32mwhile\u001B[0m \u001B[0;32mTrue\u001B[0m\u001B[0;34m:\u001B[0m\u001B[0;34m\u001B[0m\u001B[0;34m\u001B[0m\u001B[0m\n\u001B[0m\u001B[1;32m    193\u001B[0m \u001B[0;34m\u001B[0m\u001B[0m\n\u001B[1;32m    194\u001B[0m                 \u001B[0;31m# draw a CBG from the CBG connection distribution\u001B[0m\u001B[0;34m\u001B[0m\u001B[0;34m\u001B[0m\u001B[0;34m\u001B[0m\u001B[0m\n",
      "\u001B[0;32m~/projects/msc-thesis/model/distributions.py\u001B[0m in \u001B[0;36mdraw_cbg\u001B[0;34m(network_data, cbg, seed)\u001B[0m\n\u001B[1;32m    119\u001B[0m \u001B[0;34m\u001B[0m\u001B[0m\n\u001B[1;32m    120\u001B[0m     \u001B[0;31m# return index where p >= r for the first time\u001B[0m\u001B[0;34m\u001B[0m\u001B[0;34m\u001B[0m\u001B[0;34m\u001B[0m\u001B[0m\n\u001B[0;32m--> 121\u001B[0;31m     \u001B[0marr\u001B[0m \u001B[0;34m=\u001B[0m \u001B[0mnetwork_data\u001B[0m\u001B[0;34m.\u001B[0m\u001B[0mcum_prob\u001B[0m\u001B[0;34m[\u001B[0m\u001B[0mcbg\u001B[0m\u001B[0;34m]\u001B[0m\u001B[0;34m\u001B[0m\u001B[0;34m\u001B[0m\u001B[0m\n\u001B[0m\u001B[1;32m    122\u001B[0m     \u001B[0midx\u001B[0m \u001B[0;34m=\u001B[0m \u001B[0mbinary_search_lowest_idx\u001B[0m\u001B[0;34m(\u001B[0m\u001B[0marr\u001B[0m\u001B[0;34m,\u001B[0m \u001B[0;36m0\u001B[0m\u001B[0;34m,\u001B[0m \u001B[0mlen\u001B[0m\u001B[0;34m(\u001B[0m\u001B[0marr\u001B[0m\u001B[0;34m)\u001B[0m \u001B[0;34m-\u001B[0m \u001B[0;36m1\u001B[0m\u001B[0;34m,\u001B[0m \u001B[0mr\u001B[0m\u001B[0;34m)\u001B[0m\u001B[0;34m\u001B[0m\u001B[0;34m\u001B[0m\u001B[0m\n\u001B[1;32m    123\u001B[0m     \u001B[0;32mreturn\u001B[0m \u001B[0mnetwork_data\u001B[0m\u001B[0;34m.\u001B[0m\u001B[0mordered_cbgs\u001B[0m\u001B[0;34m[\u001B[0m\u001B[0midx\u001B[0m\u001B[0;34m]\u001B[0m\u001B[0;34m\u001B[0m\u001B[0;34m\u001B[0m\u001B[0m\n",
      "\u001B[0;31mAttributeError\u001B[0m: 'NetworkData' object has no attribute 'cum_prob'"
     ]
    }
   ],
   "source": [
    "%%time\n",
    "\n",
    "mng_pre = MNG(params=params_pre)\n",
    "g_pre = mng_pre.generate()\n",
    "\n",
    "mng_post = MNG(params=params_post)\n",
    "g_post = mng_post.generate()"
   ]
  },
  {
   "cell_type": "markdown",
   "id": "24573109",
   "metadata": {},
   "source": [
    "Save the graphs to graphml format."
   ]
  },
  {
   "cell_type": "code",
   "execution_count": 12,
   "id": "d0cfec74",
   "metadata": {},
   "outputs": [],
   "source": [
    "# nx.write_graphml(g_pre, f'{GRAPHS}pre_N_{N}_E_{EXPONENT}_C_{CUTOFF}.graphml')\n",
    "# nx.write_graphml(g_post, f'{GRAPHS}post_N_{N}_E_{EXPONENT}_C_{CUTOFF}.graphml')"
   ]
  },
  {
   "cell_type": "code",
   "execution_count": 13,
   "id": "16ce7baf",
   "metadata": {},
   "outputs": [
    {
     "ename": "NameError",
     "evalue": "name 'g_pre' is not defined",
     "output_type": "error",
     "traceback": [
      "\u001B[0;31m---------------------------------------------------------------------------\u001B[0m",
      "\u001B[0;31mNameError\u001B[0m                                 Traceback (most recent call last)",
      "\u001B[0;32m<ipython-input-13-c69523d3d845>\u001B[0m in \u001B[0;36m<module>\u001B[0;34m\u001B[0m\n\u001B[1;32m      1\u001B[0m \u001B[0;32mimport\u001B[0m \u001B[0mnumpy\u001B[0m \u001B[0;32mas\u001B[0m \u001B[0mnp\u001B[0m\u001B[0;34m\u001B[0m\u001B[0;34m\u001B[0m\u001B[0m\n\u001B[0;32m----> 2\u001B[0;31m degrees = [list(dict(g_pre.degree()).values()), \n\u001B[0m\u001B[1;32m      3\u001B[0m            list(dict(g_post.degree()).values())]\n\u001B[1;32m      4\u001B[0m \u001B[0mprint\u001B[0m\u001B[0;34m(\u001B[0m\u001B[0mnp\u001B[0m\u001B[0;34m.\u001B[0m\u001B[0mmean\u001B[0m\u001B[0;34m(\u001B[0m\u001B[0mdegrees\u001B[0m\u001B[0;34m[\u001B[0m\u001B[0;36m0\u001B[0m\u001B[0;34m]\u001B[0m\u001B[0;34m)\u001B[0m\u001B[0;34m,\u001B[0m \u001B[0mnp\u001B[0m\u001B[0;34m.\u001B[0m\u001B[0mmedian\u001B[0m\u001B[0;34m(\u001B[0m\u001B[0mdegrees\u001B[0m\u001B[0;34m[\u001B[0m\u001B[0;36m0\u001B[0m\u001B[0;34m]\u001B[0m\u001B[0;34m)\u001B[0m\u001B[0;34m)\u001B[0m\u001B[0;34m\u001B[0m\u001B[0;34m\u001B[0m\u001B[0m\n\u001B[1;32m      5\u001B[0m \u001B[0mprint\u001B[0m\u001B[0;34m(\u001B[0m\u001B[0mnp\u001B[0m\u001B[0;34m.\u001B[0m\u001B[0mmean\u001B[0m\u001B[0;34m(\u001B[0m\u001B[0mdegrees\u001B[0m\u001B[0;34m[\u001B[0m\u001B[0;36m1\u001B[0m\u001B[0;34m]\u001B[0m\u001B[0;34m)\u001B[0m\u001B[0;34m,\u001B[0m \u001B[0mnp\u001B[0m\u001B[0;34m.\u001B[0m\u001B[0mmedian\u001B[0m\u001B[0;34m(\u001B[0m\u001B[0mdegrees\u001B[0m\u001B[0;34m[\u001B[0m\u001B[0;36m1\u001B[0m\u001B[0;34m]\u001B[0m\u001B[0;34m)\u001B[0m\u001B[0;34m)\u001B[0m\u001B[0;34m\u001B[0m\u001B[0;34m\u001B[0m\u001B[0m\n",
      "\u001B[0;31mNameError\u001B[0m: name 'g_pre' is not defined"
     ]
    }
   ],
   "source": [
    "import numpy as np\n",
    "degrees = [list(dict(g_pre.degree()).values()), \n",
    "           list(dict(g_post.degree()).values())]\n",
    "print(np.mean(degrees[0]), np.median(degrees[0]))\n",
    "print(np.mean(degrees[1]), np.median(degrees[1]))"
   ]
  },
  {
   "cell_type": "code",
   "execution_count": null,
   "id": "f221057c",
   "metadata": {},
   "outputs": [],
   "source": []
  }
 ],
 "metadata": {
  "kernelspec": {
   "display_name": "Python 3",
   "language": "python",
   "name": "python3"
  },
  "language_info": {
   "codemirror_mode": {
    "name": "ipython",
    "version": 3
   },
   "file_extension": ".py",
   "mimetype": "text/x-python",
   "name": "python",
   "nbconvert_exporter": "python",
   "pygments_lexer": "ipython3",
   "version": "3.9.2"
  }
 },
 "nbformat": 4,
 "nbformat_minor": 5
}