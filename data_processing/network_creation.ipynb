{
 "cells": [
  {
   "cell_type": "markdown",
   "id": "7c46f281",
   "metadata": {},
   "source": [
    "Imports ..."
   ]
  },
  {
   "cell_type": "code",
   "execution_count": 1,
   "id": "13314e59",
   "metadata": {},
   "outputs": [],
   "source": [
    "import numpy as np\n",
    "import networkx as nx\n",
    "from matplotlib import pyplot as plt\n",
    "import pickle\n",
    "from typing import Dict, List, Tuple, Callable"
   ]
  },
  {
   "cell_type": "markdown",
   "id": "5baea893",
   "metadata": {},
   "source": [
    "Read in data ..."
   ]
  },
  {
   "cell_type": "code",
   "execution_count": 2,
   "id": "699211c2",
   "metadata": {},
   "outputs": [],
   "source": [
    "demographics = pickle.load(open('data/demographics.pkl', 'rb'))\n",
    "\n",
    "comb_counts_feb = pickle.load(open('data/comb_counts_feb.pkl', 'rb'))\n",
    "comb_counts_apr = pickle.load(open('data/comb_counts_apr.pkl', 'rb'))\n",
    "\n",
    "trip_counts_feb = pickle.load(open('data/trip_counts_feb.pkl', 'rb'))\n",
    "trip_counts_apr = pickle.load(open('data/trip_counts_apr.pkl', 'rb'))"
   ]
  },
  {
   "cell_type": "code",
   "execution_count": 3,
   "id": "60997d9f",
   "metadata": {},
   "outputs": [],
   "source": [
    "# store all CBGs in order\n",
    "ordered_cbgs = sorted(demographics.keys())"
   ]
  },
  {
   "cell_type": "code",
   "execution_count": 4,
   "id": "dfe6dbe5",
   "metadata": {},
   "outputs": [],
   "source": [
    "# percentage change of number of trips: April / February\n",
    "trip_count_change = {}\n",
    "\n",
    "for cbg in ordered_cbgs:\n",
    "\n",
    "    if cbg in trip_counts_feb and cbg in trip_counts_apr:\n",
    "        change = trip_counts_apr[cbg] / trip_counts_feb[cbg]\n",
    "\n",
    "    else:\n",
    "        change = 1\n",
    "        \n",
    "    trip_count_change[cbg] = change"
   ]
  },
  {
   "cell_type": "markdown",
   "id": "99be7dd0",
   "metadata": {},
   "source": [
    "Create adjacency list etc. between CBGs..."
   ]
  },
  {
   "cell_type": "code",
   "execution_count": 5,
   "id": "6ba1f169",
   "metadata": {},
   "outputs": [],
   "source": [
    "def create_adjacency_list(comb_counts: Dict[Tuple[str, str], int], \n",
    "                          trip_counts: Dict[str, int]) -> Dict[str, List[float]]:\n",
    "    \"\"\"\n",
    "    Create an adjacency list in the form of a dictionary. \n",
    "    The keys are the CGBs and the values are ordered lists of transition probabilities to other CBGs.\n",
    "    The probabilities are in the same order as `ordered_cbgs`.\n",
    "    The transition probability from CBG i to CBG j is\n",
    "    P(i, j) = count(trips between i and j) / count(all trips from i to a CBG).\n",
    "    :param comb_counts: Total count of all trips between two CGBs.\n",
    "    :param trip_counts: Total count of all trips from each CGB.\n",
    "    :returns: Adjacency list with probabilites.\n",
    "    \"\"\"\n",
    "    adjacency_list: Dict[str, List[float]] = {}\n",
    "        \n",
    "    for i in ordered_cbgs:\n",
    "        adjacency_list[i] = []\n",
    "        for j in ordered_cbgs:\n",
    "\n",
    "            # count of trips between \n",
    "            comb = (i, j)\n",
    "            trips_between = 0 if not comb in comb_counts else comb_counts[comb]\n",
    "\n",
    "            # ratio of all trips from i\n",
    "            p = 0 if not i in trip_counts else trips_between / trip_counts[i]\n",
    "            adjacency_list[i].append(p)\n",
    "                \n",
    "    return adjacency_list\n",
    "\n",
    "def cum_prob_from_adj_list(adjacency_list: Dict[str, List[float]]) -> Dict[str, np.array]:\n",
    "    \"\"\"\n",
    "    From an adjacency list with transition probabilities, calculate the cumulative probabilities.\n",
    "    :param adjacency_list: Adjacency list with probabilities.\n",
    "    :returns: Cummulative probabilities for each item in the adjacency list.\n",
    "    \"\"\"\n",
    "    for key in adjacency_list:\n",
    "        adjacency_list[key] = np.array(adjacency_list[key]).cumsum()\n",
    "\n",
    "    return adjacency_list"
   ]
  },
  {
   "cell_type": "code",
   "execution_count": 6,
   "id": "d243c1f0",
   "metadata": {},
   "outputs": [
    {
     "name": "stdout",
     "output_type": "stream",
     "text": [
      "CPU times: user 596 ms, sys: 11.8 ms, total: 607 ms\n",
      "Wall time: 607 ms\n"
     ]
    }
   ],
   "source": [
    "%%time\n",
    "\n",
    "adj_list_feb = create_adjacency_list(comb_counts_feb, trip_counts_feb)\n",
    "adj_list_apr = create_adjacency_list(comb_counts_apr, trip_counts_apr)"
   ]
  },
  {
   "cell_type": "code",
   "execution_count": 7,
   "id": "a252cf17",
   "metadata": {},
   "outputs": [
    {
     "name": "stdout",
     "output_type": "stream",
     "text": [
      "Should be ~1, is 0.9999999999999989\n",
      "Should be ~1, is 0.9999999999999992\n"
     ]
    }
   ],
   "source": [
    "# sanity check\n",
    "print(f\"Should be ~{1}, is {sum(adj_list_feb[ordered_cbgs[0]])}\")\n",
    "print(f\"Should be ~{1}, is {sum(adj_list_apr[ordered_cbgs[0]])}\")"
   ]
  },
  {
   "cell_type": "code",
   "execution_count": 8,
   "id": "b19c0000",
   "metadata": {},
   "outputs": [
    {
     "name": "stdout",
     "output_type": "stream",
     "text": [
      "CPU times: user 101 ms, sys: 10.1 ms, total: 111 ms\n",
      "Wall time: 109 ms\n"
     ]
    }
   ],
   "source": [
    "%%time\n",
    "\n",
    "cum_prob_feb = cum_prob_from_adj_list(adj_list_feb)\n",
    "cum_prob_apr = cum_prob_from_adj_list(adj_list_apr)"
   ]
  },
  {
   "cell_type": "code",
   "execution_count": 9,
   "id": "83958f71",
   "metadata": {},
   "outputs": [
    {
     "name": "stdout",
     "output_type": "stream",
     "text": [
      "Should be ~1, is 0.9999999999999989\n",
      "Should be ~1, is 0.9999999999999989\n"
     ]
    }
   ],
   "source": [
    "# sanity check\n",
    "print(f\"Should be ~{1}, is {cum_prob_feb[ordered_cbgs[0]][-1]}\")\n",
    "print(f\"Should be ~{1}, is {cum_prob_feb[ordered_cbgs[0]][-1]}\")"
   ]
  },
  {
   "cell_type": "markdown",
   "id": "0962dab1",
   "metadata": {},
   "source": [
    "Define the distribution generators..."
   ]
  },
  {
   "cell_type": "code",
   "execution_count": 10,
   "id": "2a7399ec",
   "metadata": {},
   "outputs": [],
   "source": [
    "def household_size_distribution(cbg: str) -> int:\n",
    "    \"\"\"\n",
    "    Household size distribution is drawn from normal distribution with mean \n",
    "    according to mean household size of CBG.\n",
    "    :param cbg: CBG of the household.\n",
    "    :returns: Household size.\n",
    "    \"\"\"\n",
    "    rng = np.random.default_rng()\n",
    "    mu = demographics[cbg]['household_size']\n",
    "    # more realistic sd\n",
    "    sd = mu / 2\n",
    "    return max(int(rng.normal(mu, sd)), 1)\n",
    "\n",
    "def contact_distribution(size: int) -> int:\n",
    "    \"\"\"\n",
    "    Number of nodes in a household that are connected to other households\n",
    "    :param size: Size of the household.\n",
    "    :returns: Number of connected nodes.\n",
    "    \"\"\"\n",
    "    rng = np.random.default_rng()\n",
    "    # return max(int(rng.normal(min(size / 2, 2), 2)), 1)\n",
    "    # come up with something but I think this probably makes most sense for an undistanced network\n",
    "    return size\n",
    "\n",
    "\n",
    "def household_contact_distribution(baseline: float, cbg: str, multiplier: bool) -> int:\n",
    "    \"\"\"\n",
    "    Number of connections from a node to another node outside the household.\n",
    "    :param baseline: baseline value for the exponent of the degree distribution.\n",
    "    :param cbg: CBG of the current household.\n",
    "    :param multiplier: reduce exponent by factor.\n",
    "    :returns: Number of connections to outside the household.\n",
    "    \"\"\"\n",
    "    # todo should be exponential (with cutoff ?)\n",
    "    rng = np.random.default_rng()\n",
    "    multiplier = trip_count_change[cbg]\n",
    "    if reduced:\n",
    "        exponent = baseline * trip_count_change[cbg]\n",
    "    else:\n",
    "        exponent = baseline\n",
    "    return max(int(rng.exponential(exponent)), 1)\n",
    "\n",
    "def draw_rewire_distribution(cbg: str, cum_prob: Dict[str, np.array]) -> str:\n",
    "    \"\"\"\n",
    "    For a given CBG draw from the corresponding rewire distribution and return a random CBG to rewire to.\n",
    "    :param cbg: CBG to be rewired.\n",
    "    :param cum_prob: The cummulative probability distribution to draw from.\n",
    "    \"\"\"\n",
    "    rng = np.random.default_rng()\n",
    "    r = rng.random()\n",
    "    \n",
    "    # first instance where p >= r\n",
    "    idx = next(i for i, p in enumerate(cum_prob[cbg]) if p >= r)\n",
    "    return ordered_cbgs[idx]"
   ]
  },
  {
   "cell_type": "markdown",
   "id": "d252ab8c",
   "metadata": {},
   "source": [
    "Create the network...\n",
    "\n",
    "(this is based on Dobson 2020, Chapter Physical Distancing)"
   ]
  },
  {
   "cell_type": "code",
   "execution_count": 11,
   "id": "10607e72",
   "metadata": {},
   "outputs": [],
   "source": [
    "def create_network(N, cum_prob_rewire: Dict[str, np.array],\n",
    "                  baseline: float, multiplier: bool=False) -> nx.Graph:\n",
    "    \"\"\"\n",
    "    Create the network based on some specified distributions.\n",
    "    :param N: Number of individuals.\n",
    "    :param cum_prob_rewire: The cummulative probability distribution to draw from for rewiring.\n",
    "    :param baseline: baseline value for the exponent of the degree distribution.\n",
    "    :param multiplier: reduce degrees by factor.\n",
    "    :returns: Network.\n",
    "    \"\"\"\n",
    "    \n",
    "    # initialise variables\n",
    "    g = nx.Graph()\n",
    "    rng = np.random.default_rng()\n",
    "    \n",
    "    household_id = 1\n",
    "    households = []\n",
    "    cbg_id = 1\n",
    "    \n",
    "    # total number of nodes in network\n",
    "    total_node_ct = 0\n",
    "    cbg_degree_map = {}\n",
    "\n",
    "    # add the nodes and create the household connections\n",
    "    for cbg, demographic in demographics.items():\n",
    "\n",
    "        # target number of nodes for current CBG\n",
    "        N_cbg = int(demographic['population_prop'] * N)\n",
    "\n",
    "        # current number of nodes of this CBG\n",
    "        n = 0\n",
    "        \n",
    "        # initialise for later\n",
    "        cbg_degree_map[cbg] = []\n",
    "\n",
    "        if cbg_id > 700:\n",
    "            break\n",
    "            ...\n",
    "\n",
    "        print(f\"Creating nodes: CBG {cbg_id} of {len(demographics)}\", end=\"\\r\")\n",
    "\n",
    "        # add households\n",
    "        while n < N_cbg:\n",
    "\n",
    "            # create household network\n",
    "            size = household_size_distribution(cbg)\n",
    "            house_net = nx.complete_graph(size)\n",
    "\n",
    "            # add unique labels and the current cbg\n",
    "            nx.relabel_nodes(house_net, lambda l: total_node_ct + l, copy=False)\n",
    "\n",
    "            # add nodes to the main network\n",
    "            g.add_nodes_from(house_net.nodes, household=household_id, household_size=size, cbg=cbg)\n",
    "            g.add_edges_from(house_net.edges, household=household_id, household_size=size, cbg=cbg)\n",
    "            households.append(house_net)\n",
    "\n",
    "            # update iteration values\n",
    "            n += size\n",
    "            household_id += 1\n",
    "            total_node_ct += size\n",
    "\n",
    "        cbg_id += 1\n",
    "\n",
    "    print('', end='\\n')\n",
    "            \n",
    "    # number of individuals connected to the outside\n",
    "    # todo this is probably obsolete in my version since all nodes are connected to the outside\n",
    "    contacts = []\n",
    "    for house in households:\n",
    "        size = house.order()\n",
    "        num_contacts = contact_distribution(size)\n",
    "        contacts.append(num_contacts)\n",
    "        \n",
    "    # create stubs for connections to outside of household\n",
    "    stubs = []\n",
    "    for i in range(len(households)):\n",
    "        \n",
    "        print(f\"Creating stubs: Household {i+1} of {len(households)}\", end=\"\\r\")\n",
    "        \n",
    "        house = households[i]\n",
    "        \n",
    "        # again.. some of this might be obsolete by now (see above). Might just take all ...\n",
    "        nodes = list(house.nodes())[:contacts[i]]\n",
    "        \n",
    "        if len(nodes) > 0:\n",
    "            cbg = g.nodes[nodes[0]]['cbg']\n",
    "        \n",
    "        for node in nodes:\n",
    "            # draw random degree\n",
    "            degree = household_contact_distribution(baseline, cbg, reduced)\n",
    "            \n",
    "            # append `degree` number of copies of the current node\n",
    "            new_stubs = [node] * degree\n",
    "            stubs.extend(new_stubs)\n",
    "            cbg_degree_map[cbg].extend(new_stubs)\n",
    "        \n",
    "    # add one more if number of stubs is odd\n",
    "    if len(stubs) % 2:\n",
    "        unique_stubs = list(set(stubs))\n",
    "        j = rng.integers(len(unique_stubs))\n",
    "        \n",
    "        stubs.append(unique_stubs[j])\n",
    "        cbg_degree_map[g.nodes[unique_stubs[j]]['cbg']].append(unique_stubs[j])\n",
    "        \n",
    "        \n",
    "    print('', end='\\n')\n",
    "    \n",
    "    # connect stubs according with rewire distribution\n",
    "    for i in range(0, len(stubs), 2):\n",
    "        \n",
    "        print(f\"Connecting stubs: {i} of {len(stubs)}\", end=\"\\r\")\n",
    "        \n",
    "        while True:\n",
    "        \n",
    "            # draw a CBG from the rewire distribution\n",
    "            cbg = g.nodes[stubs[i]]['cbg']\n",
    "            target_cbg = draw_rewire_distribution(cbg, cum_prob_rewire)\n",
    "            \n",
    "            # make sure the drawn CBG has any available stubs at all\n",
    "            if len(cbg_degree_map[target_cbg]) == 0:\n",
    "                continue\n",
    "                \n",
    "            # draw a random stub from the required CBG (preserving degree dist.)\n",
    "            target_node = rng.choice(cbg_degree_map[target_cbg])\n",
    "            j = stubs.index(target_node)\n",
    "\n",
    "            # swap nodes\n",
    "            stubs[i+1], stubs[j] = stubs[j], stubs[i+1]\n",
    "            break\n",
    "    \n",
    "    print('', end='\\n')\n",
    "    \n",
    "    # Break up intra-household edges resulting from stubs\n",
    "    while True:\n",
    "        \n",
    "        print(\"Breaking up pairs...\", end=\"\\n\")    \n",
    "        \n",
    "        # iterate by two successive stubs at a time\n",
    "        swaps = 0\n",
    "        for i in range(0, len(stubs), 2):\n",
    "            \n",
    "            # break up if successive stubs are of same household\n",
    "            if g.nodes[stubs[i]]['household'] == g.nodes[stubs[i+1]]['household']:\n",
    "                \n",
    "                # swap with random other stub\n",
    "                j = rng.integers(len(stubs))\n",
    "                stubs[i+1], stubs[j] = stubs[j], stubs[i+1]\n",
    "                \n",
    "                swaps += 1\n",
    "                \n",
    "        # no swaps, done.\n",
    "        if swaps == 0:\n",
    "            break\n",
    "    \n",
    "    # connect pairs of stubs\n",
    "    for i in range(0, len(stubs), 2):\n",
    "        # label inter-household edges as houshold 0 of size 0\n",
    "        g.add_edge(stubs[i], stubs[i+1], household=0, household_size=0)\n",
    "\n",
    "    print('', end='\\n')\n",
    "    \n",
    "    return (g, [h.order() for h in households])"
   ]
  },
  {
   "cell_type": "code",
   "execution_count": 12,
   "id": "c59acec9",
   "metadata": {},
   "outputs": [
    {
     "name": "stdout",
     "output_type": "stream",
     "text": [
      "Creating nodes: CBG 628 of 628\n",
      "Creating stubs: Household 4749 of 4749\n",
      "Connecting stubs: 28614 of 28616\n",
      "Breaking up pairs...\n",
      "Breaking up pairs...\n",
      "\n",
      "Creating nodes: CBG 628 of 628\n",
      "Creating stubs: Household 4725 of 4725\n",
      "Connecting stubs: 10946 of 10948\n",
      "Breaking up pairs...\n",
      "Breaking up pairs...\n",
      "\n",
      "CPU times: user 1min 22s, sys: 2.63 s, total: 1min 25s\n",
      "Wall time: 1min 24s\n"
     ]
    }
   ],
   "source": [
    "%%time\n",
    "baseline = 3\n",
    "(g_feb, households_feb) = create_network(N=10000, cum_prob_rewire=cum_prob_feb, \n",
    "                                         baseline=baseline, multiplier=False)\n",
    "\n",
    "(g_apr, households_apr) = create_network(N=10000, cum_prob_rewire=cum_prob_apr, \n",
    "                                         baseline=baseline, multiplier=True)"
   ]
  },
  {
   "cell_type": "markdown",
   "id": "1b4425bd",
   "metadata": {},
   "source": [
    "Inspect the graph..."
   ]
  },
  {
   "cell_type": "code",
   "execution_count": 13,
   "id": "b86be7c2",
   "metadata": {
    "scrolled": true
   },
   "outputs": [
    {
     "name": "stdout",
     "output_type": "stream",
     "text": [
      "Feb:\n",
      "Mean household size of 2.15 (range 1-9)\n",
      "Most connected individual has 30 contacts\n",
      "\n",
      "April:\n",
      "Mean household size of 2.17 (range 1-8)\n",
      "Most connected individual has 14 contacts\n"
     ]
    }
   ],
   "source": [
    "print(\"Feb:\")\n",
    "print('Mean household size of {s:.2f} (range {minf}-{maxf})'.format(s=np.mean(households_feb), minf=min(households_feb), maxf=max(households_feb)))\n",
    "print('Most connected individual has {k} contacts'.format(k=max(dict(g_feb.degree()).values())))\n",
    "\n",
    "print(\"\\nApril:\")\n",
    "print('Mean household size of {s:.2f} (range {minf}-{maxf})'.format(s=np.mean(households_apr), minf=min(households_apr), maxf=max(households_apr)))\n",
    "print('Most connected individual has {k} contacts'.format(k=max(dict(g_apr.degree()).values())))"
   ]
  },
  {
   "cell_type": "markdown",
   "id": "24573109",
   "metadata": {},
   "source": [
    "Save the graph ..."
   ]
  },
  {
   "cell_type": "code",
   "execution_count": 14,
   "id": "d0cfec74",
   "metadata": {},
   "outputs": [],
   "source": [
    "nx.write_graphml(g_feb,  'data/graphs/feb_N_10000.graphml')\n",
    "nx.write_graphml(g_apr,  'data/graphs/apr_N_10000.graphml')\n",
    "\n",
    "# read like this:\n",
    "# g_feb = nx.read_graphml('data/graphs/feb_N_10000.graphml')\n",
    "# g_apr = nx.read_graphml('data/graphs/apr_N_10000.graphml')"
   ]
  },
  {
   "cell_type": "code",
   "execution_count": null,
   "id": "917779a3",
   "metadata": {},
   "outputs": [],
   "source": []
  }
 ],
 "metadata": {
  "kernelspec": {
   "display_name": "Python 3",
   "language": "python",
   "name": "python3"
  },
  "language_info": {
   "codemirror_mode": {
    "name": "ipython",
    "version": 3
   },
   "file_extension": ".py",
   "mimetype": "text/x-python",
   "name": "python",
   "nbconvert_exporter": "python",
   "pygments_lexer": "ipython3",
   "version": "3.8.5"
  }
 },
 "nbformat": 4,
 "nbformat_minor": 5
}
