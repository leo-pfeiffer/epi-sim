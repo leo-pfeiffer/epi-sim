{
 "cells": [
  {
   "cell_type": "markdown",
   "id": "1f54f23f",
   "metadata": {},
   "source": [
    "# Cluster Network Creation\n",
    "\n",
    "Perform computationally expensive network analysis on a computing cluster. Results are pushed to a data repository on GitHub."
   ]
  },
  {
   "cell_type": "code",
   "execution_count": 1,
   "id": "6ea41b9e",
   "metadata": {},
   "outputs": [],
   "source": [
    "# to allow relative imports\n",
    "import os\n",
    "import sys\n",
    "\n",
    "module = os.path.abspath(os.path.join('..'))\n",
    "if module not in sys.path:\n",
    "    sys.path.append(module)\n",
    "\n",
    "# experiment\n",
    "from epyc import Lab, JSONLabNotebook, RepeatedExperiment\n",
    "from data_processing.metrics import MetricExperiment\n",
    "\n",
    "# generators\n",
    "from epydemic import PLCNetwork\n",
    "from model.network.mobility_network import MNGeneratorFromNetworkData as MNG\n",
    "from model.network.distanced_network import DNGenerator as DNG\n",
    "\n",
    "# distributions\n",
    "from model.distributions import discrete_trunc_normal, discrete_trunc_exponential, num_contact_dist\n",
    "\n",
    "# file utils\n",
    "from data_processing.data_repo_api import DataRepoAPI\n",
    "from data_processing.utils import load_network_data_from_files\n",
    "from configuration import OUT\n",
    "\n",
    "# other utils\n",
    "from functools import partial\n",
    "import numpy as np\n",
    "from mpmath import polylog"
   ]
  },
  {
   "cell_type": "code",
   "execution_count": 2,
   "id": "90a4d787",
   "metadata": {},
   "outputs": [],
   "source": [
    "# Some global parameters\n",
    "\n",
    "N = 1000\n",
    "CUTOFF = 40\n",
    "n_exp = 10\n",
    "\n",
    "# Experiment result output dir\n",
    "output_dir = 'experiment_results'\n",
    "if not output_dir in os.listdir():\n",
    "    os.mkdir(output_dir)\n",
    "\n",
    "# Helper functions\n",
    "def run_network_lab_experiment(generator, params, file_name, description, n=n_exp,\n",
    "                               output_dir=output_dir, push_to_repo=True):\n",
    "    \"\"\"\n",
    "    Run a MetricExperiment repeatadly using a network generator.\n",
    "    \"\"\"\n",
    "\n",
    "    file = os.path.join(output_dir, file_name)\n",
    "    \n",
    "    nb = JSONLabNotebook(file, create=True, description=description)\n",
    "    lab = Lab(notebook=nb)\n",
    "    \n",
    "    e = MetricExperiment(generator)\n",
    "\n",
    "    # pass params to the lab\n",
    "    for k, v in params.items():\n",
    "        lab[k] = v\n",
    "\n",
    "    lab.runExperiment(RepeatedExperiment(e, n))\n",
    "    \n",
    "    if push_to_repo:\n",
    "        DataRepoAPI.update_or_create(file_name=file_name, file_path=output_dir)\n",
    "    \n",
    "    return lab.results()\n",
    "\n",
    "def plc_mean(exponent, cutoff):\n",
    "    \"\"\"\n",
    "    Calculate theoretical mean of a power law with cutoff distribution from\n",
    "    the exponent and the cutoff.\n",
    "    \"\"\"\n",
    "    nom = polylog(exponent-1, np.exp(-1 / cutoff))\n",
    "    denom = polylog(exponent, np.exp(-1 / cutoff))\n",
    "    return nom / denom\n",
    "\n",
    "def estimate_exponent_for_mean(mean, cutoff, tolerance):\n",
    "    \"\"\"\n",
    "    Given the mean and cutoff of a power law with cutoff distribution,\n",
    "    estimate the corresponding exponent with a given tolerance.\n",
    "    \"\"\"\n",
    "    grid = np.arange(1, 5, 0.01)\n",
    "    diffs = []\n",
    "    for i in range(len(grid)):\n",
    "        diff = abs(mean - plc_mean(grid[i], cutoff))\n",
    "        if diff < tolerance:\n",
    "            return grid[i]\n",
    "        diffs.append(diff)\n",
    "    \n",
    "    return grid[diffs.index(min(diffs))]"
   ]
  },
  {
   "cell_type": "markdown",
   "id": "6a1ed773",
   "metadata": {},
   "source": [
    "### Mobility network"
   ]
  },
  {
   "cell_type": "code",
   "execution_count": 3,
   "id": "5aed8a50",
   "metadata": {},
   "outputs": [],
   "source": [
    "# Load the network data\n",
    "\n",
    "file_names = dict(\n",
    "    demographics='demographics.pkl',\n",
    "    comb_pre='comb_counts_pre.pkl',\n",
    "    comb_post='comb_counts_post.pkl',\n",
    "    trip_pre='trip_counts_pre.pkl',\n",
    "    trip_post='trip_counts_post.pkl',\n",
    ")\n",
    "\n",
    "network_data = load_network_data_from_files(file_names, OUT)\n",
    "\n",
    "network_data_pre = network_data['pre']\n",
    "network_data_post = network_data['post']"
   ]
  },
  {
   "cell_type": "code",
   "execution_count": 4,
   "id": "1b361456",
   "metadata": {},
   "outputs": [],
   "source": [
    "# Define the generator parameters\n",
    "params_pre = dict()\n",
    "params_pre[MNG.N] = N\n",
    "params_pre[MNG.EXPONENT] = 2\n",
    "params_pre[MNG.CUTOFF] = CUTOFF\n",
    "params_pre[MNG.MULTIPLIER] = False\n",
    "\n",
    "params_post = dict()\n",
    "params_post[MNG.N] = N\n",
    "params_post[MNG.EXPONENT] = 2\n",
    "params_post[MNG.CUTOFF] = CUTOFF\n",
    "params_post[MNG.MULTIPLIER] = True"
   ]
  },
  {
   "cell_type": "code",
   "execution_count": 5,
   "id": "5d409f3d",
   "metadata": {},
   "outputs": [],
   "source": [
    "mng_pre = MNG(network_data=network_data_pre)\n",
    "mng_pre_results = run_network_lab_experiment(mng_pre, params_pre, 'mobility_pre.json', \n",
    "                                             'Network metrics of Mobility pre')"
   ]
  },
  {
   "cell_type": "code",
   "execution_count": 6,
   "id": "5d3a82b7",
   "metadata": {},
   "outputs": [],
   "source": [
    "mng_post = MNG(network_data=network_data_post)\n",
    "mng_post_results = run_network_lab_experiment(mng_post, params_post, 'mobility_post.json', \n",
    "                                              'Network metrics of Mobility post')"
   ]
  },
  {
   "cell_type": "code",
   "execution_count": 7,
   "id": "9294d88d",
   "metadata": {},
   "outputs": [],
   "source": [
    "def extract_mean_deg(results):\n",
    "    deg_lis = [x['results']['degrees'] for x in results]\n",
    "    return np.mean([i for s in deg_lis for i in s])\n",
    "\n",
    "mob_deg_pre = extract_mean_deg(mng_pre_results)\n",
    "mob_deg_post = extract_mean_deg(mng_post_results)"
   ]
  },
  {
   "cell_type": "markdown",
   "id": "b4eb2bab",
   "metadata": {},
   "source": [
    "### PLC network"
   ]
  },
  {
   "cell_type": "code",
   "execution_count": 8,
   "id": "8839bcd2",
   "metadata": {},
   "outputs": [],
   "source": [
    "# Estimate the exponent for the PLC to achieve same degree\n",
    "#  as the mobility networks\n",
    "\n",
    "plc_expo_pre = estimate_exponent_for_mean(mob_deg_pre, CUTOFF, 0.01)\n",
    "plc_expo_post = estimate_exponent_for_mean(mob_deg_post, CUTOFF, 0.01)"
   ]
  },
  {
   "cell_type": "code",
   "execution_count": 9,
   "id": "04e11b87",
   "metadata": {},
   "outputs": [],
   "source": [
    "# Define the generator parameters\n",
    "params_plc_pre = dict()\n",
    "params_plc_pre[PLCNetwork.N] = 10000\n",
    "params_plc_pre[PLCNetwork.EXPONENT] = plc_expo_pre\n",
    "params_plc_pre[PLCNetwork.CUTOFF] = CUTOFF\n",
    "\n",
    "params_plc_post = dict()\n",
    "params_plc_post[PLCNetwork.N] = 10000\n",
    "params_plc_post[PLCNetwork.EXPONENT] = plc_expo_post\n",
    "params_plc_post[PLCNetwork.CUTOFF] = CUTOFF"
   ]
  },
  {
   "cell_type": "code",
   "execution_count": 10,
   "id": "490d43ad",
   "metadata": {},
   "outputs": [],
   "source": [
    "plc_pre = PLCNetwork()\n",
    "_ = run_network_lab_experiment(plc_pre, params_plc_pre, 'plc_pre.json', \n",
    "                               'Network metrics of PLC pre')"
   ]
  },
  {
   "cell_type": "code",
   "execution_count": 11,
   "id": "8113da80",
   "metadata": {},
   "outputs": [],
   "source": [
    "plc_post = PLCNetwork()\n",
    "_ = run_network_lab_experiment(plc_post, params_plc_post, 'plc_post.json', \n",
    "                               'Network metrics of PLC post')"
   ]
  },
  {
   "cell_type": "markdown",
   "id": "b0af7dfe",
   "metadata": {},
   "source": [
    "### Distanced network"
   ]
  },
  {
   "cell_type": "code",
   "execution_count": 12,
   "id": "760da963",
   "metadata": {},
   "outputs": [],
   "source": [
    "household_size_dist = partial(discrete_trunc_normal, mu=4.5, std=2)\n",
    "\n",
    "params_distanced_pre = dict()\n",
    "params_distanced_pre[DNG.N] = 10000\n",
    "\n",
    "params_distanced_post = dict()\n",
    "params_distanced_post[DNG.N] = 10000"
   ]
  },
  {
   "cell_type": "code",
   "execution_count": 13,
   "id": "8e57b8a8",
   "metadata": {},
   "outputs": [],
   "source": [
    "distanced_pre = DNG(\n",
    "    household_size_dist=household_size_dist,\n",
    "    num_contact_dist=num_contact_dist,\n",
    "    num_outside_edge_dist=partial(discrete_trunc_exponential, exponent=mob_deg_pre)\n",
    ")\n",
    "_ = run_network_lab_experiment(distanced_pre, params_distanced_pre, 'distanced_pre.json', \n",
    "                               'Network metrics of PLC pre')"
   ]
  },
  {
   "cell_type": "code",
   "execution_count": 14,
   "id": "f8f49354",
   "metadata": {},
   "outputs": [],
   "source": [
    "distanced_post = DNG(\n",
    "    household_size_dist=household_size_dist,\n",
    "    num_contact_dist=num_contact_dist,\n",
    "    num_outside_edge_dist=partial(discrete_trunc_exponential, exponent=mob_deg_post)\n",
    ")\n",
    "_ = run_network_lab_experiment(distanced_post, params_distanced_post, 'distanced_post.json', \n",
    "                               'Network metrics of PLC post')"
   ]
  }
 ],
 "metadata": {
  "kernelspec": {
   "display_name": "Python 3",
   "language": "python",
   "name": "python3"
  },
  "language_info": {
   "codemirror_mode": {
    "name": "ipython",
    "version": 3
   },
   "file_extension": ".py",
   "mimetype": "text/x-python",
   "name": "python",
   "nbconvert_exporter": "python",
   "pygments_lexer": "ipython3",
   "version": "3.9.2"
  }
 },
 "nbformat": 4,
 "nbformat_minor": 5
}
