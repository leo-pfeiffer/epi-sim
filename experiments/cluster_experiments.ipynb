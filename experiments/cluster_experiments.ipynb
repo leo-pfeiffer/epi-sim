{
 "cells": [
  {
   "cell_type": "markdown",
   "metadata": {
    "collapsed": true
   },
   "source": [
    "# Experiments\n",
    "Having implemented the different networks and models we can now run them and analyse the results of different parameterisations. This is meant as an exploratory analysis of the effects of different parameters. For the web app we will simualate the models with parameters on a finer grid."
   ]
  },
  {
   "cell_type": "code",
   "execution_count": 27,
   "metadata": {},
   "outputs": [],
   "source": [
    "%matplotlib inline\n",
    "\n",
    "# allow relative imports\n",
    "import os\n",
    "import sys\n",
    "\n",
    "module = os.path.abspath(os.path.join('..'))\n",
    "if module not in sys.path:\n",
    "    sys.path.append(module)\n",
    "    \n",
    "\n",
    "# utils\n",
    "from functools import partial\n",
    "import numpy as np\n",
    "import pickle\n",
    "import matplotlib.pyplot as plt\n",
    "import pandas as pd\n",
    "\n",
    "SEED = 4401"
   ]
  },
  {
   "cell_type": "markdown",
   "metadata": {},
   "source": [
    "The following Human Contact Networks will be compared:\n",
    "- Mobility network\n",
    "- Power law with cutoff\n",
    "- Physical distancing network\n",
    "\n",
    "For each, we will evaluate the following epidemic models:\n",
    "- SEIR\n",
    "- SEIVR\n",
    "- SEIR with quarantine\n",
    "- SEVIR with quarantine\n",
    "\n",
    "Each model will require slightly different parameters."
   ]
  },
  {
   "cell_type": "markdown",
   "metadata": {},
   "source": [
    "## Networks\n",
    "\n",
    "For each of the three types of networks we will create two instances: a baseline network representing nodes living under no restrictions/distancing etc. (we will call this __pre__) and a network assuming some form of physical distancing put in place (called __post__). We can then plug in each of these networks into the different models.\n",
    "\n",
    "The mobility networks have `10000` nodes and average node degrees of `4` and `3` for __pre__ and __post__ respectively. Where appropriate, we will mimick these characteristics in the other networks for comparability reasons.\n",
    "\n",
    "TODO: Maybe only do pre and post for MN since others are completely arbitrary"
   ]
  },
  {
   "cell_type": "markdown",
   "metadata": {},
   "source": [
    "### Mobility network\n",
    "\n",
    "The mobility networks are based on mobility data from SafeGraph for New Haven County, CT, USA. The __pre__ network is adapted from data from February 2020, before stay-at-home orders were issued, while the __post__ network is based on data from April 2020, after such orders were put in place in March.\n",
    "\n",
    "The graphs for the two networks have already been producen (see *network_creation.ipynb*), so we can use the `MNGeneratorFromFile`. For now, it suffices defining the parameters of the generator, which we can then pass to the experiment later on."
   ]
  },
  {
   "cell_type": "code",
   "execution_count": 2,
   "metadata": {},
   "outputs": [],
   "source": [
    "from configuration import GRAPHS, OUT\n",
    "from model.network.mobility_network import MNGeneratorFromNetworkData as MNG\n",
    "from data_processing.utils import load_network_data_from_files"
   ]
  },
  {
   "cell_type": "markdown",
   "metadata": {},
   "source": [
    "First create the NetworkData instances that are required for all Mobility networks."
   ]
  },
  {
   "cell_type": "code",
   "execution_count": 3,
   "metadata": {},
   "outputs": [],
   "source": [
    "file_names = dict(\n",
    "    demographics='demographics.pkl',\n",
    "    comb_pre='comb_counts_pre.pkl',\n",
    "    comb_post='comb_counts_post.pkl',\n",
    "    trip_pre='trip_counts_pre.pkl',\n",
    "    trip_post='trip_counts_post.pkl',\n",
    ")\n",
    "\n",
    "network_data = load_network_data_from_files(file_names, OUT)\n",
    "network_data_pre = network_data['pre']\n",
    "network_data_post = network_data['post']"
   ]
  },
  {
   "cell_type": "code",
   "execution_count": 4,
   "metadata": {},
   "outputs": [],
   "source": [
    "params_mobility_pre = dict()\n",
    "params_mobility_pre[MNG.EXPONENT] = 2\n",
    "params_mobility_pre[MNG.CUTOFF] = 40\n",
    "params_mobility_pre[MNG.N] = 10000\n",
    "params_mobility_pre[MNG.NETWORK_DATA] = network_data_pre\n",
    "params_mobility_pre[MNG.MULTIPLIER] = False\n",
    "\n",
    "params_mobility_post = dict()\n",
    "params_mobility_post[MNG.EXPONENT] = 2\n",
    "params_mobility_post[MNG.CUTOFF] = 40\n",
    "params_mobility_post[MNG.N] = 10000\n",
    "params_mobility_post[MNG.NETWORK_DATA] = network_data_post\n",
    "params_mobility_post[MNG.MULTIPLIER] = True"
   ]
  },
  {
   "cell_type": "markdown",
   "metadata": {},
   "source": [
    "### Power law with cutoff\n",
    "\n",
    "The power law with cutoff (PLC) creates a network with nodes with degrees that follow a power law distribution but have a cutoff point at the upper end to prevent implausibly high degrees. `epydemic` provides a NetworkGenerator for this type of network so we can create it from there. The cutoff parameter is set to `10`. Again, we only define the parameters now and pass them to the experiment with the generator later."
   ]
  },
  {
   "cell_type": "code",
   "execution_count": 5,
   "metadata": {},
   "outputs": [],
   "source": [
    "from epydemic import PLCNetwork"
   ]
  },
  {
   "cell_type": "code",
   "execution_count": 6,
   "metadata": {},
   "outputs": [],
   "source": [
    "params_plc_pre = dict()\n",
    "params_plc_pre[PLCNetwork.N] = 10000\n",
    "params_plc_pre[PLCNetwork.EXPONENT] = 2\n",
    "params_plc_pre[PLCNetwork.CUTOFF] = 40\n",
    "\n",
    "params_plc_post = dict()\n",
    "params_plc_post[PLCNetwork.N] = 10000\n",
    "params_plc_post[PLCNetwork.EXPONENT] = 2\n",
    "params_plc_post[PLCNetwork.CUTOFF] = 40"
   ]
  },
  {
   "cell_type": "markdown",
   "metadata": {},
   "source": [
    "### Physical distancing"
   ]
  },
  {
   "cell_type": "code",
   "execution_count": 7,
   "metadata": {},
   "outputs": [],
   "source": [
    "from model.network.distanced_network import DNGenerator as DNG\n",
    "from model.distributions import discrete_trunc_normal, discrete_trunc_exponential, num_contact_dist"
   ]
  },
  {
   "cell_type": "code",
   "execution_count": 8,
   "metadata": {},
   "outputs": [],
   "source": [
    "DISTANCED_EXPONENT_PRE = 4\n",
    "DISTANCED_EXPONENT_POST = 3\n",
    "\n",
    "household_size_dist = partial(discrete_trunc_normal, mu=4.5, std=2)\n",
    "\n",
    "params_distanced_pre = dict()\n",
    "params_distanced_pre[DNG.N] = 10000\n",
    "params_distanced_pre[DNG.HOUSEHOLD_SIZE_DIST] = household_size_dist\n",
    "params_distanced_pre[DNG.NUM_CONTACT_DIST] = num_contact_dist\n",
    "params_distanced_pre[DNG.NUM_OUTSIDE_EDGE_DIST] = partial(discrete_trunc_exponential, exponent=DISTANCED_EXPONENT_PRE)\n",
    "\n",
    "params_distanced_post = dict()\n",
    "params_distanced_post[DNG.N] = 10000\n",
    "params_distanced_post[DNG.HOUSEHOLD_SIZE_DIST] = household_size_dist\n",
    "params_distanced_post[DNG.NUM_CONTACT_DIST] = num_contact_dist\n",
    "params_distanced_post[DNG.NUM_OUTSIDE_EDGE_DIST] = partial(discrete_trunc_exponential, exponent=DISTANCED_EXPONENT_POST)"
   ]
  },
  {
   "cell_type": "markdown",
   "metadata": {},
   "source": [
    "## Epidemic model"
   ]
  },
  {
   "cell_type": "markdown",
   "metadata": {},
   "source": [
    "### SEIR"
   ]
  },
  {
   "cell_type": "code",
   "execution_count": 9,
   "metadata": {},
   "outputs": [],
   "source": [
    "from epydemic import SEIR\n",
    "from model.compartmental_models.seir import MonitoredSEIR"
   ]
  },
  {
   "cell_type": "code",
   "execution_count": 10,
   "metadata": {},
   "outputs": [],
   "source": [
    "seir_compartments = {\n",
    "    SEIR.SUSCEPTIBLE: 'susceptible',\n",
    "    SEIR.EXPOSED: 'exposed',\n",
    "    SEIR.INFECTED: 'infected',\n",
    "    SEIR.REMOVED: 'removed'\n",
    "}"
   ]
  },
  {
   "cell_type": "markdown",
   "metadata": {},
   "source": [
    "### SEIR with quarantine"
   ]
  },
  {
   "cell_type": "code",
   "execution_count": 11,
   "metadata": {},
   "outputs": [],
   "source": [
    "from model.compartmental_model.seir import SEIRWithQuarantine as SEIRQ\n",
    "from model.compartmental_model.seir import MonitoredSEIRWithQuarantine as MonitoredSEIRQ"
   ]
  },
  {
   "cell_type": "markdown",
   "metadata": {},
   "source": [
    "### SEIVR"
   ]
  },
  {
   "cell_type": "code",
   "execution_count": 12,
   "metadata": {},
   "outputs": [],
   "source": [
    "from model.compartmental_model.seivr import SEIVR\n",
    "from model.compartmental_model.seivr import MonitoredSEIVR"
   ]
  },
  {
   "cell_type": "code",
   "execution_count": 13,
   "metadata": {},
   "outputs": [],
   "source": [
    "seivr_compartments = {\n",
    "    SEIVR.SUSCEPTIBLE: 'susceptible',\n",
    "    SEIVR.EXPOSED: 'exposed',\n",
    "    SEIVR.INFECTED: 'infected',\n",
    "    SEIVR.VACCINATED: 'vaccinated',\n",
    "    SEIVR.REMOVED: 'removed'\n",
    "}"
   ]
  },
  {
   "cell_type": "markdown",
   "metadata": {},
   "source": [
    "### SEIVR with quarantine"
   ]
  },
  {
   "cell_type": "code",
   "execution_count": 14,
   "metadata": {},
   "outputs": [],
   "source": [
    "from model.compartmental_model.seivr import SEIVRWithQuarantine as SEIVRQ\n",
    "from model.compartmental_model.seivr import MonitoredSEIVRWithQuarantine as MonitoredSEIVRQ"
   ]
  },
  {
   "cell_type": "markdown",
   "metadata": {},
   "source": [
    "## Parameters\n",
    "\n",
    "We will fix as many COVID-19 specific parameters as we can and leave only policy dependent parameters open for modifications.\n",
    "\n",
    "We set the following parameters\n",
    "\n",
    "| Variable | Value | Description | Reference |\n",
    "| :-- | --: | :-- | :-- |\n",
    "| R0 | $2.85$ | Basic Reproduction Number | 1) |\n",
    "| P_INFECT | ... | P. of infection | ... |\n",
    "| P_REMOVE | $0.1$ | P. of removal | 2) |\n",
    "| P_SYMPTOPMS | $0.2$ | P. of becoming symptomatic | 3) |\n",
    "| P_EXPOSED | $0.01$ | P. of initial infection | ... |\n",
    "| RRR | $0.95$, $0.67$ | Vaccine efficacy | 4), 5), 6) |\n",
    "| P_VACCINATED | $10^{-3}$ to $10^{-2}$ by $10^{-3}$| P. of getting vaccinated | ... |\n",
    "| P_VACCINATED_INITIAL | $0$ to $1$ by $0.1$ | P. of initial vaccination | ... |\n",
    "| P_QUARANTINE | $0$ to $1$ by $0.1$ | P. of rewiring | ... |\n",
    "\n",
    "\n",
    "1) https://journals.plos.org/plosone/article?id=10.1371/journal.pone.0249271\n",
    "\n",
    "2) https://www.thelancet.com/journals/lanmic/article/PIIS2666-5247(20)30172-5/fulltext\n",
    "\n",
    "3) https://doi.org/10.3389/fpubh.2020.598547\n",
    "\n",
    "4) https://www.nejm.org/doi/full/10.1056/NEJMoa2034577\n",
    "\n",
    "5) https://www.nejm.org/doi/full/10.1056/nejmoa2035389\n",
    "\n",
    "6) https://www.sciencedirect.com/science/article/pii/S0140673620326611"
   ]
  },
  {
   "cell_type": "code",
   "execution_count": 15,
   "metadata": {},
   "outputs": [],
   "source": [
    "# Fixed\n",
    "R0 = 2.85\n",
    "_P_INFECT = None  # to calculate later \n",
    "P_REMOVE = 0.1\n",
    "P_SYMPTOMS = 0.2\n",
    "P_EXPOSED = 0.01\n",
    "\n",
    "_RRR = [0.95, 0.67]\n",
    "\n",
    "# Free\n",
    "_P_VACCINATED = np.arange(0.001, 0.011, 0.001)\n",
    "_P_VACCINATED_INITAL = np.arange(0, 1.1, 0.1)\n",
    "_P_QUARANTINE = np.arange(0, 1.1, 0.1)"
   ]
  },
  {
   "cell_type": "markdown",
   "metadata": {},
   "source": [
    "Note that we assume `P_EXPOSED` to be fixed. The reason for this is that the model is mostly invariant towards this value; changing it (for the most part) just moves the values horizontally. We denote parameters that need to be further realised/calculated for the actual model by prefixing them with an underscore `_`. `P_INFECT_S` can be calculated from knowing `R0`, `P_REMOVE`, as well as the mean and variance of the node degree distribution of the network (See [Dobson 2020](!https://pyepydemic.readthedocs.io/en/latest/cookbook/from-r-to-probabilities.html))."
   ]
  },
  {
   "cell_type": "code",
   "execution_count": 16,
   "metadata": {},
   "outputs": [],
   "source": [
    "def calc_p_infect(r0, p_remove, k_mean, k_var):\n",
    "    \"\"\"\n",
    "    Calc p_infect.\n",
    "    :param r0: basic reproduction number\n",
    "    :param p_remove: probability of removal\n",
    "    :param k_mean: Mean of node degree distribution\n",
    "    :param k_var: Variance of node degree distribution\n",
    "    :return: p_infect\n",
    "    \"\"\"\n",
    "    return p_remove * r0 * (k_mean / (k_var - k_mean))"
   ]
  },
  {
   "cell_type": "markdown",
   "metadata": {},
   "source": [
    "It also appears that asymptomatic cases (i.e. `exposed` compartment) are about 50% as infectious as symptomatic cases (`infected` compartment) (See [McEvoy et al. 2021](!https://bmjopen.bmj.com/content/11/5/e042354)). Hence, when required, we will set `P_INFECT_A` = `P_INFECT_S` $\\times \\ \\frac{1}{2}$."
   ]
  },
  {
   "cell_type": "markdown",
   "metadata": {},
   "source": [
    "We can already set the fixed parameters for the models."
   ]
  },
  {
   "cell_type": "code",
   "execution_count": 17,
   "metadata": {},
   "outputs": [],
   "source": [
    "params_seir = dict()\n",
    "params_seir[SEIR.P_SYMPTOMS] = P_SYMPTOMS\n",
    "params_seir[SEIR.P_REMOVE] = P_REMOVE\n",
    "params_seir[SEIR.P_EXPOSED] = P_EXPOSED\n",
    "\n",
    "params_seivr = dict()\n",
    "params_seivr[SEIVR.P_SYMPTOMS] = P_SYMPTOMS\n",
    "params_seivr[SEIVR.P_REMOVE] = P_REMOVE\n",
    "params_seivr[SEIVR.P_EXPOSED] = P_EXPOSED"
   ]
  },
  {
   "cell_type": "markdown",
   "metadata": {},
   "source": [
    "## Simulations"
   ]
  },
  {
   "cell_type": "markdown",
   "metadata": {},
   "source": [
    "We wrap some of the steps required to exectute and collect the results of an experiment in the `ExperimentRunner` class. We also require the epydemic `StochasticDynamics` and `Monitor`.\n",
    "\n",
    "For all models we will also set a common maximum time of $150$ time steps. #todo review"
   ]
  },
  {
   "cell_type": "code",
   "execution_count": 18,
   "metadata": {},
   "outputs": [],
   "source": [
    "from experiments.runner import ExperimentRunner\n",
    "from epydemic import StochasticDynamics, Monitor\n",
    "\n",
    "# define the monitor parameters\n",
    "params_monitor = dict()\n",
    "params_monitor[Monitor.DELTA] = 10\n",
    "\n",
    "# save all simulation results in list of dataframes\n",
    "simulation_dfs_seir = []\n",
    "simulation_dfs_seivr = []\n",
    "\n",
    "T = 150"
   ]
  },
  {
   "cell_type": "markdown",
   "metadata": {},
   "source": [
    "### SEIR on MobilityNetwork"
   ]
  },
  {
   "cell_type": "markdown",
   "metadata": {},
   "source": [
    "For each type of network we must first calculate the network-specific `P_INFECT`. In the case of mobility networks we can get the mean and variance of the power law cutoff distribution with the same parameters as that used for the node distribution of the network."
   ]
  },
  {
   "cell_type": "code",
   "execution_count": 22,
   "metadata": {},
   "outputs": [
    {
     "name": "stdout",
     "output_type": "stream",
     "text": [
      "0.0393142534049779 2.42305571610268 0.891122160071749\n"
     ]
    }
   ],
   "source": [
    "from model.distributions import PowerLawCutoffDist as PLCD\n",
    "from epydemic.gf import gf_plc\n",
    "\n",
    "tau = params_mobility_pre[MNG.EXPONENT]\n",
    "kappa = params_mobility_pre[MNG.CUTOFF]\n",
    "plcd = PLCD(tau, kappa)\n",
    "\n",
    "P_INFECT_MOBILITY = calc_p_infect(R0, P_REMOVE, plcd.mean, plcd.var)\n",
    "\n",
    "G0 = gf_plc(tau, kappa)\n",
    "g0prime = G0.dx()\n",
    "\n",
    "print(P_INFECT_MOBILITY, plcd.mean, g0prime(1))\n",
    "del tau, kappa, plcd"
   ]
  },
  {
   "cell_type": "markdown",
   "metadata": {},
   "source": [
    "Having collected all parameters, we can now run the experiment using the `ExperimentRunner`."
   ]
  },
  {
   "cell_type": "code",
   "execution_count": 23,
   "metadata": {
    "scrolled": true
   },
   "outputs": [
    {
     "ename": "KeyboardInterrupt",
     "evalue": "",
     "output_type": "error",
     "traceback": [
      "\u001b[0;31m---------------------------------------------------------------------------\u001b[0m",
      "\u001b[0;31mKeyboardInterrupt\u001b[0m                         Traceback (most recent call last)",
      "\u001b[0;32m<ipython-input-23-46280daacc55>\u001b[0m in \u001b[0;36m<module>\u001b[0;34m\u001b[0m\n\u001b[1;32m      8\u001b[0m \u001b[0;34m\u001b[0m\u001b[0m\n\u001b[1;32m      9\u001b[0m \u001b[0mer\u001b[0m \u001b[0;34m=\u001b[0m \u001b[0mExperimentRunner\u001b[0m\u001b[0;34m(\u001b[0m\u001b[0me\u001b[0m\u001b[0;34m)\u001b[0m\u001b[0;34m\u001b[0m\u001b[0;34m\u001b[0m\u001b[0m\n\u001b[0;32m---> 10\u001b[0;31m \u001b[0mer\u001b[0m\u001b[0;34m.\u001b[0m\u001b[0mrun\u001b[0m\u001b[0;34m(\u001b[0m\u001b[0mparams\u001b[0m\u001b[0;34m,\u001b[0m \u001b[0mT\u001b[0m\u001b[0;34m=\u001b[0m\u001b[0mT\u001b[0m\u001b[0;34m)\u001b[0m\u001b[0;34m\u001b[0m\u001b[0;34m\u001b[0m\u001b[0m\n\u001b[0m\u001b[1;32m     11\u001b[0m \u001b[0;34m\u001b[0m\u001b[0m\n\u001b[1;32m     12\u001b[0m \u001b[0;31m# er.plot('SEIR (PRE)', seir_compartments)\u001b[0m\u001b[0;34m\u001b[0m\u001b[0;34m\u001b[0m\u001b[0;34m\u001b[0m\u001b[0m\n",
      "\u001b[0;32m~/projects/msc-thesis/experiments/runner.py\u001b[0m in \u001b[0;36mrun\u001b[0;34m(self, params, T, fatal)\u001b[0m\n\u001b[1;32m     48\u001b[0m         \u001b[0mself\u001b[0m\u001b[0;34m.\u001b[0m\u001b[0m_dynamics\u001b[0m\u001b[0;34m.\u001b[0m\u001b[0mprocess\u001b[0m\u001b[0;34m(\u001b[0m\u001b[0;34m)\u001b[0m\u001b[0;34m.\u001b[0m\u001b[0msetMaximumTime\u001b[0m\u001b[0;34m(\u001b[0m\u001b[0mT\u001b[0m\u001b[0;34m)\u001b[0m\u001b[0;34m\u001b[0m\u001b[0;34m\u001b[0m\u001b[0m\n\u001b[1;32m     49\u001b[0m         \u001b[0mself\u001b[0m\u001b[0;34m.\u001b[0m\u001b[0m_dynamics\u001b[0m\u001b[0;34m.\u001b[0m\u001b[0mset\u001b[0m\u001b[0;34m(\u001b[0m\u001b[0mparams\u001b[0m\u001b[0;34m)\u001b[0m\u001b[0;34m\u001b[0m\u001b[0;34m\u001b[0m\u001b[0m\n\u001b[0;32m---> 50\u001b[0;31m         \u001b[0mrc\u001b[0m \u001b[0;34m=\u001b[0m \u001b[0mself\u001b[0m\u001b[0;34m.\u001b[0m\u001b[0m_dynamics\u001b[0m\u001b[0;34m.\u001b[0m\u001b[0mrun\u001b[0m\u001b[0;34m(\u001b[0m\u001b[0mfatal\u001b[0m\u001b[0;34m=\u001b[0m\u001b[0mfatal\u001b[0m\u001b[0;34m)\u001b[0m\u001b[0;34m\u001b[0m\u001b[0;34m\u001b[0m\u001b[0m\n\u001b[0m\u001b[1;32m     51\u001b[0m         \u001b[0mself\u001b[0m\u001b[0;34m.\u001b[0m\u001b[0m_result\u001b[0m \u001b[0;34m=\u001b[0m \u001b[0mrc\u001b[0m\u001b[0;34m[\u001b[0m\u001b[0mExperiment\u001b[0m\u001b[0;34m.\u001b[0m\u001b[0mRESULTS\u001b[0m\u001b[0;34m]\u001b[0m\u001b[0;34m\u001b[0m\u001b[0;34m\u001b[0m\u001b[0m\n\u001b[1;32m     52\u001b[0m \u001b[0;34m\u001b[0m\u001b[0m\n",
      "\u001b[0;32m~/projects/msc-thesis/venv/lib/python3.9/site-packages/epyc/experiment.py\u001b[0m in \u001b[0;36mrun\u001b[0;34m(self, fatal)\u001b[0m\n\u001b[1;32m    230\u001b[0m         \u001b[0;32mtry\u001b[0m\u001b[0;34m:\u001b[0m\u001b[0;34m\u001b[0m\u001b[0;34m\u001b[0m\u001b[0m\n\u001b[1;32m    231\u001b[0m             \u001b[0;31m# do the phases in order, recording the wallclock times at each phase\u001b[0m\u001b[0;34m\u001b[0m\u001b[0;34m\u001b[0m\u001b[0;34m\u001b[0m\u001b[0m\n\u001b[0;32m--> 232\u001b[0;31m             \u001b[0mself\u001b[0m\u001b[0;34m.\u001b[0m\u001b[0msetUp\u001b[0m\u001b[0;34m(\u001b[0m\u001b[0mparams\u001b[0m\u001b[0;34m)\u001b[0m\u001b[0;34m\u001b[0m\u001b[0;34m\u001b[0m\u001b[0m\n\u001b[0m\u001b[1;32m    233\u001b[0m             \u001b[0mdoneSetupTime\u001b[0m \u001b[0;34m=\u001b[0m \u001b[0mdatetime\u001b[0m\u001b[0;34m.\u001b[0m\u001b[0mnow\u001b[0m\u001b[0;34m(\u001b[0m\u001b[0;34m)\u001b[0m\u001b[0;34m\u001b[0m\u001b[0;34m\u001b[0m\u001b[0m\n\u001b[1;32m    234\u001b[0m             \u001b[0mdt\u001b[0m \u001b[0;34m=\u001b[0m \u001b[0;34m(\u001b[0m\u001b[0mdoneSetupTime\u001b[0m \u001b[0;34m-\u001b[0m \u001b[0mstartTime\u001b[0m\u001b[0;34m)\u001b[0m\u001b[0;34m.\u001b[0m\u001b[0mtotal_seconds\u001b[0m\u001b[0;34m(\u001b[0m\u001b[0;34m)\u001b[0m\u001b[0;34m\u001b[0m\u001b[0;34m\u001b[0m\u001b[0m\n",
      "\u001b[0;32m~/projects/msc-thesis/venv/lib/python3.9/site-packages/epydemic/networkdynamics.py\u001b[0m in \u001b[0;36msetUp\u001b[0;34m(self, params)\u001b[0m\n\u001b[1;32m    118\u001b[0m \u001b[0;34m\u001b[0m\u001b[0m\n\u001b[1;32m    119\u001b[0m         '''\n\u001b[0;32m--> 120\u001b[0;31m         \u001b[0msuper\u001b[0m\u001b[0;34m(\u001b[0m\u001b[0;34m)\u001b[0m\u001b[0;34m.\u001b[0m\u001b[0msetUp\u001b[0m\u001b[0;34m(\u001b[0m\u001b[0mparams\u001b[0m\u001b[0;34m)\u001b[0m\u001b[0;34m\u001b[0m\u001b[0;34m\u001b[0m\u001b[0m\n\u001b[0m\u001b[1;32m    121\u001b[0m \u001b[0;34m\u001b[0m\u001b[0m\n\u001b[1;32m    122\u001b[0m         \u001b[0;31m# set up the event stream\u001b[0m\u001b[0;34m\u001b[0m\u001b[0;34m\u001b[0m\u001b[0;34m\u001b[0m\u001b[0m\n",
      "\u001b[0;32m~/projects/msc-thesis/venv/lib/python3.9/site-packages/epydemic/networkexperiment.py\u001b[0m in \u001b[0;36msetUp\u001b[0;34m(self, params)\u001b[0m\n\u001b[1;32m    100\u001b[0m \u001b[0;34m\u001b[0m\u001b[0m\n\u001b[1;32m    101\u001b[0m         \u001b[0;31m# generate a working network instance\u001b[0m\u001b[0;34m\u001b[0m\u001b[0;34m\u001b[0m\u001b[0;34m\u001b[0m\u001b[0m\n\u001b[0;32m--> 102\u001b[0;31m         \u001b[0mself\u001b[0m\u001b[0;34m.\u001b[0m\u001b[0m_graph\u001b[0m \u001b[0;34m=\u001b[0m \u001b[0mself\u001b[0m\u001b[0;34m.\u001b[0m\u001b[0mnetworkGenerator\u001b[0m\u001b[0;34m(\u001b[0m\u001b[0;34m)\u001b[0m\u001b[0;34m.\u001b[0m\u001b[0mset\u001b[0m\u001b[0;34m(\u001b[0m\u001b[0mparams\u001b[0m\u001b[0;34m)\u001b[0m\u001b[0;34m.\u001b[0m\u001b[0mgenerate\u001b[0m\u001b[0;34m(\u001b[0m\u001b[0;34m)\u001b[0m\u001b[0;34m\u001b[0m\u001b[0;34m\u001b[0m\u001b[0m\n\u001b[0m\u001b[1;32m    103\u001b[0m \u001b[0;34m\u001b[0m\u001b[0m\n\u001b[1;32m    104\u001b[0m     \u001b[0;32mdef\u001b[0m \u001b[0mtearDown\u001b[0m\u001b[0;34m(\u001b[0m\u001b[0mself\u001b[0m\u001b[0;34m)\u001b[0m\u001b[0;34m:\u001b[0m\u001b[0;34m\u001b[0m\u001b[0;34m\u001b[0m\u001b[0m\n",
      "\u001b[0;32m~/projects/msc-thesis/venv/lib/python3.9/site-packages/epydemic/generator.py\u001b[0m in \u001b[0;36mgenerate\u001b[0;34m(self)\u001b[0m\n\u001b[1;32m     95\u001b[0m         :returns: a network instance or None'''\n\u001b[1;32m     96\u001b[0m         \u001b[0;32mif\u001b[0m \u001b[0mself\u001b[0m\u001b[0;34m.\u001b[0m\u001b[0m_remaining\u001b[0m \u001b[0;32mis\u001b[0m \u001b[0;32mNone\u001b[0m\u001b[0;34m:\u001b[0m\u001b[0;34m\u001b[0m\u001b[0;34m\u001b[0m\u001b[0m\n\u001b[0;32m---> 97\u001b[0;31m             \u001b[0;32mreturn\u001b[0m \u001b[0mself\u001b[0m\u001b[0;34m.\u001b[0m\u001b[0m_generate\u001b[0m\u001b[0;34m(\u001b[0m\u001b[0mself\u001b[0m\u001b[0;34m.\u001b[0m\u001b[0m_params\u001b[0m\u001b[0;34m)\u001b[0m\u001b[0;34m\u001b[0m\u001b[0;34m\u001b[0m\u001b[0m\n\u001b[0m\u001b[1;32m     98\u001b[0m         \u001b[0;32melif\u001b[0m \u001b[0mself\u001b[0m\u001b[0;34m.\u001b[0m\u001b[0m_remaining\u001b[0m \u001b[0;34m>\u001b[0m \u001b[0;36m0\u001b[0m\u001b[0;34m:\u001b[0m\u001b[0;34m\u001b[0m\u001b[0;34m\u001b[0m\u001b[0m\n\u001b[1;32m     99\u001b[0m             \u001b[0mself\u001b[0m\u001b[0;34m.\u001b[0m\u001b[0m_remaining\u001b[0m \u001b[0;34m-=\u001b[0m \u001b[0;36m1\u001b[0m\u001b[0;34m\u001b[0m\u001b[0;34m\u001b[0m\u001b[0m\n",
      "\u001b[0;32m~/projects/msc-thesis/model/network/mobility_network.py\u001b[0m in \u001b[0;36m_generate\u001b[0;34m(self, params)\u001b[0m\n\u001b[1;32m    335\u001b[0m                                            seed=seed)\n\u001b[1;32m    336\u001b[0m \u001b[0;34m\u001b[0m\u001b[0m\n\u001b[0;32m--> 337\u001b[0;31m         \u001b[0mmobility_network\u001b[0m\u001b[0;34m.\u001b[0m\u001b[0mcreate\u001b[0m\u001b[0;34m(\u001b[0m\u001b[0;34m)\u001b[0m\u001b[0;34m\u001b[0m\u001b[0;34m\u001b[0m\u001b[0m\n\u001b[0m\u001b[1;32m    338\u001b[0m \u001b[0;34m\u001b[0m\u001b[0m\n\u001b[1;32m    339\u001b[0m         \u001b[0;32mreturn\u001b[0m \u001b[0mmobility_network\u001b[0m\u001b[0;34m.\u001b[0m\u001b[0mg\u001b[0m\u001b[0;34m\u001b[0m\u001b[0;34m\u001b[0m\u001b[0m\n",
      "\u001b[0;32m~/projects/msc-thesis/model/network/mobility_network.py\u001b[0m in \u001b[0;36mcreate\u001b[0;34m(self)\u001b[0m\n\u001b[1;32m     71\u001b[0m \u001b[0;34m\u001b[0m\u001b[0m\n\u001b[1;32m     72\u001b[0m         \u001b[0mhouseholds\u001b[0m \u001b[0;34m=\u001b[0m \u001b[0mself\u001b[0m\u001b[0;34m.\u001b[0m\u001b[0m_create_households\u001b[0m\u001b[0;34m(\u001b[0m\u001b[0;34m)\u001b[0m\u001b[0;34m\u001b[0m\u001b[0;34m\u001b[0m\u001b[0m\n\u001b[0;32m---> 73\u001b[0;31m         \u001b[0mstubs\u001b[0m\u001b[0;34m,\u001b[0m \u001b[0mcbg_degree_map\u001b[0m \u001b[0;34m=\u001b[0m \u001b[0mself\u001b[0m\u001b[0;34m.\u001b[0m\u001b[0m_create_stubs\u001b[0m\u001b[0;34m(\u001b[0m\u001b[0mhouseholds\u001b[0m\u001b[0;34m)\u001b[0m\u001b[0;34m\u001b[0m\u001b[0;34m\u001b[0m\u001b[0m\n\u001b[0m\u001b[1;32m     74\u001b[0m         \u001b[0mstubs\u001b[0m \u001b[0;34m=\u001b[0m \u001b[0mself\u001b[0m\u001b[0;34m.\u001b[0m\u001b[0m_create_stub_pairs\u001b[0m\u001b[0;34m(\u001b[0m\u001b[0mstubs\u001b[0m\u001b[0;34m,\u001b[0m \u001b[0mcbg_degree_map\u001b[0m\u001b[0;34m)\u001b[0m\u001b[0;34m\u001b[0m\u001b[0;34m\u001b[0m\u001b[0m\n\u001b[1;32m     75\u001b[0m         \u001b[0mstubs\u001b[0m \u001b[0;34m=\u001b[0m \u001b[0mself\u001b[0m\u001b[0;34m.\u001b[0m\u001b[0m_break_up_pairs\u001b[0m\u001b[0;34m(\u001b[0m\u001b[0mstubs\u001b[0m\u001b[0;34m)\u001b[0m\u001b[0;34m\u001b[0m\u001b[0;34m\u001b[0m\u001b[0m\n",
      "\u001b[0;32m~/projects/msc-thesis/model/network/mobility_network.py\u001b[0m in \u001b[0;36m_create_stubs\u001b[0;34m(self, households)\u001b[0m\n\u001b[1;32m    148\u001b[0m             \u001b[0;32mfor\u001b[0m \u001b[0mnode\u001b[0m \u001b[0;32min\u001b[0m \u001b[0mnodes\u001b[0m\u001b[0;34m:\u001b[0m\u001b[0;34m\u001b[0m\u001b[0;34m\u001b[0m\u001b[0m\n\u001b[1;32m    149\u001b[0m                 \u001b[0;31m# draw random degree\u001b[0m\u001b[0;34m\u001b[0m\u001b[0;34m\u001b[0m\u001b[0;34m\u001b[0m\u001b[0m\n\u001b[0;32m--> 150\u001b[0;31m                 degree = discrete_rejection_sample(p=self.degree_dist,\n\u001b[0m\u001b[1;32m    151\u001b[0m                                                    \u001b[0ma\u001b[0m\u001b[0;34m=\u001b[0m\u001b[0;36m1\u001b[0m\u001b[0;34m,\u001b[0m \u001b[0mb\u001b[0m\u001b[0;34m=\u001b[0m\u001b[0mself\u001b[0m\u001b[0;34m.\u001b[0m\u001b[0mmax_deg\u001b[0m\u001b[0;34m,\u001b[0m\u001b[0;34m\u001b[0m\u001b[0;34m\u001b[0m\u001b[0m\n\u001b[1;32m    152\u001b[0m                                                    seed=self._rng)\n",
      "\u001b[0;32m~/projects/msc-thesis/model/utils.py\u001b[0m in \u001b[0;36mdiscrete_rejection_sample\u001b[0;34m(p, a, b, seed)\u001b[0m\n\u001b[1;32m     24\u001b[0m \u001b[0;34m\u001b[0m\u001b[0m\n\u001b[1;32m     25\u001b[0m         \u001b[0;31m# accept x with probability p(x) else reject x\u001b[0m\u001b[0;34m\u001b[0m\u001b[0;34m\u001b[0m\u001b[0;34m\u001b[0m\u001b[0m\n\u001b[0;32m---> 26\u001b[0;31m         \u001b[0;32mif\u001b[0m \u001b[0mrng\u001b[0m\u001b[0;34m.\u001b[0m\u001b[0mrandom\u001b[0m\u001b[0;34m(\u001b[0m\u001b[0;34m)\u001b[0m \u001b[0;34m<\u001b[0m \u001b[0mp\u001b[0m\u001b[0;34m(\u001b[0m\u001b[0mx\u001b[0m\u001b[0;34m)\u001b[0m\u001b[0;34m:\u001b[0m\u001b[0;34m\u001b[0m\u001b[0;34m\u001b[0m\u001b[0m\n\u001b[0m\u001b[1;32m     27\u001b[0m             \u001b[0;32mreturn\u001b[0m \u001b[0mx\u001b[0m\u001b[0;34m\u001b[0m\u001b[0;34m\u001b[0m\u001b[0m\n\u001b[1;32m     28\u001b[0m \u001b[0;34m\u001b[0m\u001b[0m\n",
      "\u001b[0;32m~/projects/msc-thesis/venv/lib/python3.9/site-packages/mpmath/ctx_mp_python.py\u001b[0m in \u001b[0;36m__gt__\u001b[0;34m(s, t)\u001b[0m\n\u001b[1;32m    176\u001b[0m     \u001b[0;32mdef\u001b[0m \u001b[0m__cmp__\u001b[0m\u001b[0;34m(\u001b[0m\u001b[0ms\u001b[0m\u001b[0;34m,\u001b[0m \u001b[0mt\u001b[0m\u001b[0;34m)\u001b[0m\u001b[0;34m:\u001b[0m \u001b[0;32mreturn\u001b[0m \u001b[0ms\u001b[0m\u001b[0;34m.\u001b[0m\u001b[0m_cmp\u001b[0m\u001b[0;34m(\u001b[0m\u001b[0mt\u001b[0m\u001b[0;34m,\u001b[0m \u001b[0mmpf_cmp\u001b[0m\u001b[0;34m)\u001b[0m\u001b[0;34m\u001b[0m\u001b[0;34m\u001b[0m\u001b[0m\n\u001b[1;32m    177\u001b[0m     \u001b[0;32mdef\u001b[0m \u001b[0m__lt__\u001b[0m\u001b[0;34m(\u001b[0m\u001b[0ms\u001b[0m\u001b[0;34m,\u001b[0m \u001b[0mt\u001b[0m\u001b[0;34m)\u001b[0m\u001b[0;34m:\u001b[0m \u001b[0;32mreturn\u001b[0m \u001b[0ms\u001b[0m\u001b[0;34m.\u001b[0m\u001b[0m_cmp\u001b[0m\u001b[0;34m(\u001b[0m\u001b[0mt\u001b[0m\u001b[0;34m,\u001b[0m \u001b[0mmpf_lt\u001b[0m\u001b[0;34m)\u001b[0m\u001b[0;34m\u001b[0m\u001b[0;34m\u001b[0m\u001b[0m\n\u001b[0;32m--> 178\u001b[0;31m     \u001b[0;32mdef\u001b[0m \u001b[0m__gt__\u001b[0m\u001b[0;34m(\u001b[0m\u001b[0ms\u001b[0m\u001b[0;34m,\u001b[0m \u001b[0mt\u001b[0m\u001b[0;34m)\u001b[0m\u001b[0;34m:\u001b[0m \u001b[0;32mreturn\u001b[0m \u001b[0ms\u001b[0m\u001b[0;34m.\u001b[0m\u001b[0m_cmp\u001b[0m\u001b[0;34m(\u001b[0m\u001b[0mt\u001b[0m\u001b[0;34m,\u001b[0m \u001b[0mmpf_gt\u001b[0m\u001b[0;34m)\u001b[0m\u001b[0;34m\u001b[0m\u001b[0;34m\u001b[0m\u001b[0m\n\u001b[0m\u001b[1;32m    179\u001b[0m     \u001b[0;32mdef\u001b[0m \u001b[0m__le__\u001b[0m\u001b[0;34m(\u001b[0m\u001b[0ms\u001b[0m\u001b[0;34m,\u001b[0m \u001b[0mt\u001b[0m\u001b[0;34m)\u001b[0m\u001b[0;34m:\u001b[0m \u001b[0;32mreturn\u001b[0m \u001b[0ms\u001b[0m\u001b[0;34m.\u001b[0m\u001b[0m_cmp\u001b[0m\u001b[0;34m(\u001b[0m\u001b[0mt\u001b[0m\u001b[0;34m,\u001b[0m \u001b[0mmpf_le\u001b[0m\u001b[0;34m)\u001b[0m\u001b[0;34m\u001b[0m\u001b[0;34m\u001b[0m\u001b[0m\n\u001b[1;32m    180\u001b[0m     \u001b[0;32mdef\u001b[0m \u001b[0m__ge__\u001b[0m\u001b[0;34m(\u001b[0m\u001b[0ms\u001b[0m\u001b[0;34m,\u001b[0m \u001b[0mt\u001b[0m\u001b[0;34m)\u001b[0m\u001b[0;34m:\u001b[0m \u001b[0;32mreturn\u001b[0m \u001b[0ms\u001b[0m\u001b[0;34m.\u001b[0m\u001b[0m_cmp\u001b[0m\u001b[0;34m(\u001b[0m\u001b[0mt\u001b[0m\u001b[0;34m,\u001b[0m \u001b[0mmpf_ge\u001b[0m\u001b[0;34m)\u001b[0m\u001b[0;34m\u001b[0m\u001b[0;34m\u001b[0m\u001b[0m\n",
      "\u001b[0;32m~/projects/msc-thesis/venv/lib/python3.9/site-packages/mpmath/ctx_mp_python.py\u001b[0m in \u001b[0;36m_cmp\u001b[0;34m(s, t, func)\u001b[0m\n\u001b[1;32m    169\u001b[0m             \u001b[0mt\u001b[0m \u001b[0;34m=\u001b[0m \u001b[0mt\u001b[0m\u001b[0;34m.\u001b[0m\u001b[0m_mpf_\u001b[0m\u001b[0;34m\u001b[0m\u001b[0;34m\u001b[0m\u001b[0m\n\u001b[1;32m    170\u001b[0m         \u001b[0;32melse\u001b[0m\u001b[0;34m:\u001b[0m\u001b[0;34m\u001b[0m\u001b[0;34m\u001b[0m\u001b[0m\n\u001b[0;32m--> 171\u001b[0;31m             \u001b[0mt\u001b[0m \u001b[0;34m=\u001b[0m \u001b[0ms\u001b[0m\u001b[0;34m.\u001b[0m\u001b[0mmpf_convert_rhs\u001b[0m\u001b[0;34m(\u001b[0m\u001b[0mt\u001b[0m\u001b[0;34m)\u001b[0m\u001b[0;34m\u001b[0m\u001b[0;34m\u001b[0m\u001b[0m\n\u001b[0m\u001b[1;32m    172\u001b[0m             \u001b[0;32mif\u001b[0m \u001b[0mt\u001b[0m \u001b[0;32mis\u001b[0m \u001b[0mNotImplemented\u001b[0m\u001b[0;34m:\u001b[0m\u001b[0;34m\u001b[0m\u001b[0;34m\u001b[0m\u001b[0m\n\u001b[1;32m    173\u001b[0m                 \u001b[0;32mreturn\u001b[0m \u001b[0mt\u001b[0m\u001b[0;34m\u001b[0m\u001b[0;34m\u001b[0m\u001b[0m\n",
      "\u001b[0;32m~/projects/msc-thesis/venv/lib/python3.9/site-packages/mpmath/ctx_mp_python.py\u001b[0m in \u001b[0;36mmpf_convert_rhs\u001b[0;34m(cls, x)\u001b[0m\n\u001b[1;32m     99\u001b[0m     \u001b[0;32mdef\u001b[0m \u001b[0mmpf_convert_rhs\u001b[0m\u001b[0;34m(\u001b[0m\u001b[0mcls\u001b[0m\u001b[0;34m,\u001b[0m \u001b[0mx\u001b[0m\u001b[0;34m)\u001b[0m\u001b[0;34m:\u001b[0m\u001b[0;34m\u001b[0m\u001b[0;34m\u001b[0m\u001b[0m\n\u001b[1;32m    100\u001b[0m         \u001b[0;32mif\u001b[0m \u001b[0misinstance\u001b[0m\u001b[0;34m(\u001b[0m\u001b[0mx\u001b[0m\u001b[0;34m,\u001b[0m \u001b[0mint_types\u001b[0m\u001b[0;34m)\u001b[0m\u001b[0;34m:\u001b[0m \u001b[0;32mreturn\u001b[0m \u001b[0mfrom_int\u001b[0m\u001b[0;34m(\u001b[0m\u001b[0mx\u001b[0m\u001b[0;34m)\u001b[0m\u001b[0;34m\u001b[0m\u001b[0;34m\u001b[0m\u001b[0m\n\u001b[0;32m--> 101\u001b[0;31m         \u001b[0;32mif\u001b[0m \u001b[0misinstance\u001b[0m\u001b[0;34m(\u001b[0m\u001b[0mx\u001b[0m\u001b[0;34m,\u001b[0m \u001b[0mfloat\u001b[0m\u001b[0;34m)\u001b[0m\u001b[0;34m:\u001b[0m \u001b[0;32mreturn\u001b[0m \u001b[0mfrom_float\u001b[0m\u001b[0;34m(\u001b[0m\u001b[0mx\u001b[0m\u001b[0;34m)\u001b[0m\u001b[0;34m\u001b[0m\u001b[0;34m\u001b[0m\u001b[0m\n\u001b[0m\u001b[1;32m    102\u001b[0m         \u001b[0;32mif\u001b[0m \u001b[0misinstance\u001b[0m\u001b[0;34m(\u001b[0m\u001b[0mx\u001b[0m\u001b[0;34m,\u001b[0m \u001b[0mcomplex_types\u001b[0m\u001b[0;34m)\u001b[0m\u001b[0;34m:\u001b[0m \u001b[0;32mreturn\u001b[0m \u001b[0mcls\u001b[0m\u001b[0;34m.\u001b[0m\u001b[0mcontext\u001b[0m\u001b[0;34m.\u001b[0m\u001b[0mmpc\u001b[0m\u001b[0;34m(\u001b[0m\u001b[0mx\u001b[0m\u001b[0;34m)\u001b[0m\u001b[0;34m\u001b[0m\u001b[0;34m\u001b[0m\u001b[0m\n\u001b[1;32m    103\u001b[0m         \u001b[0;32mif\u001b[0m \u001b[0misinstance\u001b[0m\u001b[0;34m(\u001b[0m\u001b[0mx\u001b[0m\u001b[0;34m,\u001b[0m \u001b[0mrational\u001b[0m\u001b[0;34m.\u001b[0m\u001b[0mmpq\u001b[0m\u001b[0;34m)\u001b[0m\u001b[0;34m:\u001b[0m\u001b[0;34m\u001b[0m\u001b[0;34m\u001b[0m\u001b[0m\n",
      "\u001b[0;32m~/projects/msc-thesis/venv/lib/python3.9/site-packages/mpmath/libmp/libmpf.py\u001b[0m in \u001b[0;36mfrom_float\u001b[0;34m(x, prec, rnd)\u001b[0m\n\u001b[1;32m    408\u001b[0m     \u001b[0;32mreturn\u001b[0m \u001b[0mmpf_sub\u001b[0m\u001b[0;34m(\u001b[0m\u001b[0ms\u001b[0m\u001b[0;34m,\u001b[0m \u001b[0mmpf_floor\u001b[0m\u001b[0;34m(\u001b[0m\u001b[0ms\u001b[0m\u001b[0;34m)\u001b[0m\u001b[0;34m,\u001b[0m \u001b[0mprec\u001b[0m\u001b[0;34m,\u001b[0m \u001b[0mrnd\u001b[0m\u001b[0;34m)\u001b[0m\u001b[0;34m\u001b[0m\u001b[0;34m\u001b[0m\u001b[0m\n\u001b[1;32m    409\u001b[0m \u001b[0;34m\u001b[0m\u001b[0m\n\u001b[0;32m--> 410\u001b[0;31m \u001b[0;32mdef\u001b[0m \u001b[0mfrom_float\u001b[0m\u001b[0;34m(\u001b[0m\u001b[0mx\u001b[0m\u001b[0;34m,\u001b[0m \u001b[0mprec\u001b[0m\u001b[0;34m=\u001b[0m\u001b[0;36m53\u001b[0m\u001b[0;34m,\u001b[0m \u001b[0mrnd\u001b[0m\u001b[0;34m=\u001b[0m\u001b[0mround_fast\u001b[0m\u001b[0;34m)\u001b[0m\u001b[0;34m:\u001b[0m\u001b[0;34m\u001b[0m\u001b[0;34m\u001b[0m\u001b[0m\n\u001b[0m\u001b[1;32m    411\u001b[0m     \"\"\"Create a raw mpf from a Python float, rounding if necessary.\n\u001b[1;32m    412\u001b[0m     \u001b[0mIf\u001b[0m \u001b[0mprec\u001b[0m \u001b[0;34m>=\u001b[0m \u001b[0;36m53\u001b[0m\u001b[0;34m,\u001b[0m \u001b[0mthe\u001b[0m \u001b[0mresult\u001b[0m \u001b[0;32mis\u001b[0m \u001b[0mguaranteed\u001b[0m \u001b[0mto\u001b[0m \u001b[0mrepresent\u001b[0m \u001b[0mexactly\u001b[0m \u001b[0mthe\u001b[0m\u001b[0;34m\u001b[0m\u001b[0;34m\u001b[0m\u001b[0m\n",
      "\u001b[0;31mKeyboardInterrupt\u001b[0m: "
     ]
    }
   ],
   "source": [
    "# define the process\n",
    "e = StochasticDynamics(MonitoredSEIR(), g=MNG())\n",
    "\n",
    "# merge all parameters\n",
    "params = params_mobility_pre | params_seir | params_monitor\n",
    "params[SEIR.P_INFECT_SYMPTOMATIC] = P_INFECT_MOBILITY\n",
    "params[SEIR.P_INFECT_ASYMPTOMATIC] = P_INFECT_MOBILITY / 2\n",
    "\n",
    "er = ExperimentRunner(e)\n",
    "er.run(params, T=T)\n",
    "\n",
    "# er.plot('SEIR (PRE)', seir_compartments)\n",
    "simulation_dfs_seir.append(er.to_df(seir_compartments, 'MN_pre', 'SEIR'))\n",
    "\n",
    "del params, er, e"
   ]
  },
  {
   "cell_type": "code",
   "execution_count": 20,
   "metadata": {},
   "outputs": [],
   "source": [
    "# define the process\n",
    "e = StochasticDynamics(MonitoredSEIR(), g=MNG())\n",
    "\n",
    "# merge all parameters\n",
    "params = params_mobility_post | params_seir | params_monitor\n",
    "params[SEIR.P_INFECT_SYMPTOMATIC] = P_INFECT_MOBILITY\n",
    "params[SEIR.P_INFECT_ASYMPTOMATIC] = P_INFECT_MOBILITY / 2\n",
    "\n",
    "er = ExperimentRunner(e)\n",
    "er.run(params, T=T)\n",
    "\n",
    "simulation_dfs_seir.append(er.to_df(seir_compartments, 'MN_post', 'SEIR'))\n",
    "\n",
    "del params, er, e"
   ]
  },
  {
   "cell_type": "markdown",
   "metadata": {},
   "source": [
    "#### ... with quarantine"
   ]
  },
  {
   "cell_type": "code",
   "execution_count": 21,
   "metadata": {},
   "outputs": [],
   "source": [
    "# define the process\n",
    "e = StochasticDynamics(MonitoredSEIRQ(), g=MNG())\n",
    "\n",
    "# merge all parameters\n",
    "params = params_mobility_pre | params_seir | params_monitor\n",
    "params[SEIRQ.P_INFECT_SYMPTOMATIC] = P_INFECT_MOBILITY\n",
    "params[SEIRQ.P_INFECT_ASYMPTOMATIC] = P_INFECT_MOBILITY / 2\n",
    "params[SEIRQ.P_QUARANTINE] = 0.2\n",
    "\n",
    "er = ExperimentRunner(e)\n",
    "er.run(params, T=T)\n",
    "\n",
    "simulation_dfs_seir.append(er.to_df(seir_compartments, 'MN_pre', 'SEIR_Q'))\n",
    "\n",
    "del params, er, e"
   ]
  },
  {
   "cell_type": "code",
   "execution_count": 22,
   "metadata": {},
   "outputs": [],
   "source": [
    "# define the process\n",
    "e = StochasticDynamics(MonitoredSEIRQ(), g=MNG())\n",
    "\n",
    "# merge all parameters\n",
    "params = params_mobility_post | params_seir | params_monitor\n",
    "params[SEIRQ.P_INFECT_SYMPTOMATIC] = P_INFECT_MOBILITY\n",
    "params[SEIRQ.P_INFECT_ASYMPTOMATIC] = P_INFECT_MOBILITY / 2\n",
    "params[SEIRQ.P_QUARANTINE] = 0.2\n",
    "\n",
    "er = ExperimentRunner(e)\n",
    "er.run(params, T=T)\n",
    "\n",
    "simulation_dfs_seir.append(er.to_df(seir_compartments, 'MN_post', 'SEIR_Q'))\n",
    "\n",
    "del params, er, e"
   ]
  },
  {
   "cell_type": "markdown",
   "metadata": {},
   "source": [
    "### SEIR on PLC"
   ]
  },
  {
   "cell_type": "markdown",
   "metadata": {},
   "source": [
    "Again, we start by computing `R0` for the PLC network..."
   ]
  },
  {
   "cell_type": "code",
   "execution_count": 23,
   "metadata": {},
   "outputs": [],
   "source": [
    "tau = params_plc_pre[PLCNetwork.EXPONENT]\n",
    "kappa = params_plc_pre[PLCNetwork.CUTOFF]\n",
    "plcd = PLCD(tau, kappa)\n",
    "\n",
    "P_INFECT_PLC = calc_p_infect(R0, P_REMOVE, plcd.mean, plcd.var)\n",
    "del tau, kappa, plcd"
   ]
  },
  {
   "cell_type": "markdown",
   "metadata": {},
   "source": [
    "... and then run the simulations."
   ]
  },
  {
   "cell_type": "code",
   "execution_count": 24,
   "metadata": {},
   "outputs": [],
   "source": [
    "# define the process\n",
    "e = StochasticDynamics(MonitoredSEIR(), g=PLCNetwork())\n",
    "\n",
    "# merge all parameters\n",
    "params = params_plc_pre | params_seir | params_monitor\n",
    "params[SEIR.P_INFECT_SYMPTOMATIC] = P_INFECT_MOBILITY\n",
    "params[SEIR.P_INFECT_ASYMPTOMATIC] = P_INFECT_MOBILITY / 2\n",
    "\n",
    "er = ExperimentRunner(e)\n",
    "er.run(params, T=T)\n",
    "\n",
    "# er.plot('SEIR (PRE)', seir_compartments)\n",
    "simulation_dfs_seir.append(er.to_df(seir_compartments, 'PLC_pre', 'SEIR'))\n",
    "\n",
    "del params, er, e"
   ]
  },
  {
   "cell_type": "markdown",
   "metadata": {},
   "source": [
    "#### ... with quarantine"
   ]
  },
  {
   "cell_type": "code",
   "execution_count": 25,
   "metadata": {},
   "outputs": [],
   "source": [
    "# define the process\n",
    "e = StochasticDynamics(MonitoredSEIRQ(), g=PLCNetwork())\n",
    "\n",
    "# merge all parameters\n",
    "params = params_plc_pre | params_seir | params_monitor\n",
    "params[SEIRQ.P_INFECT_SYMPTOMATIC] = P_INFECT_MOBILITY\n",
    "params[SEIRQ.P_INFECT_ASYMPTOMATIC] = P_INFECT_MOBILITY / 2\n",
    "params[SEIRQ.P_QUARANTINE] = 0.2\n",
    "\n",
    "er = ExperimentRunner(e)\n",
    "er.run(params, T=T)\n",
    "\n",
    "simulation_dfs_seir.append(er.to_df(seir_compartments, 'PLC_pre', 'SEIR_Q'))\n",
    "\n",
    "del params, er, e"
   ]
  },
  {
   "cell_type": "markdown",
   "metadata": {},
   "source": [
    "### SEIR on Distanced"
   ]
  },
  {
   "cell_type": "markdown",
   "metadata": {},
   "source": [
    "Calculate network based `R0`:"
   ]
  },
  {
   "cell_type": "code",
   "execution_count": 24,
   "metadata": {},
   "outputs": [],
   "source": [
    "mean = DISTANCED_EXPONENT_PRE\n",
    "var = DISTANCED_EXPONENT_PRE ** 2\n",
    "\n",
    "P_INFECT_DISTANCED_PRE = calc_p_infect(R0, P_REMOVE, mean, var)\n",
    "del mean, var"
   ]
  },
  {
   "cell_type": "markdown",
   "metadata": {},
   "source": [
    "Run simulations:"
   ]
  },
  {
   "cell_type": "code",
   "execution_count": 25,
   "metadata": {},
   "outputs": [],
   "source": [
    "# define the process\n",
    "e = StochasticDynamics(MonitoredSEIR(), g=DNG())\n",
    "\n",
    "# merge all parameters\n",
    "params = params_distanced_pre | params_seir | params_monitor\n",
    "params[SEIR.P_INFECT_SYMPTOMATIC] = P_INFECT_MOBILITY\n",
    "params[SEIR.P_INFECT_ASYMPTOMATIC] = P_INFECT_MOBILITY / 2\n",
    "\n",
    "er = ExperimentRunner(e)\n",
    "er.run(params, T=T)\n",
    "\n",
    "simulation_dfs_seir.append(er.to_df(seir_compartments, 'DISTANCED_pre', 'SEIR'))\n",
    "\n",
    "del params, er, e"
   ]
  },
  {
   "cell_type": "markdown",
   "metadata": {},
   "source": [
    "#### ... with quarantine"
   ]
  },
  {
   "cell_type": "code",
   "execution_count": 28,
   "metadata": {},
   "outputs": [],
   "source": [
    "# define the process\n",
    "e = StochasticDynamics(MonitoredSEIRQ(), g=DNG())\n",
    "\n",
    "# merge all parameters\n",
    "params = params_distanced_pre | params_seir | params_monitor\n",
    "params[SEIRQ.P_INFECT_SYMPTOMATIC] = P_INFECT_MOBILITY\n",
    "params[SEIRQ.P_INFECT_ASYMPTOMATIC] = P_INFECT_MOBILITY / 2\n",
    "params[SEIRQ.P_QUARANTINE] = 0.2\n",
    "\n",
    "er = ExperimentRunner(e)\n",
    "er.run(params, T=T)\n",
    "\n",
    "simulation_dfs_seir.append(er.to_df(seir_compartments, 'DISTANCED_pre', 'SEIR_Q'))\n",
    "\n",
    "del params, er, e"
   ]
  },
  {
   "cell_type": "markdown",
   "metadata": {},
   "source": [
    "### SEIVR on Mobility"
   ]
  },
  {
   "cell_type": "code",
   "execution_count": 29,
   "metadata": {},
   "outputs": [],
   "source": [
    "# define the process\n",
    "e = StochasticDynamics(MonitoredSEIVR(), g=MNG())\n",
    "\n",
    "# merge all parameters\n",
    "params = params_mobility_pre | params_seivr | params_monitor\n",
    "params[SEIVR.P_INFECT_SYMPTOMATIC] = P_INFECT_MOBILITY\n",
    "params[SEIVR.P_INFECT_ASYMPTOMATIC] = P_INFECT_MOBILITY / 2\n",
    "params[SEIVR.P_VACCINATED] = 0.001\n",
    "params[SEIVR.P_VACCINATED_INITIAL] = 0\n",
    "params[SEIVR.VACCINE_RRR] = 0.67\n",
    "\n",
    "er = ExperimentRunner(e)\n",
    "er.run(params, T=T)\n",
    "\n",
    "simulation_dfs_seivr.append(er.to_df(seivr_compartments, 'MN_pre', 'SEIVR'))\n",
    "\n",
    "del params, er, e"
   ]
  },
  {
   "cell_type": "markdown",
   "metadata": {},
   "source": [
    "#### ... with quarantine"
   ]
  },
  {
   "cell_type": "code",
   "execution_count": 30,
   "metadata": {},
   "outputs": [],
   "source": [
    "# define the process\n",
    "e = StochasticDynamics(MonitoredSEIVRQ(), g=MNG())\n",
    "\n",
    "# merge all parameters\n",
    "params = params_mobility_pre | params_seivr | params_monitor\n",
    "params[SEIVRQ.P_INFECT_SYMPTOMATIC] = P_INFECT_MOBILITY\n",
    "params[SEIVRQ.P_INFECT_ASYMPTOMATIC] = P_INFECT_MOBILITY / 2\n",
    "params[SEIVRQ.P_VACCINATED] = 0.001\n",
    "params[SEIVRQ.P_VACCINATED_INITIAL] = 0\n",
    "params[SEIVRQ.VACCINE_RRR] = 0.67\n",
    "params[SEIVRQ.P_QUARANTINE] = 0.2\n",
    "\n",
    "er = ExperimentRunner(e)\n",
    "er.run(params, T=T)\n",
    "\n",
    "simulation_dfs_seivr.append(er.to_df(seivr_compartments, 'MN_pre', 'SEIVR_Q'))\n",
    "\n",
    "del params, er, e"
   ]
  },
  {
   "cell_type": "markdown",
   "metadata": {},
   "source": [
    "### SEIVR on PLC"
   ]
  },
  {
   "cell_type": "code",
   "execution_count": 31,
   "metadata": {},
   "outputs": [],
   "source": [
    "# define the process\n",
    "e = StochasticDynamics(MonitoredSEIVR(), g=PLCNetwork())\n",
    "\n",
    "# merge all parameters\n",
    "params = params_plc_pre | params_seivr | params_monitor\n",
    "params[SEIVR.P_INFECT_SYMPTOMATIC] = P_INFECT_MOBILITY\n",
    "params[SEIVR.P_INFECT_ASYMPTOMATIC] = P_INFECT_MOBILITY / 2\n",
    "params[SEIVR.P_VACCINATED] = 0.001\n",
    "params[SEIVR.P_VACCINATED_INITIAL] = 0\n",
    "params[SEIVR.VACCINE_RRR] = 0.67\n",
    "\n",
    "er = ExperimentRunner(e)\n",
    "er.run(params, T=T)\n",
    "\n",
    "simulation_dfs_seivr.append(er.to_df(seivr_compartments, 'PLC_pre', 'SEIVR'))\n",
    "\n",
    "del params, er, e"
   ]
  },
  {
   "cell_type": "markdown",
   "metadata": {},
   "source": [
    "#### ... with quarantine"
   ]
  },
  {
   "cell_type": "code",
   "execution_count": 32,
   "metadata": {},
   "outputs": [],
   "source": [
    "# define the process\n",
    "e = StochasticDynamics(MonitoredSEIVRQ(), g=PLCNetwork())\n",
    "\n",
    "# merge all parameters\n",
    "params = params_plc_pre | params_seivr | params_monitor\n",
    "params[SEIVRQ.P_INFECT_SYMPTOMATIC] = P_INFECT_MOBILITY\n",
    "params[SEIVRQ.P_INFECT_ASYMPTOMATIC] = P_INFECT_MOBILITY / 2\n",
    "params[SEIVRQ.P_VACCINATED] = 0.001\n",
    "params[SEIVRQ.P_VACCINATED_INITIAL] = 0\n",
    "params[SEIVRQ.VACCINE_RRR] = 0.67\n",
    "params[SEIVRQ.P_QUARANTINE] = 0.2\n",
    "\n",
    "er = ExperimentRunner(e)\n",
    "er.run(params, T=T)\n",
    "\n",
    "simulation_dfs_seivr.append(er.to_df(seivr_compartments, 'PLC_pre', 'SEIVR_Q'))\n",
    "\n",
    "del params, er, e"
   ]
  },
  {
   "cell_type": "markdown",
   "metadata": {},
   "source": [
    "### SEIVR on Distanced"
   ]
  },
  {
   "cell_type": "code",
   "execution_count": 33,
   "metadata": {},
   "outputs": [],
   "source": [
    "# define the process\n",
    "e = StochasticDynamics(MonitoredSEIVR(), g=DNG())\n",
    "\n",
    "# merge all parameters\n",
    "params = params_distanced_pre | params_seivr | params_monitor\n",
    "params[SEIVR.P_INFECT_SYMPTOMATIC] = P_INFECT_MOBILITY\n",
    "params[SEIVR.P_INFECT_ASYMPTOMATIC] = P_INFECT_MOBILITY / 2\n",
    "params[SEIVR.P_VACCINATED] = 0.001\n",
    "params[SEIVR.P_VACCINATED_INITIAL] = 0\n",
    "params[SEIVR.VACCINE_RRR] = 0.67\n",
    "\n",
    "er = ExperimentRunner(e)\n",
    "er.run(params, T=T)\n",
    "\n",
    "simulation_dfs_seivr.append(er.to_df(seivr_compartments, 'DISTANCED_pre', 'SEIVR'))\n",
    "\n",
    "del params, er, e"
   ]
  },
  {
   "cell_type": "markdown",
   "metadata": {},
   "source": [
    "#### ... with quarantine"
   ]
  },
  {
   "cell_type": "code",
   "execution_count": 34,
   "metadata": {},
   "outputs": [],
   "source": [
    "# define the process\n",
    "e = StochasticDynamics(MonitoredSEIVRQ(), g=DNG())\n",
    "\n",
    "# merge all parameters\n",
    "params = params_distanced_pre | params_seivr | params_monitor\n",
    "params[SEIVRQ.P_INFECT_SYMPTOMATIC] = P_INFECT_MOBILITY\n",
    "params[SEIVRQ.P_INFECT_ASYMPTOMATIC] = P_INFECT_MOBILITY / 2\n",
    "params[SEIVRQ.P_VACCINATED] = 0.001\n",
    "params[SEIVRQ.P_VACCINATED_INITIAL] = 0\n",
    "params[SEIVRQ.VACCINE_RRR] = 0.67\n",
    "params[SEIVRQ.P_QUARANTINE] = 0.2\n",
    "\n",
    "er = ExperimentRunner(e)\n",
    "er.run(params, T=T)\n",
    "\n",
    "simulation_dfs_seivr.append(er.to_df(seivr_compartments, 'DISTANCED_pre', 'SEIVR_Q'))\n",
    "\n",
    "del params, er, e"
   ]
  },
  {
   "cell_type": "markdown",
   "metadata": {},
   "source": [
    "### Process simulation results\n",
    "\n",
    "Appending all simulation results in a pandas data frame for SEIR and SEIVR will give us the data set containing all experimental results in long form."
   ]
  },
  {
   "cell_type": "code",
   "execution_count": 35,
   "metadata": {},
   "outputs": [],
   "source": [
    "from results.push_to_data_repo import update_or_create\n",
    "\n",
    "# concatenate simulation data frames\n",
    "sim_seir_df = pd.concat(simulation_dfs_seir)\n",
    "sim_seivr_df = pd.concat(simulation_dfs_seivr)\n",
    "\n",
    "# save to file\n",
    "sim_seir_df.to_csv('results/sim_seir.csv')\n",
    "sim_seivr_df.to_csv('results/sim_seivr.csv')\n",
    "\n",
    "# push to repo\n",
    "update_or_create('sim_seir.csv')\n",
    "update_or_create('sim_seivr.csv')"
   ]
  }
 ],
 "metadata": {
  "kernelspec": {
   "display_name": "Python 3",
   "language": "python",
   "name": "python3"
  },
  "language_info": {
   "codemirror_mode": {
    "name": "ipython",
    "version": 3
   },
   "file_extension": ".py",
   "mimetype": "text/x-python",
   "name": "python",
   "nbconvert_exporter": "python",
   "pygments_lexer": "ipython3",
   "version": "3.9.2"
  }
 },
 "nbformat": 4,
 "nbformat_minor": 1
}
