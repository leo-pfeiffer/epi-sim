{
 "cells": [
  {
   "cell_type": "markdown",
   "metadata": {
    "collapsed": true
   },
   "source": [
    "# Experiments\n",
    "Having implemented the different networks and models we can now run them and analyse the results of different parameterisations. This is meant as an exploratory analysis of the effects of different parameters. For the web app we will simualate the models with parameters on a finer grid."
   ]
  },
  {
   "cell_type": "code",
   "execution_count": 1,
   "metadata": {},
   "outputs": [],
   "source": [
    "%matplotlib inline\n",
    "\n",
    "# allow relative imports\n",
    "import os\n",
    "import sys\n",
    "\n",
    "module = os.path.abspath(os.path.join('..'))\n",
    "if module not in sys.path:\n",
    "    sys.path.append(module)\n",
    "    \n",
    "\n",
    "# utils\n",
    "from functools import partial\n",
    "import numpy as np\n",
    "import pickle\n",
    "import matplotlib.pyplot as plt\n",
    "import pandas as pd\n",
    "\n",
    "# reproducibility\n",
    "SEED = 4401"
   ]
  },
  {
   "cell_type": "markdown",
   "metadata": {},
   "source": [
    "The following Human Contact Networks will be compared:\n",
    "- Mobility network\n",
    "- Power law with cutoff\n",
    "- Physical distancing network\n",
    "\n",
    "For each, we will evaluate the following epidemic models:\n",
    "- SEIR\n",
    "- SEIVR\n",
    "- SEIR with quarantine\n",
    "- SEVIR with quarantine\n",
    "\n",
    "Each model will require slightly different parameters."
   ]
  },
  {
   "cell_type": "markdown",
   "metadata": {},
   "source": [
    "## Networks\n",
    "\n",
    "For each of the three types of networks we will create two instances: a baseline network representing nodes living under no restrictions/distancing etc. (we will call this __pre__) and a network assuming some form of physical distancing put in place (called __post__). We can then plug in each of these networks into the different models.\n",
    "\n",
    "The mobility networks have `10000` nodes and average node degrees of `4` and `3` for __pre__ and __post__ respectively. Where appropriate, we will mimick these characteristics in the other networks for comparability reasons.\n",
    "\n",
    "TODO: Maybe only do pre and post for MN since others are completely arbitrary"
   ]
  },
  {
   "cell_type": "markdown",
   "metadata": {},
   "source": [
    "### Mobility network\n",
    "\n",
    "The mobility networks are based on mobility data from SafeGraph for New Haven County, CT, USA. The __pre__ network is adapted from data from February 2020, before stay-at-home orders were issued, while the __post__ network is based on data from April 2020, after such orders were put in place in March.\n",
    "\n",
    "The graphs for the two networks have already been producen (see *network_creation.ipynb*), so we can use the `MNGeneratorFromFile`. For now, it suffices defining the parameters of the generator, which we can then pass to the experiment later on."
   ]
  },
  {
   "cell_type": "code",
   "execution_count": 2,
   "metadata": {},
   "outputs": [],
   "source": [
    "from configuration import GRAPHS\n",
    "from model.network.mobility_network import MNGeneratorFromFile as MNGF"
   ]
  },
  {
   "cell_type": "code",
   "execution_count": 3,
   "metadata": {},
   "outputs": [],
   "source": [
    "params_mobility_pre = dict()\n",
    "params_mobility_pre[MNGF.EXPONENT] = 2\n",
    "params_mobility_pre[MNGF.CUTOFF] = 40\n",
    "params_mobility_pre[MNGF.PATH] = os.path.join(GRAPHS, 'pre_N_10000_E_2_C_40.graphml')\n",
    "\n",
    "params_mobility_post = dict()\n",
    "params_mobility_post[MNGF.EXPONENT] = 2\n",
    "params_mobility_post[MNGF.CUTOFF] = 40\n",
    "params_mobility_post[MNGF.PATH] = os.path.join(GRAPHS, 'post_N_10000_E_2_C_40.graphml')"
   ]
  },
  {
   "cell_type": "markdown",
   "metadata": {},
   "source": [
    "### Power law with cutoff\n",
    "\n",
    "The power law with cutoff (PLC) creates a network with nodes with degrees that follow a power law distribution but have a cutoff point at the upper end to prevent implausibly high degrees. `epydemic` provides a NetworkGenerator for this type of network so we can create it from there. The cutoff parameter is set to `10`. Again, we only define the parameters now and pass them to the experiment with the generator later."
   ]
  },
  {
   "cell_type": "code",
   "execution_count": 4,
   "metadata": {},
   "outputs": [],
   "source": [
    "from epydemic import PLCNetwork"
   ]
  },
  {
   "cell_type": "code",
   "execution_count": 5,
   "metadata": {},
   "outputs": [],
   "source": [
    "params_plc_pre = dict()\n",
    "params_plc_pre[PLCNetwork.N] = 10000\n",
    "params_plc_pre[PLCNetwork.EXPONENT] = 2\n",
    "params_plc_pre[PLCNetwork.CUTOFF] = 40\n",
    "\n",
    "# params_plc_post = dict()\n",
    "# params_plc_post[PLCNetwork.N] = 10000\n",
    "# params_plc_post[PLCNetwork.EXPONENT] = 2\n",
    "# params_plc_post[PLCNetwork.CUTOFF] = 40"
   ]
  },
  {
   "cell_type": "markdown",
   "metadata": {},
   "source": [
    "### Physical distancing"
   ]
  },
  {
   "cell_type": "code",
   "execution_count": 6,
   "metadata": {},
   "outputs": [],
   "source": [
    "from model.network.distanced_network import DNGenerator as DNG\n",
    "from model.distributions import household_size_dist, intra_household_contacts, node_degree_dist"
   ]
  },
  {
   "cell_type": "code",
   "execution_count": 7,
   "metadata": {},
   "outputs": [],
   "source": [
    "DISTANCED_EXPONENT_PRE = 4\n",
    "DISTANCED_EXPONENT_POST = 3\n",
    "\n",
    "average_family = partial(household_size_dist, mu=4.5, std=2)\n",
    "intra_family_contacts = partial(intra_household_contacts, std=1)\n",
    "inter_family_contacts = node_degree_dist\n",
    "\n",
    "params_distanced_pre = dict()\n",
    "params_distanced_pre[DNG.N] = 10000\n",
    "params_distanced_pre[DNG.CLUSTER_SIZE_DIST] = average_family\n",
    "params_distanced_pre[DNG.CONTACT_DIST] = intra_family_contacts\n",
    "params_distanced_pre[DNG.CLUSTER_CONTACT_DIST] = partial(inter_family_contacts, exponent=DISTANCED_EXPONENT_PRE)\n",
    "params_distanced_pre[DNG.SEED] = SEED\n",
    "\n",
    "# params_distanced_post = dict()\n",
    "# params_distanced_post[DNG.N] = 10000\n",
    "# params_distanced_post[DNG.CLUSTER_SIZE_DIST] = average_family\n",
    "# params_distanced_post[DNG.CONTACT_DIST] = intra_family_contacts\n",
    "# params_distanced_post[DNG.CLUSTER_CONTACT_DIST] = partial(inter_family_contacts, exponent=DISTANCED_EXPONENT_POST)\n",
    "# params_distanced_post[DNG.SEED] = SEED"
   ]
  },
  {
   "cell_type": "markdown",
   "metadata": {},
   "source": [
    "## Epidemic model"
   ]
  },
  {
   "cell_type": "markdown",
   "metadata": {},
   "source": [
    "### SEIR"
   ]
  },
  {
   "cell_type": "code",
   "execution_count": 8,
   "metadata": {},
   "outputs": [],
   "source": [
    "from epydemic import SEIR\n",
    "from model.compartmental_models.seir import MonitoredSEIR"
   ]
  },
  {
   "cell_type": "code",
   "execution_count": 9,
   "metadata": {},
   "outputs": [],
   "source": [
    "seir_compartments = {\n",
    "    SEIR.SUSCEPTIBLE: 'susceptible',\n",
    "    SEIR.EXPOSED: 'exposed',\n",
    "    SEIR.INFECTED: 'infected',\n",
    "    SEIR.REMOVED: 'removed'\n",
    "}"
   ]
  },
  {
   "cell_type": "markdown",
   "metadata": {},
   "source": [
    "### SEIR with quarantine"
   ]
  },
  {
   "cell_type": "code",
   "execution_count": 10,
   "metadata": {},
   "outputs": [],
   "source": [
    "from model.compartmental_model.seir import SEIRWithQuarantine as SEIRQ\n",
    "from model.compartmental_model.seir import MonitoredSEIRWithQuarantine as MonitoredSEIRQ"
   ]
  },
  {
   "cell_type": "markdown",
   "metadata": {},
   "source": [
    "### SEIVR"
   ]
  },
  {
   "cell_type": "code",
   "execution_count": 11,
   "metadata": {},
   "outputs": [],
   "source": [
    "from model.compartmental_model.seivr import SEIVR\n",
    "from model.compartmental_model.seivr import MonitoredSEIVR"
   ]
  },
  {
   "cell_type": "code",
   "execution_count": 12,
   "metadata": {},
   "outputs": [],
   "source": [
    "seivr_compartments = {\n",
    "    SEIVR.SUSCEPTIBLE: 'susceptible',\n",
    "    SEIVR.EXPOSED: 'exposed',\n",
    "    SEIVR.INFECTED: 'infected',\n",
    "    SEIVR.VACCINATED: 'vaccinated',\n",
    "    SEIVR.REMOVED: 'removed'\n",
    "}"
   ]
  },
  {
   "cell_type": "markdown",
   "metadata": {},
   "source": [
    "### SEIVR with quarantine"
   ]
  },
  {
   "cell_type": "code",
   "execution_count": 13,
   "metadata": {},
   "outputs": [],
   "source": [
    "from model.compartmental_model.seivr import SEIVRWithQuarantine as SEIVRQ\n",
    "from model.compartmental_model.seivr import MonitoredSEIVRWithQuarantine as MonitoredSEIVRQ"
   ]
  },
  {
   "cell_type": "markdown",
   "metadata": {},
   "source": [
    "## Parameters\n",
    "\n",
    "We will fix as many COVID-19 specific parameters as we can and leave only policy dependent parameters open for modifications.\n",
    "\n",
    "We set the following parameters\n",
    "\n",
    "| Variable | Value | Description | Reference |\n",
    "| :-- | --: | :-- | :-- |\n",
    "| R0 | $2.85$ | Basic Reproduction Number | 1) |\n",
    "| P_INFECT | ... | P. of infection | ... |\n",
    "| P_REMOVE | $0.1$ | P. of removal | 2) |\n",
    "| P_SYMPTOPMS | $0.2$ | P. of becoming symptomatic | 3) |\n",
    "| P_EXPOSED | $0.01$ | P. of initial infection | ... |\n",
    "| RRR | $0.95$, $0.67$ | Vaccine efficacy | 4), 5), 6) |\n",
    "| P_VACCINATED | $10^{-3}$ to $10^{-2}$ by $10^{-3}$| P. of getting vaccinated | ... |\n",
    "| P_VACCINATED_INITIAL | $0$ to $1$ by $0.1$ | P. of initial vaccination | ... |\n",
    "| P_QUARANTINE | $0$ to $1$ by $0.1$ | P. of rewiring | ... |\n",
    "\n",
    "\n",
    "1) https://journals.plos.org/plosone/article?id=10.1371/journal.pone.0249271\n",
    "\n",
    "2) https://www.thelancet.com/journals/lanmic/article/PIIS2666-5247(20)30172-5/fulltext\n",
    "\n",
    "3) https://doi.org/10.3389/fpubh.2020.598547\n",
    "\n",
    "4) https://www.nejm.org/doi/full/10.1056/NEJMoa2034577\n",
    "\n",
    "5) https://www.nejm.org/doi/full/10.1056/nejmoa2035389\n",
    "\n",
    "6) https://www.sciencedirect.com/science/article/pii/S0140673620326611"
   ]
  },
  {
   "cell_type": "code",
   "execution_count": 14,
   "metadata": {},
   "outputs": [],
   "source": [
    "# Fixed\n",
    "R0 = 2.85\n",
    "_P_INFECT = None  # to calculate later \n",
    "P_REMOVE = 0.1\n",
    "P_SYMPTOMS = 0.2\n",
    "P_EXPOSED = 0.01\n",
    "\n",
    "_RRR = [0.95, 0.67]\n",
    "\n",
    "# Free\n",
    "_P_VACCINATED = np.arange(0.001, 0.011, 0.001)\n",
    "_P_VACCINATED_INITAL = np.arange(0, 1.1, 0.1)\n",
    "_P_QUARANTINE = np.arange(0, 1.1, 0.1)"
   ]
  },
  {
   "cell_type": "markdown",
   "metadata": {},
   "source": [
    "Note that we assume `P_EXPOSED` to be fixed. The reason for this is that the model is mostly invariant towards this value; changing it (for the most part) just moves the values horizontally. We denote parameters that need to be further realised/calculated for the actual model by prefixing them with an underscore `_`. `P_INFECT_S` can be calculated from knowing `R0`, `P_REMOVE`, as well as the mean and variance of the node degree distribution of the network (See [Dobson 2020](!https://pyepydemic.readthedocs.io/en/latest/cookbook/from-r-to-probabilities.html))."
   ]
  },
  {
   "cell_type": "code",
   "execution_count": 15,
   "metadata": {},
   "outputs": [],
   "source": [
    "def calc_p_infect(r0, p_remove, k_mean, k_var):\n",
    "    \"\"\"\n",
    "    Calc p_infect.\n",
    "    :param r0: basic reproduction number\n",
    "    :param p_remove: probability of removal\n",
    "    :param k_mean: Mean of node degree distribution\n",
    "    :param k_var: Variance of node degree distribution\n",
    "    :return: p_infect\n",
    "    \"\"\"\n",
    "    return p_remove * r0 * (k_mean / (k_var - k_mean))"
   ]
  },
  {
   "cell_type": "markdown",
   "metadata": {},
   "source": [
    "It also appears that asymptomatic cases (i.e. `exposed` compartment) are about 50% as infectious as symptomatic cases (`infected` compartment) (See [McEvoy et al. 2021](!https://bmjopen.bmj.com/content/11/5/e042354)). Hence, when required, we will set `P_INFECT_A` = `P_INFECT_S` $\\times \\ \\frac{1}{2}$."
   ]
  },
  {
   "cell_type": "markdown",
   "metadata": {},
   "source": [
    "We can already set the fixed parameters for the models."
   ]
  },
  {
   "cell_type": "code",
   "execution_count": 16,
   "metadata": {},
   "outputs": [],
   "source": [
    "params_seir = dict()\n",
    "params_seir[SEIR.P_SYMPTOMS] = P_SYMPTOMS\n",
    "params_seir[SEIR.P_REMOVE] = P_REMOVE\n",
    "params_seir[SEIR.P_EXPOSED] = P_EXPOSED\n",
    "\n",
    "params_seivr = dict()\n",
    "params_seivr[SEIVR.P_SYMPTOMS] = P_SYMPTOMS\n",
    "params_seivr[SEIVR.P_REMOVE] = P_REMOVE\n",
    "params_seivr[SEIVR.P_EXPOSED] = P_EXPOSED"
   ]
  },
  {
   "cell_type": "markdown",
   "metadata": {},
   "source": [
    "## Simulations"
   ]
  },
  {
   "cell_type": "markdown",
   "metadata": {},
   "source": [
    "We wrap some of the steps required to exectute and collect the results of an experiment in the `ExperimentRunner` class. We also require the epydemic `StochasticDynamics` and `Monitor`.\n",
    "\n",
    "For all models we will also set a common maximum time of $150$ time steps. #todo review"
   ]
  },
  {
   "cell_type": "code",
   "execution_count": 17,
   "metadata": {},
   "outputs": [],
   "source": [
    "from experiments.runner import ExperimentRunner\n",
    "from epydemic import StochasticDynamics, Monitor\n",
    "\n",
    "# define the monitor parameters\n",
    "params_monitor = dict()\n",
    "params_monitor[Monitor.DELTA] = 10\n",
    "\n",
    "# save all simulation results in list of dataframes\n",
    "simulation_dfs_seir = []\n",
    "simulation_dfs_seivr = []\n",
    "\n",
    "T = 150"
   ]
  },
  {
   "cell_type": "markdown",
   "metadata": {},
   "source": [
    "### SEIR on MobilityNetwork"
   ]
  },
  {
   "cell_type": "markdown",
   "metadata": {},
   "source": [
    "For each type of network we must first calculate the network-specific `P_INFECT`. In the case of mobility networks we can get the mean and variance of the power law cutoff distribution with the same parameters as that used for the node distribution of the network."
   ]
  },
  {
   "cell_type": "code",
   "execution_count": 18,
   "metadata": {},
   "outputs": [
    {
     "name": "stdout",
     "output_type": "stream",
     "text": [
      "0.0294654808871408\n"
     ]
    }
   ],
   "source": [
    "from model.distributions import PowerLawCutoffDist as PLCD\n",
    "\n",
    "tau = params_mobility_pre[MNGF.EXPONENT]\n",
    "kappa = params_mobility_pre[MNGF.CUTOFF]\n",
    "plcd = PLCD(tau, kappa)\n",
    "\n",
    "P_INFECT_MOBILITY = calc_p_infect(R0, P_REMOVE, plcd.mean, plcd.var)\n",
    "del tau, kappa, plcd\n",
    "\n",
    "print(P_INFECT_MOBILITY)"
   ]
  },
  {
   "cell_type": "markdown",
   "metadata": {},
   "source": [
    "Having collected all parameters, we can now run the experiment using the `ExperimentRunner`."
   ]
  },
  {
   "cell_type": "code",
   "execution_count": 19,
   "metadata": {
    "scrolled": true
   },
   "outputs": [],
   "source": [
    "# define the process\n",
    "e = StochasticDynamics(MonitoredSEIR(), g=MNGF())\n",
    "\n",
    "# merge all parameters\n",
    "params = params_mobility_pre | params_seir | params_monitor\n",
    "params[SEIR.P_INFECT_SYMPTOMATIC] = P_INFECT_MOBILITY\n",
    "params[SEIR.P_INFECT_ASYMPTOMATIC] = P_INFECT_MOBILITY / 2\n",
    "\n",
    "er = ExperimentRunner(e)\n",
    "er.run(params, T=T)\n",
    "\n",
    "# er.plot('SEIR (PRE)', seir_compartments)\n",
    "simulation_dfs_seir.append(er.to_df(seir_compartments, 'MN_pre', 'SEIR'))\n",
    "\n",
    "del params, er, e"
   ]
  },
  {
   "cell_type": "code",
   "execution_count": 20,
   "metadata": {},
   "outputs": [],
   "source": [
    "# define the process\n",
    "e = StochasticDynamics(MonitoredSEIR(), g=MNGF())\n",
    "\n",
    "# merge all parameters\n",
    "params = params_mobility_post | params_seir | params_monitor\n",
    "params[SEIR.P_INFECT_SYMPTOMATIC] = P_INFECT_MOBILITY\n",
    "params[SEIR.P_INFECT_ASYMPTOMATIC] = P_INFECT_MOBILITY / 2\n",
    "\n",
    "er = ExperimentRunner(e)\n",
    "er.run(params, T=T)\n",
    "\n",
    "simulation_dfs_seir.append(er.to_df(seir_compartments, 'MN_post', 'SEIR'))\n",
    "\n",
    "del params, er, e"
   ]
  },
  {
   "cell_type": "markdown",
   "metadata": {},
   "source": [
    "#### ... with quarantine"
   ]
  },
  {
   "cell_type": "code",
   "execution_count": 21,
   "metadata": {},
   "outputs": [],
   "source": [
    "# define the process\n",
    "e = StochasticDynamics(MonitoredSEIRQ(), g=MNGF())\n",
    "\n",
    "# merge all parameters\n",
    "params = params_mobility_pre | params_seir | params_monitor\n",
    "params[SEIRQ.P_INFECT_SYMPTOMATIC] = P_INFECT_MOBILITY\n",
    "params[SEIRQ.P_INFECT_ASYMPTOMATIC] = P_INFECT_MOBILITY / 2\n",
    "params[SEIRQ.P_QUARANTINE] = 0.2\n",
    "\n",
    "er = ExperimentRunner(e)\n",
    "er.run(params, T=T)\n",
    "\n",
    "simulation_dfs_seir.append(er.to_df(seir_compartments, 'MN_pre', 'SEIR_Q'))\n",
    "\n",
    "del params, er, e"
   ]
  },
  {
   "cell_type": "code",
   "execution_count": 22,
   "metadata": {},
   "outputs": [],
   "source": [
    "# define the process\n",
    "e = StochasticDynamics(MonitoredSEIRQ(), g=MNGF())\n",
    "\n",
    "# merge all parameters\n",
    "params = params_mobility_post | params_seir | params_monitor\n",
    "params[SEIRQ.P_INFECT_SYMPTOMATIC] = P_INFECT_MOBILITY\n",
    "params[SEIRQ.P_INFECT_ASYMPTOMATIC] = P_INFECT_MOBILITY / 2\n",
    "params[SEIRQ.P_QUARANTINE] = 0.2\n",
    "\n",
    "er = ExperimentRunner(e)\n",
    "er.run(params, T=T)\n",
    "\n",
    "simulation_dfs_seir.append(er.to_df(seir_compartments, 'MN_post', 'SEIR_Q'))\n",
    "\n",
    "del params, er, e"
   ]
  },
  {
   "cell_type": "markdown",
   "metadata": {},
   "source": [
    "### SEIR on PLC"
   ]
  },
  {
   "cell_type": "markdown",
   "metadata": {},
   "source": [
    "Again, we start by computing `R0` for the PLC network..."
   ]
  },
  {
   "cell_type": "code",
   "execution_count": 23,
   "metadata": {},
   "outputs": [],
   "source": [
    "tau = params_plc_pre[PLCNetwork.EXPONENT]\n",
    "kappa = params_plc_pre[PLCNetwork.CUTOFF]\n",
    "plcd = PLCD(tau, kappa)\n",
    "\n",
    "P_INFECT_PLC = calc_p_infect(R0, P_REMOVE, plcd.mean, plcd.var)\n",
    "del tau, kappa, plcd"
   ]
  },
  {
   "cell_type": "markdown",
   "metadata": {},
   "source": [
    "... and then run the simulations."
   ]
  },
  {
   "cell_type": "code",
   "execution_count": 24,
   "metadata": {},
   "outputs": [],
   "source": [
    "# define the process\n",
    "e = StochasticDynamics(MonitoredSEIR(), g=PLCNetwork())\n",
    "\n",
    "# merge all parameters\n",
    "params = params_plc_pre | params_seir | params_monitor\n",
    "params[SEIR.P_INFECT_SYMPTOMATIC] = P_INFECT_MOBILITY\n",
    "params[SEIR.P_INFECT_ASYMPTOMATIC] = P_INFECT_MOBILITY / 2\n",
    "\n",
    "er = ExperimentRunner(e)\n",
    "er.run(params, T=T)\n",
    "\n",
    "# er.plot('SEIR (PRE)', seir_compartments)\n",
    "simulation_dfs_seir.append(er.to_df(seir_compartments, 'PLC_pre', 'SEIR'))\n",
    "\n",
    "del params, er, e"
   ]
  },
  {
   "cell_type": "markdown",
   "metadata": {},
   "source": [
    "#### ... with quarantine"
   ]
  },
  {
   "cell_type": "code",
   "execution_count": 25,
   "metadata": {},
   "outputs": [],
   "source": [
    "# define the process\n",
    "e = StochasticDynamics(MonitoredSEIRQ(), g=PLCNetwork())\n",
    "\n",
    "# merge all parameters\n",
    "params = params_plc_pre | params_seir | params_monitor\n",
    "params[SEIRQ.P_INFECT_SYMPTOMATIC] = P_INFECT_MOBILITY\n",
    "params[SEIRQ.P_INFECT_ASYMPTOMATIC] = P_INFECT_MOBILITY / 2\n",
    "params[SEIRQ.P_QUARANTINE] = 0.2\n",
    "\n",
    "er = ExperimentRunner(e)\n",
    "er.run(params, T=T)\n",
    "\n",
    "simulation_dfs_seir.append(er.to_df(seir_compartments, 'PLC_pre', 'SEIR_Q'))\n",
    "\n",
    "del params, er, e"
   ]
  },
  {
   "cell_type": "markdown",
   "metadata": {},
   "source": [
    "### SEIR on Distanced"
   ]
  },
  {
   "cell_type": "markdown",
   "metadata": {},
   "source": [
    "Calculate network based `R0`:"
   ]
  },
  {
   "cell_type": "code",
   "execution_count": 26,
   "metadata": {},
   "outputs": [],
   "source": [
    "mean = DISTANCED_EXPONENT_PRE\n",
    "var = DISTANCED_EXPONENT_PRE ** 2\n",
    "\n",
    "P_INFECT_DISTANCED_PRE = calc_p_infect(R0, P_REMOVE, mean, var)\n",
    "del mean, var"
   ]
  },
  {
   "cell_type": "markdown",
   "metadata": {},
   "source": [
    "Run simulations:"
   ]
  },
  {
   "cell_type": "code",
   "execution_count": 27,
   "metadata": {},
   "outputs": [],
   "source": [
    "# define the process\n",
    "e = StochasticDynamics(MonitoredSEIR(), g=DNG())\n",
    "\n",
    "# merge all parameters\n",
    "params = params_distanced_pre | params_seir | params_monitor\n",
    "params[SEIR.P_INFECT_SYMPTOMATIC] = P_INFECT_MOBILITY\n",
    "params[SEIR.P_INFECT_ASYMPTOMATIC] = P_INFECT_MOBILITY / 2\n",
    "\n",
    "er = ExperimentRunner(e)\n",
    "er.run(params, T=T)\n",
    "\n",
    "simulation_dfs_seir.append(er.to_df(seir_compartments, 'DISTANCED_pre', 'SEIR'))\n",
    "\n",
    "del params, er, e"
   ]
  },
  {
   "cell_type": "markdown",
   "metadata": {},
   "source": [
    "#### ... with quarantine"
   ]
  },
  {
   "cell_type": "code",
   "execution_count": 28,
   "metadata": {},
   "outputs": [],
   "source": [
    "# define the process\n",
    "e = StochasticDynamics(MonitoredSEIRQ(), g=DNG())\n",
    "\n",
    "# merge all parameters\n",
    "params = params_distanced_pre | params_seir | params_monitor\n",
    "params[SEIRQ.P_INFECT_SYMPTOMATIC] = P_INFECT_MOBILITY\n",
    "params[SEIRQ.P_INFECT_ASYMPTOMATIC] = P_INFECT_MOBILITY / 2\n",
    "params[SEIRQ.P_QUARANTINE] = 0.2\n",
    "\n",
    "er = ExperimentRunner(e)\n",
    "er.run(params, T=T)\n",
    "\n",
    "simulation_dfs_seir.append(er.to_df(seir_compartments, 'DISTANCED_pre', 'SEIR_Q'))\n",
    "\n",
    "del params, er, e"
   ]
  },
  {
   "cell_type": "markdown",
   "metadata": {},
   "source": [
    "### SEIVR on Mobility"
   ]
  },
  {
   "cell_type": "code",
   "execution_count": 29,
   "metadata": {},
   "outputs": [],
   "source": [
    "# define the process\n",
    "e = StochasticDynamics(MonitoredSEIVR(), g=MNGF())\n",
    "\n",
    "# merge all parameters\n",
    "params = params_mobility_pre | params_seivr | params_monitor\n",
    "params[SEIVR.P_INFECT_SYMPTOMATIC] = P_INFECT_MOBILITY\n",
    "params[SEIVR.P_INFECT_ASYMPTOMATIC] = P_INFECT_MOBILITY / 2\n",
    "params[SEIVR.P_VACCINATED] = 0.001\n",
    "params[SEIVR.P_VACCINATED_INITIAL] = 0\n",
    "params[SEIVR.VACCINE_RRR] = 0.67\n",
    "\n",
    "er = ExperimentRunner(e)\n",
    "er.run(params, T=T)\n",
    "\n",
    "simulation_dfs_seivr.append(er.to_df(seivr_compartments, 'MN_pre', 'SEIVR'))\n",
    "\n",
    "del params, er, e"
   ]
  },
  {
   "cell_type": "markdown",
   "metadata": {},
   "source": [
    "#### ... with quarantine"
   ]
  },
  {
   "cell_type": "code",
   "execution_count": 30,
   "metadata": {},
   "outputs": [],
   "source": [
    "# define the process\n",
    "e = StochasticDynamics(MonitoredSEIVRQ(), g=MNGF())\n",
    "\n",
    "# merge all parameters\n",
    "params = params_mobility_pre | params_seivr | params_monitor\n",
    "params[SEIVRQ.P_INFECT_SYMPTOMATIC] = P_INFECT_MOBILITY\n",
    "params[SEIVRQ.P_INFECT_ASYMPTOMATIC] = P_INFECT_MOBILITY / 2\n",
    "params[SEIVRQ.P_VACCINATED] = 0.001\n",
    "params[SEIVRQ.P_VACCINATED_INITIAL] = 0\n",
    "params[SEIVRQ.VACCINE_RRR] = 0.67\n",
    "params[SEIVRQ.P_QUARANTINE] = 0.2\n",
    "\n",
    "er = ExperimentRunner(e)\n",
    "er.run(params, T=T)\n",
    "\n",
    "simulation_dfs_seivr.append(er.to_df(seivr_compartments, 'MN_pre', 'SEIVR_Q'))\n",
    "\n",
    "del params, er, e"
   ]
  },
  {
   "cell_type": "markdown",
   "metadata": {},
   "source": [
    "### SEIVR on PLC"
   ]
  },
  {
   "cell_type": "code",
   "execution_count": 31,
   "metadata": {},
   "outputs": [],
   "source": [
    "# define the process\n",
    "e = StochasticDynamics(MonitoredSEIVR(), g=PLCNetwork())\n",
    "\n",
    "# merge all parameters\n",
    "params = params_plc_pre | params_seivr | params_monitor\n",
    "params[SEIVR.P_INFECT_SYMPTOMATIC] = P_INFECT_MOBILITY\n",
    "params[SEIVR.P_INFECT_ASYMPTOMATIC] = P_INFECT_MOBILITY / 2\n",
    "params[SEIVR.P_VACCINATED] = 0.001\n",
    "params[SEIVR.P_VACCINATED_INITIAL] = 0\n",
    "params[SEIVR.VACCINE_RRR] = 0.67\n",
    "\n",
    "er = ExperimentRunner(e)\n",
    "er.run(params, T=T)\n",
    "\n",
    "simulation_dfs_seivr.append(er.to_df(seivr_compartments, 'PLC_pre', 'SEIVR'))\n",
    "\n",
    "del params, er, e"
   ]
  },
  {
   "cell_type": "markdown",
   "metadata": {},
   "source": [
    "#### ... with quarantine"
   ]
  },
  {
   "cell_type": "code",
   "execution_count": 32,
   "metadata": {},
   "outputs": [],
   "source": [
    "# define the process\n",
    "e = StochasticDynamics(MonitoredSEIVRQ(), g=PLCNetwork())\n",
    "\n",
    "# merge all parameters\n",
    "params = params_plc_pre | params_seivr | params_monitor\n",
    "params[SEIVRQ.P_INFECT_SYMPTOMATIC] = P_INFECT_MOBILITY\n",
    "params[SEIVRQ.P_INFECT_ASYMPTOMATIC] = P_INFECT_MOBILITY / 2\n",
    "params[SEIVRQ.P_VACCINATED] = 0.001\n",
    "params[SEIVRQ.P_VACCINATED_INITIAL] = 0\n",
    "params[SEIVRQ.VACCINE_RRR] = 0.67\n",
    "params[SEIVRQ.P_QUARANTINE] = 0.2\n",
    "\n",
    "er = ExperimentRunner(e)\n",
    "er.run(params, T=T)\n",
    "\n",
    "simulation_dfs_seivr.append(er.to_df(seivr_compartments, 'PLC_pre', 'SEIVR_Q'))\n",
    "\n",
    "del params, er, e"
   ]
  },
  {
   "cell_type": "markdown",
   "metadata": {},
   "source": [
    "### SEIVR on Distanced"
   ]
  },
  {
   "cell_type": "code",
   "execution_count": 33,
   "metadata": {},
   "outputs": [],
   "source": [
    "# define the process\n",
    "e = StochasticDynamics(MonitoredSEIVR(), g=DNG())\n",
    "\n",
    "# merge all parameters\n",
    "params = params_distanced_pre | params_seivr | params_monitor\n",
    "params[SEIVR.P_INFECT_SYMPTOMATIC] = P_INFECT_MOBILITY\n",
    "params[SEIVR.P_INFECT_ASYMPTOMATIC] = P_INFECT_MOBILITY / 2\n",
    "params[SEIVR.P_VACCINATED] = 0.001\n",
    "params[SEIVR.P_VACCINATED_INITIAL] = 0\n",
    "params[SEIVR.VACCINE_RRR] = 0.67\n",
    "\n",
    "er = ExperimentRunner(e)\n",
    "er.run(params, T=T)\n",
    "\n",
    "simulation_dfs_seivr.append(er.to_df(seivr_compartments, 'DISTANCED_pre', 'SEIVR'))\n",
    "\n",
    "del params, er, e"
   ]
  },
  {
   "cell_type": "markdown",
   "metadata": {},
   "source": [
    "#### ... with quarantine"
   ]
  },
  {
   "cell_type": "code",
   "execution_count": 34,
   "metadata": {},
   "outputs": [],
   "source": [
    "# define the process\n",
    "e = StochasticDynamics(MonitoredSEIVRQ(), g=DNG())\n",
    "\n",
    "# merge all parameters\n",
    "params = params_distanced_pre | params_seivr | params_monitor\n",
    "params[SEIVRQ.P_INFECT_SYMPTOMATIC] = P_INFECT_MOBILITY\n",
    "params[SEIVRQ.P_INFECT_ASYMPTOMATIC] = P_INFECT_MOBILITY / 2\n",
    "params[SEIVRQ.P_VACCINATED] = 0.001\n",
    "params[SEIVRQ.P_VACCINATED_INITIAL] = 0\n",
    "params[SEIVRQ.VACCINE_RRR] = 0.67\n",
    "params[SEIVRQ.P_QUARANTINE] = 0.2\n",
    "\n",
    "er = ExperimentRunner(e)\n",
    "er.run(params, T=T)\n",
    "\n",
    "simulation_dfs_seivr.append(er.to_df(seivr_compartments, 'DISTANCED_pre', 'SEIVR_Q'))\n",
    "\n",
    "del params, er, e"
   ]
  },
  {
   "cell_type": "markdown",
   "metadata": {},
   "source": [
    "### Process simulation results\n",
    "\n",
    "Appending all simulation results in a pandas data frame for SEIR and SEIVR will give us the data set containing all experimental results in long form."
   ]
  },
  {
   "cell_type": "code",
   "execution_count": 35,
   "metadata": {},
   "outputs": [],
   "source": [
    "from results.push_to_data_repo import update_or_create\n",
    "\n",
    "# concatenate simulation data frames\n",
    "sim_seir_df = pd.concat(simulation_dfs_seir)\n",
    "sim_seivr_df = pd.concat(simulation_dfs_seivr)\n",
    "\n",
    "# save to file\n",
    "sim_seir_df.to_csv('results/sim_seir.csv')\n",
    "sim_seivr_df.to_csv('results/sim_seivr.csv')\n",
    "\n",
    "# push to repo\n",
    "update_or_create('sim_seir.csv')\n",
    "update_or_create('sim_seivr.csv')"
   ]
  }
 ],
 "metadata": {
  "kernelspec": {
   "display_name": "Python 3",
   "language": "python",
   "name": "python3"
  },
  "language_info": {
   "codemirror_mode": {
    "name": "ipython",
    "version": 3
   },
   "file_extension": ".py",
   "mimetype": "text/x-python",
   "name": "python",
   "nbconvert_exporter": "python",
   "pygments_lexer": "ipython3",
   "version": "3.9.2"
  }
 },
 "nbformat": 4,
 "nbformat_minor": 1
}
