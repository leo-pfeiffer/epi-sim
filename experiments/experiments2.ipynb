{
 "cells": [
  {
   "cell_type": "markdown",
   "metadata": {
    "collapsed": true
   },
   "source": [
    "# Experiments\n",
    "Having implemented the different networks and models we can now run them and analyse the results of different parameterisations. This is meant as an exploratory analysis of the effects of different parameters. For the web app we will simualate the models with parameters on a finer grid."
   ]
  },
  {
   "cell_type": "code",
   "execution_count": 1,
   "metadata": {},
   "outputs": [],
   "source": [
    "# allow relative imports\n",
    "import os\n",
    "import sys\n",
    "\n",
    "module = os.path.abspath(os.path.join('..'))\n",
    "if module not in sys.path:\n",
    "    sys.path.append(module)\n",
    "    \n",
    "\n",
    "# utils\n",
    "from functools import partial\n",
    "    \n",
    "# reproducibility\n",
    "SEED = 4401"
   ]
  },
  {
   "cell_type": "markdown",
   "metadata": {},
   "source": [
    "The following Human Contact Networks will be compared:\n",
    "- Mobility network\n",
    "- Power law with cutoff\n",
    "- Physical distancing network\n",
    "\n",
    "For each, we will evaluate the following epidemic models:\n",
    "- SEIR\n",
    "- SEIVR\n",
    "- SEIR with quarantine\n",
    "- SEVIR with quarantine\n",
    "\n",
    "Each model will require slightly different parameters."
   ]
  },
  {
   "cell_type": "markdown",
   "metadata": {},
   "source": [
    "## Networks\n",
    "\n",
    "For each of the three types of networks we will create two instances: a baseline network representing nodes living under no restrictions/distancing etc. (we will call this __pre__) and a network assuming some form of physical distancing put in place (called __post__). We can then plug in each of these networks into the different models.\n",
    "\n",
    "The mobility networks have `10000` nodes and average node degrees of `4` and `3` for __pre__ and __post__ respectively. Where appropriate, we will mimick these characteristics in the other networks for comparability reasons."
   ]
  },
  {
   "cell_type": "markdown",
   "metadata": {},
   "source": [
    "### Mobility network\n",
    "\n",
    "The mobility networks are based on mobility data from SafeGraph for New Haven County, CT, USA. The __pre__ network is adapted from data from February 2020, before stay-at-home orders were issued, while the __post__ network is based on data from April 2020, after such orders were put in place in March.\n",
    "\n",
    "The graphs for the two networks have already been producen (see *network_creation.ipynb*), so we can use the `MNGeneratorFromFile`. For now, it suffices defining the parameters of the generator, which we can then pass to the experiment later on."
   ]
  },
  {
   "cell_type": "code",
   "execution_count": 2,
   "metadata": {},
   "outputs": [],
   "source": [
    "from data_processing.data_paths import GRAPHS\n",
    "from model.network.mobility_network import MNGeneratorFromFile as MNGF"
   ]
  },
  {
   "cell_type": "code",
   "execution_count": 3,
   "metadata": {},
   "outputs": [],
   "source": [
    "params_mobility_pre = dict()\n",
    "params_mobility_pre[MNGF.PATH] = os.path.join(GRAPHS, 'pre_N_10000_k_3.graphml')\n",
    "\n",
    "params_mobility_post = dict()\n",
    "params_mobility_post[MNGF.PATH] = os.path.join(GRAPHS, 'post_N_10000_k_3.graphml')"
   ]
  },
  {
   "cell_type": "markdown",
   "metadata": {},
   "source": [
    "### Power law with cutoff\n",
    "\n",
    "The power law with cutoff (PLC) creates a network with nodes with degrees that follow a power law distribution but have a cutoff point at the upper end to prevent implausibly high degrees. `epydemic` provides a NetworkGenerator for this type of network so we can create it from there. The cutoff parameter is set to `10`. Again, we only define the parameters now and pass them to the experiment with the generator later."
   ]
  },
  {
   "cell_type": "code",
   "execution_count": 4,
   "metadata": {},
   "outputs": [],
   "source": [
    "from epydemic import PLCNetwork"
   ]
  },
  {
   "cell_type": "code",
   "execution_count": 5,
   "metadata": {},
   "outputs": [],
   "source": [
    "params_plc_pre = dict()\n",
    "params_plc_pre[PLCNetwork.N] = 10000\n",
    "params_plc_pre[PLCNetwork.EXPONENT] = 4\n",
    "params_plc_pre[PLCNetwork.CUTOFF] = 10\n",
    "\n",
    "params_plc_post = dict()\n",
    "params_plc_post[PLCNetwork.N] = 10000\n",
    "params_plc_post[PLCNetwork.EXPONENT] = 3\n",
    "params_plc_post[PLCNetwork.CUTOFF] = 10"
   ]
  },
  {
   "cell_type": "markdown",
   "metadata": {},
   "source": [
    "### Physical distancing"
   ]
  },
  {
   "cell_type": "code",
   "execution_count": 6,
   "metadata": {},
   "outputs": [],
   "source": [
    "from model.network.distanced_network import DNGenerator as DNG\n",
    "from model.distributions import household_size_dist, intra_household_contacts, node_degree_dist"
   ]
  },
  {
   "cell_type": "code",
   "execution_count": 7,
   "metadata": {},
   "outputs": [],
   "source": [
    "average_family = partial(household_size_dist, mu=4.5, std=2)\n",
    "intra_family_contacts = partial(intra_household_contacts, std=1)\n",
    "inter_family_contacts = node_degree_dist\n",
    "\n",
    "params_distanced_pre = dict()\n",
    "params_distanced_pre[DNG.N] = 10000\n",
    "params_distanced_pre[DNG.CLUSTER_SIZE_DIST] = average_family\n",
    "params_distanced_pre[DNG.CONTACT_DIST] = intra_family_contacts\n",
    "params_distanced_pre[DNG.CLUSTER_CONTACT_DIST] = partial(inter_family_contacts, exponent=4)\n",
    "params_distanced_pre[DNG.SEED] = SEED\n",
    "\n",
    "params_distanced_post = dict()\n",
    "params_distanced_post[DNG.N] = 10000\n",
    "params_distanced_post[DNG.CLUSTER_SIZE_DIST] = average_family\n",
    "params_distanced_post[DNG.CONTACT_DIST] = intra_family_contacts\n",
    "params_distanced_post[DNG.CLUSTER_CONTACT_DIST] = partial(inter_family_contacts, exponent=3)\n",
    "params_distanced_post[DNG.SEED] = SEED"
   ]
  },
  {
   "cell_type": "markdown",
   "metadata": {},
   "source": [
    "## Epidemic model"
   ]
  },
  {
   "cell_type": "code",
   "execution_count": null,
   "metadata": {},
   "outputs": [],
   "source": []
  }
 ],
 "metadata": {
  "kernelspec": {
   "display_name": "Python 3",
   "language": "python",
   "name": "python3"
  },
  "language_info": {
   "codemirror_mode": {
    "name": "ipython",
    "version": 3
   },
   "file_extension": ".py",
   "mimetype": "text/x-python",
   "name": "python",
   "nbconvert_exporter": "python",
   "pygments_lexer": "ipython3",
   "version": "3.8.5"
  }
 },
 "nbformat": 4,
 "nbformat_minor": 1
}
