{
 "cells": [
  {
   "cell_type": "markdown",
   "metadata": {
    "collapsed": true
   },
   "source": [
    "# Experiments\n",
    "Having implemented the different networks and models we can now run them and analyse the results of different parameterisations. This is meant as an exploratory analysis of the effects of different parameters. For the web app we will simualate the models with parameters on a finer grid."
   ]
  },
  {
   "cell_type": "code",
   "execution_count": 8,
   "metadata": {},
   "outputs": [],
   "source": [
    "# allow relative imports\n",
    "import os\n",
    "import sys\n",
    "\n",
    "module = os.path.abspath(os.path.join('..'))\n",
    "if module not in sys.path:\n",
    "    sys.path.append(module)\n",
    "    \n",
    "\n",
    "# utils\n",
    "from functools import partial\n",
    "import numpy as np\n",
    "import pickle\n",
    "\n",
    "# reproducibility\n",
    "SEED = 4401"
   ]
  },
  {
   "cell_type": "markdown",
   "metadata": {},
   "source": [
    "The following Human Contact Networks will be compared:\n",
    "- Mobility network\n",
    "- Power law with cutoff\n",
    "- Physical distancing network\n",
    "\n",
    "For each, we will evaluate the following epidemic models:\n",
    "- SEIR\n",
    "- SEIVR\n",
    "- SEIR with quarantine\n",
    "- SEVIR with quarantine\n",
    "\n",
    "Each model will require slightly different parameters."
   ]
  },
  {
   "cell_type": "markdown",
   "metadata": {},
   "source": [
    "## Networks\n",
    "\n",
    "For each of the three types of networks we will create two instances: a baseline network representing nodes living under no restrictions/distancing etc. (we will call this __pre__) and a network assuming some form of physical distancing put in place (called __post__). We can then plug in each of these networks into the different models.\n",
    "\n",
    "The mobility networks have `10000` nodes and average node degrees of `4` and `3` for __pre__ and __post__ respectively. Where appropriate, we will mimick these characteristics in the other networks for comparability reasons."
   ]
  },
  {
   "cell_type": "markdown",
   "metadata": {},
   "source": [
    "### Mobility network\n",
    "\n",
    "The mobility networks are based on mobility data from SafeGraph for New Haven County, CT, USA. The __pre__ network is adapted from data from February 2020, before stay-at-home orders were issued, while the __post__ network is based on data from April 2020, after such orders were put in place in March.\n",
    "\n",
    "The graphs for the two networks have already been producen (see *network_creation.ipynb*), so we can use the `MNGeneratorFromFile`. For now, it suffices defining the parameters of the generator, which we can then pass to the experiment later on."
   ]
  },
  {
   "cell_type": "code",
   "execution_count": 9,
   "metadata": {},
   "outputs": [],
   "source": [
    "from data_processing.data_paths import GRAPHS\n",
    "from model.network.mobility_network import MNGeneratorFromFile as MNGF"
   ]
  },
  {
   "cell_type": "code",
   "execution_count": 3,
   "metadata": {},
   "outputs": [],
   "source": [
    "params_mobility_pre = dict()\n",
    "params_mobility_pre[MNGF.PATH] = os.path.join(GRAPHS, 'pre_N_10000_k_3.graphml')\n",
    "\n",
    "params_mobility_post = dict()\n",
    "params_mobility_post[MNGF.PATH] = os.path.join(GRAPHS, 'post_N_10000_k_3.graphml')"
   ]
  },
  {
   "cell_type": "markdown",
   "metadata": {},
   "source": [
    "### Power law with cutoff\n",
    "\n",
    "The power law with cutoff (PLC) creates a network with nodes with degrees that follow a power law distribution but have a cutoff point at the upper end to prevent implausibly high degrees. `epydemic` provides a NetworkGenerator for this type of network so we can create it from there. The cutoff parameter is set to `10`. Again, we only define the parameters now and pass them to the experiment with the generator later."
   ]
  },
  {
   "cell_type": "code",
   "execution_count": 4,
   "metadata": {},
   "outputs": [],
   "source": [
    "from epydemic import PLCNetwork"
   ]
  },
  {
   "cell_type": "code",
   "execution_count": 5,
   "metadata": {},
   "outputs": [],
   "source": [
    "params_plc_pre = dict()\n",
    "params_plc_pre[PLCNetwork.N] = 10000\n",
    "params_plc_pre[PLCNetwork.EXPONENT] = 4\n",
    "params_plc_pre[PLCNetwork.CUTOFF] = 10\n",
    "\n",
    "params_plc_post = dict()\n",
    "params_plc_post[PLCNetwork.N] = 10000\n",
    "params_plc_post[PLCNetwork.EXPONENT] = 3\n",
    "params_plc_post[PLCNetwork.CUTOFF] = 10"
   ]
  },
  {
   "cell_type": "markdown",
   "metadata": {},
   "source": [
    "### Physical distancing"
   ]
  },
  {
   "cell_type": "code",
   "execution_count": 6,
   "metadata": {},
   "outputs": [],
   "source": [
    "from model.network.distanced_network import DNGenerator as DNG\n",
    "from model.distributions import household_size_dist, intra_household_contacts, node_degree_dist"
   ]
  },
  {
   "cell_type": "code",
   "execution_count": 7,
   "metadata": {},
   "outputs": [],
   "source": [
    "average_family = partial(household_size_dist, mu=4.5, std=2)\n",
    "intra_family_contacts = partial(intra_household_contacts, std=1)\n",
    "inter_family_contacts = node_degree_dist\n",
    "\n",
    "params_distanced_pre = dict()\n",
    "params_distanced_pre[DNG.N] = 10000\n",
    "params_distanced_pre[DNG.CLUSTER_SIZE_DIST] = average_family\n",
    "params_distanced_pre[DNG.CONTACT_DIST] = intra_family_contacts\n",
    "params_distanced_pre[DNG.CLUSTER_CONTACT_DIST] = partial(inter_family_contacts, exponent=4)\n",
    "params_distanced_pre[DNG.SEED] = SEED\n",
    "\n",
    "params_distanced_post = dict()\n",
    "params_distanced_post[DNG.N] = 10000\n",
    "params_distanced_post[DNG.CLUSTER_SIZE_DIST] = average_family\n",
    "params_distanced_post[DNG.CONTACT_DIST] = intra_family_contacts\n",
    "params_distanced_post[DNG.CLUSTER_CONTACT_DIST] = partial(inter_family_contacts, exponent=3)\n",
    "params_distanced_post[DNG.SEED] = SEED"
   ]
  },
  {
   "cell_type": "markdown",
   "metadata": {},
   "source": [
    "## Epidemic model"
   ]
  },
  {
   "cell_type": "code",
   "execution_count": 8,
   "metadata": {},
   "outputs": [],
   "source": [
    "from epydemic import StochasticDynamics, Monitor"
   ]
  },
  {
   "cell_type": "markdown",
   "metadata": {},
   "source": [
    "### SEIR"
   ]
  },
  {
   "cell_type": "code",
   "execution_count": 14,
   "metadata": {},
   "outputs": [],
   "source": [
    "from epydemic import SEIR\n",
    "from model.compartmental_models.seir import MonitoredSEIR"
   ]
  },
  {
   "cell_type": "code",
   "execution_count": 16,
   "metadata": {},
   "outputs": [],
   "source": [
    "seir_compartments = {\n",
    "    SEIR.SUSCEPTIBLE: 'susceptible',\n",
    "    SEIR.EXPOSED: 'exposed',\n",
    "    SEIR.INFECTED: 'infected',\n",
    "    SEIR.REMOVED: 'removed'\n",
    "}"
   ]
  },
  {
   "cell_type": "markdown",
   "metadata": {},
   "source": [
    "### SEIR with quarantine"
   ]
  },
  {
   "cell_type": "code",
   "execution_count": 10,
   "metadata": {},
   "outputs": [],
   "source": [
    "from model.compartmental_model.seir import SEIRWithQuarantine as SEIRQ\n",
    "from model.compartmental_model.seir import MonitoredSEIRWithQuarantine as MonitoredSEIRQ"
   ]
  },
  {
   "cell_type": "markdown",
   "metadata": {},
   "source": [
    "### SEIVR"
   ]
  },
  {
   "cell_type": "code",
   "execution_count": 11,
   "metadata": {},
   "outputs": [],
   "source": [
    "from model.compartmental_model.seivr import SEIVR\n",
    "from model.compartmental_model.seivr import MonitoredSEIVR"
   ]
  },
  {
   "cell_type": "code",
   "execution_count": null,
   "metadata": {},
   "outputs": [],
   "source": [
    "seivr_compartments = {\n",
    "    SEIVR.SUSCEPTIBLE: 'susceptible',\n",
    "    SEIVR.EXPOSED: 'exposed',\n",
    "    SEIVR.INFECTED: 'infected',\n",
    "    SEIVR.VACCINATED: 'vaccinated',\n",
    "    SEIVR.REMOVED: 'removed'\n",
    "}"
   ]
  },
  {
   "cell_type": "markdown",
   "metadata": {},
   "source": [
    "### SEIVR with quarantine"
   ]
  },
  {
   "cell_type": "code",
   "execution_count": 12,
   "metadata": {},
   "outputs": [],
   "source": [
    "from model.compartmental_model.seivr import SEIVRWithQuarantine as SEIVRQ\n",
    "from model.compartmental_model.seivr import MonitoredSEIVRWithQuarantine as MonitoredSEIVRQ"
   ]
  },
  {
   "attachments": {},
   "cell_type": "markdown",
   "metadata": {},
   "source": [
    "## Parameters\n",
    "\n",
    "We will fix as many COVID-19 specific parameters as we can and leave only policy dependent parameters open for modifications.\n",
    "\n",
    "We set the following parameters\n",
    "\n",
    "| Variable | Value | Description | Reference |\n",
    "| :-- | --: | :-- | :-- |\n",
    "| R0 | $2.85$ | Basic Reproduction Number | 1) |\n",
    "| P_INFECT | ... | P. of infection | ... |\n",
    "| P_REMOVE | $0.01$ | P. of removal | 2) |\n",
    "| P_SYMPTOPMS | $0.2$ | P. of becoming symptomatic | 3) |\n",
    "| RRR | $0.95$, $0.67$ | Vaccine efficacy | 4), 5), 6) |\n",
    "| P_VACCINATED | $10^{-3}$ to $10^{-2}$ by $10^{-3}$| P. of getting vaccinated | ... |\n",
    "| P_VACCINATED_INITIAL | $0$ to $1$ by $0.1$ | P. of initial vaccination | ... |\n",
    "| P_QUARANTINE | $0$ to $1$ by $0.1$ | P. of rewiring | ... |\n",
    "| P_INFECTED_INITIAL | $0$ to $1$ by $0.1$ | P. of initial infection | ... |\n",
    "\n",
    "\n",
    "1) https://journals.plos.org/plosone/article?id=10.1371/journal.pone.0249271\n",
    "\n",
    "2) https://www.thelancet.com/journals/lanmic/article/PIIS2666-5247(20)30172-5/fulltext\n",
    "\n",
    "3) https://doi.org/10.3389/fpubh.2020.598547\n",
    "\n",
    "4) https://www.nejm.org/doi/full/10.1056/NEJMoa2034577\n",
    "\n",
    "5) https://www.nejm.org/doi/full/10.1056/nejmoa2035389\n",
    "\n",
    "6) https://www.sciencedirect.com/science/article/pii/S0140673620326611"
   ]
  },
  {
   "cell_type": "code",
   "execution_count": 4,
   "metadata": {},
   "outputs": [],
   "source": [
    "# Fixed\n",
    "R0 = 2.85\n",
    "P_INFECT = ...\n",
    "P_REMOVE = 0.01\n",
    "P_SYMPTOMS = 0.2\n",
    "\n",
    "_RRR = [0.95, 0.67]\n",
    "\n",
    "# Free\n",
    "_P_VACCINATED = np.arange(0.001, 0.011, 0.001)\n",
    "_P_VACCINATED_INITAL = np.arange(0, 1.1, 0.1)\n",
    "_P_QUARANTINE = np.arange(0, 1.1, 0.1)\n",
    "_P_INFECTED_INITIAL = np.arange(0, 1.1, 0.1)"
   ]
  },
  {
   "cell_type": "markdown",
   "metadata": {},
   "source": [
    "`P_INFECT` can be calculated from knowing `R0`, `P_REMOVE`, as well as the mean and variance of the node degree distribution of the network (See [Dobson 2020](!https://pyepydemic.readthedocs.io/en/latest/cookbook/from-r-to-probabilities.html))."
   ]
  },
  {
   "cell_type": "code",
   "execution_count": 7,
   "metadata": {},
   "outputs": [],
   "source": [
    "def calc_p_infect(r0, p_remove, k_mean, k_var):\n",
    "    \"\"\"\n",
    "    Calc p_infect.\n",
    "    :param r0: basic reproduction number\n",
    "    :param p_remove: probability of removal\n",
    "    :param k_mean: Mean of node degree distribution\n",
    "    :param k_var: Variance of node degree distribution\n",
    "    :return: p_infect\n",
    "    \"\"\"\n",
    "    return p_remove * r0 * (k_mean / (k_var - k_mean))"
   ]
  },
  {
   "cell_type": "markdown",
   "metadata": {},
   "source": [
    "## Simulations"
   ]
  },
  {
   "cell_type": "markdown",
   "metadata": {},
   "source": [
    "### SEIR on MobilityNetwork"
   ]
  },
  {
   "cell_type": "code",
   "execution_count": null,
   "metadata": {},
   "outputs": [],
   "source": []
  }
 ],
 "metadata": {
  "kernelspec": {
   "display_name": "Python 3",
   "language": "python",
   "name": "python3"
  },
  "language_info": {
   "codemirror_mode": {
    "name": "ipython",
    "version": 3
   },
   "file_extension": ".py",
   "mimetype": "text/x-python",
   "name": "python",
   "nbconvert_exporter": "python",
   "pygments_lexer": "ipython3",
   "version": "3.9.2"
  }
 },
 "nbformat": 4,
 "nbformat_minor": 1
}
